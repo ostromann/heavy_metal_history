{
 "cells": [
  {
   "source": [
    "# Data Preprocessing\n",
    "\n",
    "In this notebook, we're demonstrating our data query package implemented in `metalhistory/data_query_api`.\n",
    "The package takes care of the API calls to LastFM and Musicbrainz form which we will obtain information about the albums we're interested in.\n",
    "\n",
    "\n",
    "Start with the imports...\n"
   ],
   "cell_type": "markdown",
   "metadata": {}
  },
  {
   "cell_type": "code",
   "execution_count": 1,
   "metadata": {},
   "outputs": [],
   "source": [
    "import requests\n",
    "import pandas as pd\n",
    "import numpy as np\n",
    "from tqdm.notebook import tqdm\n",
    "import metalhistory.data_query_functions as dqf"
   ]
  },
  {
   "cell_type": "code",
   "execution_count": 2,
   "metadata": {},
   "outputs": [],
   "source": [
    "#Use the pandas extension of tqdm for pretty progress bars\n",
    "tqdm.pandas()"
   ]
  },
  {
   "cell_type": "markdown",
   "metadata": {},
   "source": [
    "# Data Preprocessing\n",
    "Read in a CSV file that has the following structure:\n",
    "\n",
    "__id__|__artist__|__album__|__MA_Score__|\n",
    "\n",
    "Wherte 'artist' refers to an artist's or band's name, 'album' refers to a name of an album release, and 'MA_Score' refers to the overall rating on Metal Archives.\n"
   ]
  },
  {
   "cell_type": "code",
   "execution_count": 3,
   "metadata": {},
   "outputs": [
    {
     "output_type": "execute_result",
     "data": {
      "text/plain": [
       "                   artist                album  MA_score\n",
       "0                  Slayer       Reign in Blood     36.01\n",
       "1               Metallica         Kill 'Em All     33.39\n",
       "2            Hades Archer          Penis Metal     32.67\n",
       "3             Iron Maiden          Iron Maiden     32.38\n",
       "4               Metallica    Master of Puppets     31.83\n",
       "...                   ...                  ...       ...\n",
       "9995          Iron Maiden  Live at the Rainbow      1.92\n",
       "9996                 Jorn         Worldchanger      1.92\n",
       "9997           Juggernaut       Trouble Within      1.92\n",
       "9998  Lacrimas Profundere           Memorandum      1.92\n",
       "9999        Light Bringer   Scenes of Infinity      1.92\n",
       "\n",
       "[10000 rows x 3 columns]"
      ],
      "text/html": "<div>\n<style scoped>\n    .dataframe tbody tr th:only-of-type {\n        vertical-align: middle;\n    }\n\n    .dataframe tbody tr th {\n        vertical-align: top;\n    }\n\n    .dataframe thead th {\n        text-align: right;\n    }\n</style>\n<table border=\"1\" class=\"dataframe\">\n  <thead>\n    <tr style=\"text-align: right;\">\n      <th></th>\n      <th>artist</th>\n      <th>album</th>\n      <th>MA_score</th>\n    </tr>\n  </thead>\n  <tbody>\n    <tr>\n      <th>0</th>\n      <td>Slayer</td>\n      <td>Reign in Blood</td>\n      <td>36.01</td>\n    </tr>\n    <tr>\n      <th>1</th>\n      <td>Metallica</td>\n      <td>Kill 'Em All</td>\n      <td>33.39</td>\n    </tr>\n    <tr>\n      <th>2</th>\n      <td>Hades Archer</td>\n      <td>Penis Metal</td>\n      <td>32.67</td>\n    </tr>\n    <tr>\n      <th>3</th>\n      <td>Iron Maiden</td>\n      <td>Iron Maiden</td>\n      <td>32.38</td>\n    </tr>\n    <tr>\n      <th>4</th>\n      <td>Metallica</td>\n      <td>Master of Puppets</td>\n      <td>31.83</td>\n    </tr>\n    <tr>\n      <th>...</th>\n      <td>...</td>\n      <td>...</td>\n      <td>...</td>\n    </tr>\n    <tr>\n      <th>9995</th>\n      <td>Iron Maiden</td>\n      <td>Live at the Rainbow</td>\n      <td>1.92</td>\n    </tr>\n    <tr>\n      <th>9996</th>\n      <td>Jorn</td>\n      <td>Worldchanger</td>\n      <td>1.92</td>\n    </tr>\n    <tr>\n      <th>9997</th>\n      <td>Juggernaut</td>\n      <td>Trouble Within</td>\n      <td>1.92</td>\n    </tr>\n    <tr>\n      <th>9998</th>\n      <td>Lacrimas Profundere</td>\n      <td>Memorandum</td>\n      <td>1.92</td>\n    </tr>\n    <tr>\n      <th>9999</th>\n      <td>Light Bringer</td>\n      <td>Scenes of Infinity</td>\n      <td>1.92</td>\n    </tr>\n  </tbody>\n</table>\n<p>10000 rows × 3 columns</p>\n</div>"
     },
     "metadata": {},
     "execution_count": 3
    }
   ],
   "source": [
    "df_csv = pd.read_csv('data/MA_10k_albums.csv')\n",
    "df_csv"
   ]
  },
  {
   "source": [
    "## Extract Album information from LastFM and musicbrainz\n",
    "\n",
    "Now, we are using the APIs from LastFM and musicbrainz to collect more information about the respective albums.\n",
    "For demonstration, let's preprocess the albums on position 76 to 100.\n",
    "\n",
    "*Note: Running it on the full list of 10000 albums would take a lot of time, as the APIs limit an excessive amounts of requests in a short period of time.*"
   ],
   "cell_type": "markdown",
   "metadata": {}
  },
  {
   "cell_type": "code",
   "execution_count": 4,
   "metadata": {
    "tags": []
   },
   "outputs": [
    {
     "output_type": "display_data",
     "data": {
      "text/plain": "  0%|          | 0/25 [00:00<?, ?it/s]",
      "application/vnd.jupyter.widget-view+json": {
       "version_major": 2,
       "version_minor": 0,
       "model_id": "8d2437590d8c4b11abea0ea8641e3229"
      }
     },
     "metadata": {}
    },
    {
     "output_type": "stream",
     "name": "stdout",
     "text": [
      "Response code 503. Waiting for 4 seconds.\n"
     ]
    }
   ],
   "source": [
    "lastfm = dqf.LastFM()\n",
    "\n",
    "HEAD = 100\n",
    "TAIL = 25\n",
    "FIELDS = ['artist', 'name', 'release-date', 'listeners', 'playcount', 'tags', 'mbid', 'url', 'image']\n",
    "\n",
    "result_df = df_csv.head(HEAD).tail(TAIL)\n",
    "result_df['lastfm_info'] = result_df.progress_apply(lambda row: lastfm.get_album_info(artist=row['artist'], album=row['album'], fields=FIELDS), axis=1)\n",
    "\n",
    "result_df= result_df.lastfm_info.apply(pd.Series)\n",
    "result_df['MA_score'] = df_csv.head(HEAD).tail(TAIL)['MA_score']\n",
    "result_df['MA_artist'] = df_csv.head(HEAD).tail(TAIL)['artist']\n",
    "result_df['MA_album'] = df_csv.head(HEAD).tail(TAIL)['album']\n",
    "\n",
    "result_df.rename(columns={'name':'album'}, inplace=True)\n",
    "result_df = result_df.set_index(['artist', 'album'])"
   ]
  },
  {
   "source": [
    "## Preview the preprocessed data\n",
    "\n",
    "Let's display some info we gathered about the metal albums placing on positions 76-100 of the top heavy metal albums of history.\n",
    "We will take a look at the fields:\n",
    "\n",
    "|__artist__|__album__|__release-date__|__listeners__|__playcount__|__tags__|__ignored tags__|"
   ],
   "cell_type": "markdown",
   "metadata": {}
  },
  {
   "cell_type": "code",
   "execution_count": 5,
   "metadata": {},
   "outputs": [
    {
     "output_type": "execute_result",
     "data": {
      "text/plain": [
       "                                           release-date listeners playcount  \\\n",
       "artist         album                                                          \n",
       "Dimmu Borgir   Death Cult Armageddon         2003-09-08    208103   4711508   \n",
       "NaN            NaN                                  NaN       NaN       NaN   \n",
       "Iron Maiden    The X Factor                  1995-10-02    167862   3235619   \n",
       "Suffocation    Effigy of the Forgotten       1991-10-22     61551   1211292   \n",
       "Testament      The New Order                 1988-05-05    200357   2041217   \n",
       "Death          Leprosy                       1988-11-16    115061   2484759   \n",
       "Opeth          Still Life                    1999-10-18    208677   4757870   \n",
       "Slayer         Hell Awaits                   1985-09-01    171373   2729439   \n",
       "Gorguts        Obscura                             1998     38129   1080301   \n",
       "Blind Guardian A Night at the Opera          2002-03-05     95678   2729619   \n",
       "Bathory        Bathory                       1984-10-02     91632   2383893   \n",
       "Pestilence     Consuming Impulse             1989-12-25     41856    846538   \n",
       "Iron Maiden    Somewhere In Time             1986-06-29    351861   5994999   \n",
       "Opeth          My Arms, Your Hearse          1998-06-15    156081   4252292   \n",
       "Megadeth       United Abominations           2007-05-09    192268   4794881   \n",
       "Katatonia      Dance Of December Souls       1993-12-15     74345   1566632   \n",
       "Death          Individual Thought Patterns   1993-06-22    135133   3927296   \n",
       "Kreator        Coma of Souls                 1990-11-06    111474   1671159   \n",
       "Judas Priest   Stained Class                    1978-02    147976   1699275   \n",
       "NaN            NaN                                  NaN       NaN       NaN   \n",
       "               NaN                                  NaN       NaN       NaN   \n",
       "Suffocation    Pierced From Within           1995-05-23     53205    978074   \n",
       "Black Sabbath  Born Again                    1983-08-07     84460   1209361   \n",
       "NaN            NaN                                  NaN       NaN       NaN   \n",
       "Death          The Sound of Perseverance     1998-09-15    156119   4333542   \n",
       "\n",
       "                                                                                         tags  \\\n",
       "artist         album                                                                            \n",
       "Dimmu Borgir   Death Cult Armageddon                     [symphonic black metal, black metal]   \n",
       "NaN            NaN                                                                        NaN   \n",
       "Iron Maiden    The X Factor                                                     [heavy metal]   \n",
       "Suffocation    Effigy of the Forgotten                   [death metal, technical death metal]   \n",
       "Testament      The New Order                                      [thrash metal, heavy metal]   \n",
       "Death          Leprosy                                                          [death metal]   \n",
       "Opeth          Still Life                   [progressive metal, progressive death metal, d...   \n",
       "Slayer         Hell Awaits                                        [thrash metal, speed metal]   \n",
       "Gorguts        Obscura                      [technical death metal, death metal, avant-gar...   \n",
       "Blind Guardian A Night at the Opera         [power metal, symphonic metal, progressive metal]   \n",
       "Bathory        Bathory                                            [black metal, thrash metal]   \n",
       "Pestilence     Consuming Impulse                         [death metal, technical death metal]   \n",
       "Iron Maiden    Somewhere In Time                                                [heavy metal]   \n",
       "Opeth          My Arms, Your Hearse         [progressive death metal, progressive metal, d...   \n",
       "Megadeth       United Abominations                                [thrash metal, heavy metal]   \n",
       "Katatonia      Dance Of December Souls                              [doom metal, death metal]   \n",
       "Death          Individual Thought Patterns  [death metal, technical death metal, progressi...   \n",
       "Kreator        Coma of Souls                                                   [thrash metal]   \n",
       "Judas Priest   Stained Class                                                    [heavy metal]   \n",
       "NaN            NaN                                                                        NaN   \n",
       "               NaN                                                                        NaN   \n",
       "Suffocation    Pierced From Within                       [death metal, technical death metal]   \n",
       "Black Sabbath  Born Again                                                       [heavy metal]   \n",
       "NaN            NaN                                                                        NaN   \n",
       "Death          The Sound of Perseverance    [death metal, progressive death metal, technic...   \n",
       "\n",
       "                                                                                 ignored tags  \n",
       "artist         album                                                                           \n",
       "Dimmu Borgir   Death Cult Armageddon               [albums i own, melodic black metal, metal]  \n",
       "NaN            NaN                                                                        NaN  \n",
       "Iron Maiden    The X Factor                               [albums i own, metal, 1995, nwobhm]  \n",
       "Suffocation    Effigy of the Forgotten      [brutal death metal, old school death metal, 1...  \n",
       "Testament      The New Order                                      [albums i own, 1988, metal]  \n",
       "Death          Leprosy                      [albums i own, old school death metal, 1988, m...  \n",
       "Opeth          Still Life                                       [albums i own, concept album]  \n",
       "Slayer         Hell Awaits                                        [1985, albums i own, metal]  \n",
       "Gorguts        Obscura                                                                     []  \n",
       "Blind Guardian A Night at the Opera                                [epic metal, albums i own]  \n",
       "Bathory        Bathory                           [old school black metal, 1984, albums i own]  \n",
       "Pestilence     Consuming Impulse                 [old school death metal, 1989, albums i own]  \n",
       "Iron Maiden    Somewhere In Time                          [albums i own, nwobhm, 1986, metal]  \n",
       "Opeth          My Arms, Your Hearse                                      [albums i own, 1998]  \n",
       "Megadeth       United Abominations                             [albums i own, megadeth, 2007]  \n",
       "Katatonia      Dance Of December Souls      [death doom metal, albums i own, black doom me...  \n",
       "Death          Individual Thought Patterns                              [albums i own, metal]  \n",
       "Kreator        Coma of Souls                 [1990, german thrash metal, metal, albums i own]  \n",
       "Judas Priest   Stained Class                              [albums i own, 1978, metal, nwobhm]  \n",
       "NaN            NaN                                                                        NaN  \n",
       "               NaN                                                                        NaN  \n",
       "Suffocation    Pierced From Within                   [brutal death metal, 1995, albums i own]  \n",
       "Black Sabbath  Born Again                       [hard rock, 1983, classic rock, albums i own]  \n",
       "NaN            NaN                                                                        NaN  \n",
       "Death          The Sound of Perseverance                                       [albums i own]  "
      ],
      "text/html": "<div>\n<style scoped>\n    .dataframe tbody tr th:only-of-type {\n        vertical-align: middle;\n    }\n\n    .dataframe tbody tr th {\n        vertical-align: top;\n    }\n\n    .dataframe thead th {\n        text-align: right;\n    }\n</style>\n<table border=\"1\" class=\"dataframe\">\n  <thead>\n    <tr style=\"text-align: right;\">\n      <th></th>\n      <th></th>\n      <th>release-date</th>\n      <th>listeners</th>\n      <th>playcount</th>\n      <th>tags</th>\n      <th>ignored tags</th>\n    </tr>\n    <tr>\n      <th>artist</th>\n      <th>album</th>\n      <th></th>\n      <th></th>\n      <th></th>\n      <th></th>\n      <th></th>\n    </tr>\n  </thead>\n  <tbody>\n    <tr>\n      <th>Dimmu Borgir</th>\n      <th>Death Cult Armageddon</th>\n      <td>2003-09-08</td>\n      <td>208103</td>\n      <td>4711508</td>\n      <td>[symphonic black metal, black metal]</td>\n      <td>[albums i own, melodic black metal, metal]</td>\n    </tr>\n    <tr>\n      <th>NaN</th>\n      <th>NaN</th>\n      <td>NaN</td>\n      <td>NaN</td>\n      <td>NaN</td>\n      <td>NaN</td>\n      <td>NaN</td>\n    </tr>\n    <tr>\n      <th>Iron Maiden</th>\n      <th>The X Factor</th>\n      <td>1995-10-02</td>\n      <td>167862</td>\n      <td>3235619</td>\n      <td>[heavy metal]</td>\n      <td>[albums i own, metal, 1995, nwobhm]</td>\n    </tr>\n    <tr>\n      <th>Suffocation</th>\n      <th>Effigy of the Forgotten</th>\n      <td>1991-10-22</td>\n      <td>61551</td>\n      <td>1211292</td>\n      <td>[death metal, technical death metal]</td>\n      <td>[brutal death metal, old school death metal, 1...</td>\n    </tr>\n    <tr>\n      <th>Testament</th>\n      <th>The New Order</th>\n      <td>1988-05-05</td>\n      <td>200357</td>\n      <td>2041217</td>\n      <td>[thrash metal, heavy metal]</td>\n      <td>[albums i own, 1988, metal]</td>\n    </tr>\n    <tr>\n      <th>Death</th>\n      <th>Leprosy</th>\n      <td>1988-11-16</td>\n      <td>115061</td>\n      <td>2484759</td>\n      <td>[death metal]</td>\n      <td>[albums i own, old school death metal, 1988, m...</td>\n    </tr>\n    <tr>\n      <th>Opeth</th>\n      <th>Still Life</th>\n      <td>1999-10-18</td>\n      <td>208677</td>\n      <td>4757870</td>\n      <td>[progressive metal, progressive death metal, d...</td>\n      <td>[albums i own, concept album]</td>\n    </tr>\n    <tr>\n      <th>Slayer</th>\n      <th>Hell Awaits</th>\n      <td>1985-09-01</td>\n      <td>171373</td>\n      <td>2729439</td>\n      <td>[thrash metal, speed metal]</td>\n      <td>[1985, albums i own, metal]</td>\n    </tr>\n    <tr>\n      <th>Gorguts</th>\n      <th>Obscura</th>\n      <td>1998</td>\n      <td>38129</td>\n      <td>1080301</td>\n      <td>[technical death metal, death metal, avant-gar...</td>\n      <td>[]</td>\n    </tr>\n    <tr>\n      <th>Blind Guardian</th>\n      <th>A Night at the Opera</th>\n      <td>2002-03-05</td>\n      <td>95678</td>\n      <td>2729619</td>\n      <td>[power metal, symphonic metal, progressive metal]</td>\n      <td>[epic metal, albums i own]</td>\n    </tr>\n    <tr>\n      <th>Bathory</th>\n      <th>Bathory</th>\n      <td>1984-10-02</td>\n      <td>91632</td>\n      <td>2383893</td>\n      <td>[black metal, thrash metal]</td>\n      <td>[old school black metal, 1984, albums i own]</td>\n    </tr>\n    <tr>\n      <th>Pestilence</th>\n      <th>Consuming Impulse</th>\n      <td>1989-12-25</td>\n      <td>41856</td>\n      <td>846538</td>\n      <td>[death metal, technical death metal]</td>\n      <td>[old school death metal, 1989, albums i own]</td>\n    </tr>\n    <tr>\n      <th>Iron Maiden</th>\n      <th>Somewhere In Time</th>\n      <td>1986-06-29</td>\n      <td>351861</td>\n      <td>5994999</td>\n      <td>[heavy metal]</td>\n      <td>[albums i own, nwobhm, 1986, metal]</td>\n    </tr>\n    <tr>\n      <th>Opeth</th>\n      <th>My Arms, Your Hearse</th>\n      <td>1998-06-15</td>\n      <td>156081</td>\n      <td>4252292</td>\n      <td>[progressive death metal, progressive metal, d...</td>\n      <td>[albums i own, 1998]</td>\n    </tr>\n    <tr>\n      <th>Megadeth</th>\n      <th>United Abominations</th>\n      <td>2007-05-09</td>\n      <td>192268</td>\n      <td>4794881</td>\n      <td>[thrash metal, heavy metal]</td>\n      <td>[albums i own, megadeth, 2007]</td>\n    </tr>\n    <tr>\n      <th>Katatonia</th>\n      <th>Dance Of December Souls</th>\n      <td>1993-12-15</td>\n      <td>74345</td>\n      <td>1566632</td>\n      <td>[doom metal, death metal]</td>\n      <td>[death doom metal, albums i own, black doom me...</td>\n    </tr>\n    <tr>\n      <th>Death</th>\n      <th>Individual Thought Patterns</th>\n      <td>1993-06-22</td>\n      <td>135133</td>\n      <td>3927296</td>\n      <td>[death metal, technical death metal, progressi...</td>\n      <td>[albums i own, metal]</td>\n    </tr>\n    <tr>\n      <th>Kreator</th>\n      <th>Coma of Souls</th>\n      <td>1990-11-06</td>\n      <td>111474</td>\n      <td>1671159</td>\n      <td>[thrash metal]</td>\n      <td>[1990, german thrash metal, metal, albums i own]</td>\n    </tr>\n    <tr>\n      <th>Judas Priest</th>\n      <th>Stained Class</th>\n      <td>1978-02</td>\n      <td>147976</td>\n      <td>1699275</td>\n      <td>[heavy metal]</td>\n      <td>[albums i own, 1978, metal, nwobhm]</td>\n    </tr>\n    <tr>\n      <th rowspan=\"2\" valign=\"top\">NaN</th>\n      <th>NaN</th>\n      <td>NaN</td>\n      <td>NaN</td>\n      <td>NaN</td>\n      <td>NaN</td>\n      <td>NaN</td>\n    </tr>\n    <tr>\n      <th>NaN</th>\n      <td>NaN</td>\n      <td>NaN</td>\n      <td>NaN</td>\n      <td>NaN</td>\n      <td>NaN</td>\n    </tr>\n    <tr>\n      <th>Suffocation</th>\n      <th>Pierced From Within</th>\n      <td>1995-05-23</td>\n      <td>53205</td>\n      <td>978074</td>\n      <td>[death metal, technical death metal]</td>\n      <td>[brutal death metal, 1995, albums i own]</td>\n    </tr>\n    <tr>\n      <th>Black Sabbath</th>\n      <th>Born Again</th>\n      <td>1983-08-07</td>\n      <td>84460</td>\n      <td>1209361</td>\n      <td>[heavy metal]</td>\n      <td>[hard rock, 1983, classic rock, albums i own]</td>\n    </tr>\n    <tr>\n      <th>NaN</th>\n      <th>NaN</th>\n      <td>NaN</td>\n      <td>NaN</td>\n      <td>NaN</td>\n      <td>NaN</td>\n      <td>NaN</td>\n    </tr>\n    <tr>\n      <th>Death</th>\n      <th>The Sound of Perseverance</th>\n      <td>1998-09-15</td>\n      <td>156119</td>\n      <td>4333542</td>\n      <td>[death metal, progressive death metal, technic...</td>\n      <td>[albums i own]</td>\n    </tr>\n  </tbody>\n</table>\n</div>"
     },
     "metadata": {},
     "execution_count": 5
    }
   ],
   "source": [
    "SHOW_FIELDS =['release-date', 'listeners', 'playcount', 'tags', 'ignored tags']\n",
    "result_df[SHOW_FIELDS]"
   ]
  },
  {
   "source": [
    "## Export\n",
    "We can now export the preprocessed dataframe to a csv file."
   ],
   "cell_type": "markdown",
   "metadata": {}
  },
  {
   "cell_type": "code",
   "execution_count": 6,
   "metadata": {},
   "outputs": [],
   "source": [
    "start = HEAD-TAIL\n",
    "stop = HEAD\n",
    "result_df.sort_values(by='listeners', ascending=False).to_csv('./data/proc_MA_'+ str(start) + '-' + str(HEAD) + '_albums.csv')"
   ]
  },
  {
   "source": [
    "# Next Steps\n",
    "Now, that we have exported our data to a csv file, we can use our visualization functions to further explore the history of heavy metal. Follow the link below:\n",
    "\n",
    "\n",
    "[1-visualizations.ipynb](1-visualizations.ipynb)"
   ],
   "cell_type": "markdown",
   "metadata": {}
  },
  {
   "source": [],
   "cell_type": "markdown",
   "metadata": {}
  }
 ],
 "metadata": {
  "kernelspec": {
   "display_name": "Python 3",
   "language": "python",
   "name": "python3"
  },
  "language_info": {
   "codemirror_mode": {
    "name": "ipython",
    "version": 3
   },
   "file_extension": ".py",
   "mimetype": "text/x-python",
   "name": "python",
   "nbconvert_exporter": "python",
   "pygments_lexer": "ipython3",
   "version": "3.8.6-final"
  }
 },
 "nbformat": 4,
 "nbformat_minor": 4
}