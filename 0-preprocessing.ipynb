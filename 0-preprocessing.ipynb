{
 "cells": [
  {
   "source": [
    "# Data Preprocessing\n",
    "\n",
    "In this notebook, we're demonstrating our data query package implemented in `metalhistory/data_query_api`.\n",
    "The package takes care of the API calls to LastFM and Musicbrainz form which we will obtain information about the albums we're interested in.\n",
    "\n",
    "\n",
    "Start with the imports...\n"
   ],
   "cell_type": "markdown",
   "metadata": {}
  },
  {
   "cell_type": "code",
   "execution_count": 1,
   "metadata": {},
   "outputs": [],
   "source": [
    "import requests\n",
    "import pandas as pd\n",
    "import numpy as np\n",
    "from tqdm.notebook import tqdm\n",
    "import metalhistory.data_query_functions as dqf"
   ]
  },
  {
   "cell_type": "code",
   "execution_count": 2,
   "metadata": {},
   "outputs": [],
   "source": [
    "#Use the pandas extension of tqdm for pretty progress bars\n",
    "tqdm.pandas()"
   ]
  },
  {
   "cell_type": "markdown",
   "metadata": {},
   "source": [
    "# Data Preprocessing\n",
    "Read in a CSV file that has the following structure:\n",
    "\n",
    "__id__|__artist__|__album__|__MA_Score__|\n",
    "\n",
    "Wherte 'artist' refers to an artist's or band's name, 'album' refers to a name of an album release, and 'MA_Score' refers to the overall rating on Metal Archives.\n"
   ]
  },
  {
   "cell_type": "code",
   "execution_count": 12,
   "metadata": {},
   "outputs": [
    {
     "output_type": "execute_result",
     "data": {
      "text/plain": [
       "       Nr.      Band                  Album  Jahr  Monat  Tag    MA\n",
       "0        1       311                Evolver  2003    7.0   22   NaN\n",
       "1        2       311             From Chaos  2001    6.0   19   NaN\n",
       "2        3       311                 Mosaic  2017    6.0   23   NaN\n",
       "3        4       311            Soundsystem  1999   10.0   12   NaN\n",
       "4        5      1349  Beyond the Apocalypse  2004    4.0   19  9.73\n",
       "...    ...       ...                    ...   ...    ...  ...   ...\n",
       "9355  9356    Zhrine              Unortheta   NaN    NaN  NaN  4.43\n",
       "9356  9357  Znöwhite             Act of God   NaN    NaN  NaN  8.44\n",
       "9357  9358   Zonaria   Infamy and the Breed   NaN    NaN  NaN  3.89\n",
       "9358  9359    Zyklon         World ov Worms   NaN    NaN  NaN  4.03\n",
       "9359  9360  Zyklon-B     Blood Must Be Shed   NaN    NaN  NaN  7.81\n",
       "\n",
       "[9360 rows x 7 columns]"
      ],
      "text/html": "<div>\n<style scoped>\n    .dataframe tbody tr th:only-of-type {\n        vertical-align: middle;\n    }\n\n    .dataframe tbody tr th {\n        vertical-align: top;\n    }\n\n    .dataframe thead th {\n        text-align: right;\n    }\n</style>\n<table border=\"1\" class=\"dataframe\">\n  <thead>\n    <tr style=\"text-align: right;\">\n      <th></th>\n      <th>Nr.</th>\n      <th>Band</th>\n      <th>Album</th>\n      <th>Jahr</th>\n      <th>Monat</th>\n      <th>Tag</th>\n      <th>MA</th>\n    </tr>\n  </thead>\n  <tbody>\n    <tr>\n      <th>0</th>\n      <td>1</td>\n      <td>311</td>\n      <td>Evolver</td>\n      <td>2003</td>\n      <td>7.0</td>\n      <td>22</td>\n      <td>NaN</td>\n    </tr>\n    <tr>\n      <th>1</th>\n      <td>2</td>\n      <td>311</td>\n      <td>From Chaos</td>\n      <td>2001</td>\n      <td>6.0</td>\n      <td>19</td>\n      <td>NaN</td>\n    </tr>\n    <tr>\n      <th>2</th>\n      <td>3</td>\n      <td>311</td>\n      <td>Mosaic</td>\n      <td>2017</td>\n      <td>6.0</td>\n      <td>23</td>\n      <td>NaN</td>\n    </tr>\n    <tr>\n      <th>3</th>\n      <td>4</td>\n      <td>311</td>\n      <td>Soundsystem</td>\n      <td>1999</td>\n      <td>10.0</td>\n      <td>12</td>\n      <td>NaN</td>\n    </tr>\n    <tr>\n      <th>4</th>\n      <td>5</td>\n      <td>1349</td>\n      <td>Beyond the Apocalypse</td>\n      <td>2004</td>\n      <td>4.0</td>\n      <td>19</td>\n      <td>9.73</td>\n    </tr>\n    <tr>\n      <th>...</th>\n      <td>...</td>\n      <td>...</td>\n      <td>...</td>\n      <td>...</td>\n      <td>...</td>\n      <td>...</td>\n      <td>...</td>\n    </tr>\n    <tr>\n      <th>9355</th>\n      <td>9356</td>\n      <td>Zhrine</td>\n      <td>Unortheta</td>\n      <td>NaN</td>\n      <td>NaN</td>\n      <td>NaN</td>\n      <td>4.43</td>\n    </tr>\n    <tr>\n      <th>9356</th>\n      <td>9357</td>\n      <td>Znöwhite</td>\n      <td>Act of God</td>\n      <td>NaN</td>\n      <td>NaN</td>\n      <td>NaN</td>\n      <td>8.44</td>\n    </tr>\n    <tr>\n      <th>9357</th>\n      <td>9358</td>\n      <td>Zonaria</td>\n      <td>Infamy and the Breed</td>\n      <td>NaN</td>\n      <td>NaN</td>\n      <td>NaN</td>\n      <td>3.89</td>\n    </tr>\n    <tr>\n      <th>9358</th>\n      <td>9359</td>\n      <td>Zyklon</td>\n      <td>World ov Worms</td>\n      <td>NaN</td>\n      <td>NaN</td>\n      <td>NaN</td>\n      <td>4.03</td>\n    </tr>\n    <tr>\n      <th>9359</th>\n      <td>9360</td>\n      <td>Zyklon-B</td>\n      <td>Blood Must Be Shed</td>\n      <td>NaN</td>\n      <td>NaN</td>\n      <td>NaN</td>\n      <td>7.81</td>\n    </tr>\n  </tbody>\n</table>\n<p>9360 rows × 7 columns</p>\n</div>"
     },
     "metadata": {},
     "execution_count": 12
    }
   ],
   "source": [
    "df_csv = pd.read_csv('data/HoM.csv')\n",
    "df_csv = df_csv.dropna(axis=1, how='all').drop('Unnamed: 16', axis=1)\n",
    "df_csv"
   ]
  },
  {
   "cell_type": "code",
   "execution_count": 17,
   "metadata": {},
   "outputs": [
    {
     "output_type": "stream",
     "name": "stdout",
     "text": [
      "78.0\n"
     ]
    }
   ],
   "source": [
    "print(9360/120)"
   ]
  },
  {
   "cell_type": "code",
   "execution_count": 18,
   "metadata": {},
   "outputs": [
    {
     "output_type": "execute_result",
     "data": {
      "text/plain": [
       "       Nr.                       Band                 Album Jahr  Monat  Tag  \\\n",
       "9240  9241                  Wolfheart     Wolves of Karelia  NaN    NaN  NaN   \n",
       "9241  9242  Wolves in the Throne Room         Black Cascade  NaN    NaN  NaN   \n",
       "9242  9243  Wolves in the Throne Room     Celestial Lineage  NaN    NaN  NaN   \n",
       "9243  9244  Wolves in the Throne Room    Diadem of 12 Stars  NaN    NaN  NaN   \n",
       "9244  9245  Wolves in the Throne Room      Malevolent Grain  NaN    NaN  NaN   \n",
       "...    ...                        ...                   ...  ...    ...  ...   \n",
       "9355  9356                     Zhrine             Unortheta  NaN    NaN  NaN   \n",
       "9356  9357                   Znöwhite            Act of God  NaN    NaN  NaN   \n",
       "9357  9358                    Zonaria  Infamy and the Breed  NaN    NaN  NaN   \n",
       "9358  9359                     Zyklon        World ov Worms  NaN    NaN  NaN   \n",
       "9359  9360                   Zyklon-B    Blood Must Be Shed  NaN    NaN  NaN   \n",
       "\n",
       "         MA  \n",
       "9240   3.43  \n",
       "9241  11.63  \n",
       "9242   7.40  \n",
       "9243  10.67  \n",
       "9244   5.82  \n",
       "...     ...  \n",
       "9355   4.43  \n",
       "9356   8.44  \n",
       "9357   3.89  \n",
       "9358   4.03  \n",
       "9359   7.81  \n",
       "\n",
       "[120 rows x 7 columns]"
      ],
      "text/html": "<div>\n<style scoped>\n    .dataframe tbody tr th:only-of-type {\n        vertical-align: middle;\n    }\n\n    .dataframe tbody tr th {\n        vertical-align: top;\n    }\n\n    .dataframe thead th {\n        text-align: right;\n    }\n</style>\n<table border=\"1\" class=\"dataframe\">\n  <thead>\n    <tr style=\"text-align: right;\">\n      <th></th>\n      <th>Nr.</th>\n      <th>Band</th>\n      <th>Album</th>\n      <th>Jahr</th>\n      <th>Monat</th>\n      <th>Tag</th>\n      <th>MA</th>\n    </tr>\n  </thead>\n  <tbody>\n    <tr>\n      <th>9240</th>\n      <td>9241</td>\n      <td>Wolfheart</td>\n      <td>Wolves of Karelia</td>\n      <td>NaN</td>\n      <td>NaN</td>\n      <td>NaN</td>\n      <td>3.43</td>\n    </tr>\n    <tr>\n      <th>9241</th>\n      <td>9242</td>\n      <td>Wolves in the Throne Room</td>\n      <td>Black Cascade</td>\n      <td>NaN</td>\n      <td>NaN</td>\n      <td>NaN</td>\n      <td>11.63</td>\n    </tr>\n    <tr>\n      <th>9242</th>\n      <td>9243</td>\n      <td>Wolves in the Throne Room</td>\n      <td>Celestial Lineage</td>\n      <td>NaN</td>\n      <td>NaN</td>\n      <td>NaN</td>\n      <td>7.40</td>\n    </tr>\n    <tr>\n      <th>9243</th>\n      <td>9244</td>\n      <td>Wolves in the Throne Room</td>\n      <td>Diadem of 12 Stars</td>\n      <td>NaN</td>\n      <td>NaN</td>\n      <td>NaN</td>\n      <td>10.67</td>\n    </tr>\n    <tr>\n      <th>9244</th>\n      <td>9245</td>\n      <td>Wolves in the Throne Room</td>\n      <td>Malevolent Grain</td>\n      <td>NaN</td>\n      <td>NaN</td>\n      <td>NaN</td>\n      <td>5.82</td>\n    </tr>\n    <tr>\n      <th>...</th>\n      <td>...</td>\n      <td>...</td>\n      <td>...</td>\n      <td>...</td>\n      <td>...</td>\n      <td>...</td>\n      <td>...</td>\n    </tr>\n    <tr>\n      <th>9355</th>\n      <td>9356</td>\n      <td>Zhrine</td>\n      <td>Unortheta</td>\n      <td>NaN</td>\n      <td>NaN</td>\n      <td>NaN</td>\n      <td>4.43</td>\n    </tr>\n    <tr>\n      <th>9356</th>\n      <td>9357</td>\n      <td>Znöwhite</td>\n      <td>Act of God</td>\n      <td>NaN</td>\n      <td>NaN</td>\n      <td>NaN</td>\n      <td>8.44</td>\n    </tr>\n    <tr>\n      <th>9357</th>\n      <td>9358</td>\n      <td>Zonaria</td>\n      <td>Infamy and the Breed</td>\n      <td>NaN</td>\n      <td>NaN</td>\n      <td>NaN</td>\n      <td>3.89</td>\n    </tr>\n    <tr>\n      <th>9358</th>\n      <td>9359</td>\n      <td>Zyklon</td>\n      <td>World ov Worms</td>\n      <td>NaN</td>\n      <td>NaN</td>\n      <td>NaN</td>\n      <td>4.03</td>\n    </tr>\n    <tr>\n      <th>9359</th>\n      <td>9360</td>\n      <td>Zyklon-B</td>\n      <td>Blood Must Be Shed</td>\n      <td>NaN</td>\n      <td>NaN</td>\n      <td>NaN</td>\n      <td>7.81</td>\n    </tr>\n  </tbody>\n</table>\n<p>120 rows × 7 columns</p>\n</div>"
     },
     "metadata": {},
     "execution_count": 18
    }
   ],
   "source": [
    "df_csv.head(9360).tail(120)"
   ]
  },
  {
   "source": [
    "## Extract Album information from LastFM and musicbrainz\n",
    "\n",
    "Now, we are using the APIs from LastFM and musicbrainz to collect more information about the respective albums.\n",
    "For demonstration, let's preprocess the albums on position 76 to 100.\n",
    "\n",
    "*Note: Running it on the full list of 10000 albums would take a lot of time, as the APIs limit an excessive amounts of requests in a short period of time.*"
   ],
   "cell_type": "markdown",
   "metadata": {}
  },
  {
   "cell_type": "code",
   "execution_count": 29,
   "metadata": {
    "tags": []
   },
   "outputs": [
    {
     "output_type": "stream",
     "name": "stdout",
     "text": [
      "0 - 120\n"
     ]
    },
    {
     "output_type": "display_data",
     "data": {
      "text/plain": "  0%|          | 0/120 [00:00<?, ?it/s]",
      "application/vnd.jupyter.widget-view+json": {
       "version_major": 2,
       "version_minor": 0,
       "model_id": "b7638d2449e84be9aceaa45272f7e1ef"
      }
     },
     "metadata": {}
    },
    {
     "output_type": "stream",
     "name": "stdout",
     "text": [
      "Response code 503. Waiting for 2 seconds.\n",
      "Response code 503. Waiting for 4 seconds.\n",
      "Response code 503. Waiting for 4 seconds.\n",
      "Response code 503. Waiting for 4 seconds.\n",
      "Response code 503. Waiting for 5 seconds.\n",
      "Response code 503. Waiting for 4 seconds.\n",
      "120 - 240\n"
     ]
    },
    {
     "output_type": "display_data",
     "data": {
      "text/plain": "  0%|          | 0/120 [00:00<?, ?it/s]",
      "application/vnd.jupyter.widget-view+json": {
       "version_major": 2,
       "version_minor": 0,
       "model_id": "d659f1098a274600a15e1b73f1cea436"
      }
     },
     "metadata": {}
    },
    {
     "output_type": "stream",
     "name": "stdout",
     "text": [
      "Response code 503. Waiting for 4 seconds.\n",
      "Response code 503. Waiting for 4 seconds.\n",
      "Response code 503. Waiting for 3 seconds.\n",
      "Response code 503. Waiting for 4 seconds.\n",
      "Response code 503. Waiting for 3 seconds.\n",
      "240 - 360\n"
     ]
    },
    {
     "output_type": "display_data",
     "data": {
      "text/plain": "  0%|          | 0/120 [00:00<?, ?it/s]",
      "application/vnd.jupyter.widget-view+json": {
       "version_major": 2,
       "version_minor": 0,
       "model_id": "e14242b79fa84dd8a19734c174430eee"
      }
     },
     "metadata": {}
    },
    {
     "output_type": "stream",
     "name": "stdout",
     "text": [
      "Response code 503. Waiting for 4 seconds.\n",
      "Response code 503. Waiting for 4 seconds.\n",
      "Response code 503. Waiting for 2 seconds.\n",
      "Response code 503. Waiting for 3 seconds.\n",
      "Response code 503. Waiting for 3 seconds.\n",
      "Response code 503. Waiting for 2 seconds.\n",
      "360 - 480\n"
     ]
    },
    {
     "output_type": "display_data",
     "data": {
      "text/plain": "  0%|          | 0/120 [00:00<?, ?it/s]",
      "application/vnd.jupyter.widget-view+json": {
       "version_major": 2,
       "version_minor": 0,
       "model_id": "105d7eaa65ee44f6a1e34a15dba9adcc"
      }
     },
     "metadata": {}
    },
    {
     "output_type": "stream",
     "name": "stdout",
     "text": [
      "Response code 503. Waiting for 2 seconds.\n",
      "Response code 503. Waiting for 3 seconds.\n",
      "Response code 503. Waiting for 2 seconds.\n",
      "Response code 503. Waiting for 3 seconds.\n",
      "480 - 600\n"
     ]
    },
    {
     "output_type": "display_data",
     "data": {
      "text/plain": "  0%|          | 0/120 [00:00<?, ?it/s]",
      "application/vnd.jupyter.widget-view+json": {
       "version_major": 2,
       "version_minor": 0,
       "model_id": "af7f69fb835244918f6beeeabdb6f37d"
      }
     },
     "metadata": {}
    },
    {
     "output_type": "stream",
     "name": "stdout",
     "text": [
      "Response code 503. Waiting for 3 seconds.\n",
      "Response code 503. Waiting for 4 seconds.\n",
      "600 - 720\n"
     ]
    },
    {
     "output_type": "display_data",
     "data": {
      "text/plain": "  0%|          | 0/120 [00:00<?, ?it/s]",
      "application/vnd.jupyter.widget-view+json": {
       "version_major": 2,
       "version_minor": 0,
       "model_id": "de01052f1e1f46d29670d9a45b2b14e5"
      }
     },
     "metadata": {}
    },
    {
     "output_type": "stream",
     "name": "stdout",
     "text": [
      "Response code 503. Waiting for 3 seconds.\n",
      "Response code 503. Waiting for 3 seconds.\n",
      "Response code 503. Waiting for 2 seconds.\n",
      "Response code 503. Waiting for 3 seconds.\n",
      "Response code 503. Waiting for 2 seconds.\n",
      "720 - 840\n"
     ]
    },
    {
     "output_type": "display_data",
     "data": {
      "text/plain": "  0%|          | 0/120 [00:00<?, ?it/s]",
      "application/vnd.jupyter.widget-view+json": {
       "version_major": 2,
       "version_minor": 0,
       "model_id": "acf85e2c9b3943929373a66a0c710675"
      }
     },
     "metadata": {}
    },
    {
     "output_type": "stream",
     "name": "stdout",
     "text": [
      "Response code 503. Waiting for 2 seconds.\n",
      "Response code 503. Waiting for 2 seconds.\n",
      "840 - 960\n"
     ]
    },
    {
     "output_type": "display_data",
     "data": {
      "text/plain": "  0%|          | 0/120 [00:00<?, ?it/s]",
      "application/vnd.jupyter.widget-view+json": {
       "version_major": 2,
       "version_minor": 0,
       "model_id": "1648398dc2644d6f925da0b9a8d81021"
      }
     },
     "metadata": {}
    },
    {
     "output_type": "stream",
     "name": "stdout",
     "text": [
      "Response code 503. Waiting for 2 seconds.\n",
      "960 - 1080\n"
     ]
    },
    {
     "output_type": "display_data",
     "data": {
      "text/plain": "  0%|          | 0/120 [00:00<?, ?it/s]",
      "application/vnd.jupyter.widget-view+json": {
       "version_major": 2,
       "version_minor": 0,
       "model_id": "a074dfaade5d4441966484e21701e96f"
      }
     },
     "metadata": {}
    },
    {
     "output_type": "stream",
     "name": "stdout",
     "text": [
      "Response code 503. Waiting for 5 seconds.\n",
      "Response code 503. Waiting for 4 seconds.\n",
      "Response code 503. Waiting for 2 seconds.\n",
      "Response code 503. Waiting for 3 seconds.\n",
      "1080 - 1200\n"
     ]
    },
    {
     "output_type": "display_data",
     "data": {
      "text/plain": "  0%|          | 0/120 [00:00<?, ?it/s]",
      "application/vnd.jupyter.widget-view+json": {
       "version_major": 2,
       "version_minor": 0,
       "model_id": "04659d0892844c3891a34828d7236d34"
      }
     },
     "metadata": {}
    },
    {
     "output_type": "stream",
     "name": "stdout",
     "text": [
      "Response code 503. Waiting for 3 seconds.\n",
      "Response code 503. Waiting for 2 seconds.\n",
      "1200 - 1320\n"
     ]
    },
    {
     "output_type": "display_data",
     "data": {
      "text/plain": "  0%|          | 0/120 [00:00<?, ?it/s]",
      "application/vnd.jupyter.widget-view+json": {
       "version_major": 2,
       "version_minor": 0,
       "model_id": "48380b89aa534d83805f90e3611aa321"
      }
     },
     "metadata": {}
    },
    {
     "output_type": "stream",
     "name": "stdout",
     "text": [
      "Response code 503. Waiting for 3 seconds.\n",
      "Response code 503. Waiting for 3 seconds.\n",
      "Response code 503. Waiting for 2 seconds.\n",
      "Response code 503. Waiting for 2 seconds.\n",
      "1320 - 1440\n"
     ]
    },
    {
     "output_type": "display_data",
     "data": {
      "text/plain": "  0%|          | 0/120 [00:00<?, ?it/s]",
      "application/vnd.jupyter.widget-view+json": {
       "version_major": 2,
       "version_minor": 0,
       "model_id": "565be3bb114b4efca16eb912699e6ce6"
      }
     },
     "metadata": {}
    },
    {
     "output_type": "stream",
     "name": "stdout",
     "text": [
      "Response code 503. Waiting for 2 seconds.\n",
      "Response code 503. Waiting for 2 seconds.\n",
      "Response code 503. Waiting for 2 seconds.\n",
      "1440 - 1560\n"
     ]
    },
    {
     "output_type": "display_data",
     "data": {
      "text/plain": "  0%|          | 0/120 [00:00<?, ?it/s]",
      "application/vnd.jupyter.widget-view+json": {
       "version_major": 2,
       "version_minor": 0,
       "model_id": "bda703973ecb4afea84e7c4bfa12ed3a"
      }
     },
     "metadata": {}
    },
    {
     "output_type": "stream",
     "name": "stdout",
     "text": [
      "1560 - 1680\n"
     ]
    },
    {
     "output_type": "display_data",
     "data": {
      "text/plain": "  0%|          | 0/120 [00:00<?, ?it/s]",
      "application/vnd.jupyter.widget-view+json": {
       "version_major": 2,
       "version_minor": 0,
       "model_id": "17763d47789341249cd88ba472ec69e5"
      }
     },
     "metadata": {}
    },
    {
     "output_type": "stream",
     "name": "stdout",
     "text": [
      "1680 - 1800\n"
     ]
    },
    {
     "output_type": "display_data",
     "data": {
      "text/plain": "  0%|          | 0/120 [00:00<?, ?it/s]",
      "application/vnd.jupyter.widget-view+json": {
       "version_major": 2,
       "version_minor": 0,
       "model_id": "6faf253df71a4e68a205d3550e4cae6d"
      }
     },
     "metadata": {}
    },
    {
     "output_type": "stream",
     "name": "stdout",
     "text": [
      "Response code 503. Waiting for 3 seconds.\n",
      "Response code 503. Waiting for 3 seconds.\n",
      "1800 - 1920\n"
     ]
    },
    {
     "output_type": "display_data",
     "data": {
      "text/plain": "  0%|          | 0/120 [00:00<?, ?it/s]",
      "application/vnd.jupyter.widget-view+json": {
       "version_major": 2,
       "version_minor": 0,
       "model_id": "7efa3f8f3e7a4bcfbddbece81e4f7c99"
      }
     },
     "metadata": {}
    },
    {
     "output_type": "stream",
     "name": "stdout",
     "text": [
      "1920 - 2040\n"
     ]
    },
    {
     "output_type": "display_data",
     "data": {
      "text/plain": "  0%|          | 0/120 [00:00<?, ?it/s]",
      "application/vnd.jupyter.widget-view+json": {
       "version_major": 2,
       "version_minor": 0,
       "model_id": "7d0da86b305145e38bdfa74c89d4afab"
      }
     },
     "metadata": {}
    },
    {
     "output_type": "stream",
     "name": "stdout",
     "text": [
      "Response code 503. Waiting for 3 seconds.\n",
      "Response code 503. Waiting for 3 seconds.\n",
      "2040 - 2160\n"
     ]
    },
    {
     "output_type": "display_data",
     "data": {
      "text/plain": "  0%|          | 0/120 [00:00<?, ?it/s]",
      "application/vnd.jupyter.widget-view+json": {
       "version_major": 2,
       "version_minor": 0,
       "model_id": "24a6c7ab42e7401586e156ba4442f57d"
      }
     },
     "metadata": {}
    },
    {
     "output_type": "stream",
     "name": "stdout",
     "text": [
      "Response code 503. Waiting for 2 seconds.\n",
      "Response code 503. Waiting for 3 seconds.\n",
      "Response code 503. Waiting for 3 seconds.\n",
      "2160 - 2280\n"
     ]
    },
    {
     "output_type": "display_data",
     "data": {
      "text/plain": "  0%|          | 0/120 [00:00<?, ?it/s]",
      "application/vnd.jupyter.widget-view+json": {
       "version_major": 2,
       "version_minor": 0,
       "model_id": "fd84d8cc156d4692a8a26e2349d39b76"
      }
     },
     "metadata": {}
    },
    {
     "output_type": "stream",
     "name": "stdout",
     "text": [
      "2280 - 2400\n"
     ]
    },
    {
     "output_type": "display_data",
     "data": {
      "text/plain": "  0%|          | 0/120 [00:00<?, ?it/s]",
      "application/vnd.jupyter.widget-view+json": {
       "version_major": 2,
       "version_minor": 0,
       "model_id": "02a2cbb28d4f440cbc7282e5edb82d98"
      }
     },
     "metadata": {}
    },
    {
     "output_type": "stream",
     "name": "stdout",
     "text": [
      "Response code 503. Waiting for 2 seconds.\n",
      "Response code 503. Waiting for 2 seconds.\n",
      "Response code 503. Waiting for 2 seconds.\n",
      "2400 - 2520\n"
     ]
    },
    {
     "output_type": "display_data",
     "data": {
      "text/plain": "  0%|          | 0/120 [00:00<?, ?it/s]",
      "application/vnd.jupyter.widget-view+json": {
       "version_major": 2,
       "version_minor": 0,
       "model_id": "61585a07366a44b88efd7f1f92f766cd"
      }
     },
     "metadata": {}
    },
    {
     "output_type": "stream",
     "name": "stdout",
     "text": [
      "Response code 503. Waiting for 2 seconds.\n",
      "Response code 503. Waiting for 2 seconds.\n",
      "Response code 503. Waiting for 2 seconds.\n",
      "2520 - 2640\n"
     ]
    },
    {
     "output_type": "display_data",
     "data": {
      "text/plain": "  0%|          | 0/120 [00:00<?, ?it/s]",
      "application/vnd.jupyter.widget-view+json": {
       "version_major": 2,
       "version_minor": 0,
       "model_id": "42692c7cf54c4d378d5f872b7c1a6b0a"
      }
     },
     "metadata": {}
    },
    {
     "output_type": "stream",
     "name": "stdout",
     "text": [
      "Response code 503. Waiting for 2 seconds.\n",
      "2640 - 2760\n"
     ]
    },
    {
     "output_type": "display_data",
     "data": {
      "text/plain": "  0%|          | 0/120 [00:00<?, ?it/s]",
      "application/vnd.jupyter.widget-view+json": {
       "version_major": 2,
       "version_minor": 0,
       "model_id": "3a0efc52645c490a86f9704bccd2ed6f"
      }
     },
     "metadata": {}
    },
    {
     "output_type": "stream",
     "name": "stdout",
     "text": [
      "Response code 503. Waiting for 3 seconds.\n",
      "Response code 503. Waiting for 2 seconds.\n",
      "2760 - 2880\n"
     ]
    },
    {
     "output_type": "display_data",
     "data": {
      "text/plain": "  0%|          | 0/120 [00:00<?, ?it/s]",
      "application/vnd.jupyter.widget-view+json": {
       "version_major": 2,
       "version_minor": 0,
       "model_id": "f3a70c5648544d089c1eae3fc91bb6d0"
      }
     },
     "metadata": {}
    },
    {
     "output_type": "stream",
     "name": "stdout",
     "text": [
      "Response code 503. Waiting for 3 seconds.\n",
      "Response code 503. Waiting for 3 seconds.\n",
      "2880 - 3000\n"
     ]
    },
    {
     "output_type": "display_data",
     "data": {
      "text/plain": "  0%|          | 0/120 [00:00<?, ?it/s]",
      "application/vnd.jupyter.widget-view+json": {
       "version_major": 2,
       "version_minor": 0,
       "model_id": "2573b7d6b66149099cb7f0dac4e8a46a"
      }
     },
     "metadata": {}
    },
    {
     "output_type": "stream",
     "name": "stdout",
     "text": [
      "Response code 503. Waiting for 4 seconds.\n",
      "3000 - 3120\n"
     ]
    },
    {
     "output_type": "display_data",
     "data": {
      "text/plain": "  0%|          | 0/120 [00:00<?, ?it/s]",
      "application/vnd.jupyter.widget-view+json": {
       "version_major": 2,
       "version_minor": 0,
       "model_id": "5d612b12bc594599a384a1ca1cd20ccf"
      }
     },
     "metadata": {}
    },
    {
     "output_type": "stream",
     "name": "stdout",
     "text": [
      "Response code 503. Waiting for 2 seconds.\n",
      "3120 - 3240\n"
     ]
    },
    {
     "output_type": "display_data",
     "data": {
      "text/plain": "  0%|          | 0/120 [00:00<?, ?it/s]",
      "application/vnd.jupyter.widget-view+json": {
       "version_major": 2,
       "version_minor": 0,
       "model_id": "439c93c71c2f4d99a305edbc8476d44e"
      }
     },
     "metadata": {}
    },
    {
     "output_type": "stream",
     "name": "stdout",
     "text": [
      "Response code 503. Waiting for 2 seconds.\n",
      "3240 - 3360\n"
     ]
    },
    {
     "output_type": "display_data",
     "data": {
      "text/plain": "  0%|          | 0/120 [00:00<?, ?it/s]",
      "application/vnd.jupyter.widget-view+json": {
       "version_major": 2,
       "version_minor": 0,
       "model_id": "91425e85ef1d4112a70336e9f31a8a49"
      }
     },
     "metadata": {}
    },
    {
     "output_type": "stream",
     "name": "stdout",
     "text": [
      "Response code 503. Waiting for 2 seconds.\n",
      "3360 - 3480\n"
     ]
    },
    {
     "output_type": "display_data",
     "data": {
      "text/plain": "  0%|          | 0/120 [00:00<?, ?it/s]",
      "application/vnd.jupyter.widget-view+json": {
       "version_major": 2,
       "version_minor": 0,
       "model_id": "05e4ce99501c48dc88a922a8cda6527a"
      }
     },
     "metadata": {}
    },
    {
     "output_type": "stream",
     "name": "stdout",
     "text": [
      "Response code 503. Waiting for 2 seconds.\n",
      "3480 - 3600\n"
     ]
    },
    {
     "output_type": "display_data",
     "data": {
      "text/plain": "  0%|          | 0/120 [00:00<?, ?it/s]",
      "application/vnd.jupyter.widget-view+json": {
       "version_major": 2,
       "version_minor": 0,
       "model_id": "c77dc2828e7542fcb450a1e10416aa02"
      }
     },
     "metadata": {}
    },
    {
     "output_type": "stream",
     "name": "stdout",
     "text": [
      "Response code 503. Waiting for 2 seconds.\n",
      "3600 - 3720\n"
     ]
    },
    {
     "output_type": "display_data",
     "data": {
      "text/plain": "  0%|          | 0/120 [00:00<?, ?it/s]",
      "application/vnd.jupyter.widget-view+json": {
       "version_major": 2,
       "version_minor": 0,
       "model_id": "de9bb8f194c144bcb70825fa2b21b5b3"
      }
     },
     "metadata": {}
    },
    {
     "output_type": "stream",
     "name": "stdout",
     "text": [
      "Response code 503. Waiting for 2 seconds.\n",
      "Response code 503. Waiting for 2 seconds.\n",
      "3720 - 3840\n"
     ]
    },
    {
     "output_type": "display_data",
     "data": {
      "text/plain": "  0%|          | 0/120 [00:00<?, ?it/s]",
      "application/vnd.jupyter.widget-view+json": {
       "version_major": 2,
       "version_minor": 0,
       "model_id": "6c5738a284464985a23032181d5a538b"
      }
     },
     "metadata": {}
    },
    {
     "output_type": "stream",
     "name": "stdout",
     "text": [
      "Response code 503. Waiting for 2 seconds.\n",
      "3840 - 3960\n"
     ]
    },
    {
     "output_type": "display_data",
     "data": {
      "text/plain": "  0%|          | 0/120 [00:00<?, ?it/s]",
      "application/vnd.jupyter.widget-view+json": {
       "version_major": 2,
       "version_minor": 0,
       "model_id": "71f59a9e468d4c12bb0e7e2e48ef9f3e"
      }
     },
     "metadata": {}
    },
    {
     "output_type": "stream",
     "name": "stdout",
     "text": [
      "Response code 503. Waiting for 2 seconds.\n",
      "3960 - 4080\n"
     ]
    },
    {
     "output_type": "display_data",
     "data": {
      "text/plain": "  0%|          | 0/120 [00:00<?, ?it/s]",
      "application/vnd.jupyter.widget-view+json": {
       "version_major": 2,
       "version_minor": 0,
       "model_id": "6c48cec35b2f4b6798dc69fa108fd79b"
      }
     },
     "metadata": {}
    },
    {
     "output_type": "stream",
     "name": "stdout",
     "text": [
      "4080 - 4200\n"
     ]
    },
    {
     "output_type": "display_data",
     "data": {
      "text/plain": "  0%|          | 0/120 [00:00<?, ?it/s]",
      "application/vnd.jupyter.widget-view+json": {
       "version_major": 2,
       "version_minor": 0,
       "model_id": "979cb3aa9c3b49caaccd9aabd781b26c"
      }
     },
     "metadata": {}
    },
    {
     "output_type": "stream",
     "name": "stdout",
     "text": [
      "Response code 503. Waiting for 2 seconds.\n",
      "Response code 503. Waiting for 2 seconds.\n",
      "4200 - 4320\n"
     ]
    },
    {
     "output_type": "display_data",
     "data": {
      "text/plain": "  0%|          | 0/120 [00:00<?, ?it/s]",
      "application/vnd.jupyter.widget-view+json": {
       "version_major": 2,
       "version_minor": 0,
       "model_id": "f9fe8ace828c4746b5e01fdcaa3c0a61"
      }
     },
     "metadata": {}
    },
    {
     "output_type": "stream",
     "name": "stdout",
     "text": [
      "Response code 503. Waiting for 2 seconds.\n",
      "Response code 503. Waiting for 2 seconds.\n",
      "4320 - 4440\n"
     ]
    },
    {
     "output_type": "display_data",
     "data": {
      "text/plain": "  0%|          | 0/120 [00:00<?, ?it/s]",
      "application/vnd.jupyter.widget-view+json": {
       "version_major": 2,
       "version_minor": 0,
       "model_id": "299032d4ed1f4576a897a106ecaf4825"
      }
     },
     "metadata": {}
    },
    {
     "output_type": "stream",
     "name": "stdout",
     "text": [
      "Response code 503. Waiting for 3 seconds.\n",
      "4440 - 4560\n"
     ]
    },
    {
     "output_type": "display_data",
     "data": {
      "text/plain": "  0%|          | 0/120 [00:00<?, ?it/s]",
      "application/vnd.jupyter.widget-view+json": {
       "version_major": 2,
       "version_minor": 0,
       "model_id": "e4e3433a2f804daf9c0eabbfe7280ce4"
      }
     },
     "metadata": {}
    },
    {
     "output_type": "stream",
     "name": "stdout",
     "text": [
      "Response code 503. Waiting for 2 seconds.\n",
      "Response code 503. Waiting for 2 seconds.\n",
      "4560 - 4680\n"
     ]
    },
    {
     "output_type": "display_data",
     "data": {
      "text/plain": "  0%|          | 0/120 [00:00<?, ?it/s]",
      "application/vnd.jupyter.widget-view+json": {
       "version_major": 2,
       "version_minor": 0,
       "model_id": "c0b4c89e2e9c472d9b8e91c0e4bf2972"
      }
     },
     "metadata": {}
    },
    {
     "output_type": "stream",
     "name": "stdout",
     "text": [
      "Response code 503. Waiting for 2 seconds.\n",
      "Response code 503. Waiting for 2 seconds.\n",
      "4680 - 4800\n"
     ]
    },
    {
     "output_type": "display_data",
     "data": {
      "text/plain": "  0%|          | 0/120 [00:00<?, ?it/s]",
      "application/vnd.jupyter.widget-view+json": {
       "version_major": 2,
       "version_minor": 0,
       "model_id": "8bdaea774c3a4dd5b03e66faf55bedf2"
      }
     },
     "metadata": {}
    },
    {
     "output_type": "stream",
     "name": "stdout",
     "text": [
      "JSONDecodeError while querying for Kinstrife & Blood On Paths Long Forgotten...\n",
      "Response code 503. Waiting for 3 seconds.\n",
      "4800 - 4920\n"
     ]
    },
    {
     "output_type": "display_data",
     "data": {
      "text/plain": "  0%|          | 0/120 [00:00<?, ?it/s]",
      "application/vnd.jupyter.widget-view+json": {
       "version_major": 2,
       "version_minor": 0,
       "model_id": "87948c92313f4d88b35605ea3b1372a3"
      }
     },
     "metadata": {}
    },
    {
     "output_type": "stream",
     "name": "stdout",
     "text": [
      "Response code 503. Waiting for 2 seconds.\n",
      "Response code 503. Waiting for 2 seconds.\n",
      "4920 - 5040\n"
     ]
    },
    {
     "output_type": "display_data",
     "data": {
      "text/plain": "  0%|          | 0/120 [00:00<?, ?it/s]",
      "application/vnd.jupyter.widget-view+json": {
       "version_major": 2,
       "version_minor": 0,
       "model_id": "d5f5823c04854ef99798bbad6f0c369f"
      }
     },
     "metadata": {}
    },
    {
     "output_type": "stream",
     "name": "stdout",
     "text": [
      "Response code 503. Waiting for 2 seconds.\n",
      "Response code 503. Waiting for 2 seconds.\n",
      "5040 - 5160\n"
     ]
    },
    {
     "output_type": "display_data",
     "data": {
      "text/plain": "  0%|          | 0/120 [00:00<?, ?it/s]",
      "application/vnd.jupyter.widget-view+json": {
       "version_major": 2,
       "version_minor": 0,
       "model_id": "5471f6a5812e443298c9caf8551a202f"
      }
     },
     "metadata": {}
    },
    {
     "output_type": "stream",
     "name": "stdout",
     "text": [
      "5160 - 5280\n"
     ]
    },
    {
     "output_type": "display_data",
     "data": {
      "text/plain": "  0%|          | 0/120 [00:00<?, ?it/s]",
      "application/vnd.jupyter.widget-view+json": {
       "version_major": 2,
       "version_minor": 0,
       "model_id": "9779ea5980414e8a90c2b87bf6c8a2a5"
      }
     },
     "metadata": {}
    },
    {
     "output_type": "stream",
     "name": "stdout",
     "text": [
      "Response code 503. Waiting for 3 seconds.\n",
      "Response code 503. Waiting for 2 seconds.\n",
      "5280 - 5400\n"
     ]
    },
    {
     "output_type": "display_data",
     "data": {
      "text/plain": "  0%|          | 0/120 [00:00<?, ?it/s]",
      "application/vnd.jupyter.widget-view+json": {
       "version_major": 2,
       "version_minor": 0,
       "model_id": "b90e285712844b018eae87ab97844be0"
      }
     },
     "metadata": {}
    },
    {
     "output_type": "stream",
     "name": "stdout",
     "text": [
      "5400 - 5520\n"
     ]
    },
    {
     "output_type": "display_data",
     "data": {
      "text/plain": "  0%|          | 0/120 [00:00<?, ?it/s]",
      "application/vnd.jupyter.widget-view+json": {
       "version_major": 2,
       "version_minor": 0,
       "model_id": "edc766e74b4e4b97ad09e9892c27d78d"
      }
     },
     "metadata": {}
    },
    {
     "output_type": "stream",
     "name": "stdout",
     "text": [
      "Response code 503. Waiting for 3 seconds.\n",
      "Response code 503. Waiting for 2 seconds.\n",
      "Response code 503. Waiting for 2 seconds.\n",
      "5520 - 5640\n"
     ]
    },
    {
     "output_type": "display_data",
     "data": {
      "text/plain": "  0%|          | 0/120 [00:00<?, ?it/s]",
      "application/vnd.jupyter.widget-view+json": {
       "version_major": 2,
       "version_minor": 0,
       "model_id": "11cf535a8c5c419aabfc960f9e8100e7"
      }
     },
     "metadata": {}
    },
    {
     "output_type": "stream",
     "name": "stdout",
     "text": [
      "Response code 503. Waiting for 2 seconds.\n",
      "5640 - 5760\n"
     ]
    },
    {
     "output_type": "display_data",
     "data": {
      "text/plain": "  0%|          | 0/120 [00:00<?, ?it/s]",
      "application/vnd.jupyter.widget-view+json": {
       "version_major": 2,
       "version_minor": 0,
       "model_id": "7c762ecc2ab542a599ac7794c30f24c8"
      }
     },
     "metadata": {}
    },
    {
     "output_type": "stream",
     "name": "stdout",
     "text": [
      "Response code 503. Waiting for 2 seconds.\n",
      "5760 - 5880\n"
     ]
    },
    {
     "output_type": "display_data",
     "data": {
      "text/plain": "  0%|          | 0/120 [00:00<?, ?it/s]",
      "application/vnd.jupyter.widget-view+json": {
       "version_major": 2,
       "version_minor": 0,
       "model_id": "8cc28c22cc86488fa454c306040ed716"
      }
     },
     "metadata": {}
    },
    {
     "output_type": "stream",
     "name": "stdout",
     "text": [
      "5880 - 6000\n"
     ]
    },
    {
     "output_type": "display_data",
     "data": {
      "text/plain": "  0%|          | 0/120 [00:00<?, ?it/s]",
      "application/vnd.jupyter.widget-view+json": {
       "version_major": 2,
       "version_minor": 0,
       "model_id": "d797ff9c403c4f7898cae91a77f8f319"
      }
     },
     "metadata": {}
    },
    {
     "output_type": "stream",
     "name": "stdout",
     "text": [
      "Response code 503. Waiting for 2 seconds.\n",
      "Response code 503. Waiting for 2 seconds.\n",
      "6000 - 6120\n"
     ]
    },
    {
     "output_type": "display_data",
     "data": {
      "text/plain": "  0%|          | 0/120 [00:00<?, ?it/s]",
      "application/vnd.jupyter.widget-view+json": {
       "version_major": 2,
       "version_minor": 0,
       "model_id": "fd96c8e8cfa74953bfa1508c320d684d"
      }
     },
     "metadata": {}
    },
    {
     "output_type": "stream",
     "name": "stdout",
     "text": [
      "Response code 503. Waiting for 2 seconds.\n",
      "6120 - 6240\n"
     ]
    },
    {
     "output_type": "display_data",
     "data": {
      "text/plain": "  0%|          | 0/120 [00:00<?, ?it/s]",
      "application/vnd.jupyter.widget-view+json": {
       "version_major": 2,
       "version_minor": 0,
       "model_id": "d13313c3b6c540aeaca3d69d6ffcf68b"
      }
     },
     "metadata": {}
    },
    {
     "output_type": "stream",
     "name": "stdout",
     "text": [
      "Response code 503. Waiting for 2 seconds.\n",
      "Response code 503. Waiting for 2 seconds.\n",
      "6240 - 6360\n"
     ]
    },
    {
     "output_type": "display_data",
     "data": {
      "text/plain": "  0%|          | 0/120 [00:00<?, ?it/s]",
      "application/vnd.jupyter.widget-view+json": {
       "version_major": 2,
       "version_minor": 0,
       "model_id": "47a47c0ebf2a42b7aedbbf8f24506c01"
      }
     },
     "metadata": {}
    },
    {
     "output_type": "stream",
     "name": "stdout",
     "text": [
      "Response code 503. Waiting for 2 seconds.\n",
      "6360 - 6480\n"
     ]
    },
    {
     "output_type": "display_data",
     "data": {
      "text/plain": "  0%|          | 0/120 [00:00<?, ?it/s]",
      "application/vnd.jupyter.widget-view+json": {
       "version_major": 2,
       "version_minor": 0,
       "model_id": "fdd3a60adc1a4fb8bd6b590b38ff16f6"
      }
     },
     "metadata": {}
    },
    {
     "output_type": "stream",
     "name": "stdout",
     "text": [
      "Response code 503. Waiting for 2 seconds.\n",
      "Response code 503. Waiting for 2 seconds.\n",
      "6480 - 6600\n"
     ]
    },
    {
     "output_type": "display_data",
     "data": {
      "text/plain": "  0%|          | 0/120 [00:00<?, ?it/s]",
      "application/vnd.jupyter.widget-view+json": {
       "version_major": 2,
       "version_minor": 0,
       "model_id": "379dc929634946eab640c9d6fa60da91"
      }
     },
     "metadata": {}
    },
    {
     "output_type": "stream",
     "name": "stdout",
     "text": [
      "6600 - 6720\n"
     ]
    },
    {
     "output_type": "display_data",
     "data": {
      "text/plain": "  0%|          | 0/120 [00:00<?, ?it/s]",
      "application/vnd.jupyter.widget-view+json": {
       "version_major": 2,
       "version_minor": 0,
       "model_id": "d0012cbf004548cbb0f71bab5ea4a6d8"
      }
     },
     "metadata": {}
    },
    {
     "output_type": "stream",
     "name": "stdout",
     "text": [
      "Response code 503. Waiting for 2 seconds.\n",
      "6720 - 6840\n"
     ]
    },
    {
     "output_type": "display_data",
     "data": {
      "text/plain": "  0%|          | 0/120 [00:00<?, ?it/s]",
      "application/vnd.jupyter.widget-view+json": {
       "version_major": 2,
       "version_minor": 0,
       "model_id": "e372f3a17e8d428e8f6513ff643eec49"
      }
     },
     "metadata": {}
    },
    {
     "output_type": "stream",
     "name": "stdout",
     "text": [
      "Response code 503. Waiting for 4 seconds.\n",
      "Response code 503. Waiting for 2 seconds.\n",
      "6840 - 6960\n"
     ]
    },
    {
     "output_type": "display_data",
     "data": {
      "text/plain": "  0%|          | 0/120 [00:00<?, ?it/s]",
      "application/vnd.jupyter.widget-view+json": {
       "version_major": 2,
       "version_minor": 0,
       "model_id": "524053afb3e04e228181c332f04430d1"
      }
     },
     "metadata": {}
    },
    {
     "output_type": "stream",
     "name": "stdout",
     "text": [
      "Response code 503. Waiting for 2 seconds.\n",
      "6960 - 7080\n"
     ]
    },
    {
     "output_type": "display_data",
     "data": {
      "text/plain": "  0%|          | 0/120 [00:00<?, ?it/s]",
      "application/vnd.jupyter.widget-view+json": {
       "version_major": 2,
       "version_minor": 0,
       "model_id": "9a929557fa8d4b23b94fd94a82d4ea01"
      }
     },
     "metadata": {}
    },
    {
     "output_type": "stream",
     "name": "stdout",
     "text": [
      "Response code 503. Waiting for 3 seconds.\n",
      "Response code 503. Waiting for 4 seconds.\n",
      "Response code 503. Waiting for 2 seconds.\n",
      "7080 - 7200\n"
     ]
    },
    {
     "output_type": "display_data",
     "data": {
      "text/plain": "  0%|          | 0/120 [00:00<?, ?it/s]",
      "application/vnd.jupyter.widget-view+json": {
       "version_major": 2,
       "version_minor": 0,
       "model_id": "e9a9dc99d3ee495c96dd74184496abce"
      }
     },
     "metadata": {}
    },
    {
     "output_type": "stream",
     "name": "stdout",
     "text": [
      "Response code 503. Waiting for 2 seconds.\n",
      "Response code 503. Waiting for 2 seconds.\n",
      "Response code 503. Waiting for 2 seconds.\n",
      "Response code 503. Waiting for 2 seconds.\n",
      "7200 - 7320\n"
     ]
    },
    {
     "output_type": "display_data",
     "data": {
      "text/plain": "  0%|          | 0/120 [00:00<?, ?it/s]",
      "application/vnd.jupyter.widget-view+json": {
       "version_major": 2,
       "version_minor": 0,
       "model_id": "3ec16a4b3899430d988c18ebf30ee0f6"
      }
     },
     "metadata": {}
    },
    {
     "output_type": "stream",
     "name": "stdout",
     "text": [
      "7320 - 7440\n"
     ]
    },
    {
     "output_type": "display_data",
     "data": {
      "text/plain": "  0%|          | 0/120 [00:00<?, ?it/s]",
      "application/vnd.jupyter.widget-view+json": {
       "version_major": 2,
       "version_minor": 0,
       "model_id": "3cd4f5f0707149be98ce0580387cfb53"
      }
     },
     "metadata": {}
    },
    {
     "output_type": "stream",
     "name": "stdout",
     "text": [
      "7440 - 7560\n"
     ]
    },
    {
     "output_type": "display_data",
     "data": {
      "text/plain": "  0%|          | 0/120 [00:00<?, ?it/s]",
      "application/vnd.jupyter.widget-view+json": {
       "version_major": 2,
       "version_minor": 0,
       "model_id": "cb1862d2f5494386b722e05adaae3816"
      }
     },
     "metadata": {}
    },
    {
     "output_type": "stream",
     "name": "stdout",
     "text": [
      "7560 - 7680\n"
     ]
    },
    {
     "output_type": "display_data",
     "data": {
      "text/plain": "  0%|          | 0/120 [00:00<?, ?it/s]",
      "application/vnd.jupyter.widget-view+json": {
       "version_major": 2,
       "version_minor": 0,
       "model_id": "7bd5e24dad0f4afba68b222c3afd3b27"
      }
     },
     "metadata": {}
    },
    {
     "output_type": "stream",
     "name": "stdout",
     "text": [
      "7680 - 7800\n"
     ]
    },
    {
     "output_type": "display_data",
     "data": {
      "text/plain": "  0%|          | 0/120 [00:00<?, ?it/s]",
      "application/vnd.jupyter.widget-view+json": {
       "version_major": 2,
       "version_minor": 0,
       "model_id": "566b546e4ca44ade9918115478e5a188"
      }
     },
     "metadata": {}
    },
    {
     "output_type": "stream",
     "name": "stdout",
     "text": [
      "7800 - 7920\n"
     ]
    },
    {
     "output_type": "display_data",
     "data": {
      "text/plain": "  0%|          | 0/120 [00:00<?, ?it/s]",
      "application/vnd.jupyter.widget-view+json": {
       "version_major": 2,
       "version_minor": 0,
       "model_id": "ffb65e9e8c484762bb5a8700b64d0e3c"
      }
     },
     "metadata": {}
    },
    {
     "output_type": "stream",
     "name": "stdout",
     "text": [
      "Response code 503. Waiting for 2 seconds.\n",
      "7920 - 8040\n"
     ]
    },
    {
     "output_type": "display_data",
     "data": {
      "text/plain": "  0%|          | 0/120 [00:00<?, ?it/s]",
      "application/vnd.jupyter.widget-view+json": {
       "version_major": 2,
       "version_minor": 0,
       "model_id": "8f070e682b284176b5246093041a4e2a"
      }
     },
     "metadata": {}
    },
    {
     "output_type": "stream",
     "name": "stdout",
     "text": [
      "8040 - 8160\n"
     ]
    },
    {
     "output_type": "display_data",
     "data": {
      "text/plain": "  0%|          | 0/120 [00:00<?, ?it/s]",
      "application/vnd.jupyter.widget-view+json": {
       "version_major": 2,
       "version_minor": 0,
       "model_id": "3bd13299d4cd42f7ad30169184816603"
      }
     },
     "metadata": {}
    },
    {
     "output_type": "stream",
     "name": "stdout",
     "text": [
      "Response code 503. Waiting for 2 seconds.\n",
      "8160 - 8280\n"
     ]
    },
    {
     "output_type": "display_data",
     "data": {
      "text/plain": "  0%|          | 0/120 [00:00<?, ?it/s]",
      "application/vnd.jupyter.widget-view+json": {
       "version_major": 2,
       "version_minor": 0,
       "model_id": "132905f350ff45469c2dbdb2b052b629"
      }
     },
     "metadata": {}
    },
    {
     "output_type": "stream",
     "name": "stdout",
     "text": [
      "Response code 503. Waiting for 2 seconds.\n",
      "Response code 503. Waiting for 2 seconds.\n",
      "Response code 503. Waiting for 2 seconds.\n",
      "8280 - 8400\n"
     ]
    },
    {
     "output_type": "display_data",
     "data": {
      "text/plain": "  0%|          | 0/120 [00:00<?, ?it/s]",
      "application/vnd.jupyter.widget-view+json": {
       "version_major": 2,
       "version_minor": 0,
       "model_id": "ea5153393e3e4426ac431d3a544eb23e"
      }
     },
     "metadata": {}
    },
    {
     "output_type": "stream",
     "name": "stdout",
     "text": [
      "Response code 503. Waiting for 3 seconds.\n",
      "Response code 503. Waiting for 2 seconds.\n",
      "Response code 503. Waiting for 2 seconds.\n",
      "8400 - 8520\n"
     ]
    },
    {
     "output_type": "display_data",
     "data": {
      "text/plain": "  0%|          | 0/120 [00:00<?, ?it/s]",
      "application/vnd.jupyter.widget-view+json": {
       "version_major": 2,
       "version_minor": 0,
       "model_id": "ddb72ce4039249b9abc805c8da34261f"
      }
     },
     "metadata": {}
    },
    {
     "output_type": "stream",
     "name": "stdout",
     "text": [
      "Response code 503. Waiting for 3 seconds.\n",
      "Response code 503. Waiting for 2 seconds.\n",
      "8520 - 8640\n"
     ]
    },
    {
     "output_type": "display_data",
     "data": {
      "text/plain": "  0%|          | 0/120 [00:00<?, ?it/s]",
      "application/vnd.jupyter.widget-view+json": {
       "version_major": 2,
       "version_minor": 0,
       "model_id": "94f487ce226442228edecbc12c6d1c14"
      }
     },
     "metadata": {}
    },
    {
     "output_type": "stream",
     "name": "stdout",
     "text": [
      "Response code 503. Waiting for 2 seconds.\n",
      "Response code 503. Waiting for 3 seconds.\n",
      "8640 - 8760\n"
     ]
    },
    {
     "output_type": "display_data",
     "data": {
      "text/plain": "  0%|          | 0/120 [00:00<?, ?it/s]",
      "application/vnd.jupyter.widget-view+json": {
       "version_major": 2,
       "version_minor": 0,
       "model_id": "c5353e5156174f10a17b402dd06bfdb6"
      }
     },
     "metadata": {}
    },
    {
     "output_type": "stream",
     "name": "stdout",
     "text": [
      "8760 - 8880\n"
     ]
    },
    {
     "output_type": "display_data",
     "data": {
      "text/plain": "  0%|          | 0/120 [00:00<?, ?it/s]",
      "application/vnd.jupyter.widget-view+json": {
       "version_major": 2,
       "version_minor": 0,
       "model_id": "172928be038c4099b0d4a44e18e4d95e"
      }
     },
     "metadata": {}
    },
    {
     "output_type": "stream",
     "name": "stdout",
     "text": [
      "Response code 503. Waiting for 3 seconds.\n",
      "Response code 503. Waiting for 2 seconds.\n",
      "Response code 503. Waiting for 2 seconds.\n",
      "8880 - 9000\n"
     ]
    },
    {
     "output_type": "display_data",
     "data": {
      "text/plain": "  0%|          | 0/120 [00:00<?, ?it/s]",
      "application/vnd.jupyter.widget-view+json": {
       "version_major": 2,
       "version_minor": 0,
       "model_id": "d8b5a1e7b81842d58ae7f96072c5a050"
      }
     },
     "metadata": {}
    },
    {
     "output_type": "stream",
     "name": "stdout",
     "text": [
      "Response code 503. Waiting for 2 seconds.\n",
      "Response code 503. Waiting for 2 seconds.\n",
      "9000 - 9120\n"
     ]
    },
    {
     "output_type": "display_data",
     "data": {
      "text/plain": "  0%|          | 0/120 [00:00<?, ?it/s]",
      "application/vnd.jupyter.widget-view+json": {
       "version_major": 2,
       "version_minor": 0,
       "model_id": "c8d682c8ea6542a78fee2d5978011a22"
      }
     },
     "metadata": {}
    },
    {
     "output_type": "stream",
     "name": "stdout",
     "text": [
      "Response code 503. Waiting for 3 seconds.\n",
      "9120 - 9240\n"
     ]
    },
    {
     "output_type": "display_data",
     "data": {
      "text/plain": "  0%|          | 0/120 [00:00<?, ?it/s]",
      "application/vnd.jupyter.widget-view+json": {
       "version_major": 2,
       "version_minor": 0,
       "model_id": "0ea61ca9866749ff8d91d639189783f2"
      }
     },
     "metadata": {}
    },
    {
     "output_type": "stream",
     "name": "stdout",
     "text": [
      "Response code 503. Waiting for 2 seconds.\n",
      "Response code 503. Waiting for 2 seconds.\n",
      "9240 - 9360\n"
     ]
    },
    {
     "output_type": "display_data",
     "data": {
      "text/plain": "  0%|          | 0/120 [00:00<?, ?it/s]",
      "application/vnd.jupyter.widget-view+json": {
       "version_major": 2,
       "version_minor": 0,
       "model_id": "bd742fd18ccf466ba49ac3aaee63504d"
      }
     },
     "metadata": {}
    },
    {
     "output_type": "stream",
     "name": "stdout",
     "text": [
      "CPU times: user 3min 47s, sys: 13.6 s, total: 4min\nWall time: 1h 35min\n"
     ]
    }
   ],
   "source": [
    "%%time\n",
    "lastfm = dqf.LastFM()\n",
    "\n",
    "TAIL = 120\n",
    "for HEAD in np.arange(0, len(df_csv)+TAIL, TAIL)[1:]:\n",
    "    start = HEAD-TAIL\n",
    "    stop = HEAD\n",
    "    print(start, '-', stop)\n",
    "    FIELDS = ['artist', 'name', 'release-date', 'listeners', 'playcount', 'tags', 'mbid', 'url', 'image']\n",
    "\n",
    "    result_df = df_csv.head(HEAD).tail(TAIL)\n",
    "    result_df['lastfm_info'] = result_df.progress_apply(lambda row: lastfm.get_album_info(artist=row['Band'], album=row['Album'], fields=FIELDS), axis=1)\n",
    "\n",
    "    result_df = pd.concat([result_df, result_df.lastfm_info.apply(pd.Series)], axis=1)\n",
    "    result_df = result_df.drop('lastfm_info', axis=1)\n",
    "    # result_df.rename(columns={'name':'lastfm_album'}, inplace=True)\n",
    "\n",
    "    start = HEAD-TAIL\n",
    "    stop = HEAD\n",
    "    result_df.to_csv('./data/processed/proc_MA_'+ str(start) + '-' + str(HEAD) + '_albums.csv')"
   ]
  },
  {
   "source": [
    "## Preview the preprocessed data\n",
    "\n",
    "Let's display some info we gathered about the metal albums placing on positions 76-100 of the top heavy metal albums of history.\n",
    "We will take a look at the fields:\n",
    "\n",
    "|__artist__|__album__|__release-date__|__listeners__|__playcount__|__tags__|__ignored tags__|"
   ],
   "cell_type": "markdown",
   "metadata": {}
  },
  {
   "cell_type": "code",
   "execution_count": null,
   "metadata": {},
   "outputs": [],
   "source": []
  },
  {
   "cell_type": "code",
   "execution_count": 6,
   "metadata": {},
   "outputs": [
    {
     "output_type": "execute_result",
     "data": {
      "text/plain": [
       "                                               MA_artist release-date  \\\n",
       "artist        album                                                     \n",
       "Slayer        Reign in Blood                      Slayer   1986-10-07   \n",
       "Metallica     Kill 'Em All                     Metallica   1983-07-25   \n",
       "NaN           NaN                           Hades Archer          NaN   \n",
       "Iron Maiden   Iron Maiden                    Iron Maiden   1980-04-14   \n",
       "Metallica     Master of Puppets                Metallica         2003   \n",
       "...                                                  ...          ...   \n",
       "NaN           NaN                                  Ulver          NaN   \n",
       "Suffocation   Pierced From Within            Suffocation   1995-05-23   \n",
       "Black Sabbath Born Again                   Black Sabbath   1983-08-07   \n",
       "NaN           NaN                        Cradle of Filth          NaN   \n",
       "Death         The Sound of Perseverance            Death   1998-09-15   \n",
       "\n",
       "                                        listeners playcount  \\\n",
       "artist        album                                           \n",
       "Slayer        Reign in Blood               826535  15664417   \n",
       "Metallica     Kill 'Em All                 583516  14405386   \n",
       "NaN           NaN                             NaN       NaN   \n",
       "Iron Maiden   Iron Maiden                  393721   7110933   \n",
       "Metallica     Master of Puppets            952876  22537859   \n",
       "...                                           ...       ...   \n",
       "NaN           NaN                             NaN       NaN   \n",
       "Suffocation   Pierced From Within           53966    992878   \n",
       "Black Sabbath Born Again                    84917   1224192   \n",
       "NaN           NaN                             NaN       NaN   \n",
       "Death         The Sound of Perseverance    156420   4344117   \n",
       "\n",
       "                                                                                      tags  \\\n",
       "artist        album                                                                          \n",
       "Slayer        Reign in Blood                      [thrash metal, speed metal, heavy metal]   \n",
       "Metallica     Kill 'Em All                        [thrash metal, heavy metal, speed metal]   \n",
       "NaN           NaN                                                                      NaN   \n",
       "Iron Maiden   Iron Maiden                                                    [heavy metal]   \n",
       "Metallica     Master of Puppets                                [thrash metal, heavy metal]   \n",
       "...                                                                                    ...   \n",
       "NaN           NaN                                                                      NaN   \n",
       "Suffocation   Pierced From Within                     [death metal, technical death metal]   \n",
       "Black Sabbath Born Again                                                     [heavy metal]   \n",
       "NaN           NaN                                                                      NaN   \n",
       "Death         The Sound of Perseverance  [death metal, progressive death metal, technic...   \n",
       "\n",
       "                                                                          ignored tags  \n",
       "artist        album                                                                     \n",
       "Slayer        Reign in Blood                                     [albums i own, metal]  \n",
       "Metallica     Kill 'Em All                                       [albums i own, metal]  \n",
       "NaN           NaN                                                                  NaN  \n",
       "Iron Maiden   Iron Maiden                          [albums i own, nwobhm, metal, 1980]  \n",
       "Metallica     Master of Puppets                [albums i own, metal, favourite albums]  \n",
       "...                                                                                ...  \n",
       "NaN           NaN                                                                  NaN  \n",
       "Suffocation   Pierced From Within             [brutal death metal, 1995, albums i own]  \n",
       "Black Sabbath Born Again                 [hard rock, 1983, classic rock, albums i own]  \n",
       "NaN           NaN                                                                  NaN  \n",
       "Death         The Sound of Perseverance                                 [albums i own]  \n",
       "\n",
       "[100 rows x 6 columns]"
      ],
      "text/html": "<div>\n<style scoped>\n    .dataframe tbody tr th:only-of-type {\n        vertical-align: middle;\n    }\n\n    .dataframe tbody tr th {\n        vertical-align: top;\n    }\n\n    .dataframe thead th {\n        text-align: right;\n    }\n</style>\n<table border=\"1\" class=\"dataframe\">\n  <thead>\n    <tr style=\"text-align: right;\">\n      <th></th>\n      <th></th>\n      <th>MA_artist</th>\n      <th>release-date</th>\n      <th>listeners</th>\n      <th>playcount</th>\n      <th>tags</th>\n      <th>ignored tags</th>\n    </tr>\n    <tr>\n      <th>artist</th>\n      <th>album</th>\n      <th></th>\n      <th></th>\n      <th></th>\n      <th></th>\n      <th></th>\n      <th></th>\n    </tr>\n  </thead>\n  <tbody>\n    <tr>\n      <th>Slayer</th>\n      <th>Reign in Blood</th>\n      <td>Slayer</td>\n      <td>1986-10-07</td>\n      <td>826535</td>\n      <td>15664417</td>\n      <td>[thrash metal, speed metal, heavy metal]</td>\n      <td>[albums i own, metal]</td>\n    </tr>\n    <tr>\n      <th>Metallica</th>\n      <th>Kill 'Em All</th>\n      <td>Metallica</td>\n      <td>1983-07-25</td>\n      <td>583516</td>\n      <td>14405386</td>\n      <td>[thrash metal, heavy metal, speed metal]</td>\n      <td>[albums i own, metal]</td>\n    </tr>\n    <tr>\n      <th>NaN</th>\n      <th>NaN</th>\n      <td>Hades Archer</td>\n      <td>NaN</td>\n      <td>NaN</td>\n      <td>NaN</td>\n      <td>NaN</td>\n      <td>NaN</td>\n    </tr>\n    <tr>\n      <th>Iron Maiden</th>\n      <th>Iron Maiden</th>\n      <td>Iron Maiden</td>\n      <td>1980-04-14</td>\n      <td>393721</td>\n      <td>7110933</td>\n      <td>[heavy metal]</td>\n      <td>[albums i own, nwobhm, metal, 1980]</td>\n    </tr>\n    <tr>\n      <th>Metallica</th>\n      <th>Master of Puppets</th>\n      <td>Metallica</td>\n      <td>2003</td>\n      <td>952876</td>\n      <td>22537859</td>\n      <td>[thrash metal, heavy metal]</td>\n      <td>[albums i own, metal, favourite albums]</td>\n    </tr>\n    <tr>\n      <th>...</th>\n      <th>...</th>\n      <td>...</td>\n      <td>...</td>\n      <td>...</td>\n      <td>...</td>\n      <td>...</td>\n      <td>...</td>\n    </tr>\n    <tr>\n      <th>NaN</th>\n      <th>NaN</th>\n      <td>Ulver</td>\n      <td>NaN</td>\n      <td>NaN</td>\n      <td>NaN</td>\n      <td>NaN</td>\n      <td>NaN</td>\n    </tr>\n    <tr>\n      <th>Suffocation</th>\n      <th>Pierced From Within</th>\n      <td>Suffocation</td>\n      <td>1995-05-23</td>\n      <td>53966</td>\n      <td>992878</td>\n      <td>[death metal, technical death metal]</td>\n      <td>[brutal death metal, 1995, albums i own]</td>\n    </tr>\n    <tr>\n      <th>Black Sabbath</th>\n      <th>Born Again</th>\n      <td>Black Sabbath</td>\n      <td>1983-08-07</td>\n      <td>84917</td>\n      <td>1224192</td>\n      <td>[heavy metal]</td>\n      <td>[hard rock, 1983, classic rock, albums i own]</td>\n    </tr>\n    <tr>\n      <th>NaN</th>\n      <th>NaN</th>\n      <td>Cradle of Filth</td>\n      <td>NaN</td>\n      <td>NaN</td>\n      <td>NaN</td>\n      <td>NaN</td>\n      <td>NaN</td>\n    </tr>\n    <tr>\n      <th>Death</th>\n      <th>The Sound of Perseverance</th>\n      <td>Death</td>\n      <td>1998-09-15</td>\n      <td>156420</td>\n      <td>4344117</td>\n      <td>[death metal, progressive death metal, technic...</td>\n      <td>[albums i own]</td>\n    </tr>\n  </tbody>\n</table>\n<p>100 rows × 6 columns</p>\n</div>"
     },
     "metadata": {},
     "execution_count": 6
    }
   ],
   "source": [
    "SHOW_FIELDS =['MA_artist','release-date', 'listeners', 'playcount', 'tags', 'ignored tags']\n",
    "result_df[SHOW_FIELDS]"
   ]
  },
  {
   "source": [
    "## Export\n",
    "We can now export the preprocessed dataframe to a csv file."
   ],
   "cell_type": "markdown",
   "metadata": {}
  },
  {
   "cell_type": "code",
   "execution_count": 6,
   "metadata": {},
   "outputs": [],
   "source": [
    "start = HEAD-TAIL\n",
    "stop = HEAD\n",
    "result_df.sort_values(by='listeners', ascending=False).to_csv('./data/proc_MA_'+ str(start) + '-' + str(HEAD) + '_albums.csv')"
   ]
  },
  {
   "source": [
    "# Next Steps\n",
    "Now, that we have exported our data to a csv file, we can use our visualization functions to further explore the history of heavy metal. Follow the link below:\n",
    "\n",
    "\n",
    "[1-visualizations.ipynb](1-visualizations.ipynb)"
   ],
   "cell_type": "markdown",
   "metadata": {}
  },
  {
   "source": [],
   "cell_type": "markdown",
   "metadata": {}
  }
 ],
 "metadata": {
  "kernelspec": {
   "name": "python3613jvsc74a57bd04eb3f9f1e0d97c0dbfabc98929d6bafe5939ccd0e5b290af3cd2c0dedbb47d37",
   "display_name": "Python 3.6.13 64-bit ('metalhistory': conda)"
  },
  "language_info": {
   "codemirror_mode": {
    "name": "ipython",
    "version": 3
   },
   "file_extension": ".py",
   "mimetype": "text/x-python",
   "name": "python",
   "nbconvert_exporter": "python",
   "pygments_lexer": "ipython3",
   "version": "3.6.13"
  }
 },
 "nbformat": 4,
 "nbformat_minor": 4
}