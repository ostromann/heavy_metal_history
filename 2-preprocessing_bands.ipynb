{
 "cells": [
  {
   "source": [
    "# Data Preprocessing\n",
    "\n",
    "In this notebook, we're demonstrating our data query package implemented in `metalhistory/data_query_api`.\n",
    "The package takes care of the API calls to LastFM and Musicbrainz form which we will obtain information about the albums we're interested in.\n",
    "\n",
    "\n",
    "Start with the imports...\n"
   ],
   "cell_type": "markdown",
   "metadata": {}
  },
  {
   "cell_type": "code",
   "execution_count": 1,
   "metadata": {},
   "outputs": [],
   "source": [
    "import requests\n",
    "import pandas as pd\n",
    "import numpy as np\n",
    "from tqdm.notebook import tqdm\n",
    "import metalhistory.data_query_functions as dqf"
   ]
  },
  {
   "cell_type": "code",
   "execution_count": 2,
   "metadata": {},
   "outputs": [],
   "source": [
    "#Use the pandas extension of tqdm for pretty progress bars\n",
    "tqdm.pandas()"
   ]
  },
  {
   "cell_type": "markdown",
   "metadata": {},
   "source": [
    "# Data Preprocessing\n",
    "Read in a Excel file that has the following structure:\n",
    "\n",
    "|__artist__|__lastfm__|\n",
    "\n",
    "Wherte 'artist' refers to an artist's or band's name."
   ]
  },
  {
   "cell_type": "code",
   "execution_count": 3,
   "metadata": {},
   "outputs": [
    {
     "output_type": "execute_result",
     "data": {
      "text/plain": [
       "                    Band  last.fm\n",
       "0                    311      NaN\n",
       "1                   1349      NaN\n",
       "2      Beyond the Black       NaN\n",
       "3             !T.O.O.H.!      NaN\n",
       "4             (həd) p.e.      NaN\n",
       "...                  ...      ...\n",
       "2464              Zhrine      NaN\n",
       "2465            Znöwhite      NaN\n",
       "2466             Zonaria      NaN\n",
       "2467              Zyklon      NaN\n",
       "2468            Zyklon-B      NaN\n",
       "\n",
       "[2469 rows x 2 columns]"
      ],
      "text/html": "<div>\n<style scoped>\n    .dataframe tbody tr th:only-of-type {\n        vertical-align: middle;\n    }\n\n    .dataframe tbody tr th {\n        vertical-align: top;\n    }\n\n    .dataframe thead th {\n        text-align: right;\n    }\n</style>\n<table border=\"1\" class=\"dataframe\">\n  <thead>\n    <tr style=\"text-align: right;\">\n      <th></th>\n      <th>Band</th>\n      <th>last.fm</th>\n    </tr>\n  </thead>\n  <tbody>\n    <tr>\n      <th>0</th>\n      <td>311</td>\n      <td>NaN</td>\n    </tr>\n    <tr>\n      <th>1</th>\n      <td>1349</td>\n      <td>NaN</td>\n    </tr>\n    <tr>\n      <th>2</th>\n      <td>Beyond the Black</td>\n      <td>NaN</td>\n    </tr>\n    <tr>\n      <th>3</th>\n      <td>!T.O.O.H.!</td>\n      <td>NaN</td>\n    </tr>\n    <tr>\n      <th>4</th>\n      <td>(həd) p.e.</td>\n      <td>NaN</td>\n    </tr>\n    <tr>\n      <th>...</th>\n      <td>...</td>\n      <td>...</td>\n    </tr>\n    <tr>\n      <th>2464</th>\n      <td>Zhrine</td>\n      <td>NaN</td>\n    </tr>\n    <tr>\n      <th>2465</th>\n      <td>Znöwhite</td>\n      <td>NaN</td>\n    </tr>\n    <tr>\n      <th>2466</th>\n      <td>Zonaria</td>\n      <td>NaN</td>\n    </tr>\n    <tr>\n      <th>2467</th>\n      <td>Zyklon</td>\n      <td>NaN</td>\n    </tr>\n    <tr>\n      <th>2468</th>\n      <td>Zyklon-B</td>\n      <td>NaN</td>\n    </tr>\n  </tbody>\n</table>\n<p>2469 rows × 2 columns</p>\n</div>"
     },
     "metadata": {},
     "execution_count": 3
    }
   ],
   "source": [
    "df_csv = pd.read_csv('data/Bands.csv')\n",
    "df_csv"
   ]
  },
  {
   "source": [
    "## Extract artist information from LastFM"
   ],
   "cell_type": "markdown",
   "metadata": {}
  },
  {
   "cell_type": "code",
   "execution_count": 6,
   "metadata": {
    "tags": []
   },
   "outputs": [
    {
     "output_type": "display_data",
     "data": {
      "text/plain": "  0%|          | 0/2469 [00:00<?, ?it/s]",
      "application/vnd.jupyter.widget-view+json": {
       "version_major": 2,
       "version_minor": 0,
       "model_id": "ca691f039233450984be96ccee37432a"
      }
     },
     "metadata": {}
    },
    {
     "output_type": "execute_result",
     "data": {
      "text/plain": [
       "                    Band       lastfm_name   0 listeners playcount\n",
       "0                    311               311 NaN   1090605  22752350\n",
       "1                   1349              1349 NaN    143961   4713270\n",
       "2      Beyond the Black   Beyond the Black NaN     41195   1471650\n",
       "3             !T.O.O.H.!        !T.O.O.H.! NaN     10738    393662\n",
       "4             (həd) p.e.        (həd) p.e. NaN     81382   2760580\n",
       "...                  ...               ...  ..       ...       ...\n",
       "2464              Zhrine            ZHRINE NaN     10823    173940\n",
       "2465            Znöwhite          Znöwhite NaN      5145     95460\n",
       "2466             Zonaria           Zonaria NaN     49338   1144875\n",
       "2467              Zyklon            Zyklon NaN     62048   1370011\n",
       "2468            Zyklon-B          Zyklon-B NaN     14768    123028\n",
       "\n",
       "[2469 rows x 5 columns]"
      ],
      "text/html": "<div>\n<style scoped>\n    .dataframe tbody tr th:only-of-type {\n        vertical-align: middle;\n    }\n\n    .dataframe tbody tr th {\n        vertical-align: top;\n    }\n\n    .dataframe thead th {\n        text-align: right;\n    }\n</style>\n<table border=\"1\" class=\"dataframe\">\n  <thead>\n    <tr style=\"text-align: right;\">\n      <th></th>\n      <th>Band</th>\n      <th>lastfm_name</th>\n      <th>0</th>\n      <th>listeners</th>\n      <th>playcount</th>\n    </tr>\n  </thead>\n  <tbody>\n    <tr>\n      <th>0</th>\n      <td>311</td>\n      <td>311</td>\n      <td>NaN</td>\n      <td>1090605</td>\n      <td>22752350</td>\n    </tr>\n    <tr>\n      <th>1</th>\n      <td>1349</td>\n      <td>1349</td>\n      <td>NaN</td>\n      <td>143961</td>\n      <td>4713270</td>\n    </tr>\n    <tr>\n      <th>2</th>\n      <td>Beyond the Black</td>\n      <td>Beyond the Black</td>\n      <td>NaN</td>\n      <td>41195</td>\n      <td>1471650</td>\n    </tr>\n    <tr>\n      <th>3</th>\n      <td>!T.O.O.H.!</td>\n      <td>!T.O.O.H.!</td>\n      <td>NaN</td>\n      <td>10738</td>\n      <td>393662</td>\n    </tr>\n    <tr>\n      <th>4</th>\n      <td>(həd) p.e.</td>\n      <td>(həd) p.e.</td>\n      <td>NaN</td>\n      <td>81382</td>\n      <td>2760580</td>\n    </tr>\n    <tr>\n      <th>...</th>\n      <td>...</td>\n      <td>...</td>\n      <td>...</td>\n      <td>...</td>\n      <td>...</td>\n    </tr>\n    <tr>\n      <th>2464</th>\n      <td>Zhrine</td>\n      <td>ZHRINE</td>\n      <td>NaN</td>\n      <td>10823</td>\n      <td>173940</td>\n    </tr>\n    <tr>\n      <th>2465</th>\n      <td>Znöwhite</td>\n      <td>Znöwhite</td>\n      <td>NaN</td>\n      <td>5145</td>\n      <td>95460</td>\n    </tr>\n    <tr>\n      <th>2466</th>\n      <td>Zonaria</td>\n      <td>Zonaria</td>\n      <td>NaN</td>\n      <td>49338</td>\n      <td>1144875</td>\n    </tr>\n    <tr>\n      <th>2467</th>\n      <td>Zyklon</td>\n      <td>Zyklon</td>\n      <td>NaN</td>\n      <td>62048</td>\n      <td>1370011</td>\n    </tr>\n    <tr>\n      <th>2468</th>\n      <td>Zyklon-B</td>\n      <td>Zyklon-B</td>\n      <td>NaN</td>\n      <td>14768</td>\n      <td>123028</td>\n    </tr>\n  </tbody>\n</table>\n<p>2469 rows × 5 columns</p>\n</div>"
     },
     "metadata": {},
     "execution_count": 6
    }
   ],
   "source": [
    "lastfm = dqf.LastFM()\n",
    "\n",
    "\n",
    "FIELDS = ['name', 'stats']\n",
    "\n",
    "result_df = df_csv\n",
    "result_df['lastfm_info'] = result_df.progress_apply(lambda row: lastfm.get_artist_info(artist=row['Band'], autocorrect='1', fields=FIELDS), axis=1)\n",
    "\n",
    "lastfm_df = result_df.lastfm_info.apply(pd.Series)\n",
    "result_df = pd.concat([result_df, lastfm_df['name']], axis=1)\n",
    "lastfm_df_stats = lastfm_df.stats.apply(pd.Series)\n",
    "result_df = pd.concat([result_df, lastfm_df_stats], axis=1)\n",
    "\n",
    "# result_df = result_df.set_index(['Band'])\n",
    "result_df = result_df.rename({'name': 'lastfm_name'}, axis=1) \n",
    "result_df = result_df.drop(['last.fm', 'lastfm_info'], axis=1)\n",
    "result_df"
   ]
  },
  {
   "cell_type": "code",
   "execution_count": 8,
   "metadata": {},
   "outputs": [
    {
     "output_type": "execute_result",
     "data": {
      "text/plain": [
       "                    Band       lastfm_name   0 listeners playcount\n",
       "0                    311               311 NaN   1090605  22752350\n",
       "1                   1349              1349 NaN    143961   4713270\n",
       "2      Beyond the Black   Beyond the Black NaN     41195   1471650\n",
       "3             !T.O.O.H.!        !T.O.O.H.! NaN     10738    393662\n",
       "4             (həd) p.e.        (həd) p.e. NaN     81382   2760580\n",
       "...                  ...               ...  ..       ...       ...\n",
       "2464              Zhrine            ZHRINE NaN     10823    173940\n",
       "2465            Znöwhite          Znöwhite NaN      5145     95460\n",
       "2466             Zonaria           Zonaria NaN     49338   1144875\n",
       "2467              Zyklon            Zyklon NaN     62048   1370011\n",
       "2468            Zyklon-B          Zyklon-B NaN     14768    123028\n",
       "\n",
       "[2469 rows x 5 columns]"
      ],
      "text/html": "<div>\n<style scoped>\n    .dataframe tbody tr th:only-of-type {\n        vertical-align: middle;\n    }\n\n    .dataframe tbody tr th {\n        vertical-align: top;\n    }\n\n    .dataframe thead th {\n        text-align: right;\n    }\n</style>\n<table border=\"1\" class=\"dataframe\">\n  <thead>\n    <tr style=\"text-align: right;\">\n      <th></th>\n      <th>Band</th>\n      <th>lastfm_name</th>\n      <th>0</th>\n      <th>listeners</th>\n      <th>playcount</th>\n    </tr>\n  </thead>\n  <tbody>\n    <tr>\n      <th>0</th>\n      <td>311</td>\n      <td>311</td>\n      <td>NaN</td>\n      <td>1090605</td>\n      <td>22752350</td>\n    </tr>\n    <tr>\n      <th>1</th>\n      <td>1349</td>\n      <td>1349</td>\n      <td>NaN</td>\n      <td>143961</td>\n      <td>4713270</td>\n    </tr>\n    <tr>\n      <th>2</th>\n      <td>Beyond the Black</td>\n      <td>Beyond the Black</td>\n      <td>NaN</td>\n      <td>41195</td>\n      <td>1471650</td>\n    </tr>\n    <tr>\n      <th>3</th>\n      <td>!T.O.O.H.!</td>\n      <td>!T.O.O.H.!</td>\n      <td>NaN</td>\n      <td>10738</td>\n      <td>393662</td>\n    </tr>\n    <tr>\n      <th>4</th>\n      <td>(həd) p.e.</td>\n      <td>(həd) p.e.</td>\n      <td>NaN</td>\n      <td>81382</td>\n      <td>2760580</td>\n    </tr>\n    <tr>\n      <th>...</th>\n      <td>...</td>\n      <td>...</td>\n      <td>...</td>\n      <td>...</td>\n      <td>...</td>\n    </tr>\n    <tr>\n      <th>2464</th>\n      <td>Zhrine</td>\n      <td>ZHRINE</td>\n      <td>NaN</td>\n      <td>10823</td>\n      <td>173940</td>\n    </tr>\n    <tr>\n      <th>2465</th>\n      <td>Znöwhite</td>\n      <td>Znöwhite</td>\n      <td>NaN</td>\n      <td>5145</td>\n      <td>95460</td>\n    </tr>\n    <tr>\n      <th>2466</th>\n      <td>Zonaria</td>\n      <td>Zonaria</td>\n      <td>NaN</td>\n      <td>49338</td>\n      <td>1144875</td>\n    </tr>\n    <tr>\n      <th>2467</th>\n      <td>Zyklon</td>\n      <td>Zyklon</td>\n      <td>NaN</td>\n      <td>62048</td>\n      <td>1370011</td>\n    </tr>\n    <tr>\n      <th>2468</th>\n      <td>Zyklon-B</td>\n      <td>Zyklon-B</td>\n      <td>NaN</td>\n      <td>14768</td>\n      <td>123028</td>\n    </tr>\n  </tbody>\n</table>\n<p>2469 rows × 5 columns</p>\n</div>"
     },
     "metadata": {},
     "execution_count": 8
    }
   ],
   "source": [
    "new_df = result_df\n",
    "new_df"
   ]
  },
  {
   "cell_type": "code",
   "execution_count": 13,
   "metadata": {},
   "outputs": [],
   "source": [
    "new_df = new_df.dropna(axis=1, how='all')"
   ]
  },
  {
   "cell_type": "code",
   "execution_count": 14,
   "metadata": {},
   "outputs": [
    {
     "output_type": "execute_result",
     "data": {
      "text/plain": [
       "                    Band       lastfm_name listeners playcount\n",
       "0                    311               311   1090605  22752350\n",
       "1                   1349              1349    143961   4713270\n",
       "2      Beyond the Black   Beyond the Black     41195   1471650\n",
       "3             !T.O.O.H.!        !T.O.O.H.!     10738    393662\n",
       "4             (həd) p.e.        (həd) p.e.     81382   2760580\n",
       "...                  ...               ...       ...       ...\n",
       "2464              Zhrine            ZHRINE     10823    173940\n",
       "2465            Znöwhite          Znöwhite      5145     95460\n",
       "2466             Zonaria           Zonaria     49338   1144875\n",
       "2467              Zyklon            Zyklon     62048   1370011\n",
       "2468            Zyklon-B          Zyklon-B     14768    123028\n",
       "\n",
       "[2469 rows x 4 columns]"
      ],
      "text/html": "<div>\n<style scoped>\n    .dataframe tbody tr th:only-of-type {\n        vertical-align: middle;\n    }\n\n    .dataframe tbody tr th {\n        vertical-align: top;\n    }\n\n    .dataframe thead th {\n        text-align: right;\n    }\n</style>\n<table border=\"1\" class=\"dataframe\">\n  <thead>\n    <tr style=\"text-align: right;\">\n      <th></th>\n      <th>Band</th>\n      <th>lastfm_name</th>\n      <th>listeners</th>\n      <th>playcount</th>\n    </tr>\n  </thead>\n  <tbody>\n    <tr>\n      <th>0</th>\n      <td>311</td>\n      <td>311</td>\n      <td>1090605</td>\n      <td>22752350</td>\n    </tr>\n    <tr>\n      <th>1</th>\n      <td>1349</td>\n      <td>1349</td>\n      <td>143961</td>\n      <td>4713270</td>\n    </tr>\n    <tr>\n      <th>2</th>\n      <td>Beyond the Black</td>\n      <td>Beyond the Black</td>\n      <td>41195</td>\n      <td>1471650</td>\n    </tr>\n    <tr>\n      <th>3</th>\n      <td>!T.O.O.H.!</td>\n      <td>!T.O.O.H.!</td>\n      <td>10738</td>\n      <td>393662</td>\n    </tr>\n    <tr>\n      <th>4</th>\n      <td>(həd) p.e.</td>\n      <td>(həd) p.e.</td>\n      <td>81382</td>\n      <td>2760580</td>\n    </tr>\n    <tr>\n      <th>...</th>\n      <td>...</td>\n      <td>...</td>\n      <td>...</td>\n      <td>...</td>\n    </tr>\n    <tr>\n      <th>2464</th>\n      <td>Zhrine</td>\n      <td>ZHRINE</td>\n      <td>10823</td>\n      <td>173940</td>\n    </tr>\n    <tr>\n      <th>2465</th>\n      <td>Znöwhite</td>\n      <td>Znöwhite</td>\n      <td>5145</td>\n      <td>95460</td>\n    </tr>\n    <tr>\n      <th>2466</th>\n      <td>Zonaria</td>\n      <td>Zonaria</td>\n      <td>49338</td>\n      <td>1144875</td>\n    </tr>\n    <tr>\n      <th>2467</th>\n      <td>Zyklon</td>\n      <td>Zyklon</td>\n      <td>62048</td>\n      <td>1370011</td>\n    </tr>\n    <tr>\n      <th>2468</th>\n      <td>Zyklon-B</td>\n      <td>Zyklon-B</td>\n      <td>14768</td>\n      <td>123028</td>\n    </tr>\n  </tbody>\n</table>\n<p>2469 rows × 4 columns</p>\n</div>"
     },
     "metadata": {},
     "execution_count": 14
    }
   ],
   "source": [
    "new_df"
   ]
  },
  {
   "source": [
    "## Export\n",
    "We can now export the preprocessed dataframe to a csv file."
   ],
   "cell_type": "markdown",
   "metadata": {}
  },
  {
   "cell_type": "code",
   "execution_count": 15,
   "metadata": {},
   "outputs": [],
   "source": [
    "new_df.to_csv('./data/proc_Bands.csv')"
   ]
  },
  {
   "source": [],
   "cell_type": "markdown",
   "metadata": {}
  }
 ],
 "metadata": {
  "kernelspec": {
   "name": "python3613jvsc74a57bd04eb3f9f1e0d97c0dbfabc98929d6bafe5939ccd0e5b290af3cd2c0dedbb47d37",
   "display_name": "Python 3.6.13 64-bit ('metalhistory': conda)"
  },
  "language_info": {
   "codemirror_mode": {
    "name": "ipython",
    "version": 3
   },
   "file_extension": ".py",
   "mimetype": "text/x-python",
   "name": "python",
   "nbconvert_exporter": "python",
   "pygments_lexer": "ipython3",
   "version": "3.6.13"
  }
 },
 "nbformat": 4,
 "nbformat_minor": 4
}