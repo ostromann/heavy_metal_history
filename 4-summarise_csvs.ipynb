{
 "metadata": {
  "language_info": {
   "codemirror_mode": {
    "name": "ipython",
    "version": 3
   },
   "file_extension": ".py",
   "mimetype": "text/x-python",
   "name": "python",
   "nbconvert_exporter": "python",
   "pygments_lexer": "ipython3",
   "version": "3.6.13"
  },
  "orig_nbformat": 2,
  "kernelspec": {
   "name": "python3613jvsc74a57bd04eb3f9f1e0d97c0dbfabc98929d6bafe5939ccd0e5b290af3cd2c0dedbb47d37",
   "display_name": "Python 3.6.13 64-bit ('metalhistory': conda)"
  },
  "metadata": {
   "interpreter": {
    "hash": "767d51c1340bd893661ea55ea3124f6de3c7a262a8b4abca0554b478b1e2ff90"
   }
  }
 },
 "nbformat": 4,
 "nbformat_minor": 2,
 "cells": [
  {
   "source": [
    "# Merge CSVs\n",
    "\n",
    "This notebook merges the CSV files in the BASEDIR folder."
   ],
   "cell_type": "markdown",
   "metadata": {}
  },
  {
   "source": [
    "## Imports"
   ],
   "cell_type": "markdown",
   "metadata": {}
  },
  {
   "cell_type": "code",
   "execution_count": 3,
   "metadata": {},
   "outputs": [],
   "source": [
    "import pandas as pd\n",
    "import os"
   ]
  },
  {
   "source": [
    "## Functions"
   ],
   "cell_type": "markdown",
   "metadata": {}
  },
  {
   "cell_type": "code",
   "execution_count": 4,
   "metadata": {},
   "outputs": [],
   "source": [
    "def get_year(string):\n",
    "    if not isinstance(string, str):\n",
    "        return '9999'\n",
    "    else:\n",
    "        return string.split('-')[0]\n",
    "\n",
    "def get_month(string):\n",
    "    if not isinstance(string, str):\n",
    "        return '99'\n",
    "    if len(string.split('-'))>=2:\n",
    "        return string.split('-')[1]\n",
    "    else:\n",
    "        return '99'\n",
    "\n",
    "def get_day(string):\n",
    "    if not isinstance(string, str):\n",
    "        return '99'\n",
    "    if len(string.split('-'))>=3:\n",
    "        return string.split('-')[2]\n",
    "    else:\n",
    "        return '99'\n"
   ]
  },
  {
   "source": [
    "## Constants"
   ],
   "cell_type": "markdown",
   "metadata": {}
  },
  {
   "cell_type": "code",
   "execution_count": 12,
   "metadata": {},
   "outputs": [],
   "source": [
    "BASEDIR = 'data/processed' # Path to dir of CSV files to merge\n",
    "OUTFILE = 'data/proc_Albums.csv' # Path to output file"
   ]
  },
  {
   "source": [
    "## Merging"
   ],
   "cell_type": "markdown",
   "metadata": {}
  },
  {
   "cell_type": "code",
   "execution_count": 17,
   "metadata": {},
   "outputs": [
    {
     "output_type": "execute_result",
     "data": {
      "text/plain": [
       "                                       Nr.  Jahr  Monat  Tag     MA  \\\n",
       "Band             Album                                                \n",
       "System of a Down Toxicity             7936  2001    9.0    4    NaN   \n",
       "Linkin Park      Meteora              4976  2003    3.0   25    NaN   \n",
       "                 Hybrid Theory        4975  2000   10.0   24    NaN   \n",
       "                 Minutes to Midnight  4977  2007    5.0   14    NaN   \n",
       "Nirvana          Nevermind            5942  1991    9.0   24    NaN   \n",
       "...                                    ...   ...    ...  ...    ...   \n",
       "Ensiferum        Thalassic            3081   NaN    NaN  NaN   6.67   \n",
       "                 Two Paths            3082   NaN    NaN  NaN   3.65   \n",
       "Enslaved         E                    3088   NaN    NaN  NaN    NaN   \n",
       "                 In Times             3092   NaN    NaN  NaN  10.73   \n",
       "                 Utgard               3100   NaN    NaN  NaN   4.79   \n",
       "\n",
       "                                         lastfm_artist  \\\n",
       "Band             Album                                   \n",
       "System of a Down Toxicity             System of a Down   \n",
       "Linkin Park      Meteora                   Linkin Park   \n",
       "                 Hybrid Theory             Linkin Park   \n",
       "                 Minutes to Midnight       Linkin Park   \n",
       "Nirvana          Nevermind                     Nirvana   \n",
       "...                                                ...   \n",
       "Ensiferum        Thalassic                         NaN   \n",
       "                 Two Paths                         NaN   \n",
       "Enslaved         E                                 NaN   \n",
       "                 In Times                          NaN   \n",
       "                 Utgard                            NaN   \n",
       "\n",
       "                                                                           ignored tags  \\\n",
       "Band             Album                                                                    \n",
       "System of a Down Toxicity                             ['albums i own', 'metal', 'rock']   \n",
       "Linkin Park      Meteora              ['albums i own', 'rock', 'linkin park', 'alter...   \n",
       "                 Hybrid Theory        ['albums i own', 'rock', 'linkin park', 'alter...   \n",
       "                 Minutes to Midnight  ['albums i own', 'rock', 'alternative rock', '...   \n",
       "Nirvana          Nevermind               ['albums i own', 'rock', '90s', 'alternative']   \n",
       "...                                                                                 ...   \n",
       "Ensiferum        Thalassic                                                          NaN   \n",
       "                 Two Paths                                                          NaN   \n",
       "Enslaved         E                                                                  NaN   \n",
       "                 In Times                                                           NaN   \n",
       "                 Utgard                                                             NaN   \n",
       "\n",
       "                                      listeners  \\\n",
       "Band             Album                            \n",
       "System of a Down Toxicity             2384094.0   \n",
       "Linkin Park      Meteora              2162873.0   \n",
       "                 Hybrid Theory        1915887.0   \n",
       "                 Minutes to Midnight  1638960.0   \n",
       "Nirvana          Nevermind            2440409.0   \n",
       "...                                         ...   \n",
       "Ensiferum        Thalassic                  NaN   \n",
       "                 Two Paths                  NaN   \n",
       "Enslaved         E                          NaN   \n",
       "                 In Times                   NaN   \n",
       "                 Utgard                     NaN   \n",
       "\n",
       "                                                                      mbid  \\\n",
       "Band             Album                                                       \n",
       "System of a Down Toxicity             b8e92589-8b7c-4d0a-9986-02d129997e04   \n",
       "Linkin Park      Meteora              f3bfd870-0708-46d0-9953-9f5f573fb600   \n",
       "                 Hybrid Theory        f0cd4041-f859-4b97-b563-3b5f33f98d9d   \n",
       "                 Minutes to Midnight  d08a98b7-0c33-40d6-b574-ff0ce1600af7   \n",
       "Nirvana          Nevermind            f7930de3-081a-452a-bafe-f7285a2abb6d   \n",
       "...                                                                    ...   \n",
       "Ensiferum        Thalassic                                             NaN   \n",
       "                 Two Paths                                             NaN   \n",
       "Enslaved         E                                                     NaN   \n",
       "                 In Times                                              NaN   \n",
       "                 Utgard                                                NaN   \n",
       "\n",
       "                                             lastfm_album   playcount  \\\n",
       "Band             Album                                                  \n",
       "System of a Down Toxicity                        Toxicity  64877945.0   \n",
       "Linkin Park      Meteora                          Meteora  57517769.0   \n",
       "                 Hybrid Theory              Hybrid Theory  51008344.0   \n",
       "                 Minutes to Midnight  Minutes to Midnight  46298990.0   \n",
       "Nirvana          Nevermind                      Nevermind  44981006.0   \n",
       "...                                                   ...         ...   \n",
       "Ensiferum        Thalassic                            NaN         NaN   \n",
       "                 Two Paths                            NaN         NaN   \n",
       "Enslaved         E                                    NaN         NaN   \n",
       "                 In Times                             NaN         NaN   \n",
       "                 Utgard                               NaN         NaN   \n",
       "\n",
       "                                                                   tags  \\\n",
       "Band             Album                                                    \n",
       "System of a Down Toxicity             ['alternative metal', 'nu metal']   \n",
       "Linkin Park      Meteora                                   ['nu metal']   \n",
       "                 Hybrid Theory                             ['nu metal']   \n",
       "                 Minutes to Midnight                       ['nu metal']   \n",
       "Nirvana          Nevermind                                   ['grunge']   \n",
       "...                                                                 ...   \n",
       "Ensiferum        Thalassic                                          NaN   \n",
       "                 Two Paths                                          NaN   \n",
       "Enslaved         E                                                  NaN   \n",
       "                 In Times                                           NaN   \n",
       "                 Utgard                                             NaN   \n",
       "\n",
       "                                                                                    url  \\\n",
       "Band             Album                                                                    \n",
       "System of a Down Toxicity             https://www.last.fm/music/System+of+a+Down/Tox...   \n",
       "Linkin Park      Meteora                  https://www.last.fm/music/Linkin+Park/Meteora   \n",
       "                 Hybrid Theory        https://www.last.fm/music/Linkin+Park/Hybrid+T...   \n",
       "                 Minutes to Midnight  https://www.last.fm/music/Linkin+Park/Minutes+...   \n",
       "Nirvana          Nevermind                  https://www.last.fm/music/Nirvana/Nevermind   \n",
       "...                                                                                 ...   \n",
       "Ensiferum        Thalassic                                                          NaN   \n",
       "                 Two Paths                                                          NaN   \n",
       "Enslaved         E                                                                  NaN   \n",
       "                 In Times                                                           NaN   \n",
       "                 Utgard                                                             NaN   \n",
       "\n",
       "                                      year month day  \n",
       "Band             Album                                \n",
       "System of a Down Toxicity             2001    08  27  \n",
       "Linkin Park      Meteora              2003    03  24  \n",
       "                 Hybrid Theory        2000    05  07  \n",
       "                 Minutes to Midnight  2007    05  11  \n",
       "Nirvana          Nevermind            1991    09  23  \n",
       "...                                    ...   ...  ..  \n",
       "Ensiferum        Thalassic            9999    99  99  \n",
       "                 Two Paths            9999    99  99  \n",
       "Enslaved         E                    9999    99  99  \n",
       "                 In Times             9999    99  99  \n",
       "                 Utgard               9999    99  99  \n",
       "\n",
       "[9360 rows x 16 columns]"
      ],
      "text/html": "<div>\n<style scoped>\n    .dataframe tbody tr th:only-of-type {\n        vertical-align: middle;\n    }\n\n    .dataframe tbody tr th {\n        vertical-align: top;\n    }\n\n    .dataframe thead th {\n        text-align: right;\n    }\n</style>\n<table border=\"1\" class=\"dataframe\">\n  <thead>\n    <tr style=\"text-align: right;\">\n      <th></th>\n      <th></th>\n      <th>Nr.</th>\n      <th>Jahr</th>\n      <th>Monat</th>\n      <th>Tag</th>\n      <th>MA</th>\n      <th>lastfm_artist</th>\n      <th>ignored tags</th>\n      <th>listeners</th>\n      <th>mbid</th>\n      <th>lastfm_album</th>\n      <th>playcount</th>\n      <th>tags</th>\n      <th>url</th>\n      <th>year</th>\n      <th>month</th>\n      <th>day</th>\n    </tr>\n    <tr>\n      <th>Band</th>\n      <th>Album</th>\n      <th></th>\n      <th></th>\n      <th></th>\n      <th></th>\n      <th></th>\n      <th></th>\n      <th></th>\n      <th></th>\n      <th></th>\n      <th></th>\n      <th></th>\n      <th></th>\n      <th></th>\n      <th></th>\n      <th></th>\n      <th></th>\n    </tr>\n  </thead>\n  <tbody>\n    <tr>\n      <th>System of a Down</th>\n      <th>Toxicity</th>\n      <td>7936</td>\n      <td>2001</td>\n      <td>9.0</td>\n      <td>4</td>\n      <td>NaN</td>\n      <td>System of a Down</td>\n      <td>['albums i own', 'metal', 'rock']</td>\n      <td>2384094.0</td>\n      <td>b8e92589-8b7c-4d0a-9986-02d129997e04</td>\n      <td>Toxicity</td>\n      <td>64877945.0</td>\n      <td>['alternative metal', 'nu metal']</td>\n      <td>https://www.last.fm/music/System+of+a+Down/Tox...</td>\n      <td>2001</td>\n      <td>08</td>\n      <td>27</td>\n    </tr>\n    <tr>\n      <th rowspan=\"3\" valign=\"top\">Linkin Park</th>\n      <th>Meteora</th>\n      <td>4976</td>\n      <td>2003</td>\n      <td>3.0</td>\n      <td>25</td>\n      <td>NaN</td>\n      <td>Linkin Park</td>\n      <td>['albums i own', 'rock', 'linkin park', 'alter...</td>\n      <td>2162873.0</td>\n      <td>f3bfd870-0708-46d0-9953-9f5f573fb600</td>\n      <td>Meteora</td>\n      <td>57517769.0</td>\n      <td>['nu metal']</td>\n      <td>https://www.last.fm/music/Linkin+Park/Meteora</td>\n      <td>2003</td>\n      <td>03</td>\n      <td>24</td>\n    </tr>\n    <tr>\n      <th>Hybrid Theory</th>\n      <td>4975</td>\n      <td>2000</td>\n      <td>10.0</td>\n      <td>24</td>\n      <td>NaN</td>\n      <td>Linkin Park</td>\n      <td>['albums i own', 'rock', 'linkin park', 'alter...</td>\n      <td>1915887.0</td>\n      <td>f0cd4041-f859-4b97-b563-3b5f33f98d9d</td>\n      <td>Hybrid Theory</td>\n      <td>51008344.0</td>\n      <td>['nu metal']</td>\n      <td>https://www.last.fm/music/Linkin+Park/Hybrid+T...</td>\n      <td>2000</td>\n      <td>05</td>\n      <td>07</td>\n    </tr>\n    <tr>\n      <th>Minutes to Midnight</th>\n      <td>4977</td>\n      <td>2007</td>\n      <td>5.0</td>\n      <td>14</td>\n      <td>NaN</td>\n      <td>Linkin Park</td>\n      <td>['albums i own', 'rock', 'alternative rock', '...</td>\n      <td>1638960.0</td>\n      <td>d08a98b7-0c33-40d6-b574-ff0ce1600af7</td>\n      <td>Minutes to Midnight</td>\n      <td>46298990.0</td>\n      <td>['nu metal']</td>\n      <td>https://www.last.fm/music/Linkin+Park/Minutes+...</td>\n      <td>2007</td>\n      <td>05</td>\n      <td>11</td>\n    </tr>\n    <tr>\n      <th>Nirvana</th>\n      <th>Nevermind</th>\n      <td>5942</td>\n      <td>1991</td>\n      <td>9.0</td>\n      <td>24</td>\n      <td>NaN</td>\n      <td>Nirvana</td>\n      <td>['albums i own', 'rock', '90s', 'alternative']</td>\n      <td>2440409.0</td>\n      <td>f7930de3-081a-452a-bafe-f7285a2abb6d</td>\n      <td>Nevermind</td>\n      <td>44981006.0</td>\n      <td>['grunge']</td>\n      <td>https://www.last.fm/music/Nirvana/Nevermind</td>\n      <td>1991</td>\n      <td>09</td>\n      <td>23</td>\n    </tr>\n    <tr>\n      <th>...</th>\n      <th>...</th>\n      <td>...</td>\n      <td>...</td>\n      <td>...</td>\n      <td>...</td>\n      <td>...</td>\n      <td>...</td>\n      <td>...</td>\n      <td>...</td>\n      <td>...</td>\n      <td>...</td>\n      <td>...</td>\n      <td>...</td>\n      <td>...</td>\n      <td>...</td>\n      <td>...</td>\n      <td>...</td>\n    </tr>\n    <tr>\n      <th rowspan=\"2\" valign=\"top\">Ensiferum</th>\n      <th>Thalassic</th>\n      <td>3081</td>\n      <td>NaN</td>\n      <td>NaN</td>\n      <td>NaN</td>\n      <td>6.67</td>\n      <td>NaN</td>\n      <td>NaN</td>\n      <td>NaN</td>\n      <td>NaN</td>\n      <td>NaN</td>\n      <td>NaN</td>\n      <td>NaN</td>\n      <td>NaN</td>\n      <td>9999</td>\n      <td>99</td>\n      <td>99</td>\n    </tr>\n    <tr>\n      <th>Two Paths</th>\n      <td>3082</td>\n      <td>NaN</td>\n      <td>NaN</td>\n      <td>NaN</td>\n      <td>3.65</td>\n      <td>NaN</td>\n      <td>NaN</td>\n      <td>NaN</td>\n      <td>NaN</td>\n      <td>NaN</td>\n      <td>NaN</td>\n      <td>NaN</td>\n      <td>NaN</td>\n      <td>9999</td>\n      <td>99</td>\n      <td>99</td>\n    </tr>\n    <tr>\n      <th rowspan=\"3\" valign=\"top\">Enslaved</th>\n      <th>E</th>\n      <td>3088</td>\n      <td>NaN</td>\n      <td>NaN</td>\n      <td>NaN</td>\n      <td>NaN</td>\n      <td>NaN</td>\n      <td>NaN</td>\n      <td>NaN</td>\n      <td>NaN</td>\n      <td>NaN</td>\n      <td>NaN</td>\n      <td>NaN</td>\n      <td>NaN</td>\n      <td>9999</td>\n      <td>99</td>\n      <td>99</td>\n    </tr>\n    <tr>\n      <th>In Times</th>\n      <td>3092</td>\n      <td>NaN</td>\n      <td>NaN</td>\n      <td>NaN</td>\n      <td>10.73</td>\n      <td>NaN</td>\n      <td>NaN</td>\n      <td>NaN</td>\n      <td>NaN</td>\n      <td>NaN</td>\n      <td>NaN</td>\n      <td>NaN</td>\n      <td>NaN</td>\n      <td>9999</td>\n      <td>99</td>\n      <td>99</td>\n    </tr>\n    <tr>\n      <th>Utgard</th>\n      <td>3100</td>\n      <td>NaN</td>\n      <td>NaN</td>\n      <td>NaN</td>\n      <td>4.79</td>\n      <td>NaN</td>\n      <td>NaN</td>\n      <td>NaN</td>\n      <td>NaN</td>\n      <td>NaN</td>\n      <td>NaN</td>\n      <td>NaN</td>\n      <td>NaN</td>\n      <td>9999</td>\n      <td>99</td>\n      <td>99</td>\n    </tr>\n  </tbody>\n</table>\n<p>9360 rows × 16 columns</p>\n</div>"
     },
     "metadata": {},
     "execution_count": 17
    }
   ],
   "source": [
    "dfs = []\n",
    "for f in os.listdir(BASEDIR):\n",
    "    dfs.append(pd.read_csv(os.path.join(BASEDIR,f)))\n",
    "\n",
    "result_df = pd.concat(dfs)\n",
    "\n",
    "# Renaming of some columns\n",
    "result_df = result_df.rename({'name': 'lastfm_album', 'artist': 'lastfm_artist'}, axis=1) \n",
    "\n",
    "# Setting index, sorting, dropping unnecessary columns\n",
    "result_df = result_df.drop(['Unnamed: 0'], axis=1)\n",
    "result_df = result_df.set_index(['Band', 'Album']).sort_values('playcount', ascending=False).drop(['0', 'image'], axis=1)\n",
    "\n",
    "# Process release dates\n",
    "result_df['year'] = result_df.apply(lambda row: get_year(row['release-date']), axis=1)\n",
    "result_df['month'] = result_df.apply(lambda row: get_month(row['release-date']), axis=1)\n",
    "result_df['day'] = result_df.apply(lambda row: get_day(row['release-date']), axis=1)\n",
    "result_df = result_df.drop(['release-date'], axis=1)\n",
    "\n",
    "# Preview DataFrame\n",
    "result_df"
   ]
  },
  {
   "cell_type": "code",
   "execution_count": 24,
   "metadata": {},
   "outputs": [],
   "source": [
    "result_df = result_df[['lastfm_artist', 'lastfm_album', 'Jahr', 'Monat', 'Tag', 'year', 'month','day', 'listeners', 'playcount', 'tags', 'ignored tags', 'mbid', 'url']]"
   ]
  },
  {
   "cell_type": "code",
   "execution_count": 25,
   "metadata": {},
   "outputs": [],
   "source": [
    "result_df.to_csv(OUTFILE)"
   ]
  },
  {
   "cell_type": "code",
   "execution_count": null,
   "metadata": {},
   "outputs": [],
   "source": []
  },
  {
   "cell_type": "code",
   "execution_count": null,
   "metadata": {},
   "outputs": [],
   "source": []
  }
 ]
}