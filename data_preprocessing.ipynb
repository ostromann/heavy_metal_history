{
 "cells": [
  {
   "source": [
    "# Imports and Constants\n",
    "\n",
    "An API key must be given. Registration required first."
   ],
   "cell_type": "markdown",
   "metadata": {}
  },
  {
   "cell_type": "code",
   "execution_count": 1,
   "metadata": {},
   "outputs": [],
   "source": [
    "%load_ext autoreload"
   ]
  },
  {
   "cell_type": "code",
   "execution_count": 2,
   "metadata": {},
   "outputs": [],
   "source": [
    "%autoreload 2\n",
    "import requests\n",
    "import pandas as pd\n",
    "import numpy as np\n",
    "\n",
    "from datetime import datetime\n",
    "from dateutil import parser\n",
    "\n",
    "from dotenv import load_dotenv\n",
    "\n",
    "from tqdm import tqdm, tqdm_notebook\n",
    "\n",
    "# import metalhistory as mh\n",
    "import metalhistory.data_query_functions as dqf"
   ]
  },
  {
   "cell_type": "code",
   "execution_count": 3,
   "metadata": {},
   "outputs": [],
   "source": [
    "tqdm.pandas()"
   ]
  },
  {
   "source": [
    "# For devs: Overview of functions\n",
    "These functions from utils.py work (untested) so far:"
   ],
   "cell_type": "markdown",
   "metadata": {}
  },
  {
   "cell_type": "code",
   "execution_count": 4,
   "metadata": {},
   "outputs": [
    {
     "output_type": "stream",
     "name": "stdout",
     "text": [
      "Generated API Request: http://ws.audioscrobbler.com/2.0/?&api_key=2e171c2f29c3f9b0258954e2edb289c3&method=album.getinfo&artist=Death&album=Symbolic&format=json\n"
     ]
    },
    {
     "output_type": "execute_result",
     "data": {
      "text/plain": [
       "{'name': 'Symbolic',\n",
       " 'artist': 'Death',\n",
       " 'mbid': '321a3c33-9310-4b9f-b104-762e465ec60f',\n",
       " 'url': 'https://www.last.fm/music/Death/Symbolic',\n",
       " 'image': [{'#text': 'https://lastfm.freetls.fastly.net/i/u/34s/459b51d39e5447e8c7f86ea0a8b34487.png',\n",
       "   'size': 'small'},\n",
       "  {'#text': 'https://lastfm.freetls.fastly.net/i/u/64s/459b51d39e5447e8c7f86ea0a8b34487.png',\n",
       "   'size': 'medium'},\n",
       "  {'#text': 'https://lastfm.freetls.fastly.net/i/u/174s/459b51d39e5447e8c7f86ea0a8b34487.png',\n",
       "   'size': 'large'},\n",
       "  {'#text': 'https://lastfm.freetls.fastly.net/i/u/300x300/459b51d39e5447e8c7f86ea0a8b34487.png',\n",
       "   'size': 'extralarge'},\n",
       "  {'#text': 'https://lastfm.freetls.fastly.net/i/u/300x300/459b51d39e5447e8c7f86ea0a8b34487.png',\n",
       "   'size': 'mega'},\n",
       "  {'#text': 'https://lastfm.freetls.fastly.net/i/u/300x300/459b51d39e5447e8c7f86ea0a8b34487.png',\n",
       "   'size': ''}],\n",
       " 'listeners': '180443',\n",
       " 'playcount': '5710284',\n",
       " 'tracks': {'track': [{'name': 'Symbolic',\n",
       "    'url': 'https://www.last.fm/music/Death/_/Symbolic',\n",
       "    'duration': '393',\n",
       "    '@attr': {'rank': '1'},\n",
       "    'streamable': {'#text': '0', 'fulltrack': '0'},\n",
       "    'artist': {'name': 'Death',\n",
       "     'mbid': 'fbff9a95-e3f5-47ca-a747-e38e35b31fd8',\n",
       "     'url': 'https://www.last.fm/music/Death'}},\n",
       "   {'name': 'Zero Tolerance',\n",
       "    'url': 'https://www.last.fm/music/Death/_/Zero+Tolerance',\n",
       "    'duration': '302',\n",
       "    '@attr': {'rank': '2'},\n",
       "    'streamable': {'#text': '0', 'fulltrack': '0'},\n",
       "    'artist': {'name': 'Death',\n",
       "     'mbid': 'fbff9a95-e3f5-47ca-a747-e38e35b31fd8',\n",
       "     'url': 'https://www.last.fm/music/Death'}},\n",
       "   {'name': 'Empty Words',\n",
       "    'url': 'https://www.last.fm/music/Death/_/Empty+Words',\n",
       "    'duration': '382',\n",
       "    '@attr': {'rank': '3'},\n",
       "    'streamable': {'#text': '0', 'fulltrack': '0'},\n",
       "    'artist': {'name': 'Death',\n",
       "     'mbid': 'fbff9a95-e3f5-47ca-a747-e38e35b31fd8',\n",
       "     'url': 'https://www.last.fm/music/Death'}},\n",
       "   {'name': 'Sacred Serenity',\n",
       "    'url': 'https://www.last.fm/music/Death/_/Sacred+Serenity',\n",
       "    'duration': '267',\n",
       "    '@attr': {'rank': '4'},\n",
       "    'streamable': {'#text': '0', 'fulltrack': '0'},\n",
       "    'artist': {'name': 'Death',\n",
       "     'mbid': 'fbff9a95-e3f5-47ca-a747-e38e35b31fd8',\n",
       "     'url': 'https://www.last.fm/music/Death'}},\n",
       "   {'name': '1,000 Eyes',\n",
       "    'url': 'https://www.last.fm/music/Death/_/1,000+Eyes',\n",
       "    'duration': '268',\n",
       "    '@attr': {'rank': '5'},\n",
       "    'streamable': {'#text': '0', 'fulltrack': '0'},\n",
       "    'artist': {'name': 'Death',\n",
       "     'mbid': 'fbff9a95-e3f5-47ca-a747-e38e35b31fd8',\n",
       "     'url': 'https://www.last.fm/music/Death'}},\n",
       "   {'name': 'Without Judgement',\n",
       "    'url': 'https://www.last.fm/music/Death/_/Without+Judgement',\n",
       "    'duration': '328',\n",
       "    '@attr': {'rank': '6'},\n",
       "    'streamable': {'#text': '0', 'fulltrack': '0'},\n",
       "    'artist': {'name': 'Death',\n",
       "     'mbid': 'fbff9a95-e3f5-47ca-a747-e38e35b31fd8',\n",
       "     'url': 'https://www.last.fm/music/Death'}},\n",
       "   {'name': 'Crystal Mountain',\n",
       "    'url': 'https://www.last.fm/music/Death/_/Crystal+Mountain',\n",
       "    'duration': '307',\n",
       "    '@attr': {'rank': '7'},\n",
       "    'streamable': {'#text': '0', 'fulltrack': '0'},\n",
       "    'artist': {'name': 'Death',\n",
       "     'mbid': 'fbff9a95-e3f5-47ca-a747-e38e35b31fd8',\n",
       "     'url': 'https://www.last.fm/music/Death'}},\n",
       "   {'name': 'Misanthrope',\n",
       "    'url': 'https://www.last.fm/music/Death/_/Misanthrope',\n",
       "    'duration': '303',\n",
       "    '@attr': {'rank': '8'},\n",
       "    'streamable': {'#text': '0', 'fulltrack': '0'},\n",
       "    'artist': {'name': 'Death',\n",
       "     'mbid': 'fbff9a95-e3f5-47ca-a747-e38e35b31fd8',\n",
       "     'url': 'https://www.last.fm/music/Death'}},\n",
       "   {'name': 'Perennial Quest',\n",
       "    'url': 'https://www.last.fm/music/Death/_/Perennial+Quest',\n",
       "    'duration': '501',\n",
       "    '@attr': {'rank': '9'},\n",
       "    'streamable': {'#text': '0', 'fulltrack': '0'},\n",
       "    'artist': {'name': 'Death',\n",
       "     'mbid': 'fbff9a95-e3f5-47ca-a747-e38e35b31fd8',\n",
       "     'url': 'https://www.last.fm/music/Death'}}]},\n",
       " 'tags': {'tag': [{'name': 'death metal',\n",
       "    'url': 'https://www.last.fm/tag/death+metal'},\n",
       "   {'name': 'progressive death metal',\n",
       "    'url': 'https://www.last.fm/tag/progressive+death+metal'},\n",
       "   {'name': 'Technical Death Metal',\n",
       "    'url': 'https://www.last.fm/tag/Technical+Death+Metal'},\n",
       "   {'name': 'albums I own', 'url': 'https://www.last.fm/tag/albums+I+own'},\n",
       "   {'name': 'metal', 'url': 'https://www.last.fm/tag/metal'}]},\n",
       " 'wiki': {'published': '25 Jan 2012, 21:55',\n",
       "  'summary': 'Symbolic is the sixth album by American death metal band Death. The album was released on March 21, 1995 through Roadrunner Records. The album was remastered and reissued on April 1, 2008 with five bonus tracks.\\n\\nLike its predecessors, the album is progressive and technically advanced. It also has higher production values than previous albums, with considerably less static on its overall sound. It is notable that the average song length on this album is around five minutes <a href=\"http://www.last.fm/music/Death/Symbolic\">Read more on Last.fm</a>.',\n",
       "  'content': 'Symbolic is the sixth album by American death metal band Death. The album was released on March 21, 1995 through Roadrunner Records. The album was remastered and reissued on April 1, 2008 with five bonus tracks.\\n\\nLike its predecessors, the album is progressive and technically advanced. It also has higher production values than previous albums, with considerably less static on its overall sound. It is notable that the average song length on this album is around five minutes, while it was around four minutes on Human and Individual Thought Patterns, perhaps due to slowed down song tempos closer to that of traditional death metal. It was also the first album to feature Kelly Conlon on bass. Chuck Schuldiner\\'s growl also became noticeably higher on this release, which continued with their next (and last) studio album The Sound of Perseverance and culminated with their cover of Judas Priest\\'s \"Painkiller\".\\n\\nNo video was released for the album, but \"Empty Words\" was released as a single.\\n\\n\"Symbolic\" was covered by Scariot on their album Momentum Shift, and \"Crystal Mountain\" by Epica on their single \"Quietus (Silent Reverie)\".\\n\\nMetal-Rules.com ranks the album as the 7th greatest extreme metal album and the 58th greatest heavy metal album of all time. <a href=\"http://www.last.fm/music/Death/Symbolic\">Read more on Last.fm</a>. User-contributed text is available under the Creative Commons By-SA License; additional terms may apply.'}}"
      ]
     },
     "metadata": {},
     "execution_count": 4
    }
   ],
   "source": [
    "lastfm = dqf.LastFM()\n",
    "lastfm.get_album_info('Death', 'Symbolic', verbose=1)\n",
    "# lastfm.get_album_matches('Burzum', 'Filosofem',  verbose=1)\n",
    "# lastfm.get_track_info('Black Sabbath', 'Paranoid', 'War Pigs', verbose=1)"
   ]
  },
  {
   "source": [
    "# Data Preprocessing"
   ],
   "cell_type": "markdown",
   "metadata": {}
  },
  {
   "cell_type": "code",
   "execution_count": 5,
   "metadata": {},
   "outputs": [
    {
     "output_type": "execute_result",
     "data": {
      "text/plain": [
       "                   artist                album  MA_score\n",
       "0                  Slayer       Reign in Blood     36.01\n",
       "1               Metallica         Kill 'Em All     33.39\n",
       "2            Hades Archer          Penis Metal     32.67\n",
       "3             Iron Maiden          Iron Maiden     32.38\n",
       "4               Metallica    Master of Puppets     31.83\n",
       "...                   ...                  ...       ...\n",
       "9995          Iron Maiden  Live at the Rainbow      1.92\n",
       "9996                 Jorn         Worldchanger      1.92\n",
       "9997           Juggernaut       Trouble Within      1.92\n",
       "9998  Lacrimas Profundere           Memorandum      1.92\n",
       "9999        Light Bringer   Scenes of Infinity      1.92\n",
       "\n",
       "[10000 rows x 3 columns]"
      ],
      "text/html": "<div>\n<style scoped>\n    .dataframe tbody tr th:only-of-type {\n        vertical-align: middle;\n    }\n\n    .dataframe tbody tr th {\n        vertical-align: top;\n    }\n\n    .dataframe thead th {\n        text-align: right;\n    }\n</style>\n<table border=\"1\" class=\"dataframe\">\n  <thead>\n    <tr style=\"text-align: right;\">\n      <th></th>\n      <th>artist</th>\n      <th>album</th>\n      <th>MA_score</th>\n    </tr>\n  </thead>\n  <tbody>\n    <tr>\n      <th>0</th>\n      <td>Slayer</td>\n      <td>Reign in Blood</td>\n      <td>36.01</td>\n    </tr>\n    <tr>\n      <th>1</th>\n      <td>Metallica</td>\n      <td>Kill 'Em All</td>\n      <td>33.39</td>\n    </tr>\n    <tr>\n      <th>2</th>\n      <td>Hades Archer</td>\n      <td>Penis Metal</td>\n      <td>32.67</td>\n    </tr>\n    <tr>\n      <th>3</th>\n      <td>Iron Maiden</td>\n      <td>Iron Maiden</td>\n      <td>32.38</td>\n    </tr>\n    <tr>\n      <th>4</th>\n      <td>Metallica</td>\n      <td>Master of Puppets</td>\n      <td>31.83</td>\n    </tr>\n    <tr>\n      <th>...</th>\n      <td>...</td>\n      <td>...</td>\n      <td>...</td>\n    </tr>\n    <tr>\n      <th>9995</th>\n      <td>Iron Maiden</td>\n      <td>Live at the Rainbow</td>\n      <td>1.92</td>\n    </tr>\n    <tr>\n      <th>9996</th>\n      <td>Jorn</td>\n      <td>Worldchanger</td>\n      <td>1.92</td>\n    </tr>\n    <tr>\n      <th>9997</th>\n      <td>Juggernaut</td>\n      <td>Trouble Within</td>\n      <td>1.92</td>\n    </tr>\n    <tr>\n      <th>9998</th>\n      <td>Lacrimas Profundere</td>\n      <td>Memorandum</td>\n      <td>1.92</td>\n    </tr>\n    <tr>\n      <th>9999</th>\n      <td>Light Bringer</td>\n      <td>Scenes of Infinity</td>\n      <td>1.92</td>\n    </tr>\n  </tbody>\n</table>\n<p>10000 rows × 3 columns</p>\n</div>"
     },
     "metadata": {},
     "execution_count": 5
    }
   ],
   "source": [
    "df_csv = pd.read_csv('data/MA_10k_albums.csv')\n",
    "# df_csv = df_csv.dropna(axis=0)\n",
    "df_csv"
   ]
  },
  {
   "source": [
    "## Collected all instances of an album"
   ],
   "cell_type": "markdown",
   "metadata": {}
  },
  {
   "cell_type": "code",
   "execution_count": 10,
   "metadata": {
    "tags": []
   },
   "outputs": [
    {
     "output_type": "display_data",
     "data": {
      "text/plain": "artists:   0%|          | 0/37 [00:00<?, ?it/s]",
      "application/vnd.jupyter.widget-view+json": {
       "version_major": 2,
       "version_minor": 0,
       "model_id": "74a76aca6bc64630a86915928cb8af2a"
      }
     },
     "metadata": {}
    },
    {
     "output_type": "stream",
     "name": "stdout",
     "text": [
      "0 : Querying for Slayer - Reign in Blood\n"
     ]
    },
    {
     "output_type": "display_data",
     "data": {
      "text/plain": "album matches:   0%|          | 0/50 [00:00<?, ?it/s]",
      "application/vnd.jupyter.widget-view+json": {
       "version_major": 2,
       "version_minor": 0,
       "model_id": "8f609d02ae684e75a562e9bec681692c"
      }
     },
     "metadata": {}
    },
    {
     "output_type": "stream",
     "name": "stdout",
     "text": [
      "Kept 44 out of 50 matches for Slayer - Reign in Blood\n\n1 : Querying for Metallica - Kill 'Em All\n"
     ]
    },
    {
     "output_type": "display_data",
     "data": {
      "text/plain": "album matches:   0%|          | 0/50 [00:00<?, ?it/s]",
      "application/vnd.jupyter.widget-view+json": {
       "version_major": 2,
       "version_minor": 0,
       "model_id": "e60ded916dbd4bdaa0edf829f6a1d803"
      }
     },
     "metadata": {}
    },
    {
     "output_type": "stream",
     "name": "stdout",
     "text": [
      "Kept 29 out of 50 matches for Metallica - Kill 'Em All\n\n2 : Querying for Hades Archer - Penis Metal\n"
     ]
    },
    {
     "output_type": "display_data",
     "data": {
      "text/plain": "album matches:   0%|          | 0/21 [00:00<?, ?it/s]",
      "application/vnd.jupyter.widget-view+json": {
       "version_major": 2,
       "version_minor": 0,
       "model_id": "a823ae4778a94342a6da7818e4284ab3"
      }
     },
     "metadata": {}
    },
    {
     "output_type": "stream",
     "name": "stdout",
     "text": [
      "Kept 7 out of 21 matches for Hades Archer - Penis Metal\n\n3 : Querying for Iron Maiden - Iron Maiden\n"
     ]
    },
    {
     "output_type": "display_data",
     "data": {
      "text/plain": "album matches:   0%|          | 0/50 [00:00<?, ?it/s]",
      "application/vnd.jupyter.widget-view+json": {
       "version_major": 2,
       "version_minor": 0,
       "model_id": "a6600b10f30841a1a6601b6601effeaf"
      }
     },
     "metadata": {}
    },
    {
     "output_type": "stream",
     "name": "stdout",
     "text": [
      "Kept 50 out of 50 matches for Iron Maiden - Iron Maiden\n\n4 : Querying for Metallica - Master of Puppets\n"
     ]
    },
    {
     "output_type": "display_data",
     "data": {
      "text/plain": "album matches:   0%|          | 0/50 [00:00<?, ?it/s]",
      "application/vnd.jupyter.widget-view+json": {
       "version_major": 2,
       "version_minor": 0,
       "model_id": "659b7af44df9452b8a78a8be565fb31e"
      }
     },
     "metadata": {}
    },
    {
     "output_type": "stream",
     "name": "stdout",
     "text": [
      "Kept 35 out of 50 matches for Metallica - Master of Puppets\n\n5 : Querying for Iron Maiden - The Number of the Beast\n"
     ]
    },
    {
     "output_type": "display_data",
     "data": {
      "text/plain": "album matches:   0%|          | 0/50 [00:00<?, ?it/s]",
      "application/vnd.jupyter.widget-view+json": {
       "version_major": 2,
       "version_minor": 0,
       "model_id": "f9e120c8aa8c418fb9a2c2db1ba9e950"
      }
     },
     "metadata": {}
    },
    {
     "output_type": "stream",
     "name": "stdout",
     "text": [
      "Kept 41 out of 50 matches for Iron Maiden - The Number of the Beast\n\n6 : Querying for Megadeth - Rust in Peace\n"
     ]
    },
    {
     "output_type": "display_data",
     "data": {
      "text/plain": "album matches:   0%|          | 0/50 [00:00<?, ?it/s]",
      "application/vnd.jupyter.widget-view+json": {
       "version_major": 2,
       "version_minor": 0,
       "model_id": "3b58ff5e3567408fb2418acfe80c071b"
      }
     },
     "metadata": {}
    },
    {
     "output_type": "stream",
     "name": "stdout",
     "text": [
      "Kept 47 out of 50 matches for Megadeth - Rust in Peace\n\n7 : Querying for Agalloch - The Mantle\n"
     ]
    },
    {
     "output_type": "display_data",
     "data": {
      "text/plain": "album matches:   0%|          | 0/50 [00:00<?, ?it/s]",
      "application/vnd.jupyter.widget-view+json": {
       "version_major": 2,
       "version_minor": 0,
       "model_id": "cfee907309c34e0aa06c9b45e14301e6"
      }
     },
     "metadata": {}
    },
    {
     "output_type": "stream",
     "name": "stdout",
     "text": [
      "Kept 11 out of 50 matches for Agalloch - The Mantle\n\n8 : Querying for Metallica - Ride the Lightning\n"
     ]
    },
    {
     "output_type": "display_data",
     "data": {
      "text/plain": "album matches:   0%|          | 0/50 [00:00<?, ?it/s]",
      "application/vnd.jupyter.widget-view+json": {
       "version_major": 2,
       "version_minor": 0,
       "model_id": "640b1e0af4f54dcbbf36dee3a949d96e"
      }
     },
     "metadata": {}
    },
    {
     "output_type": "stream",
     "name": "stdout",
     "text": [
      "Kept 40 out of 50 matches for Metallica - Ride the Lightning\n\n9 : Querying for Black Sabbath - Paranoid\n"
     ]
    },
    {
     "output_type": "display_data",
     "data": {
      "text/plain": "album matches:   0%|          | 0/50 [00:00<?, ?it/s]",
      "application/vnd.jupyter.widget-view+json": {
       "version_major": 2,
       "version_minor": 0,
       "model_id": "27731a91535148d9bb31f6445dcef76a"
      }
     },
     "metadata": {}
    },
    {
     "output_type": "stream",
     "name": "stdout",
     "text": [
      "Kept 17 out of 50 matches for Black Sabbath - Paranoid\n\n10 : Querying for Morbid Angel - Altars of Madness\n"
     ]
    },
    {
     "output_type": "display_data",
     "data": {
      "text/plain": "album matches:   0%|          | 0/50 [00:00<?, ?it/s]",
      "application/vnd.jupyter.widget-view+json": {
       "version_major": 2,
       "version_minor": 0,
       "model_id": "d4cf361844f941cf983ed00eeaaef085"
      }
     },
     "metadata": {}
    },
    {
     "output_type": "stream",
     "name": "stdout",
     "text": [
      "Kept 45 out of 50 matches for Morbid Angel - Altars of Madness\n\n11 : Querying for Burzum - Hvis lyset tar oss\n"
     ]
    },
    {
     "output_type": "display_data",
     "data": {
      "text/plain": "album matches:   0%|          | 0/49 [00:00<?, ?it/s]",
      "application/vnd.jupyter.widget-view+json": {
       "version_major": 2,
       "version_minor": 0,
       "model_id": "c81de40d68c64dd7b7e7945dac056be8"
      }
     },
     "metadata": {}
    },
    {
     "output_type": "stream",
     "name": "stdout",
     "text": [
      "Kept 39 out of 49 matches for Burzum - Hvis lyset tar oss\n\n12 : Querying for Burzum - Filosofem\n"
     ]
    },
    {
     "output_type": "display_data",
     "data": {
      "text/plain": "album matches:   0%|          | 0/50 [00:00<?, ?it/s]",
      "application/vnd.jupyter.widget-view+json": {
       "version_major": 2,
       "version_minor": 0,
       "model_id": "db743ca1e1384b85bc3c7894a99ab146"
      }
     },
     "metadata": {}
    },
    {
     "output_type": "stream",
     "name": "stdout",
     "text": [
      "Kept 17 out of 50 matches for Burzum - Filosofem\n\n13 : Querying for Death - Symbolic\n"
     ]
    },
    {
     "output_type": "display_data",
     "data": {
      "text/plain": "album matches:   0%|          | 0/50 [00:00<?, ?it/s]",
      "application/vnd.jupyter.widget-view+json": {
       "version_major": 2,
       "version_minor": 0,
       "model_id": "bdddaf0212a043af915b82a3fdf5b7a0"
      }
     },
     "metadata": {}
    },
    {
     "output_type": "stream",
     "name": "stdout",
     "text": [
      "Kept 24 out of 50 matches for Death - Symbolic\n\n14 : Querying for Dissection - Storm of the Light's Bane\n"
     ]
    },
    {
     "output_type": "display_data",
     "data": {
      "text/plain": "album matches:   0%|          | 0/50 [00:00<?, ?it/s]",
      "application/vnd.jupyter.widget-view+json": {
       "version_major": 2,
       "version_minor": 0,
       "model_id": "32df3994e6d44e969c8a046e7246d98e"
      }
     },
     "metadata": {}
    },
    {
     "output_type": "stream",
     "name": "stdout",
     "text": [
      "Kept 49 out of 50 matches for Dissection - Storm of the Light's Bane\n\n15 : Querying for Metallica - ...and Justice for All\n"
     ]
    },
    {
     "output_type": "display_data",
     "data": {
      "text/plain": "album matches:   0%|          | 0/50 [00:00<?, ?it/s]",
      "application/vnd.jupyter.widget-view+json": {
       "version_major": 2,
       "version_minor": 0,
       "model_id": "7349481827a64b75aee04e0cd043f4c1"
      }
     },
     "metadata": {}
    },
    {
     "output_type": "stream",
     "name": "stdout",
     "text": [
      "Kept 41 out of 50 matches for Metallica - ...and Justice for All\n\n16 : Querying for Iron Maiden - Powerslave\n"
     ]
    },
    {
     "output_type": "display_data",
     "data": {
      "text/plain": "album matches:   0%|          | 0/50 [00:00<?, ?it/s]",
      "application/vnd.jupyter.widget-view+json": {
       "version_major": 2,
       "version_minor": 0,
       "model_id": "1f027284333249a8be04202b4d1525ae"
      }
     },
     "metadata": {}
    },
    {
     "output_type": "stream",
     "name": "stdout",
     "text": [
      "Kept 40 out of 50 matches for Iron Maiden - Powerslave\n\n17 : Querying for Sepultura - Beneath the Remains\n"
     ]
    },
    {
     "output_type": "display_data",
     "data": {
      "text/plain": "album matches:   0%|          | 0/50 [00:00<?, ?it/s]",
      "application/vnd.jupyter.widget-view+json": {
       "version_major": 2,
       "version_minor": 0,
       "model_id": "828be21367a54c22a9a7b661207df8d5"
      }
     },
     "metadata": {}
    },
    {
     "output_type": "stream",
     "name": "stdout",
     "text": [
      "Kept 41 out of 50 matches for Sepultura - Beneath the Remains\n\n18 : Querying for Megadeth - Dystopia\n"
     ]
    },
    {
     "output_type": "display_data",
     "data": {
      "text/plain": "album matches:   0%|          | 0/50 [00:00<?, ?it/s]",
      "application/vnd.jupyter.widget-view+json": {
       "version_major": 2,
       "version_minor": 0,
       "model_id": "97d6c480ac714d47b59dbcebb8494c49"
      }
     },
     "metadata": {}
    },
    {
     "output_type": "stream",
     "name": "stdout",
     "text": [
      "Kept 1 out of 50 matches for Megadeth - Dystopia\n\n19 : Querying for Black Sabbath - Black Sabbath\n"
     ]
    },
    {
     "output_type": "display_data",
     "data": {
      "text/plain": "album matches:   0%|          | 0/50 [00:00<?, ?it/s]",
      "application/vnd.jupyter.widget-view+json": {
       "version_major": 2,
       "version_minor": 0,
       "model_id": "c9c7ae9c29124321bb26f32212d49fcf"
      }
     },
     "metadata": {}
    },
    {
     "output_type": "stream",
     "name": "stdout",
     "text": [
      "Kept 50 out of 50 matches for Black Sabbath - Black Sabbath\n\n20 : Querying for Sodom - Agent Orange\n"
     ]
    },
    {
     "output_type": "display_data",
     "data": {
      "text/plain": "album matches:   0%|          | 0/50 [00:00<?, ?it/s]",
      "application/vnd.jupyter.widget-view+json": {
       "version_major": 2,
       "version_minor": 0,
       "model_id": "95d8cedaccab4464aa9ce7db60e4d160"
      }
     },
     "metadata": {}
    },
    {
     "output_type": "stream",
     "name": "stdout",
     "text": [
      "Kept 11 out of 50 matches for Sodom - Agent Orange\n\n21 : Querying for Death - Scream Bloody Gore\n"
     ]
    },
    {
     "output_type": "display_data",
     "data": {
      "text/plain": "album matches:   0%|          | 0/50 [00:00<?, ?it/s]",
      "application/vnd.jupyter.widget-view+json": {
       "version_major": 2,
       "version_minor": 0,
       "model_id": "5436abf862d34c69aff1b11a10db2398"
      }
     },
     "metadata": {}
    },
    {
     "output_type": "stream",
     "name": "stdout",
     "text": [
      "Kept 49 out of 50 matches for Death - Scream Bloody Gore\n\n22 : Querying for Wintersun - Time I\n"
     ]
    },
    {
     "output_type": "display_data",
     "data": {
      "text/plain": "album matches:   0%|          | 0/50 [00:00<?, ?it/s]",
      "application/vnd.jupyter.widget-view+json": {
       "version_major": 2,
       "version_minor": 0,
       "model_id": "42dcda9124254c7eaea0ccaf2875918c"
      }
     },
     "metadata": {}
    },
    {
     "output_type": "stream",
     "name": "stdout",
     "text": [
      "Kept 1 out of 50 matches for Wintersun - Time I\n\n23 : Querying for Black Sabbath - 13\n"
     ]
    },
    {
     "output_type": "display_data",
     "data": {
      "text/plain": "album matches:   0%|          | 0/50 [00:00<?, ?it/s]",
      "application/vnd.jupyter.widget-view+json": {
       "version_major": 2,
       "version_minor": 0,
       "model_id": "539404b58c2341d5b28c75acf91e7532"
      }
     },
     "metadata": {}
    },
    {
     "output_type": "stream",
     "name": "stdout",
     "text": [
      "Kept 2 out of 50 matches for Black Sabbath - 13\n\n24 : Querying for Megadeth - Countdown to Extinction\n"
     ]
    },
    {
     "output_type": "display_data",
     "data": {
      "text/plain": "album matches:   0%|          | 0/50 [00:00<?, ?it/s]",
      "application/vnd.jupyter.widget-view+json": {
       "version_major": 2,
       "version_minor": 0,
       "model_id": "bd4114118e45470fb72f85099567dac7"
      }
     },
     "metadata": {}
    },
    {
     "output_type": "stream",
     "name": "stdout",
     "text": [
      "Kept 48 out of 50 matches for Megadeth - Countdown to Extinction\n\n25 : Querying for Judas Priest - Painkiller\n"
     ]
    },
    {
     "output_type": "display_data",
     "data": {
      "text/plain": "album matches:   0%|          | 0/50 [00:00<?, ?it/s]",
      "application/vnd.jupyter.widget-view+json": {
       "version_major": 2,
       "version_minor": 0,
       "model_id": "9ae71129ea634501b6fea38f418a600d"
      }
     },
     "metadata": {}
    },
    {
     "output_type": "stream",
     "name": "stdout",
     "text": [
      "Kept 7 out of 50 matches for Judas Priest - Painkiller\n\n26 : Querying for Dark Angel - Darkness Descends\n"
     ]
    },
    {
     "output_type": "display_data",
     "data": {
      "text/plain": "album matches:   0%|          | 0/50 [00:00<?, ?it/s]",
      "application/vnd.jupyter.widget-view+json": {
       "version_major": 2,
       "version_minor": 0,
       "model_id": "10b0393f48cb42deb1e26209f270036c"
      }
     },
     "metadata": {}
    },
    {
     "output_type": "stream",
     "name": "stdout",
     "text": [
      "Kept 33 out of 50 matches for Dark Angel - Darkness Descends\n\n27 : Querying for Immortal - At the Heart of Winter\n"
     ]
    },
    {
     "output_type": "display_data",
     "data": {
      "text/plain": "album matches:   0%|          | 0/49 [00:00<?, ?it/s]",
      "application/vnd.jupyter.widget-view+json": {
       "version_major": 2,
       "version_minor": 0,
       "model_id": "09587f98cac24dcda80aa0fd46f7ad73"
      }
     },
     "metadata": {}
    },
    {
     "output_type": "stream",
     "name": "stdout",
     "text": [
      "Kept 31 out of 49 matches for Immortal - At the Heart of Winter\n\n28 : Querying for Behemoth - The Satanist\n"
     ]
    },
    {
     "output_type": "display_data",
     "data": {
      "text/plain": "album matches:   0%|          | 0/50 [00:00<?, ?it/s]",
      "application/vnd.jupyter.widget-view+json": {
       "version_major": 2,
       "version_minor": 0,
       "model_id": "0d4e29c7bc8c49f2be4446c64174aae1"
      }
     },
     "metadata": {}
    },
    {
     "output_type": "stream",
     "name": "stdout",
     "text": [
      "Kept 22 out of 50 matches for Behemoth - The Satanist\n\n29 : Querying for Demolition Hammer - Epidemic of Violence\n"
     ]
    },
    {
     "output_type": "display_data",
     "data": {
      "text/plain": "album matches:   0%|          | 0/50 [00:00<?, ?it/s]",
      "application/vnd.jupyter.widget-view+json": {
       "version_major": 2,
       "version_minor": 0,
       "model_id": "fb9ae5ca52764fa5ae3e21e022770fdc"
      }
     },
     "metadata": {}
    },
    {
     "output_type": "stream",
     "name": "stdout",
     "text": [
      "Kept 42 out of 50 matches for Demolition Hammer - Epidemic of Violence\n\n30 : Querying for Iron Maiden - Seventh Son of a Seventh Son\n"
     ]
    },
    {
     "output_type": "display_data",
     "data": {
      "text/plain": "album matches:   0%|          | 0/50 [00:00<?, ?it/s]",
      "application/vnd.jupyter.widget-view+json": {
       "version_major": 2,
       "version_minor": 0,
       "model_id": "0d99c2adeff745f99e25dc1882d4a21f"
      }
     },
     "metadata": {}
    },
    {
     "output_type": "stream",
     "name": "stdout",
     "text": [
      "Kept 46 out of 50 matches for Iron Maiden - Seventh Son of a Seventh Son\n\n31 : Querying for Iron Maiden - Killers\n"
     ]
    },
    {
     "output_type": "display_data",
     "data": {
      "text/plain": "album matches:   0%|          | 0/50 [00:00<?, ?it/s]",
      "application/vnd.jupyter.widget-view+json": {
       "version_major": 2,
       "version_minor": 0,
       "model_id": "de4c374421cc468b966b721906c7f6ee"
      }
     },
     "metadata": {}
    },
    {
     "output_type": "stream",
     "name": "stdout",
     "text": [
      "Kept 5 out of 50 matches for Iron Maiden - Killers\n\n32 : Querying for Slayer - Show No Mercy\n"
     ]
    },
    {
     "output_type": "display_data",
     "data": {
      "text/plain": "album matches:   0%|          | 0/50 [00:00<?, ?it/s]",
      "application/vnd.jupyter.widget-view+json": {
       "version_major": 2,
       "version_minor": 0,
       "model_id": "b5eab71f31e34699b4c1e4ca3e5ebc04"
      }
     },
     "metadata": {}
    },
    {
     "output_type": "stream",
     "name": "stdout",
     "text": [
      "Kept 33 out of 50 matches for Slayer - Show No Mercy\n\n33 : Querying for Death - Human\n"
     ]
    },
    {
     "output_type": "display_data",
     "data": {
      "text/plain": "album matches:   0%|          | 0/50 [00:00<?, ?it/s]",
      "application/vnd.jupyter.widget-view+json": {
       "version_major": 2,
       "version_minor": 0,
       "model_id": "cd7e1f66419a4b0cbad4630c501fa8c2"
      }
     },
     "metadata": {}
    },
    {
     "output_type": "stream",
     "name": "stdout",
     "text": [
      "Kept 1 out of 50 matches for Death - Human\n\n34 : Querying for Children of Bodom - Follow the Reaper\n"
     ]
    },
    {
     "output_type": "display_data",
     "data": {
      "text/plain": "album matches:   0%|          | 0/50 [00:00<?, ?it/s]",
      "application/vnd.jupyter.widget-view+json": {
       "version_major": 2,
       "version_minor": 0,
       "model_id": "3f923f3a69a4474790e73b092d0714db"
      }
     },
     "metadata": {}
    },
    {
     "output_type": "stream",
     "name": "stdout",
     "text": [
      "Kept 39 out of 50 matches for Children of Bodom - Follow the Reaper\n\n35 : Querying for Mayhem - Deathcrush\n"
     ]
    },
    {
     "output_type": "display_data",
     "data": {
      "text/plain": "album matches:   0%|          | 0/50 [00:00<?, ?it/s]",
      "application/vnd.jupyter.widget-view+json": {
       "version_major": 2,
       "version_minor": 0,
       "model_id": "628da09ba32b448daae4c4c0d29550c9"
      }
     },
     "metadata": {}
    },
    {
     "output_type": "stream",
     "name": "stdout",
     "text": [
      "Kept 24 out of 50 matches for Mayhem - Deathcrush\n\n36 : Querying for Wintersun - Wintersun\n"
     ]
    },
    {
     "output_type": "display_data",
     "data": {
      "text/plain": "album matches:   0%|          | 0/50 [00:00<?, ?it/s]",
      "application/vnd.jupyter.widget-view+json": {
       "version_major": 2,
       "version_minor": 0,
       "model_id": "5b285161e4ef44cfbc9825539c53a5c3"
      }
     },
     "metadata": {}
    },
    {
     "output_type": "stream",
     "name": "stdout",
     "text": [
      "Kept 33 out of 50 matches for Wintersun - Wintersun\n\n"
     ]
    }
   ],
   "source": [
    "lastfm = dqf.LastFM()\n",
    "results_df = pd.DataFrame()\n",
    "\n",
    "LIMIT=37 # Obituary - Cause of Death is causing some error here at idx 38!\n",
    "\n",
    "df_head = df_csv.head(LIMIT)\n",
    "\n",
    "for idx, row in tqdm_notebook(df_head.iterrows(), total=df_head.shape[0], desc='artists'):\n",
    "    artist = row['artist']\n",
    "    album = row['album']\n",
    "    \n",
    "    print(idx,': Querying for', artist, '-', album)\n",
    "    matches = list(lastfm.get_album_matches(artist, album)['results']['albummatches'].values())[0]\n",
    "    # print(matches)\n",
    "\n",
    "    nr_matches =  len(matches)\n",
    "    nr_kept_matches = 0\n",
    "\n",
    "    for match in tqdm_notebook(matches, desc='album matches', leave=False):\n",
    "        if match['artist'] == artist:\n",
    "            results_df = results_df.append({\n",
    "                'artist': artist,\n",
    "                'album': album,\n",
    "                'album_instance': match['name'],\n",
    "                'lastfm_info': lastfm.get_album_info(match['artist'], match['name'])\n",
    "            }, ignore_index=True)\n",
    "            nr_kept_matches += 1        \n",
    "    print('Kept', nr_kept_matches, 'out of', nr_matches, 'matches for', artist, '-', album, end='\\n\\n')"
   ]
  },
  {
   "cell_type": "code",
   "execution_count": 15,
   "metadata": {},
   "outputs": [
    {
     "output_type": "execute_result",
     "data": {
      "text/plain": [
       "                      album                                 album_instance  \\\n",
       "530  ...and Justice for All                  ...And Justice For All (1988)   \n",
       "531  ...and Justice for All  ...And Justice For All (Super Deluxe Edition)   \n",
       "532  ...and Justice for All                        ...And Justice For All!   \n",
       "533  ...and Justice for All          ...And Justice For All + Bonus Tracks   \n",
       "534  ...and Justice for All              ...And Justice For All (Ultimate)   \n",
       "\n",
       "        artist                                        lastfm_info  \n",
       "530  Metallica  {'name': '...And Justice For All (1988)', 'art...  \n",
       "531  Metallica  {'name': '...And Justice For All (Super Deluxe...  \n",
       "532  Metallica  {'name': '...And Justice For All!', 'artist': ...  \n",
       "533  Metallica                                                NaN  \n",
       "534  Metallica  {'name': '...And Justice For All (Ultimate)', ...  "
      ],
      "text/html": "<div>\n<style scoped>\n    .dataframe tbody tr th:only-of-type {\n        vertical-align: middle;\n    }\n\n    .dataframe tbody tr th {\n        vertical-align: top;\n    }\n\n    .dataframe thead th {\n        text-align: right;\n    }\n</style>\n<table border=\"1\" class=\"dataframe\">\n  <thead>\n    <tr style=\"text-align: right;\">\n      <th></th>\n      <th>album</th>\n      <th>album_instance</th>\n      <th>artist</th>\n      <th>lastfm_info</th>\n    </tr>\n  </thead>\n  <tbody>\n    <tr>\n      <th>530</th>\n      <td>...and Justice for All</td>\n      <td>...And Justice For All (1988)</td>\n      <td>Metallica</td>\n      <td>{'name': '...And Justice For All (1988)', 'art...</td>\n    </tr>\n    <tr>\n      <th>531</th>\n      <td>...and Justice for All</td>\n      <td>...And Justice For All (Super Deluxe Edition)</td>\n      <td>Metallica</td>\n      <td>{'name': '...And Justice For All (Super Deluxe...</td>\n    </tr>\n    <tr>\n      <th>532</th>\n      <td>...and Justice for All</td>\n      <td>...And Justice For All!</td>\n      <td>Metallica</td>\n      <td>{'name': '...And Justice For All!', 'artist': ...</td>\n    </tr>\n    <tr>\n      <th>533</th>\n      <td>...and Justice for All</td>\n      <td>...And Justice For All + Bonus Tracks</td>\n      <td>Metallica</td>\n      <td>NaN</td>\n    </tr>\n    <tr>\n      <th>534</th>\n      <td>...and Justice for All</td>\n      <td>...And Justice For All (Ultimate)</td>\n      <td>Metallica</td>\n      <td>{'name': '...And Justice For All (Ultimate)', ...</td>\n    </tr>\n  </tbody>\n</table>\n</div>"
     },
     "metadata": {},
     "execution_count": 15
    }
   ],
   "source": [
    "results_df.head(535).tail()"
   ]
  },
  {
   "source": [
    "Add some entries of the lastfm info as column to the dataframe."
   ],
   "cell_type": "markdown",
   "metadata": {}
  },
  {
   "cell_type": "code",
   "execution_count": 33,
   "metadata": {},
   "outputs": [],
   "source": [
    "def get_listeners(x):\n",
    "    if isinstance(x, dict):\n",
    "        return int(x['listeners'])\n",
    "    else:\n",
    "        return None\n",
    "\n",
    "def get_playcounts(x):\n",
    "    if isinstance(x, dict):\n",
    "        return int(x['playcount'])\n",
    "    else:\n",
    "        return None\n"
   ]
  },
  {
   "cell_type": "code",
   "execution_count": 35,
   "metadata": {},
   "outputs": [
    {
     "output_type": "stream",
     "name": "stderr",
     "text": [
      "100%|██████████| 1095/1095 [00:00<00:00, 150834.60it/s]\n",
      "100%|██████████| 1095/1095 [00:00<00:00, 142885.32it/s]\n"
     ]
    },
    {
     "output_type": "execute_result",
     "data": {
      "text/plain": [
       "               album                     album_instance     artist  \\\n",
       "0     Reign in Blood                     Reign in Blood     Slayer   \n",
       "1     Reign in Blood          Reign In Blood (Expanded)     Slayer   \n",
       "2     Reign in Blood  Reign In Blood (Expanded Edition)     Slayer   \n",
       "3     Reign in Blood      Reign In Blood (1994 Reissue)     Slayer   \n",
       "4     Reign in Blood        Reign In Blood (Remastered)     Slayer   \n",
       "...              ...                                ...        ...   \n",
       "1090       Wintersun                 (2004) - Wintersun  Wintersun   \n",
       "1091       Wintersun                       Jari Mäenpää  Wintersun   \n",
       "1092       Wintersun                   (2004) Wintersun  Wintersun   \n",
       "1093       Wintersun          Wintersun (Japan Release)  Wintersun   \n",
       "1094       Wintersun         Live At Summer Breeze 2005  Wintersun   \n",
       "\n",
       "                                            lastfm_info  listeners   playcount  \n",
       "0     {'name': 'Reign in Blood', 'artist': 'Slayer',...   822151.0  15579798.0  \n",
       "1     {'name': 'Reign In Blood (Expanded)', 'artist'...   165687.0   2127792.0  \n",
       "2     {'name': 'Reign In Blood (Expanded Edition)', ...    12823.0    372560.0  \n",
       "3     {'name': 'Reign In Blood (1994 Reissue)', 'art...     4856.0    130026.0  \n",
       "4     {'name': 'Reign In Blood (Remastered)', 'artis...     2092.0     75516.0  \n",
       "...                                                 ...        ...         ...  \n",
       "1090  {'name': '(2004) - Wintersun', 'artist': 'Wint...       11.0      1383.0  \n",
       "1091  {'name': 'Jari Mäenpää', 'artist': 'Wintersun'...      241.0      7222.0  \n",
       "1092  {'name': '(2004) Wintersun', 'artist': 'Winter...       35.0       930.0  \n",
       "1093  {'name': 'Wintersun (Japan Release)', 'artist'...        2.0       665.0  \n",
       "1094  {'name': 'Live At Summer Breeze 2005', 'artist...      241.0      4914.0  \n",
       "\n",
       "[1095 rows x 6 columns]"
      ],
      "text/html": "<div>\n<style scoped>\n    .dataframe tbody tr th:only-of-type {\n        vertical-align: middle;\n    }\n\n    .dataframe tbody tr th {\n        vertical-align: top;\n    }\n\n    .dataframe thead th {\n        text-align: right;\n    }\n</style>\n<table border=\"1\" class=\"dataframe\">\n  <thead>\n    <tr style=\"text-align: right;\">\n      <th></th>\n      <th>album</th>\n      <th>album_instance</th>\n      <th>artist</th>\n      <th>lastfm_info</th>\n      <th>listeners</th>\n      <th>playcount</th>\n    </tr>\n  </thead>\n  <tbody>\n    <tr>\n      <th>0</th>\n      <td>Reign in Blood</td>\n      <td>Reign in Blood</td>\n      <td>Slayer</td>\n      <td>{'name': 'Reign in Blood', 'artist': 'Slayer',...</td>\n      <td>822151.0</td>\n      <td>15579798.0</td>\n    </tr>\n    <tr>\n      <th>1</th>\n      <td>Reign in Blood</td>\n      <td>Reign In Blood (Expanded)</td>\n      <td>Slayer</td>\n      <td>{'name': 'Reign In Blood (Expanded)', 'artist'...</td>\n      <td>165687.0</td>\n      <td>2127792.0</td>\n    </tr>\n    <tr>\n      <th>2</th>\n      <td>Reign in Blood</td>\n      <td>Reign In Blood (Expanded Edition)</td>\n      <td>Slayer</td>\n      <td>{'name': 'Reign In Blood (Expanded Edition)', ...</td>\n      <td>12823.0</td>\n      <td>372560.0</td>\n    </tr>\n    <tr>\n      <th>3</th>\n      <td>Reign in Blood</td>\n      <td>Reign In Blood (1994 Reissue)</td>\n      <td>Slayer</td>\n      <td>{'name': 'Reign In Blood (1994 Reissue)', 'art...</td>\n      <td>4856.0</td>\n      <td>130026.0</td>\n    </tr>\n    <tr>\n      <th>4</th>\n      <td>Reign in Blood</td>\n      <td>Reign In Blood (Remastered)</td>\n      <td>Slayer</td>\n      <td>{'name': 'Reign In Blood (Remastered)', 'artis...</td>\n      <td>2092.0</td>\n      <td>75516.0</td>\n    </tr>\n    <tr>\n      <th>...</th>\n      <td>...</td>\n      <td>...</td>\n      <td>...</td>\n      <td>...</td>\n      <td>...</td>\n      <td>...</td>\n    </tr>\n    <tr>\n      <th>1090</th>\n      <td>Wintersun</td>\n      <td>(2004) - Wintersun</td>\n      <td>Wintersun</td>\n      <td>{'name': '(2004) - Wintersun', 'artist': 'Wint...</td>\n      <td>11.0</td>\n      <td>1383.0</td>\n    </tr>\n    <tr>\n      <th>1091</th>\n      <td>Wintersun</td>\n      <td>Jari Mäenpää</td>\n      <td>Wintersun</td>\n      <td>{'name': 'Jari Mäenpää', 'artist': 'Wintersun'...</td>\n      <td>241.0</td>\n      <td>7222.0</td>\n    </tr>\n    <tr>\n      <th>1092</th>\n      <td>Wintersun</td>\n      <td>(2004) Wintersun</td>\n      <td>Wintersun</td>\n      <td>{'name': '(2004) Wintersun', 'artist': 'Winter...</td>\n      <td>35.0</td>\n      <td>930.0</td>\n    </tr>\n    <tr>\n      <th>1093</th>\n      <td>Wintersun</td>\n      <td>Wintersun (Japan Release)</td>\n      <td>Wintersun</td>\n      <td>{'name': 'Wintersun (Japan Release)', 'artist'...</td>\n      <td>2.0</td>\n      <td>665.0</td>\n    </tr>\n    <tr>\n      <th>1094</th>\n      <td>Wintersun</td>\n      <td>Live At Summer Breeze 2005</td>\n      <td>Wintersun</td>\n      <td>{'name': 'Live At Summer Breeze 2005', 'artist...</td>\n      <td>241.0</td>\n      <td>4914.0</td>\n    </tr>\n  </tbody>\n</table>\n<p>1095 rows × 6 columns</p>\n</div>"
     },
     "metadata": {},
     "execution_count": 35
    }
   ],
   "source": [
    "df = results_df\n",
    "df['listeners'] = df.progress_apply(lambda row: get_listeners(row['lastfm_info']), axis=1)\n",
    "df['playcount'] = df.progress_apply(lambda row: get_playcounts(row['lastfm_info']), axis=1)\n",
    "df"
   ]
  },
  {
   "source": [
    "Sum up the different entries that correspond to the same album:"
   ],
   "cell_type": "markdown",
   "metadata": {}
  },
  {
   "cell_type": "code",
   "execution_count": 36,
   "metadata": {},
   "outputs": [
    {
     "output_type": "execute_result",
     "data": {
      "text/plain": [
       "                                                listeners    playcount\n",
       "artist            album                                               \n",
       "Agalloch          The Mantle                     352832.0   12132834.0\n",
       "Behemoth          The Satanist                   121675.0    5022416.0\n",
       "Black Sabbath     13                             194395.0    3628614.0\n",
       "                  Black Sabbath                 6272170.0   78871048.0\n",
       "                  Paranoid                      1937226.0   21612793.0\n",
       "Burzum            Filosofem                      594290.0   13026055.0\n",
       "                  Hvis lyset tar oss             224814.0    3189025.0\n",
       "Children of Bodom Follow the Reaper              398938.0    9722337.0\n",
       "Dark Angel        Darkness Descends               78794.0    1750565.0\n",
       "Death             Human                          149273.0    3632595.0\n",
       "                  Scream Bloody Gore             319957.0    7485791.0\n",
       "                  Symbolic                       251175.0    6732890.0\n",
       "Demolition Hammer Epidemic of Violence            39157.0     880391.0\n",
       "Dissection        Storm of the Light's Bane      378476.0    9735078.0\n",
       "Hades Archer      Penis Metal                       489.0       9519.0\n",
       "Immortal          At the Heart of Winter         377013.0    7653635.0\n",
       "Iron Maiden       Iron Maiden                   8061618.0  137694736.0\n",
       "                  Killers                        376100.0    7269785.0\n",
       "                  Powerslave                     764436.0   11024623.0\n",
       "                  Seventh Son of a Seventh Son  1296876.0   22218933.0\n",
       "                  The Number of the Beast       1071172.0   15060263.0\n",
       "Judas Priest      Painkiller                     528241.0    8122534.0\n",
       "Mayhem            Deathcrush                     294774.0    4724308.0\n",
       "Megadeth          Countdown to Extinction        580764.0   10852391.0\n",
       "                  Dystopia                        80831.0    2075582.0\n",
       "                  Rust in Peace                  767270.0   16163950.0\n",
       "Metallica         ...and Justice for All         940837.0   17647971.0\n",
       "                  Kill 'Em All                   673071.0   16147399.0\n",
       "                  Master of Puppets             1231869.0   25630035.0\n",
       "                  Ride the Lightning            1163802.0   23615062.0\n",
       "Morbid Angel      Altars of Madness              460416.0    9643752.0\n",
       "Sepultura         Beneath the Remains            494850.0   10305247.0\n",
       "Slayer            Reign in Blood                1027288.0   18550929.0\n",
       "                  Show No Mercy                  264496.0    5402359.0\n",
       "Sodom             Agent Orange                   100717.0    2372442.0\n",
       "Wintersun         Time I                          51620.0    1831069.0\n",
       "                  Wintersun                      267328.0    8785127.0"
      ],
      "text/html": "<div>\n<style scoped>\n    .dataframe tbody tr th:only-of-type {\n        vertical-align: middle;\n    }\n\n    .dataframe tbody tr th {\n        vertical-align: top;\n    }\n\n    .dataframe thead th {\n        text-align: right;\n    }\n</style>\n<table border=\"1\" class=\"dataframe\">\n  <thead>\n    <tr style=\"text-align: right;\">\n      <th></th>\n      <th></th>\n      <th>listeners</th>\n      <th>playcount</th>\n    </tr>\n    <tr>\n      <th>artist</th>\n      <th>album</th>\n      <th></th>\n      <th></th>\n    </tr>\n  </thead>\n  <tbody>\n    <tr>\n      <th>Agalloch</th>\n      <th>The Mantle</th>\n      <td>352832.0</td>\n      <td>12132834.0</td>\n    </tr>\n    <tr>\n      <th>Behemoth</th>\n      <th>The Satanist</th>\n      <td>121675.0</td>\n      <td>5022416.0</td>\n    </tr>\n    <tr>\n      <th rowspan=\"3\" valign=\"top\">Black Sabbath</th>\n      <th>13</th>\n      <td>194395.0</td>\n      <td>3628614.0</td>\n    </tr>\n    <tr>\n      <th>Black Sabbath</th>\n      <td>6272170.0</td>\n      <td>78871048.0</td>\n    </tr>\n    <tr>\n      <th>Paranoid</th>\n      <td>1937226.0</td>\n      <td>21612793.0</td>\n    </tr>\n    <tr>\n      <th rowspan=\"2\" valign=\"top\">Burzum</th>\n      <th>Filosofem</th>\n      <td>594290.0</td>\n      <td>13026055.0</td>\n    </tr>\n    <tr>\n      <th>Hvis lyset tar oss</th>\n      <td>224814.0</td>\n      <td>3189025.0</td>\n    </tr>\n    <tr>\n      <th>Children of Bodom</th>\n      <th>Follow the Reaper</th>\n      <td>398938.0</td>\n      <td>9722337.0</td>\n    </tr>\n    <tr>\n      <th>Dark Angel</th>\n      <th>Darkness Descends</th>\n      <td>78794.0</td>\n      <td>1750565.0</td>\n    </tr>\n    <tr>\n      <th rowspan=\"3\" valign=\"top\">Death</th>\n      <th>Human</th>\n      <td>149273.0</td>\n      <td>3632595.0</td>\n    </tr>\n    <tr>\n      <th>Scream Bloody Gore</th>\n      <td>319957.0</td>\n      <td>7485791.0</td>\n    </tr>\n    <tr>\n      <th>Symbolic</th>\n      <td>251175.0</td>\n      <td>6732890.0</td>\n    </tr>\n    <tr>\n      <th>Demolition Hammer</th>\n      <th>Epidemic of Violence</th>\n      <td>39157.0</td>\n      <td>880391.0</td>\n    </tr>\n    <tr>\n      <th>Dissection</th>\n      <th>Storm of the Light's Bane</th>\n      <td>378476.0</td>\n      <td>9735078.0</td>\n    </tr>\n    <tr>\n      <th>Hades Archer</th>\n      <th>Penis Metal</th>\n      <td>489.0</td>\n      <td>9519.0</td>\n    </tr>\n    <tr>\n      <th>Immortal</th>\n      <th>At the Heart of Winter</th>\n      <td>377013.0</td>\n      <td>7653635.0</td>\n    </tr>\n    <tr>\n      <th rowspan=\"5\" valign=\"top\">Iron Maiden</th>\n      <th>Iron Maiden</th>\n      <td>8061618.0</td>\n      <td>137694736.0</td>\n    </tr>\n    <tr>\n      <th>Killers</th>\n      <td>376100.0</td>\n      <td>7269785.0</td>\n    </tr>\n    <tr>\n      <th>Powerslave</th>\n      <td>764436.0</td>\n      <td>11024623.0</td>\n    </tr>\n    <tr>\n      <th>Seventh Son of a Seventh Son</th>\n      <td>1296876.0</td>\n      <td>22218933.0</td>\n    </tr>\n    <tr>\n      <th>The Number of the Beast</th>\n      <td>1071172.0</td>\n      <td>15060263.0</td>\n    </tr>\n    <tr>\n      <th>Judas Priest</th>\n      <th>Painkiller</th>\n      <td>528241.0</td>\n      <td>8122534.0</td>\n    </tr>\n    <tr>\n      <th>Mayhem</th>\n      <th>Deathcrush</th>\n      <td>294774.0</td>\n      <td>4724308.0</td>\n    </tr>\n    <tr>\n      <th rowspan=\"3\" valign=\"top\">Megadeth</th>\n      <th>Countdown to Extinction</th>\n      <td>580764.0</td>\n      <td>10852391.0</td>\n    </tr>\n    <tr>\n      <th>Dystopia</th>\n      <td>80831.0</td>\n      <td>2075582.0</td>\n    </tr>\n    <tr>\n      <th>Rust in Peace</th>\n      <td>767270.0</td>\n      <td>16163950.0</td>\n    </tr>\n    <tr>\n      <th rowspan=\"4\" valign=\"top\">Metallica</th>\n      <th>...and Justice for All</th>\n      <td>940837.0</td>\n      <td>17647971.0</td>\n    </tr>\n    <tr>\n      <th>Kill 'Em All</th>\n      <td>673071.0</td>\n      <td>16147399.0</td>\n    </tr>\n    <tr>\n      <th>Master of Puppets</th>\n      <td>1231869.0</td>\n      <td>25630035.0</td>\n    </tr>\n    <tr>\n      <th>Ride the Lightning</th>\n      <td>1163802.0</td>\n      <td>23615062.0</td>\n    </tr>\n    <tr>\n      <th>Morbid Angel</th>\n      <th>Altars of Madness</th>\n      <td>460416.0</td>\n      <td>9643752.0</td>\n    </tr>\n    <tr>\n      <th>Sepultura</th>\n      <th>Beneath the Remains</th>\n      <td>494850.0</td>\n      <td>10305247.0</td>\n    </tr>\n    <tr>\n      <th rowspan=\"2\" valign=\"top\">Slayer</th>\n      <th>Reign in Blood</th>\n      <td>1027288.0</td>\n      <td>18550929.0</td>\n    </tr>\n    <tr>\n      <th>Show No Mercy</th>\n      <td>264496.0</td>\n      <td>5402359.0</td>\n    </tr>\n    <tr>\n      <th>Sodom</th>\n      <th>Agent Orange</th>\n      <td>100717.0</td>\n      <td>2372442.0</td>\n    </tr>\n    <tr>\n      <th rowspan=\"2\" valign=\"top\">Wintersun</th>\n      <th>Time I</th>\n      <td>51620.0</td>\n      <td>1831069.0</td>\n    </tr>\n    <tr>\n      <th>Wintersun</th>\n      <td>267328.0</td>\n      <td>8785127.0</td>\n    </tr>\n  </tbody>\n</table>\n</div>"
     },
     "metadata": {},
     "execution_count": 36
    }
   ],
   "source": [
    "#TODO: Should probably be part of the utils.py\n",
    "cumulative_df = df.drop(['album_instance'], axis=1).groupby(['artist','album']).sum()\n",
    "cumulative_df"
   ]
  },
  {
   "source": [
    "## Get tags of the most relevant album match"
   ],
   "cell_type": "markdown",
   "metadata": {}
  },
  {
   "cell_type": "code",
   "execution_count": 59,
   "metadata": {},
   "outputs": [],
   "source": [
    "#TODO: Move these functions to the data_query_functions.py !\n",
    "def get_tags(x):\n",
    "    tag_names = []\n",
    "    for tag in x['tags']['tag']:\n",
    "        tag_names.append(tag['name'])\n",
    "    return tag_names\n",
    "\n",
    "def get_url(x):\n",
    "    return x['url']\n",
    "\n",
    "def get_info(x):\n",
    "    artist = x.name[0]\n",
    "    album = x.name[1]\n",
    "    lastfm = dqf.LastFM()\n",
    "    album_info = lastfm.get_album_info(artist, album)\n",
    "    return album_info\n",
    "\n",
    "def get_img(x):\n",
    "    return x['image']\n",
    "\n",
    "# TODO: Release date not present. Should use another API for that?\n",
    "# def get_releasedate(x):\n",
    "#     return x['releasedate']\n",
    "\n",
    "def get_mbid(x):\n",
    "    try:\n",
    "        return x['mbid']\n",
    "    except KeyError:\n",
    "        return None\n",
    "\n",
    "import requests\n",
    "import pandas as pd\n",
    "import xmltodict\n",
    "import time\n",
    "\n",
    "def get_release_date(x):\n",
    "    print(x)\n",
    "    if x is not None:\n",
    "        response = requests.get('http://musicbrainz.org/ws/2/release/' + str(x) + '?inc=release-groups&fmt=xml')\n",
    "        while response.status_code == 503:\n",
    "            print('503, wating for five seconds.')\n",
    "            time.sleep(5)\n",
    "            response = requests.get('http://musicbrainz.org/ws/2/release/' + str(x) + '?inc=release-groups&fmt=xml')\n",
    "\n",
    "        response_dict = xmltodict.parse(response.text)\n",
    "\n",
    "        return response_dict['metadata']['release']['release-group']['first-release-date']\n",
    "\n",
    "    else:\n",
    "        return None\n",
    "\n",
    "\n"
   ]
  },
  {
   "cell_type": "code",
   "execution_count": 60,
   "metadata": {},
   "outputs": [
    {
     "output_type": "stream",
     "name": "stdout",
     "text": [
      "7ac99528-77a9-3624-84b7-3400f6f56e47\n",
      "8f2a9448-cec0-41aa-b518-3e067c65a336\n",
      "7dbf4b1f-d3e9-47bc-9194-d15b31017bd6\n",
      "d4d6b8d9-413f-3aa6-9f4b-d51be1eb740c\n",
      "2982b682-36ea-3605-b959-04e746736070\n",
      "1ce9177c-62a0-4403-a7ee-7359026fcbf6\n",
      "b6928219-0772-39ac-8156-91a609b2fd5e\n",
      "6b15fc3b-ea9f-30a9-9209-c6743add0913\n",
      "383aedc8-841b-40a9-b17f-00b5eb8a18dd\n",
      "c5ca70aa-d86b-4a0d-84fc-910ca6011881\n",
      "2ba42c9d-f654-4214-9fbb-a5d694d955d1\n",
      "503, wating for five seconds.\n",
      "321a3c33-9310-4b9f-b104-762e465ec60f\n",
      "5b18c38f-a133-4bd4-a2f2-da6272a189df\n",
      "76a7d348-f6e2-4e36-b529-b3cc003c3231\n",
      "None\n",
      "8c8395a0-3a02-35d6-a975-535112ec057e\n",
      "25da813d-4dbd-32c0-aef0-307e790f0709\n",
      "91ddcf18-98af-4f73-890c-bfc44c1d91e2\n",
      "556c0066-8114-33ad-aa45-ab2f203e2777\n",
      "53a1a90f-cc58-39ea-9fc2-20dd103bda01\n",
      "6ea83f20-d053-3495-bc25-76aa61da13ab\n",
      "7e9b0af2-5fba-4cfa-8258-23be6afe768d\n",
      "08f88d68-c0bf-474a-8707-43cd58e28ab6\n",
      "1a77f8a7-54ab-4568-8003-42240cd29ab0\n",
      "None\n",
      "2b904e74-daba-397c-a151-bafb125ceb44\n",
      "4dede30f-58cf-4d43-a857-b342ad7be945\n",
      "c06ed440-f25d-3127-aadb-ebe9c685b3d8\n",
      "503, wating for five seconds.\n",
      "503, wating for five seconds.\n",
      "b30c90dd-83f1-4897-ae36-58fb3935e5ee\n",
      "2236dd07-a2f3-466a-973d-9069001a89da\n",
      "0e47ca20-9a60-3bd0-afe0-a1e090a75f5e\n",
      "e15200cf-7606-4ce8-b6b1-8e73b7161b88\n",
      "e80dcb10-f532-4da1-9458-afd541e4a9ea\n",
      "15baf22c-46ed-4ad9-81b8-2d5ca4eb9347\n",
      "046501f9-27b7-4f98-bdb8-32bd53835ede\n",
      "604eb43a-153c-4b63-92e6-ae59eca19505\n",
      "b4f9f593-9df6-4b7c-90c9-94fac1e96ef5\n"
     ]
    },
    {
     "output_type": "execute_result",
     "data": {
      "text/plain": [
       "                                                listeners    playcount  \\\n",
       "artist            album                                                  \n",
       "Agalloch          The Mantle                     352832.0   12132834.0   \n",
       "Behemoth          The Satanist                   121675.0    5022416.0   \n",
       "Black Sabbath     13                             194395.0    3628614.0   \n",
       "                  Black Sabbath                 6272170.0   78871048.0   \n",
       "                  Paranoid                      1937226.0   21612793.0   \n",
       "Burzum            Filosofem                      594290.0   13026055.0   \n",
       "                  Hvis lyset tar oss             224814.0    3189025.0   \n",
       "Children of Bodom Follow the Reaper              398938.0    9722337.0   \n",
       "Dark Angel        Darkness Descends               78794.0    1750565.0   \n",
       "Death             Human                          149273.0    3632595.0   \n",
       "                  Scream Bloody Gore             319957.0    7485791.0   \n",
       "                  Symbolic                       251175.0    6732890.0   \n",
       "Demolition Hammer Epidemic of Violence            39157.0     880391.0   \n",
       "Dissection        Storm of the Light's Bane      378476.0    9735078.0   \n",
       "Hades Archer      Penis Metal                       489.0       9519.0   \n",
       "Immortal          At the Heart of Winter         377013.0    7653635.0   \n",
       "Iron Maiden       Iron Maiden                   8061618.0  137694736.0   \n",
       "                  Killers                        376100.0    7269785.0   \n",
       "                  Powerslave                     764436.0   11024623.0   \n",
       "                  Seventh Son of a Seventh Son  1296876.0   22218933.0   \n",
       "                  The Number of the Beast       1071172.0   15060263.0   \n",
       "Judas Priest      Painkiller                     528241.0    8122534.0   \n",
       "Mayhem            Deathcrush                     294774.0    4724308.0   \n",
       "Megadeth          Countdown to Extinction        580764.0   10852391.0   \n",
       "                  Dystopia                        80831.0    2075582.0   \n",
       "                  Rust in Peace                  767270.0   16163950.0   \n",
       "Metallica         ...and Justice for All         940837.0   17647971.0   \n",
       "                  Kill 'Em All                   673071.0   16147399.0   \n",
       "                  Master of Puppets             1231869.0   25630035.0   \n",
       "                  Ride the Lightning            1163802.0   23615062.0   \n",
       "Morbid Angel      Altars of Madness              460416.0    9643752.0   \n",
       "Sepultura         Beneath the Remains            494850.0   10305247.0   \n",
       "Slayer            Reign in Blood                1027288.0   18550929.0   \n",
       "                  Show No Mercy                  264496.0    5402359.0   \n",
       "Sodom             Agent Orange                   100717.0    2372442.0   \n",
       "Wintersun         Time I                          51620.0    1831069.0   \n",
       "                  Wintersun                      267328.0    8785127.0   \n",
       "\n",
       "                                                                                             tags  \\\n",
       "artist            album                                                                             \n",
       "Agalloch          The Mantle                    [folk metal, doom metal, black metal, albums I...   \n",
       "Behemoth          The Satanist                  [2014, Blackened Death Metal, black metal, dea...   \n",
       "Black Sabbath     13                            [heavy metal, 2013, doom metal, hard rock, metal]   \n",
       "                  Black Sabbath                 [heavy metal, hard rock, albums I own, 1970, c...   \n",
       "                  Paranoid                      [heavy metal, hard rock, albums I own, classic...   \n",
       "Burzum            Filosofem                     [black metal, ambient black metal, atmospheric...   \n",
       "                  Hvis lyset tar oss            [black metal, ambient black metal, atmospheric...   \n",
       "Children of Bodom Follow the Reaper             [Melodic Death Metal, albums I own, Power meta...   \n",
       "Dark Angel        Darkness Descends             [thrash metal, albums I own, 1986, bay area th...   \n",
       "Death             Human                         [death metal, Technical Death Metal, albums I ...   \n",
       "                  Scream Bloody Gore            [death metal, old school death metal, albums I...   \n",
       "                  Symbolic                      [death metal, progressive death metal, Technic...   \n",
       "Demolition Hammer Epidemic of Violence          [thrash metal, death metal, 1992, albums I own...   \n",
       "Dissection        Storm of the Light's Bane     [black metal, melodic black metal, albums I ow...   \n",
       "Hades Archer      Penis Metal                                                                  []   \n",
       "Immortal          At the Heart of Winter        [black metal, Norwegian Black Metal, melodic b...   \n",
       "Iron Maiden       Iron Maiden                    [heavy metal, albums I own, NWOBHM, metal, 1980]   \n",
       "                  Killers                        [heavy metal, albums I own, NWOBHM, metal, 1981]   \n",
       "                  Powerslave                     [heavy metal, albums I own, NWOBHM, metal, 1984]   \n",
       "                  Seventh Son of a Seventh Son   [heavy metal, albums I own, metal, NWOBHM, 1988]   \n",
       "                  The Number of the Beast       [heavy metal, albums I own, NWOBHM, metal, Iro...   \n",
       "Judas Priest      Painkiller                    [heavy metal, albums I own, speed metal, metal...   \n",
       "Mayhem            Deathcrush                    [black metal, True Norwegian Black Metal, Norw...   \n",
       "Megadeth          Countdown to Extinction       [thrash metal, albums I own, heavy metal, meta...   \n",
       "                  Dystopia                       [thrash metal, 2016, heavy metal, metal, thrash]   \n",
       "                  Rust in Peace                 [thrash metal, albums I own, speed metal, heav...   \n",
       "Metallica         ...and Justice for All        [thrash metal, albums I own, metal, heavy meta...   \n",
       "                  Kill 'Em All                  [thrash metal, albums I own, metal, heavy meta...   \n",
       "                  Master of Puppets             [thrash metal, albums I own, metal, heavy meta...   \n",
       "                  Ride the Lightning            [thrash metal, albums I own, metal, heavy meta...   \n",
       "Morbid Angel      Altars of Madness             [death metal, 1989, albums I own, old school d...   \n",
       "Sepultura         Beneath the Remains           [thrash metal, death metal, albums I own, 1989...   \n",
       "Slayer            Reign in Blood                [thrash metal, albums I own, metal, speed meta...   \n",
       "                  Show No Mercy                 [thrash metal, speed metal, 1983, albums I own...   \n",
       "Sodom             Agent Orange                  [thrash metal, albums I own, 1989, metal, spee...   \n",
       "Wintersun         Time I                        [Melodic Death Metal, symphonic metal, progres...   \n",
       "                  Wintersun                     [Melodic Death Metal, Power metal, folk metal,...   \n",
       "\n",
       "                                                                                mbid  \\\n",
       "artist            album                                                                \n",
       "Agalloch          The Mantle                    7ac99528-77a9-3624-84b7-3400f6f56e47   \n",
       "Behemoth          The Satanist                  8f2a9448-cec0-41aa-b518-3e067c65a336   \n",
       "Black Sabbath     13                            7dbf4b1f-d3e9-47bc-9194-d15b31017bd6   \n",
       "                  Black Sabbath                 d4d6b8d9-413f-3aa6-9f4b-d51be1eb740c   \n",
       "                  Paranoid                      2982b682-36ea-3605-b959-04e746736070   \n",
       "Burzum            Filosofem                     1ce9177c-62a0-4403-a7ee-7359026fcbf6   \n",
       "                  Hvis lyset tar oss            b6928219-0772-39ac-8156-91a609b2fd5e   \n",
       "Children of Bodom Follow the Reaper             6b15fc3b-ea9f-30a9-9209-c6743add0913   \n",
       "Dark Angel        Darkness Descends             383aedc8-841b-40a9-b17f-00b5eb8a18dd   \n",
       "Death             Human                         c5ca70aa-d86b-4a0d-84fc-910ca6011881   \n",
       "                  Scream Bloody Gore            2ba42c9d-f654-4214-9fbb-a5d694d955d1   \n",
       "                  Symbolic                      321a3c33-9310-4b9f-b104-762e465ec60f   \n",
       "Demolition Hammer Epidemic of Violence          5b18c38f-a133-4bd4-a2f2-da6272a189df   \n",
       "Dissection        Storm of the Light's Bane     76a7d348-f6e2-4e36-b529-b3cc003c3231   \n",
       "Hades Archer      Penis Metal                                                   None   \n",
       "Immortal          At the Heart of Winter        8c8395a0-3a02-35d6-a975-535112ec057e   \n",
       "Iron Maiden       Iron Maiden                   25da813d-4dbd-32c0-aef0-307e790f0709   \n",
       "                  Killers                       91ddcf18-98af-4f73-890c-bfc44c1d91e2   \n",
       "                  Powerslave                    556c0066-8114-33ad-aa45-ab2f203e2777   \n",
       "                  Seventh Son of a Seventh Son  53a1a90f-cc58-39ea-9fc2-20dd103bda01   \n",
       "                  The Number of the Beast       6ea83f20-d053-3495-bc25-76aa61da13ab   \n",
       "Judas Priest      Painkiller                    7e9b0af2-5fba-4cfa-8258-23be6afe768d   \n",
       "Mayhem            Deathcrush                    08f88d68-c0bf-474a-8707-43cd58e28ab6   \n",
       "Megadeth          Countdown to Extinction       1a77f8a7-54ab-4568-8003-42240cd29ab0   \n",
       "                  Dystopia                                                      None   \n",
       "                  Rust in Peace                 2b904e74-daba-397c-a151-bafb125ceb44   \n",
       "Metallica         ...and Justice for All        4dede30f-58cf-4d43-a857-b342ad7be945   \n",
       "                  Kill 'Em All                  c06ed440-f25d-3127-aadb-ebe9c685b3d8   \n",
       "                  Master of Puppets             b30c90dd-83f1-4897-ae36-58fb3935e5ee   \n",
       "                  Ride the Lightning            2236dd07-a2f3-466a-973d-9069001a89da   \n",
       "Morbid Angel      Altars of Madness             0e47ca20-9a60-3bd0-afe0-a1e090a75f5e   \n",
       "Sepultura         Beneath the Remains           e15200cf-7606-4ce8-b6b1-8e73b7161b88   \n",
       "Slayer            Reign in Blood                e80dcb10-f532-4da1-9458-afd541e4a9ea   \n",
       "                  Show No Mercy                 15baf22c-46ed-4ad9-81b8-2d5ca4eb9347   \n",
       "Sodom             Agent Orange                  046501f9-27b7-4f98-bdb8-32bd53835ede   \n",
       "Wintersun         Time I                        604eb43a-153c-4b63-92e6-ae59eca19505   \n",
       "                  Wintersun                     b4f9f593-9df6-4b7c-90c9-94fac1e96ef5   \n",
       "\n",
       "                                               release_date  \n",
       "artist            album                                      \n",
       "Agalloch          The Mantle                     2002-08-13  \n",
       "Behemoth          The Satanist                   2014-02-03  \n",
       "Black Sabbath     13                             2013-06-07  \n",
       "                  Black Sabbath                  1970-02-13  \n",
       "                  Paranoid                       1970-09-18  \n",
       "Burzum            Filosofem                      1996-01-31  \n",
       "                  Hvis lyset tar oss                1994-04  \n",
       "Children of Bodom Follow the Reaper              2000-10-30  \n",
       "Dark Angel        Darkness Descends              1986-11-17  \n",
       "Death             Human                          1991-10-22  \n",
       "                  Scream Bloody Gore             1987-05-25  \n",
       "                  Symbolic                       1995-03-21  \n",
       "Demolition Hammer Epidemic of Violence                 1992  \n",
       "Dissection        Storm of the Light's Bane      1995-11-17  \n",
       "Hades Archer      Penis Metal                          None  \n",
       "Immortal          At the Heart of Winter         1999-02-28  \n",
       "Iron Maiden       Iron Maiden                    1980-04-14  \n",
       "                  Killers                        1981-02-02  \n",
       "                  Powerslave                     1984-09-03  \n",
       "                  Seventh Son of a Seventh Son   1988-04-11  \n",
       "                  The Number of the Beast        1982-04-26  \n",
       "Judas Priest      Painkiller                     1990-09-03  \n",
       "Mayhem            Deathcrush                        1987-03  \n",
       "Megadeth          Countdown to Extinction        1992-07-06  \n",
       "                  Dystopia                             None  \n",
       "                  Rust in Peace                  1990-09-21  \n",
       "Metallica         ...and Justice for All               1988  \n",
       "                  Kill 'Em All                   1983-07-25  \n",
       "                  Master of Puppets                    2003  \n",
       "                  Ride the Lightning             1984-07-30  \n",
       "Morbid Angel      Altars of Madness                    1989  \n",
       "Sepultura         Beneath the Remains            1989-11-05  \n",
       "Slayer            Reign in Blood                 1986-10-07  \n",
       "                  Show No Mercy                  1983-12-01  \n",
       "Sodom             Agent Orange                   1989-06-01  \n",
       "Wintersun         Time I                         2012-10-19  \n",
       "                  Wintersun                      2004-08-25  "
      ],
      "text/html": "<div>\n<style scoped>\n    .dataframe tbody tr th:only-of-type {\n        vertical-align: middle;\n    }\n\n    .dataframe tbody tr th {\n        vertical-align: top;\n    }\n\n    .dataframe thead th {\n        text-align: right;\n    }\n</style>\n<table border=\"1\" class=\"dataframe\">\n  <thead>\n    <tr style=\"text-align: right;\">\n      <th></th>\n      <th></th>\n      <th>listeners</th>\n      <th>playcount</th>\n      <th>tags</th>\n      <th>mbid</th>\n      <th>release_date</th>\n    </tr>\n    <tr>\n      <th>artist</th>\n      <th>album</th>\n      <th></th>\n      <th></th>\n      <th></th>\n      <th></th>\n      <th></th>\n    </tr>\n  </thead>\n  <tbody>\n    <tr>\n      <th>Agalloch</th>\n      <th>The Mantle</th>\n      <td>352832.0</td>\n      <td>12132834.0</td>\n      <td>[folk metal, doom metal, black metal, albums I...</td>\n      <td>7ac99528-77a9-3624-84b7-3400f6f56e47</td>\n      <td>2002-08-13</td>\n    </tr>\n    <tr>\n      <th>Behemoth</th>\n      <th>The Satanist</th>\n      <td>121675.0</td>\n      <td>5022416.0</td>\n      <td>[2014, Blackened Death Metal, black metal, dea...</td>\n      <td>8f2a9448-cec0-41aa-b518-3e067c65a336</td>\n      <td>2014-02-03</td>\n    </tr>\n    <tr>\n      <th rowspan=\"3\" valign=\"top\">Black Sabbath</th>\n      <th>13</th>\n      <td>194395.0</td>\n      <td>3628614.0</td>\n      <td>[heavy metal, 2013, doom metal, hard rock, metal]</td>\n      <td>7dbf4b1f-d3e9-47bc-9194-d15b31017bd6</td>\n      <td>2013-06-07</td>\n    </tr>\n    <tr>\n      <th>Black Sabbath</th>\n      <td>6272170.0</td>\n      <td>78871048.0</td>\n      <td>[heavy metal, hard rock, albums I own, 1970, c...</td>\n      <td>d4d6b8d9-413f-3aa6-9f4b-d51be1eb740c</td>\n      <td>1970-02-13</td>\n    </tr>\n    <tr>\n      <th>Paranoid</th>\n      <td>1937226.0</td>\n      <td>21612793.0</td>\n      <td>[heavy metal, hard rock, albums I own, classic...</td>\n      <td>2982b682-36ea-3605-b959-04e746736070</td>\n      <td>1970-09-18</td>\n    </tr>\n    <tr>\n      <th rowspan=\"2\" valign=\"top\">Burzum</th>\n      <th>Filosofem</th>\n      <td>594290.0</td>\n      <td>13026055.0</td>\n      <td>[black metal, ambient black metal, atmospheric...</td>\n      <td>1ce9177c-62a0-4403-a7ee-7359026fcbf6</td>\n      <td>1996-01-31</td>\n    </tr>\n    <tr>\n      <th>Hvis lyset tar oss</th>\n      <td>224814.0</td>\n      <td>3189025.0</td>\n      <td>[black metal, ambient black metal, atmospheric...</td>\n      <td>b6928219-0772-39ac-8156-91a609b2fd5e</td>\n      <td>1994-04</td>\n    </tr>\n    <tr>\n      <th>Children of Bodom</th>\n      <th>Follow the Reaper</th>\n      <td>398938.0</td>\n      <td>9722337.0</td>\n      <td>[Melodic Death Metal, albums I own, Power meta...</td>\n      <td>6b15fc3b-ea9f-30a9-9209-c6743add0913</td>\n      <td>2000-10-30</td>\n    </tr>\n    <tr>\n      <th>Dark Angel</th>\n      <th>Darkness Descends</th>\n      <td>78794.0</td>\n      <td>1750565.0</td>\n      <td>[thrash metal, albums I own, 1986, bay area th...</td>\n      <td>383aedc8-841b-40a9-b17f-00b5eb8a18dd</td>\n      <td>1986-11-17</td>\n    </tr>\n    <tr>\n      <th rowspan=\"3\" valign=\"top\">Death</th>\n      <th>Human</th>\n      <td>149273.0</td>\n      <td>3632595.0</td>\n      <td>[death metal, Technical Death Metal, albums I ...</td>\n      <td>c5ca70aa-d86b-4a0d-84fc-910ca6011881</td>\n      <td>1991-10-22</td>\n    </tr>\n    <tr>\n      <th>Scream Bloody Gore</th>\n      <td>319957.0</td>\n      <td>7485791.0</td>\n      <td>[death metal, old school death metal, albums I...</td>\n      <td>2ba42c9d-f654-4214-9fbb-a5d694d955d1</td>\n      <td>1987-05-25</td>\n    </tr>\n    <tr>\n      <th>Symbolic</th>\n      <td>251175.0</td>\n      <td>6732890.0</td>\n      <td>[death metal, progressive death metal, Technic...</td>\n      <td>321a3c33-9310-4b9f-b104-762e465ec60f</td>\n      <td>1995-03-21</td>\n    </tr>\n    <tr>\n      <th>Demolition Hammer</th>\n      <th>Epidemic of Violence</th>\n      <td>39157.0</td>\n      <td>880391.0</td>\n      <td>[thrash metal, death metal, 1992, albums I own...</td>\n      <td>5b18c38f-a133-4bd4-a2f2-da6272a189df</td>\n      <td>1992</td>\n    </tr>\n    <tr>\n      <th>Dissection</th>\n      <th>Storm of the Light's Bane</th>\n      <td>378476.0</td>\n      <td>9735078.0</td>\n      <td>[black metal, melodic black metal, albums I ow...</td>\n      <td>76a7d348-f6e2-4e36-b529-b3cc003c3231</td>\n      <td>1995-11-17</td>\n    </tr>\n    <tr>\n      <th>Hades Archer</th>\n      <th>Penis Metal</th>\n      <td>489.0</td>\n      <td>9519.0</td>\n      <td>[]</td>\n      <td>None</td>\n      <td>None</td>\n    </tr>\n    <tr>\n      <th>Immortal</th>\n      <th>At the Heart of Winter</th>\n      <td>377013.0</td>\n      <td>7653635.0</td>\n      <td>[black metal, Norwegian Black Metal, melodic b...</td>\n      <td>8c8395a0-3a02-35d6-a975-535112ec057e</td>\n      <td>1999-02-28</td>\n    </tr>\n    <tr>\n      <th rowspan=\"5\" valign=\"top\">Iron Maiden</th>\n      <th>Iron Maiden</th>\n      <td>8061618.0</td>\n      <td>137694736.0</td>\n      <td>[heavy metal, albums I own, NWOBHM, metal, 1980]</td>\n      <td>25da813d-4dbd-32c0-aef0-307e790f0709</td>\n      <td>1980-04-14</td>\n    </tr>\n    <tr>\n      <th>Killers</th>\n      <td>376100.0</td>\n      <td>7269785.0</td>\n      <td>[heavy metal, albums I own, NWOBHM, metal, 1981]</td>\n      <td>91ddcf18-98af-4f73-890c-bfc44c1d91e2</td>\n      <td>1981-02-02</td>\n    </tr>\n    <tr>\n      <th>Powerslave</th>\n      <td>764436.0</td>\n      <td>11024623.0</td>\n      <td>[heavy metal, albums I own, NWOBHM, metal, 1984]</td>\n      <td>556c0066-8114-33ad-aa45-ab2f203e2777</td>\n      <td>1984-09-03</td>\n    </tr>\n    <tr>\n      <th>Seventh Son of a Seventh Son</th>\n      <td>1296876.0</td>\n      <td>22218933.0</td>\n      <td>[heavy metal, albums I own, metal, NWOBHM, 1988]</td>\n      <td>53a1a90f-cc58-39ea-9fc2-20dd103bda01</td>\n      <td>1988-04-11</td>\n    </tr>\n    <tr>\n      <th>The Number of the Beast</th>\n      <td>1071172.0</td>\n      <td>15060263.0</td>\n      <td>[heavy metal, albums I own, NWOBHM, metal, Iro...</td>\n      <td>6ea83f20-d053-3495-bc25-76aa61da13ab</td>\n      <td>1982-04-26</td>\n    </tr>\n    <tr>\n      <th>Judas Priest</th>\n      <th>Painkiller</th>\n      <td>528241.0</td>\n      <td>8122534.0</td>\n      <td>[heavy metal, albums I own, speed metal, metal...</td>\n      <td>7e9b0af2-5fba-4cfa-8258-23be6afe768d</td>\n      <td>1990-09-03</td>\n    </tr>\n    <tr>\n      <th>Mayhem</th>\n      <th>Deathcrush</th>\n      <td>294774.0</td>\n      <td>4724308.0</td>\n      <td>[black metal, True Norwegian Black Metal, Norw...</td>\n      <td>08f88d68-c0bf-474a-8707-43cd58e28ab6</td>\n      <td>1987-03</td>\n    </tr>\n    <tr>\n      <th rowspan=\"3\" valign=\"top\">Megadeth</th>\n      <th>Countdown to Extinction</th>\n      <td>580764.0</td>\n      <td>10852391.0</td>\n      <td>[thrash metal, albums I own, heavy metal, meta...</td>\n      <td>1a77f8a7-54ab-4568-8003-42240cd29ab0</td>\n      <td>1992-07-06</td>\n    </tr>\n    <tr>\n      <th>Dystopia</th>\n      <td>80831.0</td>\n      <td>2075582.0</td>\n      <td>[thrash metal, 2016, heavy metal, metal, thrash]</td>\n      <td>None</td>\n      <td>None</td>\n    </tr>\n    <tr>\n      <th>Rust in Peace</th>\n      <td>767270.0</td>\n      <td>16163950.0</td>\n      <td>[thrash metal, albums I own, speed metal, heav...</td>\n      <td>2b904e74-daba-397c-a151-bafb125ceb44</td>\n      <td>1990-09-21</td>\n    </tr>\n    <tr>\n      <th rowspan=\"4\" valign=\"top\">Metallica</th>\n      <th>...and Justice for All</th>\n      <td>940837.0</td>\n      <td>17647971.0</td>\n      <td>[thrash metal, albums I own, metal, heavy meta...</td>\n      <td>4dede30f-58cf-4d43-a857-b342ad7be945</td>\n      <td>1988</td>\n    </tr>\n    <tr>\n      <th>Kill 'Em All</th>\n      <td>673071.0</td>\n      <td>16147399.0</td>\n      <td>[thrash metal, albums I own, metal, heavy meta...</td>\n      <td>c06ed440-f25d-3127-aadb-ebe9c685b3d8</td>\n      <td>1983-07-25</td>\n    </tr>\n    <tr>\n      <th>Master of Puppets</th>\n      <td>1231869.0</td>\n      <td>25630035.0</td>\n      <td>[thrash metal, albums I own, metal, heavy meta...</td>\n      <td>b30c90dd-83f1-4897-ae36-58fb3935e5ee</td>\n      <td>2003</td>\n    </tr>\n    <tr>\n      <th>Ride the Lightning</th>\n      <td>1163802.0</td>\n      <td>23615062.0</td>\n      <td>[thrash metal, albums I own, metal, heavy meta...</td>\n      <td>2236dd07-a2f3-466a-973d-9069001a89da</td>\n      <td>1984-07-30</td>\n    </tr>\n    <tr>\n      <th>Morbid Angel</th>\n      <th>Altars of Madness</th>\n      <td>460416.0</td>\n      <td>9643752.0</td>\n      <td>[death metal, 1989, albums I own, old school d...</td>\n      <td>0e47ca20-9a60-3bd0-afe0-a1e090a75f5e</td>\n      <td>1989</td>\n    </tr>\n    <tr>\n      <th>Sepultura</th>\n      <th>Beneath the Remains</th>\n      <td>494850.0</td>\n      <td>10305247.0</td>\n      <td>[thrash metal, death metal, albums I own, 1989...</td>\n      <td>e15200cf-7606-4ce8-b6b1-8e73b7161b88</td>\n      <td>1989-11-05</td>\n    </tr>\n    <tr>\n      <th rowspan=\"2\" valign=\"top\">Slayer</th>\n      <th>Reign in Blood</th>\n      <td>1027288.0</td>\n      <td>18550929.0</td>\n      <td>[thrash metal, albums I own, metal, speed meta...</td>\n      <td>e80dcb10-f532-4da1-9458-afd541e4a9ea</td>\n      <td>1986-10-07</td>\n    </tr>\n    <tr>\n      <th>Show No Mercy</th>\n      <td>264496.0</td>\n      <td>5402359.0</td>\n      <td>[thrash metal, speed metal, 1983, albums I own...</td>\n      <td>15baf22c-46ed-4ad9-81b8-2d5ca4eb9347</td>\n      <td>1983-12-01</td>\n    </tr>\n    <tr>\n      <th>Sodom</th>\n      <th>Agent Orange</th>\n      <td>100717.0</td>\n      <td>2372442.0</td>\n      <td>[thrash metal, albums I own, 1989, metal, spee...</td>\n      <td>046501f9-27b7-4f98-bdb8-32bd53835ede</td>\n      <td>1989-06-01</td>\n    </tr>\n    <tr>\n      <th rowspan=\"2\" valign=\"top\">Wintersun</th>\n      <th>Time I</th>\n      <td>51620.0</td>\n      <td>1831069.0</td>\n      <td>[Melodic Death Metal, symphonic metal, progres...</td>\n      <td>604eb43a-153c-4b63-92e6-ae59eca19505</td>\n      <td>2012-10-19</td>\n    </tr>\n    <tr>\n      <th>Wintersun</th>\n      <td>267328.0</td>\n      <td>8785127.0</td>\n      <td>[Melodic Death Metal, Power metal, folk metal,...</td>\n      <td>b4f9f593-9df6-4b7c-90c9-94fac1e96ef5</td>\n      <td>2004-08-25</td>\n    </tr>\n  </tbody>\n</table>\n</div>"
     },
     "metadata": {},
     "execution_count": 60
    }
   ],
   "source": [
    "cumulative_df['lastfm_info'] = cumulative_df.apply(lambda row: get_info(row), axis=1)\n",
    "cumulative_df['tags'] = cumulative_df.apply(lambda row: get_tags(row['lastfm_info']), axis=1)\n",
    "cumulative_df['url'] = cumulative_df.apply(lambda row: get_url(row['lastfm_info']), axis=1)\n",
    "cumulative_df['images'] = cumulative_df.apply(lambda row: get_img(row['lastfm_info']), axis=1)\n",
    "cumulative_df['mbid'] = cumulative_df.apply(lambda row: get_mbid(row['lastfm_info']), axis=1)\n",
    "cumulative_df['release_date'] = cumulative_df.apply(lambda row: get_release_date(row['mbid']), axis=1)\n",
    "cumulative_df.drop(['lastfm_info', 'url', 'images'], axis=1)\n"
   ]
  },
  {
   "cell_type": "code",
   "execution_count": 64,
   "metadata": {},
   "outputs": [],
   "source": [
    "attr_list = ['release_date', 'listeners', 'playcount', 'tags', 'mbid', 'url', 'images']\n",
    "cumulative_df[attr_list].sort_values(by='listeners', ascending=False).to_csv('./data/proc_MA_10k_albums.csv')"
   ]
  },
  {
   "cell_type": "code",
   "execution_count": null,
   "metadata": {},
   "outputs": [],
   "source": []
  },
  {
   "cell_type": "code",
   "execution_count": null,
   "metadata": {},
   "outputs": [],
   "source": []
  }
 ],
 "metadata": {
  "kernelspec": {
   "name": "python3",
   "display_name": "Python 3.8.6 64-bit ('spotify': conda)",
   "metadata": {
    "interpreter": {
     "hash": "09c2c1b5defbebc59ae7a620c62bdcef3a542ed552923c5cb78d598fa97c5338"
    }
   }
  },
  "language_info": {
   "codemirror_mode": {
    "name": "ipython",
    "version": 3
   },
   "file_extension": ".py",
   "mimetype": "text/x-python",
   "name": "python",
   "nbconvert_exporter": "python",
   "pygments_lexer": "ipython3",
   "version": "3.8.6-final"
  }
 },
 "nbformat": 4,
 "nbformat_minor": 4
}