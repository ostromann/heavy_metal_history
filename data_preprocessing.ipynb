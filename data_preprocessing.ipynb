{
 "cells": [
  {
   "source": [
    "# Imports and Constants\n",
    "\n",
    "An API key must be given. Registration required first."
   ],
   "cell_type": "markdown",
   "metadata": {}
  },
  {
   "cell_type": "code",
   "execution_count": 4,
   "metadata": {},
   "outputs": [
    {
     "output_type": "stream",
     "name": "stdout",
     "text": [
      "The autoreload extension is already loaded. To reload it, use:\n  %reload_ext autoreload\n"
     ]
    }
   ],
   "source": [
    "%load_ext autoreload"
   ]
  },
  {
   "cell_type": "code",
   "execution_count": 5,
   "metadata": {},
   "outputs": [],
   "source": [
    "%autoreload 2\n",
    "import requests\n",
    "import pandas as pd\n",
    "import numpy as np\n",
    "\n",
    "from datetime import datetime\n",
    "from dateutil import parser\n",
    "\n",
    "from dotenv import load_dotenv\n",
    "\n",
    "from tqdm import tqdm, tqdm_notebook\n",
    "\n",
    "# import metalhistory as mh\n",
    "import metalhistory.data_query_functions as dqf"
   ]
  },
  {
   "cell_type": "code",
   "execution_count": 6,
   "metadata": {},
   "outputs": [],
   "source": [
    "tqdm.pandas()"
   ]
  },
  {
   "source": [
    "# For devs: Overview of functions\n",
    "These functions from utils.py work (untested) so far:"
   ],
   "cell_type": "markdown",
   "metadata": {}
  },
  {
   "cell_type": "code",
   "execution_count": 7,
   "metadata": {},
   "outputs": [
    {
     "output_type": "stream",
     "name": "stdout",
     "text": [
      "Generated API Request: http://ws.audioscrobbler.com/2.0/?&api_key=2e171c2f29c3f9b0258954e2edb289c3&method=album.getinfo&artist=Death&album=Symbolic&format=json\n"
     ]
    },
    {
     "output_type": "execute_result",
     "data": {
      "text/plain": [
       "{'name': 'Symbolic',\n",
       " 'artist': 'Death',\n",
       " 'mbid': '321a3c33-9310-4b9f-b104-762e465ec60f',\n",
       " 'url': 'https://www.last.fm/music/Death/Symbolic',\n",
       " 'image': [{'#text': 'https://lastfm.freetls.fastly.net/i/u/34s/459b51d39e5447e8c7f86ea0a8b34487.png',\n",
       "   'size': 'small'},\n",
       "  {'#text': 'https://lastfm.freetls.fastly.net/i/u/64s/459b51d39e5447e8c7f86ea0a8b34487.png',\n",
       "   'size': 'medium'},\n",
       "  {'#text': 'https://lastfm.freetls.fastly.net/i/u/174s/459b51d39e5447e8c7f86ea0a8b34487.png',\n",
       "   'size': 'large'},\n",
       "  {'#text': 'https://lastfm.freetls.fastly.net/i/u/300x300/459b51d39e5447e8c7f86ea0a8b34487.png',\n",
       "   'size': 'extralarge'},\n",
       "  {'#text': 'https://lastfm.freetls.fastly.net/i/u/300x300/459b51d39e5447e8c7f86ea0a8b34487.png',\n",
       "   'size': 'mega'},\n",
       "  {'#text': 'https://lastfm.freetls.fastly.net/i/u/300x300/459b51d39e5447e8c7f86ea0a8b34487.png',\n",
       "   'size': ''}],\n",
       " 'listeners': '180443',\n",
       " 'playcount': '5710284',\n",
       " 'tracks': {'track': [{'name': 'Symbolic',\n",
       "    'url': 'https://www.last.fm/music/Death/_/Symbolic',\n",
       "    'duration': '393',\n",
       "    '@attr': {'rank': '1'},\n",
       "    'streamable': {'#text': '0', 'fulltrack': '0'},\n",
       "    'artist': {'name': 'Death',\n",
       "     'mbid': 'fbff9a95-e3f5-47ca-a747-e38e35b31fd8',\n",
       "     'url': 'https://www.last.fm/music/Death'}},\n",
       "   {'name': 'Zero Tolerance',\n",
       "    'url': 'https://www.last.fm/music/Death/_/Zero+Tolerance',\n",
       "    'duration': '302',\n",
       "    '@attr': {'rank': '2'},\n",
       "    'streamable': {'#text': '0', 'fulltrack': '0'},\n",
       "    'artist': {'name': 'Death',\n",
       "     'mbid': 'fbff9a95-e3f5-47ca-a747-e38e35b31fd8',\n",
       "     'url': 'https://www.last.fm/music/Death'}},\n",
       "   {'name': 'Empty Words',\n",
       "    'url': 'https://www.last.fm/music/Death/_/Empty+Words',\n",
       "    'duration': '382',\n",
       "    '@attr': {'rank': '3'},\n",
       "    'streamable': {'#text': '0', 'fulltrack': '0'},\n",
       "    'artist': {'name': 'Death',\n",
       "     'mbid': 'fbff9a95-e3f5-47ca-a747-e38e35b31fd8',\n",
       "     'url': 'https://www.last.fm/music/Death'}},\n",
       "   {'name': 'Sacred Serenity',\n",
       "    'url': 'https://www.last.fm/music/Death/_/Sacred+Serenity',\n",
       "    'duration': '267',\n",
       "    '@attr': {'rank': '4'},\n",
       "    'streamable': {'#text': '0', 'fulltrack': '0'},\n",
       "    'artist': {'name': 'Death',\n",
       "     'mbid': 'fbff9a95-e3f5-47ca-a747-e38e35b31fd8',\n",
       "     'url': 'https://www.last.fm/music/Death'}},\n",
       "   {'name': '1,000 Eyes',\n",
       "    'url': 'https://www.last.fm/music/Death/_/1,000+Eyes',\n",
       "    'duration': '268',\n",
       "    '@attr': {'rank': '5'},\n",
       "    'streamable': {'#text': '0', 'fulltrack': '0'},\n",
       "    'artist': {'name': 'Death',\n",
       "     'mbid': 'fbff9a95-e3f5-47ca-a747-e38e35b31fd8',\n",
       "     'url': 'https://www.last.fm/music/Death'}},\n",
       "   {'name': 'Without Judgement',\n",
       "    'url': 'https://www.last.fm/music/Death/_/Without+Judgement',\n",
       "    'duration': '328',\n",
       "    '@attr': {'rank': '6'},\n",
       "    'streamable': {'#text': '0', 'fulltrack': '0'},\n",
       "    'artist': {'name': 'Death',\n",
       "     'mbid': 'fbff9a95-e3f5-47ca-a747-e38e35b31fd8',\n",
       "     'url': 'https://www.last.fm/music/Death'}},\n",
       "   {'name': 'Crystal Mountain',\n",
       "    'url': 'https://www.last.fm/music/Death/_/Crystal+Mountain',\n",
       "    'duration': '307',\n",
       "    '@attr': {'rank': '7'},\n",
       "    'streamable': {'#text': '0', 'fulltrack': '0'},\n",
       "    'artist': {'name': 'Death',\n",
       "     'mbid': 'fbff9a95-e3f5-47ca-a747-e38e35b31fd8',\n",
       "     'url': 'https://www.last.fm/music/Death'}},\n",
       "   {'name': 'Misanthrope',\n",
       "    'url': 'https://www.last.fm/music/Death/_/Misanthrope',\n",
       "    'duration': '303',\n",
       "    '@attr': {'rank': '8'},\n",
       "    'streamable': {'#text': '0', 'fulltrack': '0'},\n",
       "    'artist': {'name': 'Death',\n",
       "     'mbid': 'fbff9a95-e3f5-47ca-a747-e38e35b31fd8',\n",
       "     'url': 'https://www.last.fm/music/Death'}},\n",
       "   {'name': 'Perennial Quest',\n",
       "    'url': 'https://www.last.fm/music/Death/_/Perennial+Quest',\n",
       "    'duration': '501',\n",
       "    '@attr': {'rank': '9'},\n",
       "    'streamable': {'#text': '0', 'fulltrack': '0'},\n",
       "    'artist': {'name': 'Death',\n",
       "     'mbid': 'fbff9a95-e3f5-47ca-a747-e38e35b31fd8',\n",
       "     'url': 'https://www.last.fm/music/Death'}}]},\n",
       " 'tags': {'tag': [{'name': 'death metal',\n",
       "    'url': 'https://www.last.fm/tag/death+metal'},\n",
       "   {'name': 'progressive death metal',\n",
       "    'url': 'https://www.last.fm/tag/progressive+death+metal'},\n",
       "   {'name': 'Technical Death Metal',\n",
       "    'url': 'https://www.last.fm/tag/Technical+Death+Metal'},\n",
       "   {'name': 'albums I own', 'url': 'https://www.last.fm/tag/albums+I+own'},\n",
       "   {'name': 'metal', 'url': 'https://www.last.fm/tag/metal'}]},\n",
       " 'wiki': {'published': '25 Jan 2012, 21:55',\n",
       "  'summary': 'Symbolic is the sixth album by American death metal band Death. The album was released on March 21, 1995 through Roadrunner Records. The album was remastered and reissued on April 1, 2008 with five bonus tracks.\\n\\nLike its predecessors, the album is progressive and technically advanced. It also has higher production values than previous albums, with considerably less static on its overall sound. It is notable that the average song length on this album is around five minutes <a href=\"http://www.last.fm/music/Death/Symbolic\">Read more on Last.fm</a>.',\n",
       "  'content': 'Symbolic is the sixth album by American death metal band Death. The album was released on March 21, 1995 through Roadrunner Records. The album was remastered and reissued on April 1, 2008 with five bonus tracks.\\n\\nLike its predecessors, the album is progressive and technically advanced. It also has higher production values than previous albums, with considerably less static on its overall sound. It is notable that the average song length on this album is around five minutes, while it was around four minutes on Human and Individual Thought Patterns, perhaps due to slowed down song tempos closer to that of traditional death metal. It was also the first album to feature Kelly Conlon on bass. Chuck Schuldiner\\'s growl also became noticeably higher on this release, which continued with their next (and last) studio album The Sound of Perseverance and culminated with their cover of Judas Priest\\'s \"Painkiller\".\\n\\nNo video was released for the album, but \"Empty Words\" was released as a single.\\n\\n\"Symbolic\" was covered by Scariot on their album Momentum Shift, and \"Crystal Mountain\" by Epica on their single \"Quietus (Silent Reverie)\".\\n\\nMetal-Rules.com ranks the album as the 7th greatest extreme metal album and the 58th greatest heavy metal album of all time. <a href=\"http://www.last.fm/music/Death/Symbolic\">Read more on Last.fm</a>. User-contributed text is available under the Creative Commons By-SA License; additional terms may apply.'}}"
      ]
     },
     "metadata": {},
     "execution_count": 7
    }
   ],
   "source": [
    "lastfm = dqf.LastFM()\n",
    "lastfm.get_album_info('Death', 'Symbolic', verbose=1)\n",
    "# lastfm.get_album_matches('Burzum', 'Filosofem',  verbose=1)\n",
    "# lastfm.get_track_info('Black Sabbath', 'Paranoid', 'War Pigs', verbose=1)"
   ]
  },
  {
   "source": [
    "# Data Preprocessing"
   ],
   "cell_type": "markdown",
   "metadata": {}
  },
  {
   "cell_type": "code",
   "execution_count": 39,
   "metadata": {},
   "outputs": [
    {
     "output_type": "execute_result",
     "data": {
      "text/plain": [
       "                   artist                album  MA_score\n",
       "0                  Slayer       Reign in Blood     36.01\n",
       "1               Metallica         Kill 'Em All     33.39\n",
       "2            Hades Archer          Penis Metal     32.67\n",
       "3             Iron Maiden          Iron Maiden     32.38\n",
       "4               Metallica    Master of Puppets     31.83\n",
       "...                   ...                  ...       ...\n",
       "9995          Iron Maiden  Live at the Rainbow      1.92\n",
       "9996                 Jorn         Worldchanger      1.92\n",
       "9997           Juggernaut       Trouble Within      1.92\n",
       "9998  Lacrimas Profundere           Memorandum      1.92\n",
       "9999        Light Bringer   Scenes of Infinity      1.92\n",
       "\n",
       "[10000 rows x 3 columns]"
      ],
      "text/html": "<div>\n<style scoped>\n    .dataframe tbody tr th:only-of-type {\n        vertical-align: middle;\n    }\n\n    .dataframe tbody tr th {\n        vertical-align: top;\n    }\n\n    .dataframe thead th {\n        text-align: right;\n    }\n</style>\n<table border=\"1\" class=\"dataframe\">\n  <thead>\n    <tr style=\"text-align: right;\">\n      <th></th>\n      <th>artist</th>\n      <th>album</th>\n      <th>MA_score</th>\n    </tr>\n  </thead>\n  <tbody>\n    <tr>\n      <th>0</th>\n      <td>Slayer</td>\n      <td>Reign in Blood</td>\n      <td>36.01</td>\n    </tr>\n    <tr>\n      <th>1</th>\n      <td>Metallica</td>\n      <td>Kill 'Em All</td>\n      <td>33.39</td>\n    </tr>\n    <tr>\n      <th>2</th>\n      <td>Hades Archer</td>\n      <td>Penis Metal</td>\n      <td>32.67</td>\n    </tr>\n    <tr>\n      <th>3</th>\n      <td>Iron Maiden</td>\n      <td>Iron Maiden</td>\n      <td>32.38</td>\n    </tr>\n    <tr>\n      <th>4</th>\n      <td>Metallica</td>\n      <td>Master of Puppets</td>\n      <td>31.83</td>\n    </tr>\n    <tr>\n      <th>...</th>\n      <td>...</td>\n      <td>...</td>\n      <td>...</td>\n    </tr>\n    <tr>\n      <th>9995</th>\n      <td>Iron Maiden</td>\n      <td>Live at the Rainbow</td>\n      <td>1.92</td>\n    </tr>\n    <tr>\n      <th>9996</th>\n      <td>Jorn</td>\n      <td>Worldchanger</td>\n      <td>1.92</td>\n    </tr>\n    <tr>\n      <th>9997</th>\n      <td>Juggernaut</td>\n      <td>Trouble Within</td>\n      <td>1.92</td>\n    </tr>\n    <tr>\n      <th>9998</th>\n      <td>Lacrimas Profundere</td>\n      <td>Memorandum</td>\n      <td>1.92</td>\n    </tr>\n    <tr>\n      <th>9999</th>\n      <td>Light Bringer</td>\n      <td>Scenes of Infinity</td>\n      <td>1.92</td>\n    </tr>\n  </tbody>\n</table>\n<p>10000 rows × 3 columns</p>\n</div>"
     },
     "metadata": {},
     "execution_count": 39
    }
   ],
   "source": [
    "df_csv = pd.read_csv('data/MA_10k_albums.csv')\n",
    "# df_csv = df_csv.dropna(axis=0)\n",
    "df_csv"
   ]
  },
  {
   "source": [
    "## Collected all instances of an album"
   ],
   "cell_type": "markdown",
   "metadata": {}
  },
  {
   "cell_type": "code",
   "execution_count": 40,
   "metadata": {
    "tags": []
   },
   "outputs": [
    {
     "output_type": "display_data",
     "data": {
      "text/plain": "artists:   0%|          | 0/15 [00:00<?, ?it/s]",
      "application/vnd.jupyter.widget-view+json": {
       "version_major": 2,
       "version_minor": 0,
       "model_id": "c2c1df7dfeb54a4e953a67877d4b423d"
      }
     },
     "metadata": {}
    },
    {
     "output_type": "stream",
     "name": "stdout",
     "text": [
      "Querying for Slayer - Reign in Blood\n"
     ]
    },
    {
     "output_type": "display_data",
     "data": {
      "text/plain": "album matches:   0%|          | 0/50 [00:00<?, ?it/s]",
      "application/vnd.jupyter.widget-view+json": {
       "version_major": 2,
       "version_minor": 0,
       "model_id": "30bacf07a2ff4cd591cb5d27dc281783"
      }
     },
     "metadata": {}
    },
    {
     "output_type": "stream",
     "name": "stdout",
     "text": [
      "Kept 44 out of 50 matches for Slayer - Reign in Blood\n\nQuerying for Metallica - Kill 'Em All\n"
     ]
    },
    {
     "output_type": "display_data",
     "data": {
      "text/plain": "album matches:   0%|          | 0/50 [00:00<?, ?it/s]",
      "application/vnd.jupyter.widget-view+json": {
       "version_major": 2,
       "version_minor": 0,
       "model_id": "299f9d0abae042afa3aa74329688ff85"
      }
     },
     "metadata": {}
    },
    {
     "output_type": "stream",
     "name": "stdout",
     "text": [
      "Kept 29 out of 50 matches for Metallica - Kill 'Em All\n\nQuerying for Hades Archer - Penis Metal\n"
     ]
    },
    {
     "output_type": "display_data",
     "data": {
      "text/plain": "album matches:   0%|          | 0/21 [00:00<?, ?it/s]",
      "application/vnd.jupyter.widget-view+json": {
       "version_major": 2,
       "version_minor": 0,
       "model_id": "ad1d21f5548f4f84b13e2233037449dd"
      }
     },
     "metadata": {}
    },
    {
     "output_type": "stream",
     "name": "stdout",
     "text": [
      "Kept 7 out of 21 matches for Hades Archer - Penis Metal\n\nQuerying for Iron Maiden - Iron Maiden\n"
     ]
    },
    {
     "output_type": "display_data",
     "data": {
      "text/plain": "album matches:   0%|          | 0/50 [00:00<?, ?it/s]",
      "application/vnd.jupyter.widget-view+json": {
       "version_major": 2,
       "version_minor": 0,
       "model_id": "8cd1231f7ec945f896e1834a7b6a88a2"
      }
     },
     "metadata": {}
    },
    {
     "output_type": "stream",
     "name": "stdout",
     "text": [
      "Kept 50 out of 50 matches for Iron Maiden - Iron Maiden\n\nQuerying for Metallica - Master of Puppets\n"
     ]
    },
    {
     "output_type": "display_data",
     "data": {
      "text/plain": "album matches:   0%|          | 0/50 [00:00<?, ?it/s]",
      "application/vnd.jupyter.widget-view+json": {
       "version_major": 2,
       "version_minor": 0,
       "model_id": "a55fc2277fb9459da7deda5c403affe8"
      }
     },
     "metadata": {}
    },
    {
     "output_type": "stream",
     "name": "stdout",
     "text": [
      "Kept 35 out of 50 matches for Metallica - Master of Puppets\n\nQuerying for Iron Maiden - The Number of the Beast\n"
     ]
    },
    {
     "output_type": "display_data",
     "data": {
      "text/plain": "album matches:   0%|          | 0/50 [00:00<?, ?it/s]",
      "application/vnd.jupyter.widget-view+json": {
       "version_major": 2,
       "version_minor": 0,
       "model_id": "92eb174d1a8e4e0e8e18a97708902073"
      }
     },
     "metadata": {}
    },
    {
     "output_type": "stream",
     "name": "stdout",
     "text": [
      "Kept 41 out of 50 matches for Iron Maiden - The Number of the Beast\n\nQuerying for Megadeth - Rust in Peace\n"
     ]
    },
    {
     "output_type": "display_data",
     "data": {
      "text/plain": "album matches:   0%|          | 0/50 [00:00<?, ?it/s]",
      "application/vnd.jupyter.widget-view+json": {
       "version_major": 2,
       "version_minor": 0,
       "model_id": "89f4ce74b0414cb4884d5b92936faabc"
      }
     },
     "metadata": {}
    },
    {
     "output_type": "stream",
     "name": "stdout",
     "text": [
      "Kept 47 out of 50 matches for Megadeth - Rust in Peace\n\nQuerying for Agalloch - The Mantle\n"
     ]
    },
    {
     "output_type": "display_data",
     "data": {
      "text/plain": "album matches:   0%|          | 0/50 [00:00<?, ?it/s]",
      "application/vnd.jupyter.widget-view+json": {
       "version_major": 2,
       "version_minor": 0,
       "model_id": "88656097728545d6b4f46f51a2a02548"
      }
     },
     "metadata": {}
    },
    {
     "output_type": "stream",
     "name": "stdout",
     "text": [
      "Kept 11 out of 50 matches for Agalloch - The Mantle\n\nQuerying for Metallica - Ride the Lightning\n"
     ]
    },
    {
     "output_type": "display_data",
     "data": {
      "text/plain": "album matches:   0%|          | 0/50 [00:00<?, ?it/s]",
      "application/vnd.jupyter.widget-view+json": {
       "version_major": 2,
       "version_minor": 0,
       "model_id": "6fdb47e49d0f487ebe9650d53b9ec0a5"
      }
     },
     "metadata": {}
    },
    {
     "output_type": "stream",
     "name": "stdout",
     "text": [
      "Kept 40 out of 50 matches for Metallica - Ride the Lightning\n\nQuerying for Black Sabbath - Paranoid\n"
     ]
    },
    {
     "output_type": "display_data",
     "data": {
      "text/plain": "album matches:   0%|          | 0/50 [00:00<?, ?it/s]",
      "application/vnd.jupyter.widget-view+json": {
       "version_major": 2,
       "version_minor": 0,
       "model_id": "ab26e66d11b44c44a8ff61f7ef817e37"
      }
     },
     "metadata": {}
    },
    {
     "output_type": "stream",
     "name": "stdout",
     "text": [
      "Kept 17 out of 50 matches for Black Sabbath - Paranoid\n\nQuerying for Morbid Angel - Altars of Madness\n"
     ]
    },
    {
     "output_type": "display_data",
     "data": {
      "text/plain": "album matches:   0%|          | 0/50 [00:00<?, ?it/s]",
      "application/vnd.jupyter.widget-view+json": {
       "version_major": 2,
       "version_minor": 0,
       "model_id": "fe1d02cf69404d9d912d7bdda2854968"
      }
     },
     "metadata": {}
    },
    {
     "output_type": "stream",
     "name": "stdout",
     "text": [
      "Kept 45 out of 50 matches for Morbid Angel - Altars of Madness\n\nQuerying for Burzum - Hvis lyset tar oss\n"
     ]
    },
    {
     "output_type": "display_data",
     "data": {
      "text/plain": "album matches:   0%|          | 0/49 [00:00<?, ?it/s]",
      "application/vnd.jupyter.widget-view+json": {
       "version_major": 2,
       "version_minor": 0,
       "model_id": "939d20c60ab448f4bf0c26acfa703410"
      }
     },
     "metadata": {}
    },
    {
     "output_type": "stream",
     "name": "stdout",
     "text": [
      "Kept 39 out of 49 matches for Burzum - Hvis lyset tar oss\n\nQuerying for Burzum - Filosofem\n"
     ]
    },
    {
     "output_type": "display_data",
     "data": {
      "text/plain": "album matches:   0%|          | 0/50 [00:00<?, ?it/s]",
      "application/vnd.jupyter.widget-view+json": {
       "version_major": 2,
       "version_minor": 0,
       "model_id": "0a07cd2bd9b74c12ac8e394822cfddff"
      }
     },
     "metadata": {}
    },
    {
     "output_type": "stream",
     "name": "stdout",
     "text": [
      "Kept 17 out of 50 matches for Burzum - Filosofem\n\nQuerying for Death - Symbolic\n"
     ]
    },
    {
     "output_type": "display_data",
     "data": {
      "text/plain": "album matches:   0%|          | 0/50 [00:00<?, ?it/s]",
      "application/vnd.jupyter.widget-view+json": {
       "version_major": 2,
       "version_minor": 0,
       "model_id": "63594e1a953c41a08a7a786fa3b5ad69"
      }
     },
     "metadata": {}
    },
    {
     "output_type": "stream",
     "name": "stdout",
     "text": [
      "Kept 24 out of 50 matches for Death - Symbolic\n\nQuerying for Dissection - Storm of the Light's Bane\n"
     ]
    },
    {
     "output_type": "display_data",
     "data": {
      "text/plain": "album matches:   0%|          | 0/50 [00:00<?, ?it/s]",
      "application/vnd.jupyter.widget-view+json": {
       "version_major": 2,
       "version_minor": 0,
       "model_id": "f9e3a7355f4046478edd40995984c8ba"
      }
     },
     "metadata": {}
    },
    {
     "output_type": "stream",
     "name": "stdout",
     "text": [
      "Kept 49 out of 50 matches for Dissection - Storm of the Light's Bane\n\n"
     ]
    }
   ],
   "source": [
    "lastfm = dqf.LastFM()\n",
    "results_df = pd.DataFrame()\n",
    "\n",
    "LIMIT=100\n",
    "\n",
    "df_head = df_csv.head(LIMIT)\n",
    "\n",
    "for idx, row in tqdm_notebook(df_head.iterrows(), total=df_head.shape[0], desc='artists'):\n",
    "    artist = row['artist']\n",
    "    album = row['album']\n",
    "    \n",
    "    print('Querying for', artist, '-', album)\n",
    "    matches = list(lastfm.get_album_matches(artist, album)['results']['albummatches'].values())[0]\n",
    "    # print(matches)\n",
    "\n",
    "    nr_matches =  len(matches)\n",
    "    nr_kept_matches = 0\n",
    "\n",
    "    for match in tqdm_notebook(matches, desc='album matches', leave=False):\n",
    "        if match['artist'] == artist:\n",
    "            results_df = results_df.append({\n",
    "                'artist': artist,\n",
    "                'album': album,\n",
    "                'album_instance': match['name'],\n",
    "                'lastfm_info': lastfm.get_album_info(match['artist'], match['name'])\n",
    "            }, ignore_index=True)\n",
    "            nr_kept_matches += 1        \n",
    "    print('Kept', nr_kept_matches, 'out of', nr_matches, 'matches for', artist, '-', album, end='\\n\\n')"
   ]
  },
  {
   "cell_type": "code",
   "execution_count": 41,
   "metadata": {},
   "outputs": [
    {
     "output_type": "execute_result",
     "data": {
      "text/plain": [
       "                         album  \\\n",
       "0               Reign in Blood   \n",
       "1               Reign in Blood   \n",
       "2               Reign in Blood   \n",
       "3               Reign in Blood   \n",
       "4               Reign in Blood   \n",
       "..                         ...   \n",
       "490  Storm of the Light's Bane   \n",
       "491  Storm of the Light's Bane   \n",
       "492  Storm of the Light's Bane   \n",
       "493  Storm of the Light's Bane   \n",
       "494  Storm of the Light's Bane   \n",
       "\n",
       "                                        album_instance      artist  \\\n",
       "0                                       Reign in Blood      Slayer   \n",
       "1                            Reign In Blood (Expanded)      Slayer   \n",
       "2                    Reign In Blood (Expanded Edition)      Slayer   \n",
       "3                        Reign In Blood (1994 Reissue)      Slayer   \n",
       "4                          Reign In Blood (Remastered)      Slayer   \n",
       "..                                                 ...         ...   \n",
       "490                Storm Of The Light's Bane [Disc 01]  Dissection   \n",
       "491                    Storm Of The Light's Bane Bonus  Dissection   \n",
       "492  Storm Of The Light's Bane \\\\\\\\ Where Dead Ange...  Dissection   \n",
       "493    Storm of the Light's Bane Ultimate Reissue CD 2  Dissection   \n",
       "494  Storm Of The Light's Bane (Japan Press, Digita...  Dissection   \n",
       "\n",
       "                                           lastfm_info  \n",
       "0    {'name': 'Reign in Blood', 'artist': 'Slayer',...  \n",
       "1    {'name': 'Reign In Blood (Expanded)', 'artist'...  \n",
       "2    {'name': 'Reign In Blood (Expanded Edition)', ...  \n",
       "3    {'name': 'Reign In Blood (1994 Reissue)', 'art...  \n",
       "4    {'name': 'Reign In Blood (Remastered)', 'artis...  \n",
       "..                                                 ...  \n",
       "490  {'name': 'Storm Of The Light's Bane [Disc 01]'...  \n",
       "491  {'name': 'Storm Of The Light's Bane Bonus', 'a...  \n",
       "492  {'name': 'Storm Of The Light's Bane \\\\\\\\ Where...  \n",
       "493  {'name': 'Storm of the Light's Bane Ultimate R...  \n",
       "494  {'name': 'Storm Of The Light's Bane (Japan Pre...  \n",
       "\n",
       "[495 rows x 4 columns]"
      ],
      "text/html": "<div>\n<style scoped>\n    .dataframe tbody tr th:only-of-type {\n        vertical-align: middle;\n    }\n\n    .dataframe tbody tr th {\n        vertical-align: top;\n    }\n\n    .dataframe thead th {\n        text-align: right;\n    }\n</style>\n<table border=\"1\" class=\"dataframe\">\n  <thead>\n    <tr style=\"text-align: right;\">\n      <th></th>\n      <th>album</th>\n      <th>album_instance</th>\n      <th>artist</th>\n      <th>lastfm_info</th>\n    </tr>\n  </thead>\n  <tbody>\n    <tr>\n      <th>0</th>\n      <td>Reign in Blood</td>\n      <td>Reign in Blood</td>\n      <td>Slayer</td>\n      <td>{'name': 'Reign in Blood', 'artist': 'Slayer',...</td>\n    </tr>\n    <tr>\n      <th>1</th>\n      <td>Reign in Blood</td>\n      <td>Reign In Blood (Expanded)</td>\n      <td>Slayer</td>\n      <td>{'name': 'Reign In Blood (Expanded)', 'artist'...</td>\n    </tr>\n    <tr>\n      <th>2</th>\n      <td>Reign in Blood</td>\n      <td>Reign In Blood (Expanded Edition)</td>\n      <td>Slayer</td>\n      <td>{'name': 'Reign In Blood (Expanded Edition)', ...</td>\n    </tr>\n    <tr>\n      <th>3</th>\n      <td>Reign in Blood</td>\n      <td>Reign In Blood (1994 Reissue)</td>\n      <td>Slayer</td>\n      <td>{'name': 'Reign In Blood (1994 Reissue)', 'art...</td>\n    </tr>\n    <tr>\n      <th>4</th>\n      <td>Reign in Blood</td>\n      <td>Reign In Blood (Remastered)</td>\n      <td>Slayer</td>\n      <td>{'name': 'Reign In Blood (Remastered)', 'artis...</td>\n    </tr>\n    <tr>\n      <th>...</th>\n      <td>...</td>\n      <td>...</td>\n      <td>...</td>\n      <td>...</td>\n    </tr>\n    <tr>\n      <th>490</th>\n      <td>Storm of the Light's Bane</td>\n      <td>Storm Of The Light's Bane [Disc 01]</td>\n      <td>Dissection</td>\n      <td>{'name': 'Storm Of The Light's Bane [Disc 01]'...</td>\n    </tr>\n    <tr>\n      <th>491</th>\n      <td>Storm of the Light's Bane</td>\n      <td>Storm Of The Light's Bane Bonus</td>\n      <td>Dissection</td>\n      <td>{'name': 'Storm Of The Light's Bane Bonus', 'a...</td>\n    </tr>\n    <tr>\n      <th>492</th>\n      <td>Storm of the Light's Bane</td>\n      <td>Storm Of The Light's Bane \\\\\\\\ Where Dead Ange...</td>\n      <td>Dissection</td>\n      <td>{'name': 'Storm Of The Light's Bane \\\\\\\\ Where...</td>\n    </tr>\n    <tr>\n      <th>493</th>\n      <td>Storm of the Light's Bane</td>\n      <td>Storm of the Light's Bane Ultimate Reissue CD 2</td>\n      <td>Dissection</td>\n      <td>{'name': 'Storm of the Light's Bane Ultimate R...</td>\n    </tr>\n    <tr>\n      <th>494</th>\n      <td>Storm of the Light's Bane</td>\n      <td>Storm Of The Light's Bane (Japan Press, Digita...</td>\n      <td>Dissection</td>\n      <td>{'name': 'Storm Of The Light's Bane (Japan Pre...</td>\n    </tr>\n  </tbody>\n</table>\n<p>495 rows × 4 columns</p>\n</div>"
     },
     "metadata": {},
     "execution_count": 41
    }
   ],
   "source": [
    "results_df"
   ]
  },
  {
   "source": [
    "Add some entries of the lastfm info as column to the dataframe."
   ],
   "cell_type": "markdown",
   "metadata": {}
  },
  {
   "cell_type": "code",
   "execution_count": 42,
   "metadata": {},
   "outputs": [
    {
     "output_type": "stream",
     "name": "stderr",
     "text": [
      "100%|██████████| 495/495 [00:00<00:00, 142399.21it/s]\n",
      "100%|██████████| 495/495 [00:00<00:00, 140901.29it/s]\n"
     ]
    },
    {
     "output_type": "execute_result",
     "data": {
      "text/plain": [
       "                         album  \\\n",
       "0               Reign in Blood   \n",
       "1               Reign in Blood   \n",
       "2               Reign in Blood   \n",
       "3               Reign in Blood   \n",
       "4               Reign in Blood   \n",
       "..                         ...   \n",
       "490  Storm of the Light's Bane   \n",
       "491  Storm of the Light's Bane   \n",
       "492  Storm of the Light's Bane   \n",
       "493  Storm of the Light's Bane   \n",
       "494  Storm of the Light's Bane   \n",
       "\n",
       "                                        album_instance      artist  \\\n",
       "0                                       Reign in Blood      Slayer   \n",
       "1                            Reign In Blood (Expanded)      Slayer   \n",
       "2                    Reign In Blood (Expanded Edition)      Slayer   \n",
       "3                        Reign In Blood (1994 Reissue)      Slayer   \n",
       "4                          Reign In Blood (Remastered)      Slayer   \n",
       "..                                                 ...         ...   \n",
       "490                Storm Of The Light's Bane [Disc 01]  Dissection   \n",
       "491                    Storm Of The Light's Bane Bonus  Dissection   \n",
       "492  Storm Of The Light's Bane \\\\\\\\ Where Dead Ange...  Dissection   \n",
       "493    Storm of the Light's Bane Ultimate Reissue CD 2  Dissection   \n",
       "494  Storm Of The Light's Bane (Japan Press, Digita...  Dissection   \n",
       "\n",
       "                                           lastfm_info  listeners  playcount  \n",
       "0    {'name': 'Reign in Blood', 'artist': 'Slayer',...     822151   15579798  \n",
       "1    {'name': 'Reign In Blood (Expanded)', 'artist'...     165687    2127792  \n",
       "2    {'name': 'Reign In Blood (Expanded Edition)', ...      12823     372560  \n",
       "3    {'name': 'Reign In Blood (1994 Reissue)', 'art...       4856     130026  \n",
       "4    {'name': 'Reign In Blood (Remastered)', 'artis...       2092      75516  \n",
       "..                                                 ...        ...        ...  \n",
       "490  {'name': 'Storm Of The Light's Bane [Disc 01]'...          1        573  \n",
       "491  {'name': 'Storm Of The Light's Bane Bonus', 'a...          4        527  \n",
       "492  {'name': 'Storm Of The Light's Bane \\\\\\\\ Where...         10        265  \n",
       "493  {'name': 'Storm of the Light's Bane Ultimate R...          1        266  \n",
       "494  {'name': 'Storm Of The Light's Bane (Japan Pre...         17        296  \n",
       "\n",
       "[495 rows x 6 columns]"
      ],
      "text/html": "<div>\n<style scoped>\n    .dataframe tbody tr th:only-of-type {\n        vertical-align: middle;\n    }\n\n    .dataframe tbody tr th {\n        vertical-align: top;\n    }\n\n    .dataframe thead th {\n        text-align: right;\n    }\n</style>\n<table border=\"1\" class=\"dataframe\">\n  <thead>\n    <tr style=\"text-align: right;\">\n      <th></th>\n      <th>album</th>\n      <th>album_instance</th>\n      <th>artist</th>\n      <th>lastfm_info</th>\n      <th>listeners</th>\n      <th>playcount</th>\n    </tr>\n  </thead>\n  <tbody>\n    <tr>\n      <th>0</th>\n      <td>Reign in Blood</td>\n      <td>Reign in Blood</td>\n      <td>Slayer</td>\n      <td>{'name': 'Reign in Blood', 'artist': 'Slayer',...</td>\n      <td>822151</td>\n      <td>15579798</td>\n    </tr>\n    <tr>\n      <th>1</th>\n      <td>Reign in Blood</td>\n      <td>Reign In Blood (Expanded)</td>\n      <td>Slayer</td>\n      <td>{'name': 'Reign In Blood (Expanded)', 'artist'...</td>\n      <td>165687</td>\n      <td>2127792</td>\n    </tr>\n    <tr>\n      <th>2</th>\n      <td>Reign in Blood</td>\n      <td>Reign In Blood (Expanded Edition)</td>\n      <td>Slayer</td>\n      <td>{'name': 'Reign In Blood (Expanded Edition)', ...</td>\n      <td>12823</td>\n      <td>372560</td>\n    </tr>\n    <tr>\n      <th>3</th>\n      <td>Reign in Blood</td>\n      <td>Reign In Blood (1994 Reissue)</td>\n      <td>Slayer</td>\n      <td>{'name': 'Reign In Blood (1994 Reissue)', 'art...</td>\n      <td>4856</td>\n      <td>130026</td>\n    </tr>\n    <tr>\n      <th>4</th>\n      <td>Reign in Blood</td>\n      <td>Reign In Blood (Remastered)</td>\n      <td>Slayer</td>\n      <td>{'name': 'Reign In Blood (Remastered)', 'artis...</td>\n      <td>2092</td>\n      <td>75516</td>\n    </tr>\n    <tr>\n      <th>...</th>\n      <td>...</td>\n      <td>...</td>\n      <td>...</td>\n      <td>...</td>\n      <td>...</td>\n      <td>...</td>\n    </tr>\n    <tr>\n      <th>490</th>\n      <td>Storm of the Light's Bane</td>\n      <td>Storm Of The Light's Bane [Disc 01]</td>\n      <td>Dissection</td>\n      <td>{'name': 'Storm Of The Light's Bane [Disc 01]'...</td>\n      <td>1</td>\n      <td>573</td>\n    </tr>\n    <tr>\n      <th>491</th>\n      <td>Storm of the Light's Bane</td>\n      <td>Storm Of The Light's Bane Bonus</td>\n      <td>Dissection</td>\n      <td>{'name': 'Storm Of The Light's Bane Bonus', 'a...</td>\n      <td>4</td>\n      <td>527</td>\n    </tr>\n    <tr>\n      <th>492</th>\n      <td>Storm of the Light's Bane</td>\n      <td>Storm Of The Light's Bane \\\\\\\\ Where Dead Ange...</td>\n      <td>Dissection</td>\n      <td>{'name': 'Storm Of The Light's Bane \\\\\\\\ Where...</td>\n      <td>10</td>\n      <td>265</td>\n    </tr>\n    <tr>\n      <th>493</th>\n      <td>Storm of the Light's Bane</td>\n      <td>Storm of the Light's Bane Ultimate Reissue CD 2</td>\n      <td>Dissection</td>\n      <td>{'name': 'Storm of the Light's Bane Ultimate R...</td>\n      <td>1</td>\n      <td>266</td>\n    </tr>\n    <tr>\n      <th>494</th>\n      <td>Storm of the Light's Bane</td>\n      <td>Storm Of The Light's Bane (Japan Press, Digita...</td>\n      <td>Dissection</td>\n      <td>{'name': 'Storm Of The Light's Bane (Japan Pre...</td>\n      <td>17</td>\n      <td>296</td>\n    </tr>\n  </tbody>\n</table>\n<p>495 rows × 6 columns</p>\n</div>"
     },
     "metadata": {},
     "execution_count": 42
    }
   ],
   "source": [
    "df = results_df\n",
    "df['listeners'] = df.progress_apply(lambda row: int(row['lastfm_info']['listeners']), axis=1)\n",
    "df['playcount'] = df.progress_apply(lambda row: int(row['lastfm_info']['playcount']), axis=1)\n",
    "df"
   ]
  },
  {
   "source": [
    "Sum up the different entries that correspond to the same album:"
   ],
   "cell_type": "markdown",
   "metadata": {}
  },
  {
   "cell_type": "code",
   "execution_count": 43,
   "metadata": {},
   "outputs": [
    {
     "output_type": "execute_result",
     "data": {
      "text/plain": [
       "                                         listeners  playcount\n",
       "artist        album                                          \n",
       "Agalloch      The Mantle                    352832   12132834\n",
       "Black Sabbath Paranoid                     1937226   21612793\n",
       "Burzum        Filosofem                     594290   13026055\n",
       "              Hvis lyset tar oss            224814    3189025\n",
       "Death         Symbolic                      251175    6732890\n",
       "Dissection    Storm of the Light's Bane     378476    9735078\n",
       "Hades Archer  Penis Metal                      489       9519\n",
       "Iron Maiden   Iron Maiden                  8061592  137694269\n",
       "              The Number of the Beast      1071172   15060267\n",
       "Megadeth      Rust in Peace                 767270   16163950\n",
       "Metallica     Kill 'Em All                  673071   16147392\n",
       "              Master of Puppets            1231824   25628896\n",
       "              Ride the Lightning           1163720   23614081\n",
       "Morbid Angel  Altars of Madness             460416    9643752\n",
       "Slayer        Reign in Blood               1027288   18550929"
      ],
      "text/html": "<div>\n<style scoped>\n    .dataframe tbody tr th:only-of-type {\n        vertical-align: middle;\n    }\n\n    .dataframe tbody tr th {\n        vertical-align: top;\n    }\n\n    .dataframe thead th {\n        text-align: right;\n    }\n</style>\n<table border=\"1\" class=\"dataframe\">\n  <thead>\n    <tr style=\"text-align: right;\">\n      <th></th>\n      <th></th>\n      <th>listeners</th>\n      <th>playcount</th>\n    </tr>\n    <tr>\n      <th>artist</th>\n      <th>album</th>\n      <th></th>\n      <th></th>\n    </tr>\n  </thead>\n  <tbody>\n    <tr>\n      <th>Agalloch</th>\n      <th>The Mantle</th>\n      <td>352832</td>\n      <td>12132834</td>\n    </tr>\n    <tr>\n      <th>Black Sabbath</th>\n      <th>Paranoid</th>\n      <td>1937226</td>\n      <td>21612793</td>\n    </tr>\n    <tr>\n      <th rowspan=\"2\" valign=\"top\">Burzum</th>\n      <th>Filosofem</th>\n      <td>594290</td>\n      <td>13026055</td>\n    </tr>\n    <tr>\n      <th>Hvis lyset tar oss</th>\n      <td>224814</td>\n      <td>3189025</td>\n    </tr>\n    <tr>\n      <th>Death</th>\n      <th>Symbolic</th>\n      <td>251175</td>\n      <td>6732890</td>\n    </tr>\n    <tr>\n      <th>Dissection</th>\n      <th>Storm of the Light's Bane</th>\n      <td>378476</td>\n      <td>9735078</td>\n    </tr>\n    <tr>\n      <th>Hades Archer</th>\n      <th>Penis Metal</th>\n      <td>489</td>\n      <td>9519</td>\n    </tr>\n    <tr>\n      <th rowspan=\"2\" valign=\"top\">Iron Maiden</th>\n      <th>Iron Maiden</th>\n      <td>8061592</td>\n      <td>137694269</td>\n    </tr>\n    <tr>\n      <th>The Number of the Beast</th>\n      <td>1071172</td>\n      <td>15060267</td>\n    </tr>\n    <tr>\n      <th>Megadeth</th>\n      <th>Rust in Peace</th>\n      <td>767270</td>\n      <td>16163950</td>\n    </tr>\n    <tr>\n      <th rowspan=\"3\" valign=\"top\">Metallica</th>\n      <th>Kill 'Em All</th>\n      <td>673071</td>\n      <td>16147392</td>\n    </tr>\n    <tr>\n      <th>Master of Puppets</th>\n      <td>1231824</td>\n      <td>25628896</td>\n    </tr>\n    <tr>\n      <th>Ride the Lightning</th>\n      <td>1163720</td>\n      <td>23614081</td>\n    </tr>\n    <tr>\n      <th>Morbid Angel</th>\n      <th>Altars of Madness</th>\n      <td>460416</td>\n      <td>9643752</td>\n    </tr>\n    <tr>\n      <th>Slayer</th>\n      <th>Reign in Blood</th>\n      <td>1027288</td>\n      <td>18550929</td>\n    </tr>\n  </tbody>\n</table>\n</div>"
     },
     "metadata": {},
     "execution_count": 43
    }
   ],
   "source": [
    "#TODO: Should probably be part of the utils.py\n",
    "cumulative_df = df.drop(['album_instance'], axis=1).groupby(['artist','album']).sum()\n",
    "cumulative_df"
   ]
  },
  {
   "source": [
    "## Get tags of the most relevant album match"
   ],
   "cell_type": "markdown",
   "metadata": {}
  },
  {
   "cell_type": "code",
   "execution_count": 46,
   "metadata": {},
   "outputs": [],
   "source": [
    "#TODO: Move these functions to the data_query_functions.py !\n",
    "def get_tags(x):\n",
    "    tag_names = []\n",
    "    for tag in x['tags']['tag']:\n",
    "        tag_names.append(tag['name'])\n",
    "    return tag_names\n",
    "\n",
    "def get_url(x):\n",
    "    return x['url']\n",
    "\n",
    "def get_info(x):\n",
    "    artist = x.name[0]\n",
    "    album = x.name[1]\n",
    "    lastfm = dqf.LastFM()\n",
    "    album_info = lastfm.get_album_info(artist, album)\n",
    "    return album_info\n",
    "\n",
    "def get_img(x):\n",
    "    return x['image']\n",
    "\n",
    "# TODO: Release date not present. Should use another API for that?\n",
    "# def get_releasedate(x):\n",
    "#     return x['releasedate']\n",
    "\n",
    "def get_mbid(x):\n",
    "    try:\n",
    "        return x['mbid']\n",
    "    except KeyError:\n",
    "        return None\n",
    "\n",
    "import requests\n",
    "import pandas as pd\n",
    "import xmltodict\n",
    "\n",
    "def get_release_date(x):\n",
    "    print(x)\n",
    "    if x is not None:\n",
    "        response = requests.get('http://musicbrainz.org/ws/2/release/' + str(x) + '?inc=release-groups&fmt=xml')\n",
    "        response_dict = xmltodict.parse(response.text)\n",
    "        return response_dict['metadata']['release']['release-group']['first-release-date']\n",
    "    else:\n",
    "        return None\n",
    "\n",
    "\n"
   ]
  },
  {
   "cell_type": "code",
   "execution_count": 47,
   "metadata": {},
   "outputs": [
    {
     "output_type": "stream",
     "name": "stdout",
     "text": [
      "7ac99528-77a9-3624-84b7-3400f6f56e47\n",
      "2982b682-36ea-3605-b959-04e746736070\n",
      "1ce9177c-62a0-4403-a7ee-7359026fcbf6\n",
      "b6928219-0772-39ac-8156-91a609b2fd5e\n",
      "321a3c33-9310-4b9f-b104-762e465ec60f\n",
      "76a7d348-f6e2-4e36-b529-b3cc003c3231\n",
      "None\n",
      "25da813d-4dbd-32c0-aef0-307e790f0709\n",
      "6ea83f20-d053-3495-bc25-76aa61da13ab\n",
      "2b904e74-daba-397c-a151-bafb125ceb44\n",
      "c06ed440-f25d-3127-aadb-ebe9c685b3d8\n",
      "b30c90dd-83f1-4897-ae36-58fb3935e5ee\n",
      "2236dd07-a2f3-466a-973d-9069001a89da\n",
      "0e47ca20-9a60-3bd0-afe0-a1e090a75f5e\n",
      "e80dcb10-f532-4da1-9458-afd541e4a9ea\n"
     ]
    },
    {
     "output_type": "execute_result",
     "data": {
      "text/plain": [
       "                                         listeners  playcount  \\\n",
       "artist        album                                             \n",
       "Agalloch      The Mantle                    352832   12132834   \n",
       "Black Sabbath Paranoid                     1937226   21612793   \n",
       "Burzum        Filosofem                     594290   13026055   \n",
       "              Hvis lyset tar oss            224814    3189025   \n",
       "Death         Symbolic                      251175    6732890   \n",
       "Dissection    Storm of the Light's Bane     378476    9735078   \n",
       "Hades Archer  Penis Metal                      489       9519   \n",
       "Iron Maiden   Iron Maiden                  8061592  137694269   \n",
       "              The Number of the Beast      1071172   15060267   \n",
       "Megadeth      Rust in Peace                 767270   16163950   \n",
       "Metallica     Kill 'Em All                  673071   16147392   \n",
       "              Master of Puppets            1231824   25628896   \n",
       "              Ride the Lightning           1163720   23614081   \n",
       "Morbid Angel  Altars of Madness             460416    9643752   \n",
       "Slayer        Reign in Blood               1027288   18550929   \n",
       "\n",
       "                                                                                      tags  \\\n",
       "artist        album                                                                          \n",
       "Agalloch      The Mantle                 [folk metal, doom metal, black metal, albums I...   \n",
       "Black Sabbath Paranoid                   [heavy metal, hard rock, albums I own, classic...   \n",
       "Burzum        Filosofem                  [black metal, ambient black metal, atmospheric...   \n",
       "              Hvis lyset tar oss         [black metal, ambient black metal, atmospheric...   \n",
       "Death         Symbolic                   [death metal, progressive death metal, Technic...   \n",
       "Dissection    Storm of the Light's Bane  [black metal, melodic black metal, albums I ow...   \n",
       "Hades Archer  Penis Metal                                                               []   \n",
       "Iron Maiden   Iron Maiden                 [heavy metal, albums I own, NWOBHM, metal, 1980]   \n",
       "              The Number of the Beast    [heavy metal, albums I own, NWOBHM, metal, Iro...   \n",
       "Megadeth      Rust in Peace              [thrash metal, albums I own, speed metal, heav...   \n",
       "Metallica     Kill 'Em All               [thrash metal, albums I own, metal, heavy meta...   \n",
       "              Master of Puppets          [thrash metal, albums I own, metal, heavy meta...   \n",
       "              Ride the Lightning         [thrash metal, albums I own, metal, heavy meta...   \n",
       "Morbid Angel  Altars of Madness          [death metal, 1989, albums I own, old school d...   \n",
       "Slayer        Reign in Blood             [thrash metal, albums I own, metal, speed meta...   \n",
       "\n",
       "                                                                         mbid  \\\n",
       "artist        album                                                             \n",
       "Agalloch      The Mantle                 7ac99528-77a9-3624-84b7-3400f6f56e47   \n",
       "Black Sabbath Paranoid                   2982b682-36ea-3605-b959-04e746736070   \n",
       "Burzum        Filosofem                  1ce9177c-62a0-4403-a7ee-7359026fcbf6   \n",
       "              Hvis lyset tar oss         b6928219-0772-39ac-8156-91a609b2fd5e   \n",
       "Death         Symbolic                   321a3c33-9310-4b9f-b104-762e465ec60f   \n",
       "Dissection    Storm of the Light's Bane  76a7d348-f6e2-4e36-b529-b3cc003c3231   \n",
       "Hades Archer  Penis Metal                                                None   \n",
       "Iron Maiden   Iron Maiden                25da813d-4dbd-32c0-aef0-307e790f0709   \n",
       "              The Number of the Beast    6ea83f20-d053-3495-bc25-76aa61da13ab   \n",
       "Megadeth      Rust in Peace              2b904e74-daba-397c-a151-bafb125ceb44   \n",
       "Metallica     Kill 'Em All               c06ed440-f25d-3127-aadb-ebe9c685b3d8   \n",
       "              Master of Puppets          b30c90dd-83f1-4897-ae36-58fb3935e5ee   \n",
       "              Ride the Lightning         2236dd07-a2f3-466a-973d-9069001a89da   \n",
       "Morbid Angel  Altars of Madness          0e47ca20-9a60-3bd0-afe0-a1e090a75f5e   \n",
       "Slayer        Reign in Blood             e80dcb10-f532-4da1-9458-afd541e4a9ea   \n",
       "\n",
       "                                        release_date  \n",
       "artist        album                                   \n",
       "Agalloch      The Mantle                  2002-08-13  \n",
       "Black Sabbath Paranoid                    1970-09-18  \n",
       "Burzum        Filosofem                   1996-01-31  \n",
       "              Hvis lyset tar oss             1994-04  \n",
       "Death         Symbolic                    1995-03-21  \n",
       "Dissection    Storm of the Light's Bane   1995-11-17  \n",
       "Hades Archer  Penis Metal                       None  \n",
       "Iron Maiden   Iron Maiden                 1980-04-14  \n",
       "              The Number of the Beast     1982-04-26  \n",
       "Megadeth      Rust in Peace               1990-09-21  \n",
       "Metallica     Kill 'Em All                1983-07-25  \n",
       "              Master of Puppets                 2003  \n",
       "              Ride the Lightning          1984-07-30  \n",
       "Morbid Angel  Altars of Madness                 1989  \n",
       "Slayer        Reign in Blood              1986-10-07  "
      ],
      "text/html": "<div>\n<style scoped>\n    .dataframe tbody tr th:only-of-type {\n        vertical-align: middle;\n    }\n\n    .dataframe tbody tr th {\n        vertical-align: top;\n    }\n\n    .dataframe thead th {\n        text-align: right;\n    }\n</style>\n<table border=\"1\" class=\"dataframe\">\n  <thead>\n    <tr style=\"text-align: right;\">\n      <th></th>\n      <th></th>\n      <th>listeners</th>\n      <th>playcount</th>\n      <th>tags</th>\n      <th>mbid</th>\n      <th>release_date</th>\n    </tr>\n    <tr>\n      <th>artist</th>\n      <th>album</th>\n      <th></th>\n      <th></th>\n      <th></th>\n      <th></th>\n      <th></th>\n    </tr>\n  </thead>\n  <tbody>\n    <tr>\n      <th>Agalloch</th>\n      <th>The Mantle</th>\n      <td>352832</td>\n      <td>12132834</td>\n      <td>[folk metal, doom metal, black metal, albums I...</td>\n      <td>7ac99528-77a9-3624-84b7-3400f6f56e47</td>\n      <td>2002-08-13</td>\n    </tr>\n    <tr>\n      <th>Black Sabbath</th>\n      <th>Paranoid</th>\n      <td>1937226</td>\n      <td>21612793</td>\n      <td>[heavy metal, hard rock, albums I own, classic...</td>\n      <td>2982b682-36ea-3605-b959-04e746736070</td>\n      <td>1970-09-18</td>\n    </tr>\n    <tr>\n      <th rowspan=\"2\" valign=\"top\">Burzum</th>\n      <th>Filosofem</th>\n      <td>594290</td>\n      <td>13026055</td>\n      <td>[black metal, ambient black metal, atmospheric...</td>\n      <td>1ce9177c-62a0-4403-a7ee-7359026fcbf6</td>\n      <td>1996-01-31</td>\n    </tr>\n    <tr>\n      <th>Hvis lyset tar oss</th>\n      <td>224814</td>\n      <td>3189025</td>\n      <td>[black metal, ambient black metal, atmospheric...</td>\n      <td>b6928219-0772-39ac-8156-91a609b2fd5e</td>\n      <td>1994-04</td>\n    </tr>\n    <tr>\n      <th>Death</th>\n      <th>Symbolic</th>\n      <td>251175</td>\n      <td>6732890</td>\n      <td>[death metal, progressive death metal, Technic...</td>\n      <td>321a3c33-9310-4b9f-b104-762e465ec60f</td>\n      <td>1995-03-21</td>\n    </tr>\n    <tr>\n      <th>Dissection</th>\n      <th>Storm of the Light's Bane</th>\n      <td>378476</td>\n      <td>9735078</td>\n      <td>[black metal, melodic black metal, albums I ow...</td>\n      <td>76a7d348-f6e2-4e36-b529-b3cc003c3231</td>\n      <td>1995-11-17</td>\n    </tr>\n    <tr>\n      <th>Hades Archer</th>\n      <th>Penis Metal</th>\n      <td>489</td>\n      <td>9519</td>\n      <td>[]</td>\n      <td>None</td>\n      <td>None</td>\n    </tr>\n    <tr>\n      <th rowspan=\"2\" valign=\"top\">Iron Maiden</th>\n      <th>Iron Maiden</th>\n      <td>8061592</td>\n      <td>137694269</td>\n      <td>[heavy metal, albums I own, NWOBHM, metal, 1980]</td>\n      <td>25da813d-4dbd-32c0-aef0-307e790f0709</td>\n      <td>1980-04-14</td>\n    </tr>\n    <tr>\n      <th>The Number of the Beast</th>\n      <td>1071172</td>\n      <td>15060267</td>\n      <td>[heavy metal, albums I own, NWOBHM, metal, Iro...</td>\n      <td>6ea83f20-d053-3495-bc25-76aa61da13ab</td>\n      <td>1982-04-26</td>\n    </tr>\n    <tr>\n      <th>Megadeth</th>\n      <th>Rust in Peace</th>\n      <td>767270</td>\n      <td>16163950</td>\n      <td>[thrash metal, albums I own, speed metal, heav...</td>\n      <td>2b904e74-daba-397c-a151-bafb125ceb44</td>\n      <td>1990-09-21</td>\n    </tr>\n    <tr>\n      <th rowspan=\"3\" valign=\"top\">Metallica</th>\n      <th>Kill 'Em All</th>\n      <td>673071</td>\n      <td>16147392</td>\n      <td>[thrash metal, albums I own, metal, heavy meta...</td>\n      <td>c06ed440-f25d-3127-aadb-ebe9c685b3d8</td>\n      <td>1983-07-25</td>\n    </tr>\n    <tr>\n      <th>Master of Puppets</th>\n      <td>1231824</td>\n      <td>25628896</td>\n      <td>[thrash metal, albums I own, metal, heavy meta...</td>\n      <td>b30c90dd-83f1-4897-ae36-58fb3935e5ee</td>\n      <td>2003</td>\n    </tr>\n    <tr>\n      <th>Ride the Lightning</th>\n      <td>1163720</td>\n      <td>23614081</td>\n      <td>[thrash metal, albums I own, metal, heavy meta...</td>\n      <td>2236dd07-a2f3-466a-973d-9069001a89da</td>\n      <td>1984-07-30</td>\n    </tr>\n    <tr>\n      <th>Morbid Angel</th>\n      <th>Altars of Madness</th>\n      <td>460416</td>\n      <td>9643752</td>\n      <td>[death metal, 1989, albums I own, old school d...</td>\n      <td>0e47ca20-9a60-3bd0-afe0-a1e090a75f5e</td>\n      <td>1989</td>\n    </tr>\n    <tr>\n      <th>Slayer</th>\n      <th>Reign in Blood</th>\n      <td>1027288</td>\n      <td>18550929</td>\n      <td>[thrash metal, albums I own, metal, speed meta...</td>\n      <td>e80dcb10-f532-4da1-9458-afd541e4a9ea</td>\n      <td>1986-10-07</td>\n    </tr>\n  </tbody>\n</table>\n</div>"
     },
     "metadata": {},
     "execution_count": 47
    }
   ],
   "source": [
    "cumulative_df['lastfm_info'] = cumulative_df.apply(lambda row: get_info(row), axis=1)\n",
    "cumulative_df['tags'] = cumulative_df.apply(lambda row: get_tags(row['lastfm_info']), axis=1)\n",
    "cumulative_df['url'] = cumulative_df.apply(lambda row: get_url(row['lastfm_info']), axis=1)\n",
    "cumulative_df['images'] = cumulative_df.apply(lambda row: get_img(row['lastfm_info']), axis=1)\n",
    "cumulative_df['mbid'] = cumulative_df.apply(lambda row: get_mbid(row['lastfm_info']), axis=1)\n",
    "cumulative_df['release_date'] = cumulative_df.apply(lambda row: get_release_date(row['mbid']), axis=1)\n",
    "cumulative_df.drop(['lastfm_info', 'url', 'images'], axis=1)\n"
   ]
  },
  {
   "cell_type": "code",
   "execution_count": 30,
   "metadata": {},
   "outputs": [],
   "source": [
    "cumulative_df.drop('lastfm_info', axis=1).sort_values(by='listeners', ascending=False).to_csv('./data/proc_MA_10k_albums.csv')"
   ]
  },
  {
   "cell_type": "code",
   "execution_count": null,
   "metadata": {},
   "outputs": [],
   "source": []
  },
  {
   "cell_type": "code",
   "execution_count": null,
   "metadata": {},
   "outputs": [],
   "source": []
  }
 ],
 "metadata": {
  "kernelspec": {
   "name": "python3",
   "display_name": "Python 3.8.6 64-bit ('spotify': conda)",
   "metadata": {
    "interpreter": {
     "hash": "09c2c1b5defbebc59ae7a620c62bdcef3a542ed552923c5cb78d598fa97c5338"
    }
   }
  },
  "language_info": {
   "codemirror_mode": {
    "name": "ipython",
    "version": 3
   },
   "file_extension": ".py",
   "mimetype": "text/x-python",
   "name": "python",
   "nbconvert_exporter": "python",
   "pygments_lexer": "ipython3",
   "version": "3.8.6-final"
  }
 },
 "nbformat": 4,
 "nbformat_minor": 4
}