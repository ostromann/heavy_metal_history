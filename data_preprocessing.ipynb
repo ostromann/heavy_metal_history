{
 "cells": [
  {
   "source": [
    "# Imports and Constants\n",
    "\n",
    "An API key must be given. Registration required first."
   ],
   "cell_type": "markdown",
   "metadata": {}
  },
  {
   "cell_type": "code",
   "execution_count": 1,
   "metadata": {},
   "outputs": [],
   "source": [
    "%load_ext autoreload"
   ]
  },
  {
   "cell_type": "code",
   "execution_count": 2,
   "metadata": {},
   "outputs": [],
   "source": [
    "%autoreload 2\n",
    "import requests\n",
    "import pandas as pd\n",
    "import numpy as np\n",
    "\n",
    "from datetime import datetime\n",
    "from dateutil import parser\n",
    "\n",
    "from dotenv import load_dotenv\n",
    "\n",
    "from tqdm import tqdm, tqdm_notebook\n",
    "\n",
    "# import metalhistory as mh\n",
    "import metalhistory.data_query_functions as dqf"
   ]
  },
  {
   "cell_type": "code",
   "execution_count": 3,
   "metadata": {},
   "outputs": [],
   "source": [
    "tqdm.pandas()"
   ]
  },
  {
   "source": [
    "# For devs: Overview of functions\n",
    "These functions from utils.py work (untested) so far:"
   ],
   "cell_type": "markdown",
   "metadata": {}
  },
  {
   "cell_type": "code",
   "execution_count": 4,
   "metadata": {},
   "outputs": [
    {
     "output_type": "stream",
     "name": "stdout",
     "text": [
      "Generated API Request: http://ws.audioscrobbler.com/2.0/?&api_key=2e171c2f29c3f9b0258954e2edb289c3&method=album.getinfo&artist=Death&album=Symbolic&format=json\n"
     ]
    },
    {
     "output_type": "execute_result",
     "data": {
      "text/plain": [
       "{'name': 'Symbolic',\n",
       " 'artist': 'Death',\n",
       " 'mbid': '321a3c33-9310-4b9f-b104-762e465ec60f',\n",
       " 'url': 'https://www.last.fm/music/Death/Symbolic',\n",
       " 'image': [{'#text': 'https://lastfm.freetls.fastly.net/i/u/34s/459b51d39e5447e8c7f86ea0a8b34487.png',\n",
       "   'size': 'small'},\n",
       "  {'#text': 'https://lastfm.freetls.fastly.net/i/u/64s/459b51d39e5447e8c7f86ea0a8b34487.png',\n",
       "   'size': 'medium'},\n",
       "  {'#text': 'https://lastfm.freetls.fastly.net/i/u/174s/459b51d39e5447e8c7f86ea0a8b34487.png',\n",
       "   'size': 'large'},\n",
       "  {'#text': 'https://lastfm.freetls.fastly.net/i/u/300x300/459b51d39e5447e8c7f86ea0a8b34487.png',\n",
       "   'size': 'extralarge'},\n",
       "  {'#text': 'https://lastfm.freetls.fastly.net/i/u/300x300/459b51d39e5447e8c7f86ea0a8b34487.png',\n",
       "   'size': 'mega'},\n",
       "  {'#text': 'https://lastfm.freetls.fastly.net/i/u/300x300/459b51d39e5447e8c7f86ea0a8b34487.png',\n",
       "   'size': ''}],\n",
       " 'listeners': '180443',\n",
       " 'playcount': '5710284',\n",
       " 'tracks': {'track': [{'name': 'Symbolic',\n",
       "    'url': 'https://www.last.fm/music/Death/_/Symbolic',\n",
       "    'duration': '393',\n",
       "    '@attr': {'rank': '1'},\n",
       "    'streamable': {'#text': '0', 'fulltrack': '0'},\n",
       "    'artist': {'name': 'Death',\n",
       "     'mbid': 'fbff9a95-e3f5-47ca-a747-e38e35b31fd8',\n",
       "     'url': 'https://www.last.fm/music/Death'}},\n",
       "   {'name': 'Zero Tolerance',\n",
       "    'url': 'https://www.last.fm/music/Death/_/Zero+Tolerance',\n",
       "    'duration': '302',\n",
       "    '@attr': {'rank': '2'},\n",
       "    'streamable': {'#text': '0', 'fulltrack': '0'},\n",
       "    'artist': {'name': 'Death',\n",
       "     'mbid': 'fbff9a95-e3f5-47ca-a747-e38e35b31fd8',\n",
       "     'url': 'https://www.last.fm/music/Death'}},\n",
       "   {'name': 'Empty Words',\n",
       "    'url': 'https://www.last.fm/music/Death/_/Empty+Words',\n",
       "    'duration': '382',\n",
       "    '@attr': {'rank': '3'},\n",
       "    'streamable': {'#text': '0', 'fulltrack': '0'},\n",
       "    'artist': {'name': 'Death',\n",
       "     'mbid': 'fbff9a95-e3f5-47ca-a747-e38e35b31fd8',\n",
       "     'url': 'https://www.last.fm/music/Death'}},\n",
       "   {'name': 'Sacred Serenity',\n",
       "    'url': 'https://www.last.fm/music/Death/_/Sacred+Serenity',\n",
       "    'duration': '267',\n",
       "    '@attr': {'rank': '4'},\n",
       "    'streamable': {'#text': '0', 'fulltrack': '0'},\n",
       "    'artist': {'name': 'Death',\n",
       "     'mbid': 'fbff9a95-e3f5-47ca-a747-e38e35b31fd8',\n",
       "     'url': 'https://www.last.fm/music/Death'}},\n",
       "   {'name': '1,000 Eyes',\n",
       "    'url': 'https://www.last.fm/music/Death/_/1,000+Eyes',\n",
       "    'duration': '268',\n",
       "    '@attr': {'rank': '5'},\n",
       "    'streamable': {'#text': '0', 'fulltrack': '0'},\n",
       "    'artist': {'name': 'Death',\n",
       "     'mbid': 'fbff9a95-e3f5-47ca-a747-e38e35b31fd8',\n",
       "     'url': 'https://www.last.fm/music/Death'}},\n",
       "   {'name': 'Without Judgement',\n",
       "    'url': 'https://www.last.fm/music/Death/_/Without+Judgement',\n",
       "    'duration': '328',\n",
       "    '@attr': {'rank': '6'},\n",
       "    'streamable': {'#text': '0', 'fulltrack': '0'},\n",
       "    'artist': {'name': 'Death',\n",
       "     'mbid': 'fbff9a95-e3f5-47ca-a747-e38e35b31fd8',\n",
       "     'url': 'https://www.last.fm/music/Death'}},\n",
       "   {'name': 'Crystal Mountain',\n",
       "    'url': 'https://www.last.fm/music/Death/_/Crystal+Mountain',\n",
       "    'duration': '307',\n",
       "    '@attr': {'rank': '7'},\n",
       "    'streamable': {'#text': '0', 'fulltrack': '0'},\n",
       "    'artist': {'name': 'Death',\n",
       "     'mbid': 'fbff9a95-e3f5-47ca-a747-e38e35b31fd8',\n",
       "     'url': 'https://www.last.fm/music/Death'}},\n",
       "   {'name': 'Misanthrope',\n",
       "    'url': 'https://www.last.fm/music/Death/_/Misanthrope',\n",
       "    'duration': '303',\n",
       "    '@attr': {'rank': '8'},\n",
       "    'streamable': {'#text': '0', 'fulltrack': '0'},\n",
       "    'artist': {'name': 'Death',\n",
       "     'mbid': 'fbff9a95-e3f5-47ca-a747-e38e35b31fd8',\n",
       "     'url': 'https://www.last.fm/music/Death'}},\n",
       "   {'name': 'Perennial Quest',\n",
       "    'url': 'https://www.last.fm/music/Death/_/Perennial+Quest',\n",
       "    'duration': '501',\n",
       "    '@attr': {'rank': '9'},\n",
       "    'streamable': {'#text': '0', 'fulltrack': '0'},\n",
       "    'artist': {'name': 'Death',\n",
       "     'mbid': 'fbff9a95-e3f5-47ca-a747-e38e35b31fd8',\n",
       "     'url': 'https://www.last.fm/music/Death'}}]},\n",
       " 'tags': {'tag': [{'name': 'death metal',\n",
       "    'url': 'https://www.last.fm/tag/death+metal'},\n",
       "   {'name': 'progressive death metal',\n",
       "    'url': 'https://www.last.fm/tag/progressive+death+metal'},\n",
       "   {'name': 'Technical Death Metal',\n",
       "    'url': 'https://www.last.fm/tag/Technical+Death+Metal'},\n",
       "   {'name': 'albums I own', 'url': 'https://www.last.fm/tag/albums+I+own'},\n",
       "   {'name': 'metal', 'url': 'https://www.last.fm/tag/metal'}]},\n",
       " 'wiki': {'published': '25 Jan 2012, 21:55',\n",
       "  'summary': 'Symbolic is the sixth album by American death metal band Death. The album was released on March 21, 1995 through Roadrunner Records. The album was remastered and reissued on April 1, 2008 with five bonus tracks.\\n\\nLike its predecessors, the album is progressive and technically advanced. It also has higher production values than previous albums, with considerably less static on its overall sound. It is notable that the average song length on this album is around five minutes <a href=\"http://www.last.fm/music/Death/Symbolic\">Read more on Last.fm</a>.',\n",
       "  'content': 'Symbolic is the sixth album by American death metal band Death. The album was released on March 21, 1995 through Roadrunner Records. The album was remastered and reissued on April 1, 2008 with five bonus tracks.\\n\\nLike its predecessors, the album is progressive and technically advanced. It also has higher production values than previous albums, with considerably less static on its overall sound. It is notable that the average song length on this album is around five minutes, while it was around four minutes on Human and Individual Thought Patterns, perhaps due to slowed down song tempos closer to that of traditional death metal. It was also the first album to feature Kelly Conlon on bass. Chuck Schuldiner\\'s growl also became noticeably higher on this release, which continued with their next (and last) studio album The Sound of Perseverance and culminated with their cover of Judas Priest\\'s \"Painkiller\".\\n\\nNo video was released for the album, but \"Empty Words\" was released as a single.\\n\\n\"Symbolic\" was covered by Scariot on their album Momentum Shift, and \"Crystal Mountain\" by Epica on their single \"Quietus (Silent Reverie)\".\\n\\nMetal-Rules.com ranks the album as the 7th greatest extreme metal album and the 58th greatest heavy metal album of all time. <a href=\"http://www.last.fm/music/Death/Symbolic\">Read more on Last.fm</a>. User-contributed text is available under the Creative Commons By-SA License; additional terms may apply.'}}"
      ]
     },
     "metadata": {},
     "execution_count": 4
    }
   ],
   "source": [
    "lastfm = dqf.LastFM()\n",
    "lastfm.get_album_info('Death', 'Symbolic', verbose=1)\n",
    "# lastfm.get_album_matches('Burzum', 'Filosofem',  verbose=1)\n",
    "# lastfm.get_track_info('Black Sabbath', 'Paranoid', 'War Pigs', verbose=1)"
   ]
  },
  {
   "source": [
    "# Data Preprocessing"
   ],
   "cell_type": "markdown",
   "metadata": {}
  },
  {
   "cell_type": "code",
   "execution_count": 5,
   "metadata": {},
   "outputs": [
    {
     "output_type": "execute_result",
     "data": {
      "text/plain": [
       "                   artist                album  MA_score\n",
       "0                  Slayer       Reign in Blood     36.01\n",
       "1               Metallica         Kill 'Em All     33.39\n",
       "2            Hades Archer          Penis Metal     32.67\n",
       "3             Iron Maiden          Iron Maiden     32.38\n",
       "4               Metallica    Master of Puppets     31.83\n",
       "...                   ...                  ...       ...\n",
       "9995          Iron Maiden  Live at the Rainbow      1.92\n",
       "9996                 Jorn         Worldchanger      1.92\n",
       "9997           Juggernaut       Trouble Within      1.92\n",
       "9998  Lacrimas Profundere           Memorandum      1.92\n",
       "9999        Light Bringer   Scenes of Infinity      1.92\n",
       "\n",
       "[10000 rows x 3 columns]"
      ],
      "text/html": "<div>\n<style scoped>\n    .dataframe tbody tr th:only-of-type {\n        vertical-align: middle;\n    }\n\n    .dataframe tbody tr th {\n        vertical-align: top;\n    }\n\n    .dataframe thead th {\n        text-align: right;\n    }\n</style>\n<table border=\"1\" class=\"dataframe\">\n  <thead>\n    <tr style=\"text-align: right;\">\n      <th></th>\n      <th>artist</th>\n      <th>album</th>\n      <th>MA_score</th>\n    </tr>\n  </thead>\n  <tbody>\n    <tr>\n      <th>0</th>\n      <td>Slayer</td>\n      <td>Reign in Blood</td>\n      <td>36.01</td>\n    </tr>\n    <tr>\n      <th>1</th>\n      <td>Metallica</td>\n      <td>Kill 'Em All</td>\n      <td>33.39</td>\n    </tr>\n    <tr>\n      <th>2</th>\n      <td>Hades Archer</td>\n      <td>Penis Metal</td>\n      <td>32.67</td>\n    </tr>\n    <tr>\n      <th>3</th>\n      <td>Iron Maiden</td>\n      <td>Iron Maiden</td>\n      <td>32.38</td>\n    </tr>\n    <tr>\n      <th>4</th>\n      <td>Metallica</td>\n      <td>Master of Puppets</td>\n      <td>31.83</td>\n    </tr>\n    <tr>\n      <th>...</th>\n      <td>...</td>\n      <td>...</td>\n      <td>...</td>\n    </tr>\n    <tr>\n      <th>9995</th>\n      <td>Iron Maiden</td>\n      <td>Live at the Rainbow</td>\n      <td>1.92</td>\n    </tr>\n    <tr>\n      <th>9996</th>\n      <td>Jorn</td>\n      <td>Worldchanger</td>\n      <td>1.92</td>\n    </tr>\n    <tr>\n      <th>9997</th>\n      <td>Juggernaut</td>\n      <td>Trouble Within</td>\n      <td>1.92</td>\n    </tr>\n    <tr>\n      <th>9998</th>\n      <td>Lacrimas Profundere</td>\n      <td>Memorandum</td>\n      <td>1.92</td>\n    </tr>\n    <tr>\n      <th>9999</th>\n      <td>Light Bringer</td>\n      <td>Scenes of Infinity</td>\n      <td>1.92</td>\n    </tr>\n  </tbody>\n</table>\n<p>10000 rows × 3 columns</p>\n</div>"
     },
     "metadata": {},
     "execution_count": 5
    }
   ],
   "source": [
    "df_csv = pd.read_csv('data/MA_10k_albums.csv')\n",
    "# df_csv = df_csv.dropna(axis=0)\n",
    "df_csv"
   ]
  },
  {
   "source": [
    "## Collected all instances of an album"
   ],
   "cell_type": "markdown",
   "metadata": {}
  },
  {
   "cell_type": "code",
   "execution_count": 6,
   "metadata": {
    "tags": []
   },
   "outputs": [
    {
     "output_type": "display_data",
     "data": {
      "text/plain": "artists:   0%|          | 0/5 [00:00<?, ?it/s]",
      "application/vnd.jupyter.widget-view+json": {
       "version_major": 2,
       "version_minor": 0,
       "model_id": "649228b598534e0dbdcdcc5267786579"
      }
     },
     "metadata": {}
    },
    {
     "output_type": "stream",
     "name": "stdout",
     "text": [
      "Querying for Slayer - Reign in Blood\n"
     ]
    },
    {
     "output_type": "display_data",
     "data": {
      "text/plain": "album matches:   0%|          | 0/50 [00:00<?, ?it/s]",
      "application/vnd.jupyter.widget-view+json": {
       "version_major": 2,
       "version_minor": 0,
       "model_id": "011b9ba147044d50a3388ec3984d9154"
      }
     },
     "metadata": {}
    },
    {
     "output_type": "stream",
     "name": "stdout",
     "text": [
      "Kept 44 out of 50 matches for Slayer - Reign in Blood\n\nQuerying for Metallica - Kill 'Em All\n"
     ]
    },
    {
     "output_type": "display_data",
     "data": {
      "text/plain": "album matches:   0%|          | 0/50 [00:00<?, ?it/s]",
      "application/vnd.jupyter.widget-view+json": {
       "version_major": 2,
       "version_minor": 0,
       "model_id": "bab9493493c244aebabf9a9f29c9c28f"
      }
     },
     "metadata": {}
    },
    {
     "output_type": "stream",
     "name": "stdout",
     "text": [
      "Kept 29 out of 50 matches for Metallica - Kill 'Em All\n\nQuerying for Hades Archer - Penis Metal\n"
     ]
    },
    {
     "output_type": "display_data",
     "data": {
      "text/plain": "album matches:   0%|          | 0/21 [00:00<?, ?it/s]",
      "application/vnd.jupyter.widget-view+json": {
       "version_major": 2,
       "version_minor": 0,
       "model_id": "1948beb4962c4a069e4f88800137f3d9"
      }
     },
     "metadata": {}
    },
    {
     "output_type": "stream",
     "name": "stdout",
     "text": [
      "Kept 7 out of 21 matches for Hades Archer - Penis Metal\n\nQuerying for Iron Maiden - Iron Maiden\n"
     ]
    },
    {
     "output_type": "display_data",
     "data": {
      "text/plain": "album matches:   0%|          | 0/50 [00:00<?, ?it/s]",
      "application/vnd.jupyter.widget-view+json": {
       "version_major": 2,
       "version_minor": 0,
       "model_id": "d3ed040de3c14a80a6a6a01ce6bbdbd8"
      }
     },
     "metadata": {}
    },
    {
     "output_type": "stream",
     "name": "stdout",
     "text": [
      "Kept 50 out of 50 matches for Iron Maiden - Iron Maiden\n\nQuerying for Metallica - Master of Puppets\n"
     ]
    },
    {
     "output_type": "display_data",
     "data": {
      "text/plain": "album matches:   0%|          | 0/50 [00:00<?, ?it/s]",
      "application/vnd.jupyter.widget-view+json": {
       "version_major": 2,
       "version_minor": 0,
       "model_id": "4ef7ec3cee1c4f7f9ad9476e770f839e"
      }
     },
     "metadata": {}
    },
    {
     "output_type": "stream",
     "name": "stdout",
     "text": [
      "Kept 35 out of 50 matches for Metallica - Master of Puppets\n\n"
     ]
    }
   ],
   "source": [
    "lastfm = dqf.LastFM()\n",
    "results_df = pd.DataFrame()\n",
    "\n",
    "LIMIT=5\n",
    "\n",
    "df_head = df_csv.head(LIMIT)\n",
    "\n",
    "for idx, row in tqdm_notebook(df_head.iterrows(), total=df_head.shape[0], desc='artists'):\n",
    "    artist = row['artist']\n",
    "    album = row['album']\n",
    "    \n",
    "    print('Querying for', artist, '-', album)\n",
    "    matches = list(lastfm.get_album_matches(artist, album)['results']['albummatches'].values())[0]\n",
    "    # print(matches)\n",
    "\n",
    "    nr_matches =  len(matches)\n",
    "    nr_kept_matches = 0\n",
    "\n",
    "    for match in tqdm_notebook(matches, desc='album matches', leave=False):\n",
    "        if match['artist'] == artist:\n",
    "            results_df = results_df.append({\n",
    "                'artist': artist,\n",
    "                'album': album,\n",
    "                'album_instance': match['name'],\n",
    "                'lastfm_info': lastfm.get_album_info(match['artist'], match['name'])\n",
    "            }, ignore_index=True)\n",
    "            nr_kept_matches += 1        \n",
    "    print('Kept', nr_kept_matches, 'out of', nr_matches, 'matches for', artist, '-', album, end='\\n\\n')"
   ]
  },
  {
   "cell_type": "code",
   "execution_count": 7,
   "metadata": {},
   "outputs": [
    {
     "output_type": "execute_result",
     "data": {
      "text/plain": [
       "                 album                             album_instance     artist  \\\n",
       "0       Reign in Blood                             Reign in Blood     Slayer   \n",
       "1       Reign in Blood                  Reign In Blood (Expanded)     Slayer   \n",
       "2       Reign in Blood          Reign In Blood (Expanded Edition)     Slayer   \n",
       "3       Reign in Blood              Reign In Blood (1994 Reissue)     Slayer   \n",
       "4       Reign in Blood                Reign In Blood (Remastered)     Slayer   \n",
       "..                 ...                                        ...        ...   \n",
       "160  Master of Puppets           Master Of Puppets (UK CD MFN 60)  Metallica   \n",
       "161  Master of Puppets  Master Of Puppets (Remastered) [Explicit]  Metallica   \n",
       "162  Master of Puppets             Master Of Puppets (UK Version)  Metallica   \n",
       "163  Master of Puppets                Master of Puppets {DCC 24K}  Metallica   \n",
       "164  Master of Puppets                   (1986) Master of Puppets  Metallica   \n",
       "\n",
       "                                           lastfm_info  \n",
       "0    {'name': 'Reign in Blood', 'artist': 'Slayer',...  \n",
       "1    {'name': 'Reign In Blood (Expanded)', 'artist'...  \n",
       "2    {'name': 'Reign In Blood (Expanded Edition)', ...  \n",
       "3    {'name': 'Reign In Blood (1994 Reissue)', 'art...  \n",
       "4    {'name': 'Reign In Blood (Remastered)', 'artis...  \n",
       "..                                                 ...  \n",
       "160  {'name': 'Master Of Puppets (UK CD MFN 60)', '...  \n",
       "161  {'name': 'Master Of Puppets (Remastered) [Expl...  \n",
       "162  {'name': 'Master Of Puppets (UK Version)', 'ar...  \n",
       "163  {'name': 'Master of Puppets {DCC 24K}', 'artis...  \n",
       "164  {'name': '(1986) Master of Puppets', 'artist':...  \n",
       "\n",
       "[165 rows x 4 columns]"
      ],
      "text/html": "<div>\n<style scoped>\n    .dataframe tbody tr th:only-of-type {\n        vertical-align: middle;\n    }\n\n    .dataframe tbody tr th {\n        vertical-align: top;\n    }\n\n    .dataframe thead th {\n        text-align: right;\n    }\n</style>\n<table border=\"1\" class=\"dataframe\">\n  <thead>\n    <tr style=\"text-align: right;\">\n      <th></th>\n      <th>album</th>\n      <th>album_instance</th>\n      <th>artist</th>\n      <th>lastfm_info</th>\n    </tr>\n  </thead>\n  <tbody>\n    <tr>\n      <th>0</th>\n      <td>Reign in Blood</td>\n      <td>Reign in Blood</td>\n      <td>Slayer</td>\n      <td>{'name': 'Reign in Blood', 'artist': 'Slayer',...</td>\n    </tr>\n    <tr>\n      <th>1</th>\n      <td>Reign in Blood</td>\n      <td>Reign In Blood (Expanded)</td>\n      <td>Slayer</td>\n      <td>{'name': 'Reign In Blood (Expanded)', 'artist'...</td>\n    </tr>\n    <tr>\n      <th>2</th>\n      <td>Reign in Blood</td>\n      <td>Reign In Blood (Expanded Edition)</td>\n      <td>Slayer</td>\n      <td>{'name': 'Reign In Blood (Expanded Edition)', ...</td>\n    </tr>\n    <tr>\n      <th>3</th>\n      <td>Reign in Blood</td>\n      <td>Reign In Blood (1994 Reissue)</td>\n      <td>Slayer</td>\n      <td>{'name': 'Reign In Blood (1994 Reissue)', 'art...</td>\n    </tr>\n    <tr>\n      <th>4</th>\n      <td>Reign in Blood</td>\n      <td>Reign In Blood (Remastered)</td>\n      <td>Slayer</td>\n      <td>{'name': 'Reign In Blood (Remastered)', 'artis...</td>\n    </tr>\n    <tr>\n      <th>...</th>\n      <td>...</td>\n      <td>...</td>\n      <td>...</td>\n      <td>...</td>\n    </tr>\n    <tr>\n      <th>160</th>\n      <td>Master of Puppets</td>\n      <td>Master Of Puppets (UK CD MFN 60)</td>\n      <td>Metallica</td>\n      <td>{'name': 'Master Of Puppets (UK CD MFN 60)', '...</td>\n    </tr>\n    <tr>\n      <th>161</th>\n      <td>Master of Puppets</td>\n      <td>Master Of Puppets (Remastered) [Explicit]</td>\n      <td>Metallica</td>\n      <td>{'name': 'Master Of Puppets (Remastered) [Expl...</td>\n    </tr>\n    <tr>\n      <th>162</th>\n      <td>Master of Puppets</td>\n      <td>Master Of Puppets (UK Version)</td>\n      <td>Metallica</td>\n      <td>{'name': 'Master Of Puppets (UK Version)', 'ar...</td>\n    </tr>\n    <tr>\n      <th>163</th>\n      <td>Master of Puppets</td>\n      <td>Master of Puppets {DCC 24K}</td>\n      <td>Metallica</td>\n      <td>{'name': 'Master of Puppets {DCC 24K}', 'artis...</td>\n    </tr>\n    <tr>\n      <th>164</th>\n      <td>Master of Puppets</td>\n      <td>(1986) Master of Puppets</td>\n      <td>Metallica</td>\n      <td>{'name': '(1986) Master of Puppets', 'artist':...</td>\n    </tr>\n  </tbody>\n</table>\n<p>165 rows × 4 columns</p>\n</div>"
     },
     "metadata": {},
     "execution_count": 7
    }
   ],
   "source": [
    "results_df"
   ]
  },
  {
   "source": [
    "Add some entries of the lastfm info as column to the dataframe."
   ],
   "cell_type": "markdown",
   "metadata": {}
  },
  {
   "cell_type": "code",
   "execution_count": 15,
   "metadata": {},
   "outputs": [
    {
     "output_type": "stream",
     "name": "stderr",
     "text": [
      "100%|██████████| 165/165 [00:00<00:00, 98555.99it/s]\n",
      "100%|██████████| 165/165 [00:00<00:00, 96927.19it/s]\n"
     ]
    },
    {
     "output_type": "execute_result",
     "data": {
      "text/plain": [
       "                 album                             album_instance     artist  \\\n",
       "0       Reign in Blood                             Reign in Blood     Slayer   \n",
       "1       Reign in Blood                  Reign In Blood (Expanded)     Slayer   \n",
       "2       Reign in Blood          Reign In Blood (Expanded Edition)     Slayer   \n",
       "3       Reign in Blood              Reign In Blood (1994 Reissue)     Slayer   \n",
       "4       Reign in Blood                Reign In Blood (Remastered)     Slayer   \n",
       "..                 ...                                        ...        ...   \n",
       "160  Master of Puppets           Master Of Puppets (UK CD MFN 60)  Metallica   \n",
       "161  Master of Puppets  Master Of Puppets (Remastered) [Explicit]  Metallica   \n",
       "162  Master of Puppets             Master Of Puppets (UK Version)  Metallica   \n",
       "163  Master of Puppets                Master of Puppets {DCC 24K}  Metallica   \n",
       "164  Master of Puppets                   (1986) Master of Puppets  Metallica   \n",
       "\n",
       "                                           lastfm_info  listeners  playcount  \n",
       "0    {'name': 'Reign in Blood', 'artist': 'Slayer',...     822151   15579798  \n",
       "1    {'name': 'Reign In Blood (Expanded)', 'artist'...     165687    2127792  \n",
       "2    {'name': 'Reign In Blood (Expanded Edition)', ...      12823     372560  \n",
       "3    {'name': 'Reign In Blood (1994 Reissue)', 'art...       4856     130026  \n",
       "4    {'name': 'Reign In Blood (Remastered)', 'artis...       2092      75516  \n",
       "..                                                 ...        ...        ...  \n",
       "160  {'name': 'Master Of Puppets (UK CD MFN 60)', '...        175       3179  \n",
       "161  {'name': 'Master Of Puppets (Remastered) [Expl...        307       2160  \n",
       "162  {'name': 'Master Of Puppets (UK Version)', 'ar...        650       3254  \n",
       "163  {'name': 'Master of Puppets {DCC 24K}', 'artis...        366       3066  \n",
       "164  {'name': '(1986) Master of Puppets', 'artist':...        249       5139  \n",
       "\n",
       "[165 rows x 6 columns]"
      ],
      "text/html": "<div>\n<style scoped>\n    .dataframe tbody tr th:only-of-type {\n        vertical-align: middle;\n    }\n\n    .dataframe tbody tr th {\n        vertical-align: top;\n    }\n\n    .dataframe thead th {\n        text-align: right;\n    }\n</style>\n<table border=\"1\" class=\"dataframe\">\n  <thead>\n    <tr style=\"text-align: right;\">\n      <th></th>\n      <th>album</th>\n      <th>album_instance</th>\n      <th>artist</th>\n      <th>lastfm_info</th>\n      <th>listeners</th>\n      <th>playcount</th>\n    </tr>\n  </thead>\n  <tbody>\n    <tr>\n      <th>0</th>\n      <td>Reign in Blood</td>\n      <td>Reign in Blood</td>\n      <td>Slayer</td>\n      <td>{'name': 'Reign in Blood', 'artist': 'Slayer',...</td>\n      <td>822151</td>\n      <td>15579798</td>\n    </tr>\n    <tr>\n      <th>1</th>\n      <td>Reign in Blood</td>\n      <td>Reign In Blood (Expanded)</td>\n      <td>Slayer</td>\n      <td>{'name': 'Reign In Blood (Expanded)', 'artist'...</td>\n      <td>165687</td>\n      <td>2127792</td>\n    </tr>\n    <tr>\n      <th>2</th>\n      <td>Reign in Blood</td>\n      <td>Reign In Blood (Expanded Edition)</td>\n      <td>Slayer</td>\n      <td>{'name': 'Reign In Blood (Expanded Edition)', ...</td>\n      <td>12823</td>\n      <td>372560</td>\n    </tr>\n    <tr>\n      <th>3</th>\n      <td>Reign in Blood</td>\n      <td>Reign In Blood (1994 Reissue)</td>\n      <td>Slayer</td>\n      <td>{'name': 'Reign In Blood (1994 Reissue)', 'art...</td>\n      <td>4856</td>\n      <td>130026</td>\n    </tr>\n    <tr>\n      <th>4</th>\n      <td>Reign in Blood</td>\n      <td>Reign In Blood (Remastered)</td>\n      <td>Slayer</td>\n      <td>{'name': 'Reign In Blood (Remastered)', 'artis...</td>\n      <td>2092</td>\n      <td>75516</td>\n    </tr>\n    <tr>\n      <th>...</th>\n      <td>...</td>\n      <td>...</td>\n      <td>...</td>\n      <td>...</td>\n      <td>...</td>\n      <td>...</td>\n    </tr>\n    <tr>\n      <th>160</th>\n      <td>Master of Puppets</td>\n      <td>Master Of Puppets (UK CD MFN 60)</td>\n      <td>Metallica</td>\n      <td>{'name': 'Master Of Puppets (UK CD MFN 60)', '...</td>\n      <td>175</td>\n      <td>3179</td>\n    </tr>\n    <tr>\n      <th>161</th>\n      <td>Master of Puppets</td>\n      <td>Master Of Puppets (Remastered) [Explicit]</td>\n      <td>Metallica</td>\n      <td>{'name': 'Master Of Puppets (Remastered) [Expl...</td>\n      <td>307</td>\n      <td>2160</td>\n    </tr>\n    <tr>\n      <th>162</th>\n      <td>Master of Puppets</td>\n      <td>Master Of Puppets (UK Version)</td>\n      <td>Metallica</td>\n      <td>{'name': 'Master Of Puppets (UK Version)', 'ar...</td>\n      <td>650</td>\n      <td>3254</td>\n    </tr>\n    <tr>\n      <th>163</th>\n      <td>Master of Puppets</td>\n      <td>Master of Puppets {DCC 24K}</td>\n      <td>Metallica</td>\n      <td>{'name': 'Master of Puppets {DCC 24K}', 'artis...</td>\n      <td>366</td>\n      <td>3066</td>\n    </tr>\n    <tr>\n      <th>164</th>\n      <td>Master of Puppets</td>\n      <td>(1986) Master of Puppets</td>\n      <td>Metallica</td>\n      <td>{'name': '(1986) Master of Puppets', 'artist':...</td>\n      <td>249</td>\n      <td>5139</td>\n    </tr>\n  </tbody>\n</table>\n<p>165 rows × 6 columns</p>\n</div>"
     },
     "metadata": {},
     "execution_count": 15
    }
   ],
   "source": [
    "df = results_df\n",
    "df['listeners'] = df.progress_apply(lambda row: int(row['lastfm_info']['listeners']), axis=1)\n",
    "df['playcount'] = df.progress_apply(lambda row: int(row['lastfm_info']['playcount']), axis=1)\n",
    "df"
   ]
  },
  {
   "source": [
    "Sum up the different entries that correspond to the same album:"
   ],
   "cell_type": "markdown",
   "metadata": {}
  },
  {
   "cell_type": "code",
   "execution_count": 16,
   "metadata": {},
   "outputs": [
    {
     "output_type": "execute_result",
     "data": {
      "text/plain": [
       "                                listeners  playcount\n",
       "artist       album                                  \n",
       "Hades Archer Penis Metal              489       9519\n",
       "Iron Maiden  Iron Maiden          8060736  137681269\n",
       "Metallica    Kill 'Em All          673071   16147372\n",
       "             Master of Puppets    1231515   25623793\n",
       "Slayer       Reign in Blood       1027288   18550929"
      ],
      "text/html": "<div>\n<style scoped>\n    .dataframe tbody tr th:only-of-type {\n        vertical-align: middle;\n    }\n\n    .dataframe tbody tr th {\n        vertical-align: top;\n    }\n\n    .dataframe thead th {\n        text-align: right;\n    }\n</style>\n<table border=\"1\" class=\"dataframe\">\n  <thead>\n    <tr style=\"text-align: right;\">\n      <th></th>\n      <th></th>\n      <th>listeners</th>\n      <th>playcount</th>\n    </tr>\n    <tr>\n      <th>artist</th>\n      <th>album</th>\n      <th></th>\n      <th></th>\n    </tr>\n  </thead>\n  <tbody>\n    <tr>\n      <th>Hades Archer</th>\n      <th>Penis Metal</th>\n      <td>489</td>\n      <td>9519</td>\n    </tr>\n    <tr>\n      <th>Iron Maiden</th>\n      <th>Iron Maiden</th>\n      <td>8060736</td>\n      <td>137681269</td>\n    </tr>\n    <tr>\n      <th rowspan=\"2\" valign=\"top\">Metallica</th>\n      <th>Kill 'Em All</th>\n      <td>673071</td>\n      <td>16147372</td>\n    </tr>\n    <tr>\n      <th>Master of Puppets</th>\n      <td>1231515</td>\n      <td>25623793</td>\n    </tr>\n    <tr>\n      <th>Slayer</th>\n      <th>Reign in Blood</th>\n      <td>1027288</td>\n      <td>18550929</td>\n    </tr>\n  </tbody>\n</table>\n</div>"
     },
     "metadata": {},
     "execution_count": 16
    }
   ],
   "source": [
    "#TODO: Should probably be part of the utils.py\n",
    "cumulative_df = df.drop(['album_instance'], axis=1).groupby(['artist','album']).sum()\n",
    "cumulative_df"
   ]
  },
  {
   "source": [
    "## Get tags of the most relevant album match"
   ],
   "cell_type": "markdown",
   "metadata": {}
  },
  {
   "cell_type": "code",
   "execution_count": 17,
   "metadata": {},
   "outputs": [],
   "source": [
    "#TODO: Move these functions to the data_query_functions.py !\n",
    "def get_tags(x):\n",
    "    tag_names = []\n",
    "    for tag in x['tags']['tag']:\n",
    "        tag_names.append(tag['name'])\n",
    "    return tag_names\n",
    "\n",
    "def get_url(x):\n",
    "    return x['url']\n",
    "\n",
    "def get_info(x):\n",
    "    artist = x.name[0]\n",
    "    album = x.name[1]\n",
    "    lastfm = dqf.LastFM()\n",
    "    album_info = lastfm.get_album_info(artist, album)\n",
    "    return album_info\n",
    "\n",
    "def get_img(x):\n",
    "    return x['image']\n",
    "\n",
    "# TODO: Release date not present. Should use another API for that?\n",
    "# def get_releasedate(x):\n",
    "#     return x['releasedate']\n"
   ]
  },
  {
   "cell_type": "code",
   "execution_count": 18,
   "metadata": {},
   "outputs": [
    {
     "output_type": "execute_result",
     "data": {
      "text/plain": [
       "                                listeners  playcount  \\\n",
       "artist       album                                     \n",
       "Hades Archer Penis Metal              489       9519   \n",
       "Iron Maiden  Iron Maiden          8060736  137681269   \n",
       "Metallica    Kill 'Em All          673071   16147372   \n",
       "             Master of Puppets    1231515   25623793   \n",
       "Slayer       Reign in Blood       1027288   18550929   \n",
       "\n",
       "                                                                      lastfm_info  \\\n",
       "artist       album                                                                  \n",
       "Hades Archer Penis Metal        {'name': 'Penis Metal', 'artist': 'Hades Arche...   \n",
       "Iron Maiden  Iron Maiden        {'name': 'Iron Maiden', 'artist': 'Iron Maiden...   \n",
       "Metallica    Kill 'Em All       {'name': 'Kill 'Em All', 'artist': 'Metallica'...   \n",
       "             Master of Puppets  {'name': 'Master of Puppets', 'artist': 'Metal...   \n",
       "Slayer       Reign in Blood     {'name': 'Reign in Blood', 'artist': 'Slayer',...   \n",
       "\n",
       "                                                                             tags  \\\n",
       "artist       album                                                                  \n",
       "Hades Archer Penis Metal                                                       []   \n",
       "Iron Maiden  Iron Maiden         [heavy metal, albums I own, NWOBHM, metal, 1980]   \n",
       "Metallica    Kill 'Em All       [thrash metal, albums I own, metal, heavy meta...   \n",
       "             Master of Puppets  [thrash metal, albums I own, metal, heavy meta...   \n",
       "Slayer       Reign in Blood     [thrash metal, albums I own, metal, speed meta...   \n",
       "\n",
       "                                                                              url  \\\n",
       "artist       album                                                                  \n",
       "Hades Archer Penis Metal        https://www.last.fm/music/Hades+Archer/Penis+M...   \n",
       "Iron Maiden  Iron Maiden        https://www.last.fm/music/Iron+Maiden/Iron+Maiden   \n",
       "Metallica    Kill 'Em All       https://www.last.fm/music/Metallica/Kill+%27Em...   \n",
       "             Master of Puppets  https://www.last.fm/music/Metallica/Master+of+...   \n",
       "Slayer       Reign in Blood       https://www.last.fm/music/Slayer/Reign+in+Blood   \n",
       "\n",
       "                                                                           images  \n",
       "artist       album                                                                 \n",
       "Hades Archer Penis Metal        [{'#text': 'https://lastfm.freetls.fastly.net/...  \n",
       "Iron Maiden  Iron Maiden        [{'#text': 'https://lastfm.freetls.fastly.net/...  \n",
       "Metallica    Kill 'Em All       [{'#text': 'https://lastfm.freetls.fastly.net/...  \n",
       "             Master of Puppets  [{'#text': 'https://lastfm.freetls.fastly.net/...  \n",
       "Slayer       Reign in Blood     [{'#text': 'https://lastfm.freetls.fastly.net/...  "
      ],
      "text/html": "<div>\n<style scoped>\n    .dataframe tbody tr th:only-of-type {\n        vertical-align: middle;\n    }\n\n    .dataframe tbody tr th {\n        vertical-align: top;\n    }\n\n    .dataframe thead th {\n        text-align: right;\n    }\n</style>\n<table border=\"1\" class=\"dataframe\">\n  <thead>\n    <tr style=\"text-align: right;\">\n      <th></th>\n      <th></th>\n      <th>listeners</th>\n      <th>playcount</th>\n      <th>lastfm_info</th>\n      <th>tags</th>\n      <th>url</th>\n      <th>images</th>\n    </tr>\n    <tr>\n      <th>artist</th>\n      <th>album</th>\n      <th></th>\n      <th></th>\n      <th></th>\n      <th></th>\n      <th></th>\n      <th></th>\n    </tr>\n  </thead>\n  <tbody>\n    <tr>\n      <th>Hades Archer</th>\n      <th>Penis Metal</th>\n      <td>489</td>\n      <td>9519</td>\n      <td>{'name': 'Penis Metal', 'artist': 'Hades Arche...</td>\n      <td>[]</td>\n      <td>https://www.last.fm/music/Hades+Archer/Penis+M...</td>\n      <td>[{'#text': 'https://lastfm.freetls.fastly.net/...</td>\n    </tr>\n    <tr>\n      <th>Iron Maiden</th>\n      <th>Iron Maiden</th>\n      <td>8060736</td>\n      <td>137681269</td>\n      <td>{'name': 'Iron Maiden', 'artist': 'Iron Maiden...</td>\n      <td>[heavy metal, albums I own, NWOBHM, metal, 1980]</td>\n      <td>https://www.last.fm/music/Iron+Maiden/Iron+Maiden</td>\n      <td>[{'#text': 'https://lastfm.freetls.fastly.net/...</td>\n    </tr>\n    <tr>\n      <th rowspan=\"2\" valign=\"top\">Metallica</th>\n      <th>Kill 'Em All</th>\n      <td>673071</td>\n      <td>16147372</td>\n      <td>{'name': 'Kill 'Em All', 'artist': 'Metallica'...</td>\n      <td>[thrash metal, albums I own, metal, heavy meta...</td>\n      <td>https://www.last.fm/music/Metallica/Kill+%27Em...</td>\n      <td>[{'#text': 'https://lastfm.freetls.fastly.net/...</td>\n    </tr>\n    <tr>\n      <th>Master of Puppets</th>\n      <td>1231515</td>\n      <td>25623793</td>\n      <td>{'name': 'Master of Puppets', 'artist': 'Metal...</td>\n      <td>[thrash metal, albums I own, metal, heavy meta...</td>\n      <td>https://www.last.fm/music/Metallica/Master+of+...</td>\n      <td>[{'#text': 'https://lastfm.freetls.fastly.net/...</td>\n    </tr>\n    <tr>\n      <th>Slayer</th>\n      <th>Reign in Blood</th>\n      <td>1027288</td>\n      <td>18550929</td>\n      <td>{'name': 'Reign in Blood', 'artist': 'Slayer',...</td>\n      <td>[thrash metal, albums I own, metal, speed meta...</td>\n      <td>https://www.last.fm/music/Slayer/Reign+in+Blood</td>\n      <td>[{'#text': 'https://lastfm.freetls.fastly.net/...</td>\n    </tr>\n  </tbody>\n</table>\n</div>"
     },
     "metadata": {},
     "execution_count": 18
    }
   ],
   "source": [
    "# cumulative_df['artist'] = cumulative_df.apply(lambda row: row.name[0], axis=1)\n",
    "# cumulative_df['album'] = cumulative_df.apply(lambda row: row.name[1], axis=1)\n",
    "cumulative_df['lastfm_info'] = cumulative_df.apply(lambda row: get_info(row), axis=1)\n",
    "cumulative_df['tags'] = cumulative_df.apply(lambda row: get_tags(row['lastfm_info']), axis=1)\n",
    "cumulative_df['url'] = cumulative_df.apply(lambda row: get_url(row['lastfm_info']), axis=1)\n",
    "cumulative_df['images'] = cumulative_df.apply(lambda row: get_img(row['lastfm_info']), axis=1)\n",
    "# cumulative_df['release'] = cumulative_df.apply(lambda row: get_releasedate(row['lastfm_info']), axis=1)\n",
    "cumulative_df\n"
   ]
  },
  {
   "cell_type": "code",
   "execution_count": 19,
   "metadata": {},
   "outputs": [],
   "source": [
    "cumulative_df.drop('lastfm_info', axis=1).sort_values(by='listeners', ascending=False).to_csv('./data/proc_MA_10k_albums.csv')"
   ]
  },
  {
   "cell_type": "code",
   "execution_count": null,
   "metadata": {},
   "outputs": [],
   "source": []
  },
  {
   "cell_type": "code",
   "execution_count": null,
   "metadata": {},
   "outputs": [],
   "source": []
  }
 ],
 "metadata": {
  "kernelspec": {
   "name": "python3",
   "display_name": "Python 3.8.6 64-bit ('spotify': conda)",
   "metadata": {
    "interpreter": {
     "hash": "09c2c1b5defbebc59ae7a620c62bdcef3a542ed552923c5cb78d598fa97c5338"
    }
   }
  },
  "language_info": {
   "codemirror_mode": {
    "name": "ipython",
    "version": 3
   },
   "file_extension": ".py",
   "mimetype": "text/x-python",
   "name": "python",
   "nbconvert_exporter": "python",
   "pygments_lexer": "ipython3",
   "version": "3.8.6-final"
  }
 },
 "nbformat": 4,
 "nbformat_minor": 4
}