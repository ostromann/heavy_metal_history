{
 "cells": [
  {
   "source": [
    "# Imports and Constants\n",
    "\n",
    "An API key must be given. Registration required first."
   ],
   "cell_type": "markdown",
   "metadata": {}
  },
  {
   "cell_type": "code",
   "execution_count": 71,
   "metadata": {},
   "outputs": [
    {
     "output_type": "stream",
     "name": "stdout",
     "text": [
      "The autoreload extension is already loaded. To reload it, use:\n  %reload_ext autoreload\n"
     ]
    }
   ],
   "source": [
    "%load_ext autoreload"
   ]
  },
  {
   "cell_type": "code",
   "execution_count": 72,
   "metadata": {},
   "outputs": [],
   "source": [
    "%autoreload 2\n",
    "import requests\n",
    "import pandas as pd\n",
    "import numpy as np\n",
    "\n",
    "from datetime import datetime\n",
    "from dateutil import parser\n",
    "\n",
    "from dotenv import load_dotenv\n",
    "\n",
    "from tqdm import tqdm, tqdm_notebook\n",
    "\n",
    "# import metalhistory as mh\n",
    "import metalhistory.data_query_functions as dqf\n",
    "\n",
    "import requests\n",
    "import pandas as pd\n",
    "import xmltodict\n",
    "import time"
   ]
  },
  {
   "cell_type": "code",
   "execution_count": 73,
   "metadata": {},
   "outputs": [],
   "source": [
    "tqdm.pandas()"
   ]
  },
  {
   "source": [
    "# For devs: Overview of functions\n",
    "These functions from utils.py work (untested) so far:"
   ],
   "cell_type": "markdown",
   "metadata": {}
  },
  {
   "cell_type": "code",
   "execution_count": 74,
   "metadata": {},
   "outputs": [],
   "source": [
    "# lastfm = dqf.LastFM()\n",
    "# lastfm.get_album_info('Death', 'Symbolic', verbose=1)\n",
    "# lastfm.get_album_matches('Burzum', 'Filosofem',  verbose=1)\n",
    "# lastfm.get_track_info('Black Sabbath', 'Paranoid', 'War Pigs', verbose=1)"
   ]
  },
  {
   "source": [
    "# Data Preprocessing"
   ],
   "cell_type": "markdown",
   "metadata": {}
  },
  {
   "cell_type": "code",
   "execution_count": 75,
   "metadata": {},
   "outputs": [
    {
     "output_type": "execute_result",
     "data": {
      "text/plain": [
       "                   artist                album  MA_score\n",
       "0                  Slayer       Reign in Blood     36.01\n",
       "1               Metallica         Kill 'Em All     33.39\n",
       "2            Hades Archer          Penis Metal     32.67\n",
       "3             Iron Maiden          Iron Maiden     32.38\n",
       "4               Metallica    Master of Puppets     31.83\n",
       "...                   ...                  ...       ...\n",
       "9995          Iron Maiden  Live at the Rainbow      1.92\n",
       "9996                 Jorn         Worldchanger      1.92\n",
       "9997           Juggernaut       Trouble Within      1.92\n",
       "9998  Lacrimas Profundere           Memorandum      1.92\n",
       "9999        Light Bringer   Scenes of Infinity      1.92\n",
       "\n",
       "[10000 rows x 3 columns]"
      ],
      "text/html": "<div>\n<style scoped>\n    .dataframe tbody tr th:only-of-type {\n        vertical-align: middle;\n    }\n\n    .dataframe tbody tr th {\n        vertical-align: top;\n    }\n\n    .dataframe thead th {\n        text-align: right;\n    }\n</style>\n<table border=\"1\" class=\"dataframe\">\n  <thead>\n    <tr style=\"text-align: right;\">\n      <th></th>\n      <th>artist</th>\n      <th>album</th>\n      <th>MA_score</th>\n    </tr>\n  </thead>\n  <tbody>\n    <tr>\n      <th>0</th>\n      <td>Slayer</td>\n      <td>Reign in Blood</td>\n      <td>36.01</td>\n    </tr>\n    <tr>\n      <th>1</th>\n      <td>Metallica</td>\n      <td>Kill 'Em All</td>\n      <td>33.39</td>\n    </tr>\n    <tr>\n      <th>2</th>\n      <td>Hades Archer</td>\n      <td>Penis Metal</td>\n      <td>32.67</td>\n    </tr>\n    <tr>\n      <th>3</th>\n      <td>Iron Maiden</td>\n      <td>Iron Maiden</td>\n      <td>32.38</td>\n    </tr>\n    <tr>\n      <th>4</th>\n      <td>Metallica</td>\n      <td>Master of Puppets</td>\n      <td>31.83</td>\n    </tr>\n    <tr>\n      <th>...</th>\n      <td>...</td>\n      <td>...</td>\n      <td>...</td>\n    </tr>\n    <tr>\n      <th>9995</th>\n      <td>Iron Maiden</td>\n      <td>Live at the Rainbow</td>\n      <td>1.92</td>\n    </tr>\n    <tr>\n      <th>9996</th>\n      <td>Jorn</td>\n      <td>Worldchanger</td>\n      <td>1.92</td>\n    </tr>\n    <tr>\n      <th>9997</th>\n      <td>Juggernaut</td>\n      <td>Trouble Within</td>\n      <td>1.92</td>\n    </tr>\n    <tr>\n      <th>9998</th>\n      <td>Lacrimas Profundere</td>\n      <td>Memorandum</td>\n      <td>1.92</td>\n    </tr>\n    <tr>\n      <th>9999</th>\n      <td>Light Bringer</td>\n      <td>Scenes of Infinity</td>\n      <td>1.92</td>\n    </tr>\n  </tbody>\n</table>\n<p>10000 rows × 3 columns</p>\n</div>"
     },
     "metadata": {},
     "execution_count": 75
    }
   ],
   "source": [
    "df_csv = pd.read_csv('data/MA_10k_albums.csv')\n",
    "df_csv"
   ]
  },
  {
   "source": [
    "## Collected all instances of an album"
   ],
   "cell_type": "markdown",
   "metadata": {}
  },
  {
   "cell_type": "code",
   "execution_count": 81,
   "metadata": {
    "tags": []
   },
   "outputs": [
    {
     "output_type": "display_data",
     "data": {
      "text/plain": "artists:   0%|          | 0/10 [00:00<?, ?it/s]",
      "application/vnd.jupyter.widget-view+json": {
       "version_major": 2,
       "version_minor": 0,
       "model_id": "6fc1f7d30bfc453ca819cc06a864b7e6"
      }
     },
     "metadata": {}
    },
    {
     "output_type": "stream",
     "name": "stdout",
     "text": [
      "0 : Querying for Slayer - Reign in Blood\n"
     ]
    },
    {
     "output_type": "display_data",
     "data": {
      "text/plain": "album matches:   0%|          | 0/50 [00:00<?, ?it/s]",
      "application/vnd.jupyter.widget-view+json": {
       "version_major": 2,
       "version_minor": 0,
       "model_id": "4fe544caf3c942c2b1343d895b9b6a93"
      }
     },
     "metadata": {}
    },
    {
     "output_type": "stream",
     "name": "stdout",
     "text": [
      "Kept 44 out of 50 matches for Slayer - Reign in Blood\n\n1 : Querying for Metallica - Kill 'Em All\n"
     ]
    },
    {
     "output_type": "display_data",
     "data": {
      "text/plain": "album matches:   0%|          | 0/50 [00:00<?, ?it/s]",
      "application/vnd.jupyter.widget-view+json": {
       "version_major": 2,
       "version_minor": 0,
       "model_id": "60a8c8f9c8624ed88e779f756a402b35"
      }
     },
     "metadata": {}
    },
    {
     "output_type": "stream",
     "name": "stdout",
     "text": [
      "Kept 29 out of 50 matches for Metallica - Kill 'Em All\n\n2 : Querying for Hades Archer - Penis Metal\n"
     ]
    },
    {
     "output_type": "display_data",
     "data": {
      "text/plain": "album matches:   0%|          | 0/21 [00:00<?, ?it/s]",
      "application/vnd.jupyter.widget-view+json": {
       "version_major": 2,
       "version_minor": 0,
       "model_id": "e544cf0998d6490099d60da721a2ef9c"
      }
     },
     "metadata": {}
    },
    {
     "output_type": "stream",
     "name": "stdout",
     "text": [
      "Kept 7 out of 21 matches for Hades Archer - Penis Metal\n\n3 : Querying for Iron Maiden - Iron Maiden\n"
     ]
    },
    {
     "output_type": "display_data",
     "data": {
      "text/plain": "album matches:   0%|          | 0/50 [00:00<?, ?it/s]",
      "application/vnd.jupyter.widget-view+json": {
       "version_major": 2,
       "version_minor": 0,
       "model_id": "ce0fa2a97edf48eca11909f12080101d"
      }
     },
     "metadata": {}
    },
    {
     "output_type": "stream",
     "name": "stdout",
     "text": [
      "Kept 50 out of 50 matches for Iron Maiden - Iron Maiden\n\n4 : Querying for Metallica - Master of Puppets\n"
     ]
    },
    {
     "output_type": "display_data",
     "data": {
      "text/plain": "album matches:   0%|          | 0/50 [00:00<?, ?it/s]",
      "application/vnd.jupyter.widget-view+json": {
       "version_major": 2,
       "version_minor": 0,
       "model_id": "1c7ffc2d2cc64a638df41d5f06cae924"
      }
     },
     "metadata": {}
    },
    {
     "output_type": "stream",
     "name": "stdout",
     "text": [
      "Kept 35 out of 50 matches for Metallica - Master of Puppets\n\n5 : Querying for Iron Maiden - The Number of the Beast\n"
     ]
    },
    {
     "output_type": "display_data",
     "data": {
      "text/plain": "album matches:   0%|          | 0/50 [00:00<?, ?it/s]",
      "application/vnd.jupyter.widget-view+json": {
       "version_major": 2,
       "version_minor": 0,
       "model_id": "0f6507372a8e43498301c507a8c94193"
      }
     },
     "metadata": {}
    },
    {
     "output_type": "stream",
     "name": "stdout",
     "text": [
      "Kept 41 out of 50 matches for Iron Maiden - The Number of the Beast\n\n6 : Querying for Megadeth - Rust in Peace\n"
     ]
    },
    {
     "output_type": "display_data",
     "data": {
      "text/plain": "album matches:   0%|          | 0/50 [00:00<?, ?it/s]",
      "application/vnd.jupyter.widget-view+json": {
       "version_major": 2,
       "version_minor": 0,
       "model_id": "b1b309d88a89409b87422869f79b3369"
      }
     },
     "metadata": {}
    },
    {
     "output_type": "stream",
     "name": "stdout",
     "text": [
      "Kept 47 out of 50 matches for Megadeth - Rust in Peace\n\n7 : Querying for Agalloch - The Mantle\n"
     ]
    },
    {
     "output_type": "display_data",
     "data": {
      "text/plain": "album matches:   0%|          | 0/50 [00:00<?, ?it/s]",
      "application/vnd.jupyter.widget-view+json": {
       "version_major": 2,
       "version_minor": 0,
       "model_id": "5eb743223a894e569342d096473e532c"
      }
     },
     "metadata": {}
    },
    {
     "output_type": "stream",
     "name": "stdout",
     "text": [
      "Kept 11 out of 50 matches for Agalloch - The Mantle\n\n8 : Querying for Metallica - Ride the Lightning\n"
     ]
    },
    {
     "output_type": "display_data",
     "data": {
      "text/plain": "album matches:   0%|          | 0/50 [00:00<?, ?it/s]",
      "application/vnd.jupyter.widget-view+json": {
       "version_major": 2,
       "version_minor": 0,
       "model_id": "a5bc2368887b4e33ba377e734b8343b3"
      }
     },
     "metadata": {}
    },
    {
     "output_type": "stream",
     "name": "stdout",
     "text": [
      "Kept 40 out of 50 matches for Metallica - Ride the Lightning\n\n9 : Querying for Black Sabbath - Paranoid\n"
     ]
    },
    {
     "output_type": "display_data",
     "data": {
      "text/plain": "album matches:   0%|          | 0/50 [00:00<?, ?it/s]",
      "application/vnd.jupyter.widget-view+json": {
       "version_major": 2,
       "version_minor": 0,
       "model_id": "8f2ccb70c5c64a9f809335cc9a258be5"
      }
     },
     "metadata": {}
    },
    {
     "output_type": "stream",
     "name": "stdout",
     "text": [
      "Kept 17 out of 50 matches for Black Sabbath - Paranoid\n\n"
     ]
    }
   ],
   "source": [
    "lastfm = dqf.LastFM()\n",
    "results_df = pd.DataFrame()\n",
    "\n",
    "LIMIT=10 # Obituary - Cause of Death is causing some error here at idx 38 URL special key probably causes that issue!\n",
    "\n",
    "df_head = df_csv.head(LIMIT)\n",
    "\n",
    "for idx, row in tqdm_notebook(df_head.iterrows(), total=df_head.shape[0], desc='artists'):\n",
    "    artist = row['artist']\n",
    "    album = row['album']\n",
    "    \n",
    "    print(idx,': Querying for', artist, '-', album)\n",
    "    matches = list(lastfm.get_album_matches(album=album)['results']['albummatches'].values())[0]\n",
    "\n",
    "    nr_matches =  len(matches)\n",
    "    nr_kept_matches = 0\n",
    "\n",
    "    for match in tqdm_notebook(matches, desc='album matches', leave=False):\n",
    "        if match['artist'] == artist:\n",
    "            results_df = results_df.append({\n",
    "                'artist': artist,\n",
    "                'album': album,\n",
    "                'album_instance': match['name'],\n",
    "                'lastfm_info': lastfm.get_album_info(artist=match['artist'], album=match['name'])\n",
    "            }, ignore_index=True)\n",
    "            nr_kept_matches += 1        \n",
    "    print('Kept', nr_kept_matches, 'out of', nr_matches, 'matches for', artist, '-', album, end='\\n\\n')"
   ]
  },
  {
   "source": [
    "Add some entries of the lastfm info as column to the dataframe."
   ],
   "cell_type": "markdown",
   "metadata": {}
  },
  {
   "cell_type": "code",
   "execution_count": 82,
   "metadata": {},
   "outputs": [],
   "source": [
    "def get_listeners(x):\n",
    "    if isinstance(x, dict):\n",
    "        return int(x['listeners'])\n",
    "    else:\n",
    "        return None\n",
    "\n",
    "def get_playcounts(x):\n",
    "    if isinstance(x, dict):\n",
    "        return int(x['playcount'])\n",
    "    else:\n",
    "        return None\n"
   ]
  },
  {
   "cell_type": "code",
   "execution_count": 83,
   "metadata": {},
   "outputs": [
    {
     "output_type": "stream",
     "name": "stderr",
     "text": [
      "100%|██████████| 321/321 [00:00<00:00, 74948.32it/s]\n",
      "100%|██████████| 321/321 [00:00<00:00, 85294.37it/s]\n"
     ]
    },
    {
     "output_type": "execute_result",
     "data": {
      "text/plain": [
       "              album                                     album_instance  \\\n",
       "0    Reign in Blood                                     Reign in Blood   \n",
       "1    Reign in Blood                          Reign In Blood (Expanded)   \n",
       "2    Reign in Blood                  Reign In Blood (Expanded Edition)   \n",
       "3    Reign in Blood                      Reign In Blood (1994 Reissue)   \n",
       "4    Reign in Blood                        Reign In Blood (Remastered)   \n",
       "..              ...                                                ...   \n",
       "316        Paranoid  Paranoid (Deluxe Expanded Edition, 2cd, Sanctu...   \n",
       "317        Paranoid                Paranoid [2009, Sanctuary, 1782444]   \n",
       "318        Paranoid  Paranoid - Black Box -  The Complete Original ...   \n",
       "319        Paranoid                 Paranoid [1989, Vertigo, 23PD-134]   \n",
       "320        Paranoid                          Paranoid [Deluxe Edition]   \n",
       "\n",
       "            artist                                        lastfm_info  \\\n",
       "0           Slayer  {'name': 'Reign in Blood', 'artist': 'Slayer',...   \n",
       "1           Slayer  {'name': 'Reign In Blood (Expanded)', 'artist'...   \n",
       "2           Slayer  {'name': 'Reign In Blood (Expanded Edition)', ...   \n",
       "3           Slayer  {'name': 'Reign In Blood (1994 Reissue)', 'art...   \n",
       "4           Slayer  {'name': 'Reign In Blood (Remastered)', 'artis...   \n",
       "..             ...                                                ...   \n",
       "316  Black Sabbath  {'name': 'Paranoid (Deluxe Expanded Edition, 2...   \n",
       "317  Black Sabbath  {'name': 'Paranoid [2009, Sanctuary, 1782444]'...   \n",
       "318  Black Sabbath  {'name': 'Paranoid - Black Box -  The Complete...   \n",
       "319  Black Sabbath  {'name': 'Paranoid [1989, Vertigo, 23PD-134]',...   \n",
       "320  Black Sabbath  {'name': 'Paranoid [Deluxe Edition]', 'artist'...   \n",
       "\n",
       "     listeners  playcount  \n",
       "0       822203   15581366  \n",
       "1       165778    2129289  \n",
       "2        12823     372573  \n",
       "3         4856     130028  \n",
       "4         2092      75517  \n",
       "..         ...        ...  \n",
       "316       1366      33895  \n",
       "317        977      26077  \n",
       "318       1631      34951  \n",
       "319       1232      23582  \n",
       "320       1395      24625  \n",
       "\n",
       "[321 rows x 6 columns]"
      ],
      "text/html": "<div>\n<style scoped>\n    .dataframe tbody tr th:only-of-type {\n        vertical-align: middle;\n    }\n\n    .dataframe tbody tr th {\n        vertical-align: top;\n    }\n\n    .dataframe thead th {\n        text-align: right;\n    }\n</style>\n<table border=\"1\" class=\"dataframe\">\n  <thead>\n    <tr style=\"text-align: right;\">\n      <th></th>\n      <th>album</th>\n      <th>album_instance</th>\n      <th>artist</th>\n      <th>lastfm_info</th>\n      <th>listeners</th>\n      <th>playcount</th>\n    </tr>\n  </thead>\n  <tbody>\n    <tr>\n      <th>0</th>\n      <td>Reign in Blood</td>\n      <td>Reign in Blood</td>\n      <td>Slayer</td>\n      <td>{'name': 'Reign in Blood', 'artist': 'Slayer',...</td>\n      <td>822203</td>\n      <td>15581366</td>\n    </tr>\n    <tr>\n      <th>1</th>\n      <td>Reign in Blood</td>\n      <td>Reign In Blood (Expanded)</td>\n      <td>Slayer</td>\n      <td>{'name': 'Reign In Blood (Expanded)', 'artist'...</td>\n      <td>165778</td>\n      <td>2129289</td>\n    </tr>\n    <tr>\n      <th>2</th>\n      <td>Reign in Blood</td>\n      <td>Reign In Blood (Expanded Edition)</td>\n      <td>Slayer</td>\n      <td>{'name': 'Reign In Blood (Expanded Edition)', ...</td>\n      <td>12823</td>\n      <td>372573</td>\n    </tr>\n    <tr>\n      <th>3</th>\n      <td>Reign in Blood</td>\n      <td>Reign In Blood (1994 Reissue)</td>\n      <td>Slayer</td>\n      <td>{'name': 'Reign In Blood (1994 Reissue)', 'art...</td>\n      <td>4856</td>\n      <td>130028</td>\n    </tr>\n    <tr>\n      <th>4</th>\n      <td>Reign in Blood</td>\n      <td>Reign In Blood (Remastered)</td>\n      <td>Slayer</td>\n      <td>{'name': 'Reign In Blood (Remastered)', 'artis...</td>\n      <td>2092</td>\n      <td>75517</td>\n    </tr>\n    <tr>\n      <th>...</th>\n      <td>...</td>\n      <td>...</td>\n      <td>...</td>\n      <td>...</td>\n      <td>...</td>\n      <td>...</td>\n    </tr>\n    <tr>\n      <th>316</th>\n      <td>Paranoid</td>\n      <td>Paranoid (Deluxe Expanded Edition, 2cd, Sanctu...</td>\n      <td>Black Sabbath</td>\n      <td>{'name': 'Paranoid (Deluxe Expanded Edition, 2...</td>\n      <td>1366</td>\n      <td>33895</td>\n    </tr>\n    <tr>\n      <th>317</th>\n      <td>Paranoid</td>\n      <td>Paranoid [2009, Sanctuary, 1782444]</td>\n      <td>Black Sabbath</td>\n      <td>{'name': 'Paranoid [2009, Sanctuary, 1782444]'...</td>\n      <td>977</td>\n      <td>26077</td>\n    </tr>\n    <tr>\n      <th>318</th>\n      <td>Paranoid</td>\n      <td>Paranoid - Black Box -  The Complete Original ...</td>\n      <td>Black Sabbath</td>\n      <td>{'name': 'Paranoid - Black Box -  The Complete...</td>\n      <td>1631</td>\n      <td>34951</td>\n    </tr>\n    <tr>\n      <th>319</th>\n      <td>Paranoid</td>\n      <td>Paranoid [1989, Vertigo, 23PD-134]</td>\n      <td>Black Sabbath</td>\n      <td>{'name': 'Paranoid [1989, Vertigo, 23PD-134]',...</td>\n      <td>1232</td>\n      <td>23582</td>\n    </tr>\n    <tr>\n      <th>320</th>\n      <td>Paranoid</td>\n      <td>Paranoid [Deluxe Edition]</td>\n      <td>Black Sabbath</td>\n      <td>{'name': 'Paranoid [Deluxe Edition]', 'artist'...</td>\n      <td>1395</td>\n      <td>24625</td>\n    </tr>\n  </tbody>\n</table>\n<p>321 rows × 6 columns</p>\n</div>"
     },
     "metadata": {},
     "execution_count": 83
    }
   ],
   "source": [
    "df = results_df\n",
    "df['listeners'] = df.progress_apply(lambda row: get_listeners(row['lastfm_info']), axis=1)\n",
    "df['playcount'] = df.progress_apply(lambda row: get_playcounts(row['lastfm_info']), axis=1)\n",
    "df"
   ]
  },
  {
   "source": [
    "Sum up the different entries that correspond to the same album:"
   ],
   "cell_type": "markdown",
   "metadata": {}
  },
  {
   "cell_type": "code",
   "execution_count": 84,
   "metadata": {},
   "outputs": [
    {
     "output_type": "execute_result",
     "data": {
      "text/plain": [
       "                                       listeners  playcount\n",
       "artist        album                                        \n",
       "Agalloch      The Mantle                  352918   12135266\n",
       "Black Sabbath Paranoid                   1937861   21620006\n",
       "Hades Archer  Penis Metal                    489       9519\n",
       "Iron Maiden   Iron Maiden                8061742  137698026\n",
       "              The Number of the Beast    1071179   15060514\n",
       "Megadeth      Rust in Peace               767407   16167930\n",
       "Metallica     Kill 'Em All                673096   16148307\n",
       "              Master of Puppets          1231870   25630045\n",
       "              Ride the Lightning         1163841   23615884\n",
       "Slayer        Reign in Blood             1027432   18554025"
      ],
      "text/html": "<div>\n<style scoped>\n    .dataframe tbody tr th:only-of-type {\n        vertical-align: middle;\n    }\n\n    .dataframe tbody tr th {\n        vertical-align: top;\n    }\n\n    .dataframe thead th {\n        text-align: right;\n    }\n</style>\n<table border=\"1\" class=\"dataframe\">\n  <thead>\n    <tr style=\"text-align: right;\">\n      <th></th>\n      <th></th>\n      <th>listeners</th>\n      <th>playcount</th>\n    </tr>\n    <tr>\n      <th>artist</th>\n      <th>album</th>\n      <th></th>\n      <th></th>\n    </tr>\n  </thead>\n  <tbody>\n    <tr>\n      <th>Agalloch</th>\n      <th>The Mantle</th>\n      <td>352918</td>\n      <td>12135266</td>\n    </tr>\n    <tr>\n      <th>Black Sabbath</th>\n      <th>Paranoid</th>\n      <td>1937861</td>\n      <td>21620006</td>\n    </tr>\n    <tr>\n      <th>Hades Archer</th>\n      <th>Penis Metal</th>\n      <td>489</td>\n      <td>9519</td>\n    </tr>\n    <tr>\n      <th rowspan=\"2\" valign=\"top\">Iron Maiden</th>\n      <th>Iron Maiden</th>\n      <td>8061742</td>\n      <td>137698026</td>\n    </tr>\n    <tr>\n      <th>The Number of the Beast</th>\n      <td>1071179</td>\n      <td>15060514</td>\n    </tr>\n    <tr>\n      <th>Megadeth</th>\n      <th>Rust in Peace</th>\n      <td>767407</td>\n      <td>16167930</td>\n    </tr>\n    <tr>\n      <th rowspan=\"3\" valign=\"top\">Metallica</th>\n      <th>Kill 'Em All</th>\n      <td>673096</td>\n      <td>16148307</td>\n    </tr>\n    <tr>\n      <th>Master of Puppets</th>\n      <td>1231870</td>\n      <td>25630045</td>\n    </tr>\n    <tr>\n      <th>Ride the Lightning</th>\n      <td>1163841</td>\n      <td>23615884</td>\n    </tr>\n    <tr>\n      <th>Slayer</th>\n      <th>Reign in Blood</th>\n      <td>1027432</td>\n      <td>18554025</td>\n    </tr>\n  </tbody>\n</table>\n</div>"
     },
     "metadata": {},
     "execution_count": 84
    }
   ],
   "source": [
    "#TODO: Should probably be part of the utils.py\n",
    "cumulative_df = df.drop(['album_instance'], axis=1).groupby(['artist','album']).sum()\n",
    "cumulative_df"
   ]
  },
  {
   "source": [
    "## Get tags of the most relevant album match"
   ],
   "cell_type": "markdown",
   "metadata": {}
  },
  {
   "cell_type": "code",
   "execution_count": 87,
   "metadata": {},
   "outputs": [],
   "source": [
    "#TODO: Move these functions to the data_query_functions.py !\n",
    "def get_tags(x):\n",
    "    tag_names = []\n",
    "    for tag in x['tags']['tag']:\n",
    "        tag_names.append(tag['name'])\n",
    "    return tag_names\n",
    "\n",
    "def get_url(x):\n",
    "    return x['url']\n",
    "\n",
    "def get_info(x):\n",
    "    artist = x.name[0]\n",
    "    album = x.name[1]\n",
    "    lastfm = dqf.LastFM()\n",
    "    album_info = lastfm.get_album_info(artist=artist, album=album)\n",
    "    return album_info\n",
    "\n",
    "def get_img(x):\n",
    "    return x['image']\n",
    "\n",
    "# TODO: Release date not present. Should use another API for that?\n",
    "# def get_releasedate(x):\n",
    "#     return x['releasedate']\n",
    "\n",
    "def get_mbid(x):\n",
    "    try:\n",
    "        return x['mbid']\n",
    "    except KeyError:\n",
    "        return None\n",
    "\n",
    "import requests\n",
    "import pandas as pd\n",
    "import xmltodict\n",
    "\n",
    "def get_release_date(x):\n",
    "    print(x)\n",
    "    if x is not None:\n",
    "        response = requests.get('http://musicbrainz.org/ws/2/release/' + str(x) + '?inc=release-groups&fmt=xml')\n",
    "        while response.status_code == 503:\n",
    "            print('503, wating for five seconds.')\n",
    "            time.sleep(5)\n",
    "            response = requests.get('http://musicbrainz.org/ws/2/release/' + str(x) + '?inc=release-groups&fmt=xml')\n",
    "\n",
    "        response_dict = xmltodict.parse(response.text)\n",
    "\n",
    "        return response_dict['metadata']['release']['release-group']['first-release-date']\n",
    "\n",
    "    else:\n",
    "        return None\n",
    "\n",
    "\n"
   ]
  },
  {
   "cell_type": "code",
   "execution_count": 88,
   "metadata": {},
   "outputs": [
    {
     "output_type": "stream",
     "name": "stdout",
     "text": [
      "7ac99528-77a9-3624-84b7-3400f6f56e47\n",
      "2982b682-36ea-3605-b959-04e746736070\n",
      "None\n",
      "25da813d-4dbd-32c0-aef0-307e790f0709\n",
      "6ea83f20-d053-3495-bc25-76aa61da13ab\n",
      "2b904e74-daba-397c-a151-bafb125ceb44\n",
      "c06ed440-f25d-3127-aadb-ebe9c685b3d8\n",
      "b30c90dd-83f1-4897-ae36-58fb3935e5ee\n",
      "2236dd07-a2f3-466a-973d-9069001a89da\n",
      "e80dcb10-f532-4da1-9458-afd541e4a9ea\n"
     ]
    },
    {
     "output_type": "execute_result",
     "data": {
      "text/plain": [
       "                                       listeners  playcount  \\\n",
       "artist        album                                           \n",
       "Agalloch      The Mantle                  352918   12135266   \n",
       "Black Sabbath Paranoid                   1937861   21620006   \n",
       "Hades Archer  Penis Metal                    489       9519   \n",
       "Iron Maiden   Iron Maiden                8061742  137698026   \n",
       "              The Number of the Beast    1071179   15060514   \n",
       "Megadeth      Rust in Peace               767407   16167930   \n",
       "Metallica     Kill 'Em All                673096   16148307   \n",
       "              Master of Puppets          1231870   25630045   \n",
       "              Ride the Lightning         1163841   23615884   \n",
       "Slayer        Reign in Blood             1027432   18554025   \n",
       "\n",
       "                                                                                    tags  \\\n",
       "artist        album                                                                        \n",
       "Agalloch      The Mantle               [folk metal, doom metal, black metal, albums I...   \n",
       "Black Sabbath Paranoid                 [heavy metal, hard rock, albums I own, classic...   \n",
       "Hades Archer  Penis Metal                                                             []   \n",
       "Iron Maiden   Iron Maiden               [heavy metal, albums I own, NWOBHM, metal, 1980]   \n",
       "              The Number of the Beast  [heavy metal, albums I own, NWOBHM, metal, Iro...   \n",
       "Megadeth      Rust in Peace            [thrash metal, albums I own, speed metal, heav...   \n",
       "Metallica     Kill 'Em All             [thrash metal, albums I own, metal, heavy meta...   \n",
       "              Master of Puppets        [thrash metal, albums I own, metal, heavy meta...   \n",
       "              Ride the Lightning       [thrash metal, albums I own, metal, heavy meta...   \n",
       "Slayer        Reign in Blood           [thrash metal, albums I own, metal, speed meta...   \n",
       "\n",
       "                                                                       mbid  \\\n",
       "artist        album                                                           \n",
       "Agalloch      The Mantle               7ac99528-77a9-3624-84b7-3400f6f56e47   \n",
       "Black Sabbath Paranoid                 2982b682-36ea-3605-b959-04e746736070   \n",
       "Hades Archer  Penis Metal                                              None   \n",
       "Iron Maiden   Iron Maiden              25da813d-4dbd-32c0-aef0-307e790f0709   \n",
       "              The Number of the Beast  6ea83f20-d053-3495-bc25-76aa61da13ab   \n",
       "Megadeth      Rust in Peace            2b904e74-daba-397c-a151-bafb125ceb44   \n",
       "Metallica     Kill 'Em All             c06ed440-f25d-3127-aadb-ebe9c685b3d8   \n",
       "              Master of Puppets        b30c90dd-83f1-4897-ae36-58fb3935e5ee   \n",
       "              Ride the Lightning       2236dd07-a2f3-466a-973d-9069001a89da   \n",
       "Slayer        Reign in Blood           e80dcb10-f532-4da1-9458-afd541e4a9ea   \n",
       "\n",
       "                                      release_date  \n",
       "artist        album                                 \n",
       "Agalloch      The Mantle                2002-08-13  \n",
       "Black Sabbath Paranoid                  1970-09-18  \n",
       "Hades Archer  Penis Metal                     None  \n",
       "Iron Maiden   Iron Maiden               1980-04-14  \n",
       "              The Number of the Beast   1982-04-26  \n",
       "Megadeth      Rust in Peace             1990-09-21  \n",
       "Metallica     Kill 'Em All              1983-07-25  \n",
       "              Master of Puppets               2003  \n",
       "              Ride the Lightning        1984-07-30  \n",
       "Slayer        Reign in Blood            1986-10-07  "
      ],
      "text/html": "<div>\n<style scoped>\n    .dataframe tbody tr th:only-of-type {\n        vertical-align: middle;\n    }\n\n    .dataframe tbody tr th {\n        vertical-align: top;\n    }\n\n    .dataframe thead th {\n        text-align: right;\n    }\n</style>\n<table border=\"1\" class=\"dataframe\">\n  <thead>\n    <tr style=\"text-align: right;\">\n      <th></th>\n      <th></th>\n      <th>listeners</th>\n      <th>playcount</th>\n      <th>tags</th>\n      <th>mbid</th>\n      <th>release_date</th>\n    </tr>\n    <tr>\n      <th>artist</th>\n      <th>album</th>\n      <th></th>\n      <th></th>\n      <th></th>\n      <th></th>\n      <th></th>\n    </tr>\n  </thead>\n  <tbody>\n    <tr>\n      <th>Agalloch</th>\n      <th>The Mantle</th>\n      <td>352918</td>\n      <td>12135266</td>\n      <td>[folk metal, doom metal, black metal, albums I...</td>\n      <td>7ac99528-77a9-3624-84b7-3400f6f56e47</td>\n      <td>2002-08-13</td>\n    </tr>\n    <tr>\n      <th>Black Sabbath</th>\n      <th>Paranoid</th>\n      <td>1937861</td>\n      <td>21620006</td>\n      <td>[heavy metal, hard rock, albums I own, classic...</td>\n      <td>2982b682-36ea-3605-b959-04e746736070</td>\n      <td>1970-09-18</td>\n    </tr>\n    <tr>\n      <th>Hades Archer</th>\n      <th>Penis Metal</th>\n      <td>489</td>\n      <td>9519</td>\n      <td>[]</td>\n      <td>None</td>\n      <td>None</td>\n    </tr>\n    <tr>\n      <th rowspan=\"2\" valign=\"top\">Iron Maiden</th>\n      <th>Iron Maiden</th>\n      <td>8061742</td>\n      <td>137698026</td>\n      <td>[heavy metal, albums I own, NWOBHM, metal, 1980]</td>\n      <td>25da813d-4dbd-32c0-aef0-307e790f0709</td>\n      <td>1980-04-14</td>\n    </tr>\n    <tr>\n      <th>The Number of the Beast</th>\n      <td>1071179</td>\n      <td>15060514</td>\n      <td>[heavy metal, albums I own, NWOBHM, metal, Iro...</td>\n      <td>6ea83f20-d053-3495-bc25-76aa61da13ab</td>\n      <td>1982-04-26</td>\n    </tr>\n    <tr>\n      <th>Megadeth</th>\n      <th>Rust in Peace</th>\n      <td>767407</td>\n      <td>16167930</td>\n      <td>[thrash metal, albums I own, speed metal, heav...</td>\n      <td>2b904e74-daba-397c-a151-bafb125ceb44</td>\n      <td>1990-09-21</td>\n    </tr>\n    <tr>\n      <th rowspan=\"3\" valign=\"top\">Metallica</th>\n      <th>Kill 'Em All</th>\n      <td>673096</td>\n      <td>16148307</td>\n      <td>[thrash metal, albums I own, metal, heavy meta...</td>\n      <td>c06ed440-f25d-3127-aadb-ebe9c685b3d8</td>\n      <td>1983-07-25</td>\n    </tr>\n    <tr>\n      <th>Master of Puppets</th>\n      <td>1231870</td>\n      <td>25630045</td>\n      <td>[thrash metal, albums I own, metal, heavy meta...</td>\n      <td>b30c90dd-83f1-4897-ae36-58fb3935e5ee</td>\n      <td>2003</td>\n    </tr>\n    <tr>\n      <th>Ride the Lightning</th>\n      <td>1163841</td>\n      <td>23615884</td>\n      <td>[thrash metal, albums I own, metal, heavy meta...</td>\n      <td>2236dd07-a2f3-466a-973d-9069001a89da</td>\n      <td>1984-07-30</td>\n    </tr>\n    <tr>\n      <th>Slayer</th>\n      <th>Reign in Blood</th>\n      <td>1027432</td>\n      <td>18554025</td>\n      <td>[thrash metal, albums I own, metal, speed meta...</td>\n      <td>e80dcb10-f532-4da1-9458-afd541e4a9ea</td>\n      <td>1986-10-07</td>\n    </tr>\n  </tbody>\n</table>\n</div>"
     },
     "metadata": {},
     "execution_count": 88
    }
   ],
   "source": [
    "cumulative_df['lastfm_info'] = cumulative_df.apply(lambda row: get_info(row), axis=1)\n",
    "cumulative_df['tags'] = cumulative_df.apply(lambda row: get_tags(row['lastfm_info']), axis=1)\n",
    "cumulative_df['url'] = cumulative_df.apply(lambda row: get_url(row['lastfm_info']), axis=1)\n",
    "cumulative_df['images'] = cumulative_df.apply(lambda row: get_img(row['lastfm_info']), axis=1)\n",
    "cumulative_df['mbid'] = cumulative_df.apply(lambda row: get_mbid(row['lastfm_info']), axis=1)\n",
    "cumulative_df['release_date'] = cumulative_df.apply(lambda row: get_release_date(row['mbid']), axis=1)\n",
    "cumulative_df.drop(['lastfm_info', 'url', 'images'], axis=1)\n"
   ]
  },
  {
   "cell_type": "code",
   "execution_count": 64,
   "metadata": {},
   "outputs": [],
   "source": [
    "attr_list = ['release_date', 'listeners', 'playcount', 'tags', 'mbid', 'url', 'images']\n",
    "cumulative_df[attr_list].sort_values(by='listeners', ascending=False).to_csv('./data/proc_MA_10k_albums.csv')"
   ]
  },
  {
   "cell_type": "code",
   "execution_count": null,
   "metadata": {},
   "outputs": [],
   "source": []
  },
  {
   "cell_type": "code",
   "execution_count": null,
   "metadata": {},
   "outputs": [],
   "source": []
  }
 ],
 "metadata": {
  "kernelspec": {
   "name": "python3",
   "display_name": "Python 3.8.6 64-bit ('spotify': conda)",
   "metadata": {
    "interpreter": {
     "hash": "09c2c1b5defbebc59ae7a620c62bdcef3a542ed552923c5cb78d598fa97c5338"
    }
   }
  },
  "language_info": {
   "codemirror_mode": {
    "name": "ipython",
    "version": 3
   },
   "file_extension": ".py",
   "mimetype": "text/x-python",
   "name": "python",
   "nbconvert_exporter": "python",
   "pygments_lexer": "ipython3",
   "version": "3.8.6-final"
  }
 },
 "nbformat": 4,
 "nbformat_minor": 4
}