{
 "cells": [
  {
   "cell_type": "markdown",
   "metadata": {},
   "source": [
    "# Imports and Constants\n",
    "\n",
    "An API key must be given. Registration required first."
   ]
  },
  {
   "cell_type": "code",
   "execution_count": 1,
   "metadata": {},
   "outputs": [],
   "source": [
    "%load_ext autoreload"
   ]
  },
  {
   "cell_type": "code",
   "execution_count": 2,
   "metadata": {},
   "outputs": [],
   "source": [
    "%autoreload 2\n",
    "import requests\n",
    "import pandas as pd\n",
    "import numpy as np\n",
    "\n",
    "from datetime import datetime\n",
    "from dateutil import parser\n",
    "\n",
    "from dotenv import load_dotenv\n",
    "\n",
    "from tqdm.notebook import tqdm\n",
    "\n",
    "# import metalhistory as mh\n",
    "import metalhistory.data_query_functions as dqf\n",
    "\n",
    "import requests\n",
    "import pandas as pd\n",
    "import xmltodict\n",
    "import time"
   ]
  },
  {
   "cell_type": "code",
   "execution_count": 3,
   "metadata": {},
   "outputs": [],
   "source": [
    "tqdm.pandas()"
   ]
  },
  {
   "cell_type": "markdown",
   "metadata": {},
   "source": [
    "# Data Preprocessing"
   ]
  },
  {
   "cell_type": "code",
   "execution_count": 4,
   "metadata": {},
   "outputs": [
    {
     "output_type": "stream",
     "name": "stdout",
     "text": [
      "CPU times: user 8.77 ms, sys: 107 µs, total: 8.88 ms\nWall time: 8.47 ms\n"
     ]
    },
    {
     "output_type": "execute_result",
     "data": {
      "text/plain": [
       "                   artist                album  MA_score\n",
       "0                  Slayer       Reign in Blood     36.01\n",
       "1               Metallica         Kill 'Em All     33.39\n",
       "2            Hades Archer          Penis Metal     32.67\n",
       "3             Iron Maiden          Iron Maiden     32.38\n",
       "4               Metallica    Master of Puppets     31.83\n",
       "...                   ...                  ...       ...\n",
       "9995          Iron Maiden  Live at the Rainbow      1.92\n",
       "9996                 Jorn         Worldchanger      1.92\n",
       "9997           Juggernaut       Trouble Within      1.92\n",
       "9998  Lacrimas Profundere           Memorandum      1.92\n",
       "9999        Light Bringer   Scenes of Infinity      1.92\n",
       "\n",
       "[10000 rows x 3 columns]"
      ],
      "text/html": "<div>\n<style scoped>\n    .dataframe tbody tr th:only-of-type {\n        vertical-align: middle;\n    }\n\n    .dataframe tbody tr th {\n        vertical-align: top;\n    }\n\n    .dataframe thead th {\n        text-align: right;\n    }\n</style>\n<table border=\"1\" class=\"dataframe\">\n  <thead>\n    <tr style=\"text-align: right;\">\n      <th></th>\n      <th>artist</th>\n      <th>album</th>\n      <th>MA_score</th>\n    </tr>\n  </thead>\n  <tbody>\n    <tr>\n      <th>0</th>\n      <td>Slayer</td>\n      <td>Reign in Blood</td>\n      <td>36.01</td>\n    </tr>\n    <tr>\n      <th>1</th>\n      <td>Metallica</td>\n      <td>Kill 'Em All</td>\n      <td>33.39</td>\n    </tr>\n    <tr>\n      <th>2</th>\n      <td>Hades Archer</td>\n      <td>Penis Metal</td>\n      <td>32.67</td>\n    </tr>\n    <tr>\n      <th>3</th>\n      <td>Iron Maiden</td>\n      <td>Iron Maiden</td>\n      <td>32.38</td>\n    </tr>\n    <tr>\n      <th>4</th>\n      <td>Metallica</td>\n      <td>Master of Puppets</td>\n      <td>31.83</td>\n    </tr>\n    <tr>\n      <th>...</th>\n      <td>...</td>\n      <td>...</td>\n      <td>...</td>\n    </tr>\n    <tr>\n      <th>9995</th>\n      <td>Iron Maiden</td>\n      <td>Live at the Rainbow</td>\n      <td>1.92</td>\n    </tr>\n    <tr>\n      <th>9996</th>\n      <td>Jorn</td>\n      <td>Worldchanger</td>\n      <td>1.92</td>\n    </tr>\n    <tr>\n      <th>9997</th>\n      <td>Juggernaut</td>\n      <td>Trouble Within</td>\n      <td>1.92</td>\n    </tr>\n    <tr>\n      <th>9998</th>\n      <td>Lacrimas Profundere</td>\n      <td>Memorandum</td>\n      <td>1.92</td>\n    </tr>\n    <tr>\n      <th>9999</th>\n      <td>Light Bringer</td>\n      <td>Scenes of Infinity</td>\n      <td>1.92</td>\n    </tr>\n  </tbody>\n</table>\n<p>10000 rows × 3 columns</p>\n</div>"
     },
     "metadata": {},
     "execution_count": 4
    }
   ],
   "source": [
    "%%time\n",
    "df_csv = pd.read_csv('data/MA_10k_albums.csv')\n",
    "df_csv"
   ]
  },
  {
   "source": [
    "# Alternative\n",
    "Don't use album matches! Because they always crash after a while!"
   ],
   "cell_type": "markdown",
   "metadata": {}
  },
  {
   "cell_type": "code",
   "execution_count": 10,
   "metadata": {},
   "outputs": [
    {
     "output_type": "display_data",
     "data": {
      "text/plain": "  0%|          | 0/1000 [00:00<?, ?it/s]",
      "application/vnd.jupyter.widget-view+json": {
       "version_major": 2,
       "version_minor": 0,
       "model_id": "0599101a4c334b0fa870e7332c67005e"
      }
     },
     "metadata": {}
    },
    {
     "output_type": "stream",
     "name": "stdout",
     "text": [
      "Response code 503. Waiting for 5 seconds.\n",
      "Response code 503. Waiting for 4 seconds.\n",
      "Response code 503. Waiting for 4 seconds.\n",
      "Response code 503. Waiting for 3 seconds.\n",
      "Response code 503. Waiting for 2 seconds.\n",
      "Response code 503. Waiting for 4 seconds.\n",
      "Response code 503. Waiting for 4 seconds.\n",
      "Response code 503. Waiting for 4 seconds.\n",
      "Response code 503. Waiting for 4 seconds.\n",
      "Response code 503. Waiting for 5 seconds.\n",
      "Response code 503. Waiting for 4 seconds.\n",
      "Response code 503. Waiting for 4 seconds.\n",
      "Response code 503. Waiting for 3 seconds.\n",
      "Response code 503. Waiting for 3 seconds.\n",
      "Response code 503. Waiting for 5 seconds.\n",
      "Response code 503. Waiting for 5 seconds.\n",
      "Response code 503. Waiting for 4 seconds.\n",
      "Response code 503. Waiting for 5 seconds.\n",
      "Response code 503. Waiting for 3 seconds.\n",
      "Response code 503. Waiting for 3 seconds.\n",
      "Response code 503. Waiting for 3 seconds.\n",
      "Response code 503. Waiting for 4 seconds.\n",
      "Response code 503. Waiting for 3 seconds.\n",
      "Response code 503. Waiting for 3 seconds.\n",
      "Response code 503. Waiting for 4 seconds.\n",
      "Response code 503. Waiting for 5 seconds.\n",
      "Response code 503. Waiting for 4 seconds.\n",
      "Response code 503. Waiting for 5 seconds.\n",
      "Response code 503. Waiting for 4 seconds.\n",
      "Response code 503. Waiting for 4 seconds.\n",
      "Response code 503. Waiting for 4 seconds.\n",
      "Response code 503. Waiting for 3 seconds.\n",
      "Response code 503. Waiting for 3 seconds.\n",
      "Response code 503. Waiting for 4 seconds.\n",
      "Response code 503. Waiting for 2 seconds.\n",
      "Response code 503. Waiting for 3 seconds.\n",
      "Response code 503. Waiting for 3 seconds.\n",
      "Response code 503. Waiting for 3 seconds.\n",
      "Response code 503. Waiting for 4 seconds.\n",
      "Response code 503. Waiting for 4 seconds.\n",
      "Response code 503. Waiting for 3 seconds.\n",
      "Response code 503. Waiting for 3 seconds.\n",
      "Response code 503. Waiting for 4 seconds.\n",
      "Response code 503. Waiting for 4 seconds.\n",
      "Response code 503. Waiting for 2 seconds.\n",
      "Response code 503. Waiting for 4 seconds.\n",
      "Response code 503. Waiting for 3 seconds.\n",
      "Response code 503. Waiting for 5 seconds.\n",
      "Response code 503. Waiting for 4 seconds.\n",
      "Response code 503. Waiting for 4 seconds.\n",
      "Response code 503. Waiting for 4 seconds.\n",
      "Response code 503. Waiting for 3 seconds.\n",
      "Response code 503. Waiting for 4 seconds.\n",
      "Response code 503. Waiting for 5 seconds.\n",
      "Response code 503. Waiting for 4 seconds.\n",
      "Response code 503. Waiting for 4 seconds.\n",
      "CPU times: user 25.4 s, sys: 1.45 s, total: 26.9 s\n",
      "Wall time: 11min 55s\n"
     ]
    },
    {
     "output_type": "execute_result",
     "data": {
      "text/plain": [
       "                                         release-date listeners playcount  \\\n",
       "artist      album                                                           \n",
       "Slayer      Reign in Blood                 1986-10-07    822528  15587243   \n",
       "Metallica   Kill 'Em All                   1983-07-25    582246  14372137   \n",
       "NaN         NaN                                   NaN       NaN       NaN   \n",
       "Iron Maiden Iron Maiden                    1980-04-14    390345   7084675   \n",
       "Metallica   Master of Puppets                    2003    949182  22464934   \n",
       "...                                               ...       ...       ...   \n",
       "Unexpect    In A Flesh Aquarium            2006-08-22     34838    746878   \n",
       "Xasthur     Telepathic With the Deceased      2004-06     24253    387969   \n",
       "Burzum      Umskiptar                      2012-05-21     37290   1016213   \n",
       "Emperor     IX Equilibrium                 1999-02-22     59217   1095590   \n",
       "NaN         NaN                                   NaN       NaN       NaN   \n",
       "\n",
       "                                                                              tags  \\\n",
       "artist      album                                                                    \n",
       "Slayer      Reign in Blood                [thrash metal, speed metal, heavy metal]   \n",
       "Metallica   Kill 'Em All                  [thrash metal, heavy metal, speed metal]   \n",
       "NaN         NaN                                                                NaN   \n",
       "Iron Maiden Iron Maiden                                      [heavy metal, NWOBHM]   \n",
       "Metallica   Master of Puppets                          [thrash metal, heavy metal]   \n",
       "...                                                                            ...   \n",
       "Unexpect    In A Flesh Aquarium                                                 []   \n",
       "Xasthur     Telepathic With the Deceased                 [black metal, doom metal]   \n",
       "Burzum      Umskiptar                                                [black metal]   \n",
       "Emperor     IX Equilibrium                                           [black metal]   \n",
       "NaN         NaN                                                                NaN   \n",
       "\n",
       "                                                                               ignored tags  \n",
       "artist      album                                                                            \n",
       "Slayer      Reign in Blood                                            [albums I own, metal]  \n",
       "Metallica   Kill 'Em All                                              [albums I own, metal]  \n",
       "NaN         NaN                                                                         NaN  \n",
       "Iron Maiden Iron Maiden                                         [albums I own, metal, 1980]  \n",
       "Metallica   Master of Puppets                       [albums I own, metal, favourite albums]  \n",
       "...                                                                                     ...  \n",
       "Unexpect    In A Flesh Aquarium           [Avant-garde Metal, experimental, Progressive ...  \n",
       "Xasthur     Telepathic With the Deceased       [albums I own, depressive black metal, dark]  \n",
       "Burzum      Umskiptar                     [2012, atmospheric black metal, Skaldic Metal,...  \n",
       "Emperor     IX Equilibrium                [albums I own, Symphonic Black Metal, 1999, pr...  \n",
       "NaN         NaN                                                                         NaN  \n",
       "\n",
       "[1000 rows x 5 columns]"
      ],
      "text/html": "<div>\n<style scoped>\n    .dataframe tbody tr th:only-of-type {\n        vertical-align: middle;\n    }\n\n    .dataframe tbody tr th {\n        vertical-align: top;\n    }\n\n    .dataframe thead th {\n        text-align: right;\n    }\n</style>\n<table border=\"1\" class=\"dataframe\">\n  <thead>\n    <tr style=\"text-align: right;\">\n      <th></th>\n      <th></th>\n      <th>release-date</th>\n      <th>listeners</th>\n      <th>playcount</th>\n      <th>tags</th>\n      <th>ignored tags</th>\n    </tr>\n    <tr>\n      <th>artist</th>\n      <th>album</th>\n      <th></th>\n      <th></th>\n      <th></th>\n      <th></th>\n      <th></th>\n    </tr>\n  </thead>\n  <tbody>\n    <tr>\n      <th>Slayer</th>\n      <th>Reign in Blood</th>\n      <td>1986-10-07</td>\n      <td>822528</td>\n      <td>15587243</td>\n      <td>[thrash metal, speed metal, heavy metal]</td>\n      <td>[albums I own, metal]</td>\n    </tr>\n    <tr>\n      <th>Metallica</th>\n      <th>Kill 'Em All</th>\n      <td>1983-07-25</td>\n      <td>582246</td>\n      <td>14372137</td>\n      <td>[thrash metal, heavy metal, speed metal]</td>\n      <td>[albums I own, metal]</td>\n    </tr>\n    <tr>\n      <th>NaN</th>\n      <th>NaN</th>\n      <td>NaN</td>\n      <td>NaN</td>\n      <td>NaN</td>\n      <td>NaN</td>\n      <td>NaN</td>\n    </tr>\n    <tr>\n      <th>Iron Maiden</th>\n      <th>Iron Maiden</th>\n      <td>1980-04-14</td>\n      <td>390345</td>\n      <td>7084675</td>\n      <td>[heavy metal, NWOBHM]</td>\n      <td>[albums I own, metal, 1980]</td>\n    </tr>\n    <tr>\n      <th>Metallica</th>\n      <th>Master of Puppets</th>\n      <td>2003</td>\n      <td>949182</td>\n      <td>22464934</td>\n      <td>[thrash metal, heavy metal]</td>\n      <td>[albums I own, metal, favourite albums]</td>\n    </tr>\n    <tr>\n      <th>...</th>\n      <th>...</th>\n      <td>...</td>\n      <td>...</td>\n      <td>...</td>\n      <td>...</td>\n      <td>...</td>\n    </tr>\n    <tr>\n      <th>Unexpect</th>\n      <th>In A Flesh Aquarium</th>\n      <td>2006-08-22</td>\n      <td>34838</td>\n      <td>746878</td>\n      <td>[]</td>\n      <td>[Avant-garde Metal, experimental, Progressive ...</td>\n    </tr>\n    <tr>\n      <th>Xasthur</th>\n      <th>Telepathic With the Deceased</th>\n      <td>2004-06</td>\n      <td>24253</td>\n      <td>387969</td>\n      <td>[black metal, doom metal]</td>\n      <td>[albums I own, depressive black metal, dark]</td>\n    </tr>\n    <tr>\n      <th>Burzum</th>\n      <th>Umskiptar</th>\n      <td>2012-05-21</td>\n      <td>37290</td>\n      <td>1016213</td>\n      <td>[black metal]</td>\n      <td>[2012, atmospheric black metal, Skaldic Metal,...</td>\n    </tr>\n    <tr>\n      <th>Emperor</th>\n      <th>IX Equilibrium</th>\n      <td>1999-02-22</td>\n      <td>59217</td>\n      <td>1095590</td>\n      <td>[black metal]</td>\n      <td>[albums I own, Symphonic Black Metal, 1999, pr...</td>\n    </tr>\n    <tr>\n      <th>NaN</th>\n      <th>NaN</th>\n      <td>NaN</td>\n      <td>NaN</td>\n      <td>NaN</td>\n      <td>NaN</td>\n      <td>NaN</td>\n    </tr>\n  </tbody>\n</table>\n<p>1000 rows × 5 columns</p>\n</div>"
     },
     "metadata": {},
     "execution_count": 10
    }
   ],
   "source": [
    "%%time\n",
    "lastfm = dqf.LastFM()\n",
    "\n",
    "LIMIT = 1000\n",
    "result_df = df_csv.head(LIMIT)\n",
    "\n",
    "fields =['artist', 'name', 'release-date', 'listeners', 'playcount', 'tags', 'mbid', 'url', 'image']\n",
    "\n",
    "result_df['lastfm_info'] = result_df.progress_apply(lambda row: lastfm.get_album_info(artist=row['artist'], album=row['album'], fields=fields), axis=1)\n",
    "\n",
    "result_df= result_df.lastfm_info.apply(pd.Series)\n",
    "fields.append('ignored tags')\n",
    "result_df.rename(columns={'name':'album'}, inplace=True)\n",
    "result_df = result_df.set_index(['artist', 'album'])\n",
    "result_df.drop([0], axis=1)\n",
    "\n",
    "show_fields =['release-date', 'listeners', 'playcount', 'tags', 'ignored tags']\n",
    "result_df[show_fields]"
   ]
  },
  {
   "cell_type": "code",
   "execution_count": 11,
   "metadata": {},
   "outputs": [],
   "source": [
    "result_df[show_fields].sort_values(by='listeners', ascending=False).to_csv('./data/proc_MA_1000_albums_non_cumulative.csv')"
   ]
  }
 ],
 "metadata": {
  "kernelspec": {
   "display_name": "Python 3",
   "language": "python",
   "name": "python3"
  },
  "language_info": {
   "codemirror_mode": {
    "name": "ipython",
    "version": 3
   },
   "file_extension": ".py",
   "mimetype": "text/x-python",
   "name": "python",
   "nbconvert_exporter": "python",
   "pygments_lexer": "ipython3",
   "version": "3.8.6-final"
  }
 },
 "nbformat": 4,
 "nbformat_minor": 4
}