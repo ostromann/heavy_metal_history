{
 "cells": [
  {
   "source": [
    "# Imports and Constants\n",
    "\n",
    "An API key must be given. Registration required first."
   ],
   "cell_type": "markdown",
   "metadata": {}
  },
  {
   "cell_type": "code",
   "execution_count": 16,
   "metadata": {},
   "outputs": [
    {
     "output_type": "stream",
     "name": "stdout",
     "text": [
      "The autoreload extension is already loaded. To reload it, use:\n  %reload_ext autoreload\n"
     ]
    }
   ],
   "source": [
    "%load_ext autoreload"
   ]
  },
  {
   "cell_type": "code",
   "execution_count": 17,
   "metadata": {},
   "outputs": [],
   "source": [
    "%autoreload 2\n",
    "import requests\n",
    "import pandas as pd\n",
    "import numpy as np\n",
    "\n",
    "from datetime import datetime\n",
    "from dateutil import parser\n",
    "\n",
    "from dotenv import load_dotenv\n",
    "\n",
    "import metalhistory as mh\n",
    "import metalhistory.utils as utils"
   ]
  },
  {
   "source": [
    "# For devs: Overview of functions\n",
    "These functions from utils.py work (untested) so far:"
   ],
   "cell_type": "markdown",
   "metadata": {}
  },
  {
   "cell_type": "code",
   "execution_count": 18,
   "metadata": {},
   "outputs": [
    {
     "output_type": "stream",
     "name": "stdout",
     "text": [
      "Generated API Request: http://ws.audioscrobbler.com/2.0/?&api_key=2e171c2f29c3f9b0258954e2edb289c3&method=album.getinfo&artist=Black Sabbath&album=Paranoid&format=json\n",
      "Generated API Request: http://ws.audioscrobbler.com/2.0/?&api_key=2e171c2f29c3f9b0258954e2edb289c3&method=album.search&artist=Black Sabbath&album=Paranoid&format=json\n",
      "Generated API Request: http://ws.audioscrobbler.com/2.0/?&api_key=2e171c2f29c3f9b0258954e2edb289c3&method=track.getinfo&artist=Black Sabbath&album=Paranoid&track=War Pigs&format=json\n"
     ]
    },
    {
     "output_type": "execute_result",
     "data": {
      "text/plain": [
       "{'name': 'War Pigs',\n",
       " 'mbid': 'c2786bd8-7dc7-4633-ab6c-70c70ebd432f',\n",
       " 'url': 'https://www.last.fm/music/Black+Sabbath/_/War+Pigs',\n",
       " 'duration': '476000',\n",
       " 'streamable': {'#text': '0', 'fulltrack': '0'},\n",
       " 'listeners': '673385',\n",
       " 'playcount': '3737549',\n",
       " 'artist': {'name': 'Black Sabbath',\n",
       "  'mbid': '5182c1d9-c7d2-4dad-afa0-ccfeada921a8',\n",
       "  'url': 'https://www.last.fm/music/Black+Sabbath'},\n",
       " 'album': {'artist': 'Black Sabbath',\n",
       "  'title': 'Greatest Hits',\n",
       "  'mbid': '4d7125aa-0352-4b93-a769-7179c5bdd255',\n",
       "  'url': 'https://www.last.fm/music/Black+Sabbath/Greatest+Hits',\n",
       "  'image': [{'#text': 'https://lastfm.freetls.fastly.net/i/u/34s/e88b3980787c4714b79c3cab44986595.png',\n",
       "    'size': 'small'},\n",
       "   {'#text': 'https://lastfm.freetls.fastly.net/i/u/64s/e88b3980787c4714b79c3cab44986595.png',\n",
       "    'size': 'medium'},\n",
       "   {'#text': 'https://lastfm.freetls.fastly.net/i/u/174s/e88b3980787c4714b79c3cab44986595.png',\n",
       "    'size': 'large'},\n",
       "   {'#text': 'https://lastfm.freetls.fastly.net/i/u/300x300/e88b3980787c4714b79c3cab44986595.png',\n",
       "    'size': 'extralarge'}],\n",
       "  '@attr': {'position': '7'}},\n",
       " 'toptags': {'tag': [{'name': 'heavy metal',\n",
       "    'url': 'https://www.last.fm/tag/heavy+metal'},\n",
       "   {'name': 'classic rock', 'url': 'https://www.last.fm/tag/classic+rock'},\n",
       "   {'name': 'hard rock', 'url': 'https://www.last.fm/tag/hard+rock'},\n",
       "   {'name': 'metal', 'url': 'https://www.last.fm/tag/metal'},\n",
       "   {'name': 'rock', 'url': 'https://www.last.fm/tag/rock'}]},\n",
       " 'wiki': {'published': '28 Jun 2009, 22:37',\n",
       "  'summary': 'War Pigs\" is a song by English heavy metal band Black Sabbath from their 1970 album Paranoid. It is generally understood that the song is a protest against the Vietnam War; however, when the band played \"War Pigs\" live in the mid-1970s, scenes from World War II were projected for audiences.\\n\\nAs explained in the liner notes of the band\\'s live album Reunion, the original title of the song was \"Walpurgis\", dealing with a witches\\' sabbath. The title, lyrics, and theme were subsequently changed during the recording of Paranoid. <a href=\"http://www.last.fm/music/Black+Sabbath/_/War+Pigs\">Read more on Last.fm</a>.',\n",
       "  'content': 'War Pigs\" is a song by English heavy metal band Black Sabbath from their 1970 album Paranoid. It is generally understood that the song is a protest against the Vietnam War; however, when the band played \"War Pigs\" live in the mid-1970s, scenes from World War II were projected for audiences.\\n\\nAs explained in the liner notes of the band\\'s live album Reunion, the original title of the song was \"Walpurgis\", dealing with a witches\\' sabbath. The title, lyrics, and theme were subsequently changed during the recording of Paranoid. An early version, with the original theme, can be found on Ozzy Osbourne\\'s compilation The Ozzman Cometh.\\n\\n\"War Pigs\" is the opening track on Paranoid, Black Sabbath\\'s best-selling album. It can also be found in every live and compilation album by the band except Cross Purposes Live, along with \"Paranoid\" itself and \"Iron Man\". The outro to \"War Pigs\" has its own name, \"Luke\\'s Wall\" (named in homage to the band\\'s two-man road crew, Geoff \"Luke\" Lucas and Spock Wall) and features a more melodic tone than the rest of the song. The last few seconds of the track feature the sound of the tape speeding up, changing tempo and pitch.\\n\\n\"War Pigs\" is ranked number two on Digital Dream Door\\'s \"100 Greatest Metal Songs\". Readers of Guitar World ranked the song number 56 on their list of the 100 Greatest Guitar Solos.\\nFollowing the terrorist attacks on September 11, 2001, the song was placed in the list of post-9/11 inappropriate titles distributed by Clear Channel.\\n\\nThe tape copy sent to Warner Bros. Records in America contained a tape drop-out (in the left stereo channel) about a minute into the song, which has been heard on every other U.S. compilation and reissue since 1971. <a href=\"http://www.last.fm/music/Black+Sabbath/_/War+Pigs\">Read more on Last.fm</a>. User-contributed text is available under the Creative Commons By-SA License; additional terms may apply.'}}"
      ]
     },
     "metadata": {},
     "execution_count": 18
    }
   ],
   "source": [
    "lastfm = utils.LastFM()\n",
    "lastfm.get_album_info('Black Sabbath', 'Paranoid', verbose=1)\n",
    "lastfm.get_album_matches('Black Sabbath', 'Paranoid', verbose=1)\n",
    "lastfm.get_track_info('Black Sabbath', 'Paranoid', 'War Pigs', verbose=1)"
   ]
  },
  {
   "source": [
    "# Data analysis\n",
    "\n",
    "Show the first 5 entries of the Excel-file."
   ],
   "cell_type": "markdown",
   "metadata": {}
  },
  {
   "cell_type": "code",
   "execution_count": 19,
   "metadata": {},
   "outputs": [
    {
     "output_type": "execute_result",
     "data": {
      "text/plain": [
       "   Number           Band                 Album\n",
       "0     1.0  Black Sabbath              Paranoid\n",
       "1     2.0   Led Zeppelin       Led Zeppelin IV\n",
       "2     3.0    Deep Purple          Machine Head\n",
       "3     4.0          Queen  A Night at the Opera\n",
       "4     5.0          Queen                 Jazz "
      ],
      "text/html": "<div>\n<style scoped>\n    .dataframe tbody tr th:only-of-type {\n        vertical-align: middle;\n    }\n\n    .dataframe tbody tr th {\n        vertical-align: top;\n    }\n\n    .dataframe thead th {\n        text-align: right;\n    }\n</style>\n<table border=\"1\" class=\"dataframe\">\n  <thead>\n    <tr style=\"text-align: right;\">\n      <th></th>\n      <th>Number</th>\n      <th>Band</th>\n      <th>Album</th>\n    </tr>\n  </thead>\n  <tbody>\n    <tr>\n      <th>0</th>\n      <td>1.0</td>\n      <td>Black Sabbath</td>\n      <td>Paranoid</td>\n    </tr>\n    <tr>\n      <th>1</th>\n      <td>2.0</td>\n      <td>Led Zeppelin</td>\n      <td>Led Zeppelin IV</td>\n    </tr>\n    <tr>\n      <th>2</th>\n      <td>3.0</td>\n      <td>Deep Purple</td>\n      <td>Machine Head</td>\n    </tr>\n    <tr>\n      <th>3</th>\n      <td>4.0</td>\n      <td>Queen</td>\n      <td>A Night at the Opera</td>\n    </tr>\n    <tr>\n      <th>4</th>\n      <td>5.0</td>\n      <td>Queen</td>\n      <td>Jazz</td>\n    </tr>\n  </tbody>\n</table>\n</div>"
     },
     "metadata": {},
     "execution_count": 19
    }
   ],
   "source": [
    "df = pd.read_csv('data/MA_10k_albums.csv', sheet_name='Gesamt')\n",
    "df = df.drop(labels=['Unnamed: 9', 0.5, 'Year', 'Month', 'Day', 'Spotify', 'Factor', 'Score'], axis=1)\n",
    "df = df.dropna(axis=0)\n",
    "df.head()"
   ]
  },
  {
   "source": [
    "Many albums occur several times with similar names. Their counts should be summed up.\n",
    "See the following example for \"Black Sabbath - Paranoid\" and \"Led Zeppelin - Led Zeppelin IV\"."
   ],
   "cell_type": "markdown",
   "metadata": {}
  },
  {
   "cell_type": "code",
   "execution_count": 20,
   "metadata": {},
   "outputs": [
    {
     "output_type": "stream",
     "name": "stdout",
     "text": [
      "Black Sabbath - Paranoid\n",
      "Black Sabbath - Paranoid (2009 Remastered Version)\n",
      "Black Sabbath - Paranoid (Remastered)\n",
      "Black Sabbath - Paranoid (2014 Remaster)\n",
      "Black Sabbath - Paranoid (Remaster)\n",
      "Black Sabbath - Paranoid (Remastered Edition)\n",
      "Black Sabbath - Paranoid (Deluxe Edition)\n",
      "Black Sabbath - Paranoid (Deluxe Expanded Edit\n",
      "Black Sabbath - Paranoid (Original Album) Disc 1\n",
      "Black Sabbath - Paranoid (Deluxe Expanded Edition) CD1\n",
      "Black Sabbath - Paranoid (Black Box: Disc 2)\n",
      "Black Sabbath - Paranoid (Us 1st Press, Wbm 3104-2)\n",
      "Black Sabbath - Paranoid (Deluxe Expanded Edition, 2cd, Sanctuary 1782444)\n",
      "Black Sabbath - Paranoid [2009, Sanctuary, 1782444]\n",
      "Black Sabbath - Paranoid - Black Box -  The Complete Original Black Sabbath\n",
      "Black Sabbath - Paranoid [1989, Vertigo, 23PD-134]\n",
      "Black Sabbath - Paranoid [Deluxe Edition]\n",
      "Black Sabbath - Paranoid (Black Box, R2 73923-B)\n",
      "Led Zeppelin - Led Zeppelin IV\n",
      "Led Zeppelin - Led Zeppelin IV (Deluxe Edition)\n",
      "Led Zeppelin - Led Zeppelin IV (1994 Remaster\n",
      "Led Zeppelin - Led Zeppelin IV (Remaster)\n",
      "Led Zeppelin - Led Zeppelin IV (Remastered Version)\n",
      "Led Zeppelin - Led Zeppelin IV (Deluxe Edition; Remaster)\n",
      "Led Zeppelin - IV\n",
      "Led Zeppelin - Led Zeppelin IV (Remastered)\n",
      "Led Zeppelin - [Led Zeppelin IV]\n",
      "Led Zeppelin - Led Zeppelin IV [2156]\n",
      "Led Zeppelin - Led Zeppelin IV (1994 Remaster)\n",
      "Led Zeppelin - Led Zeppelin Iv (Atlantic Sd 19129-2)\n",
      "Led Zeppelin - Led Zeppelin IV [Super Deluxe Edition Box]\n",
      "Led Zeppelin - Led Zeppelin Iv [10 Cd Boxed Set]\n",
      "Led Zeppelin - Led Zeppelin IV [1994, Atlantic, 82638-2]\n",
      "Led Zeppelin - Led Zeppelin IV (aka ZOSO)\n",
      "Led Zeppelin - Led Zeppelin IV [1988, Atlantic, 20P2-2026]\n",
      "Led Zeppelin - Led Zeppelin IV [Super Deluxe Edition Box] [CD1]\n",
      "Led Zeppelin - Led Zeppelin Iv (Atlantic 82638-2)\n",
      "Led Zeppelin - Led Zeppelin IV (HD Remastered Edition)\n",
      "Led Zeppelin - Led Zeppelin IV [Limited Edition Mini LP Cover]\n",
      "Led Zeppelin - IV 1971 [Remastered]\n",
      "Led Zeppelin - Led Zeppelin IV [Deluxe Edition]\n",
      "Led Zeppelin - Led Zeppelin IV (Zoso)\n",
      "Led Zeppelin - Led Zeppelin IV (40th Anniversary Edition)\n",
      "Led Zeppelin - Led Zeppelin IV [1994 Remaster]\n",
      "Led Zeppelin - Led Zeppelin IV [Remastered]\n",
      "Led Zeppelin - Led Zeppelin (IV)\n",
      "Led Zeppelin - Led Zeppelin IV (LP) [Atlantic, K 50008]\n",
      "Led Zeppelin - Led Zeppelin IV (Deluxe Edition) [Remaster]\n",
      "Led Zeppelin - Led Zeppelin [IV]\n",
      "Led Zeppelin - Led Zeppelin IV [Super Deluxe Edition Box] [CD2]\n",
      "Led Zeppelin - Led Zeppelin IV (1994 Remastered)\n",
      "Led Zeppelin - Led Zeppelin IV (Untitled)\n",
      "Led Zeppelin - Led Zeppelin IV [Bonus Tracks]\n",
      "Led Zeppelin - Led Zeppelin IV (HD Remastered Deluxe Edition)\n",
      "Led Zeppelin - Led Zeppelin IV [Original German Edition]\n",
      "Led Zeppelin - IV (Zoso)\n",
      "Led Zeppelin - (1971) Led Zeppelin IV\n",
      "Led Zeppelin - Led Zeppelin IV (1971)\n",
      "Led Zeppelin - Led Zeppelin Iv [Dr. Ebbetts 2008 Atlantic Sd7208]\n",
      "Led Zeppelin - Led Zeppelin IV [Deluxe Edition] Disc 1\n",
      "Led Zeppelin - Led Zepplin IV\n",
      "Led Zeppelin - Led Zeppelin IV - Super Deluxe Edition (CD1)\n",
      "Led Zeppelin - IV [Box Set Remaster]\n",
      "Led Zeppelin - Led Zeppelin IV : Deluxe Edition [Disc 2] [2014 Remastered by Jimmy Page]\n"
     ]
    }
   ],
   "source": [
    "lastfm = utils.LastFM()\n",
    "results_df = pd.DataFrame()\n",
    "for idx, row in df.head(2).iterrows():\n",
    "    artist = row['Band']\n",
    "    album = row['Album']\n",
    "    matches = lastfm.get_album_matches(artist, album)\n",
    "\n",
    "    for match in matches['results']['albummatches'].values():\n",
    "        for d in match:\n",
    "            if d['artist'] == artist:\n",
    "                results_df = results_df.append({\n",
    "                    'artist': artist,\n",
    "                    'album': album,\n",
    "                    'album_instance': d['name'],\n",
    "                    'lastfm_info': lastfm.get_album_info(d['artist'], d['name'])\n",
    "                }, ignore_index=True)\n",
    "                print(d['artist'], '-', d['name'])"
   ]
  },
  {
   "source": [
    "Add some entries of the lastfm info as column to the dataframe."
   ],
   "cell_type": "markdown",
   "metadata": {}
  },
  {
   "cell_type": "code",
   "execution_count": 21,
   "metadata": {},
   "outputs": [
    {
     "output_type": "execute_result",
     "data": {
      "text/plain": [
       "              album                                     album_instance  \\\n",
       "0          Paranoid                                           Paranoid   \n",
       "1          Paranoid                 Paranoid (2009 Remastered Version)   \n",
       "2          Paranoid                              Paranoid (Remastered)   \n",
       "3          Paranoid                           Paranoid (2014 Remaster)   \n",
       "4          Paranoid                                Paranoid (Remaster)   \n",
       "..              ...                                                ...   \n",
       "59  Led Zeppelin IV            Led Zeppelin IV [Deluxe Edition] Disc 1   \n",
       "60  Led Zeppelin IV                                     Led Zepplin IV   \n",
       "61  Led Zeppelin IV       Led Zeppelin IV - Super Deluxe Edition (CD1)   \n",
       "62  Led Zeppelin IV                              IV [Box Set Remaster]   \n",
       "63  Led Zeppelin IV  Led Zeppelin IV : Deluxe Edition [Disc 2] [201...   \n",
       "\n",
       "           artist                                        lastfm_info  \\\n",
       "0   Black Sabbath  {'name': 'Paranoid', 'artist': 'Black Sabbath'...   \n",
       "1   Black Sabbath  {'name': 'Paranoid (2009 Remastered Version)',...   \n",
       "2   Black Sabbath  {'name': 'Paranoid (Remastered)', 'artist': 'B...   \n",
       "3   Black Sabbath  {'name': 'Paranoid (2014 Remaster)', 'artist':...   \n",
       "4   Black Sabbath  {'name': 'Paranoid (Remaster)', 'artist': 'Bla...   \n",
       "..            ...                                                ...   \n",
       "59   Led Zeppelin  {'name': 'Led Zeppelin IV [Deluxe Edition] Dis...   \n",
       "60   Led Zeppelin  {'name': 'Led Zepplin IV', 'artist': 'Led Zepp...   \n",
       "61   Led Zeppelin  {'name': 'Led Zeppelin IV - Super Deluxe Editi...   \n",
       "62   Led Zeppelin  {'name': 'IV [Box Set Remaster]', 'artist': 'L...   \n",
       "63   Led Zeppelin  {'name': 'Led Zeppelin IV : Deluxe Edition [Di...   \n",
       "\n",
       "    listeners  playcount                                                url  \n",
       "0     1259763   15301867   https://www.last.fm/music/Black+Sabbath/Paranoid  \n",
       "1      253344    2837094  https://www.last.fm/music/Black+Sabbath/Parano...  \n",
       "2      170170    1435428  https://www.last.fm/music/Black+Sabbath/Parano...  \n",
       "3       78861     543345  https://www.last.fm/music/Black+Sabbath/Parano...  \n",
       "4       49957     274526  https://www.last.fm/music/Black+Sabbath/Parano...  \n",
       "..        ...        ...                                                ...  \n",
       "59        108       2673  https://www.last.fm/music/Led+Zeppelin/Led+Zep...  \n",
       "60       1042       9425  https://www.last.fm/music/Led+Zeppelin/Led+Zep...  \n",
       "61        195       2706  https://www.last.fm/music/Led+Zeppelin/Led+Zep...  \n",
       "62        373       8263  https://www.last.fm/music/Led+Zeppelin/IV+%5BB...  \n",
       "63         38       1760  https://www.last.fm/music/Led+Zeppelin/Led+Zep...  \n",
       "\n",
       "[64 rows x 7 columns]"
      ],
      "text/html": "<div>\n<style scoped>\n    .dataframe tbody tr th:only-of-type {\n        vertical-align: middle;\n    }\n\n    .dataframe tbody tr th {\n        vertical-align: top;\n    }\n\n    .dataframe thead th {\n        text-align: right;\n    }\n</style>\n<table border=\"1\" class=\"dataframe\">\n  <thead>\n    <tr style=\"text-align: right;\">\n      <th></th>\n      <th>album</th>\n      <th>album_instance</th>\n      <th>artist</th>\n      <th>lastfm_info</th>\n      <th>listeners</th>\n      <th>playcount</th>\n      <th>url</th>\n    </tr>\n  </thead>\n  <tbody>\n    <tr>\n      <th>0</th>\n      <td>Paranoid</td>\n      <td>Paranoid</td>\n      <td>Black Sabbath</td>\n      <td>{'name': 'Paranoid', 'artist': 'Black Sabbath'...</td>\n      <td>1259763</td>\n      <td>15301867</td>\n      <td>https://www.last.fm/music/Black+Sabbath/Paranoid</td>\n    </tr>\n    <tr>\n      <th>1</th>\n      <td>Paranoid</td>\n      <td>Paranoid (2009 Remastered Version)</td>\n      <td>Black Sabbath</td>\n      <td>{'name': 'Paranoid (2009 Remastered Version)',...</td>\n      <td>253344</td>\n      <td>2837094</td>\n      <td>https://www.last.fm/music/Black+Sabbath/Parano...</td>\n    </tr>\n    <tr>\n      <th>2</th>\n      <td>Paranoid</td>\n      <td>Paranoid (Remastered)</td>\n      <td>Black Sabbath</td>\n      <td>{'name': 'Paranoid (Remastered)', 'artist': 'B...</td>\n      <td>170170</td>\n      <td>1435428</td>\n      <td>https://www.last.fm/music/Black+Sabbath/Parano...</td>\n    </tr>\n    <tr>\n      <th>3</th>\n      <td>Paranoid</td>\n      <td>Paranoid (2014 Remaster)</td>\n      <td>Black Sabbath</td>\n      <td>{'name': 'Paranoid (2014 Remaster)', 'artist':...</td>\n      <td>78861</td>\n      <td>543345</td>\n      <td>https://www.last.fm/music/Black+Sabbath/Parano...</td>\n    </tr>\n    <tr>\n      <th>4</th>\n      <td>Paranoid</td>\n      <td>Paranoid (Remaster)</td>\n      <td>Black Sabbath</td>\n      <td>{'name': 'Paranoid (Remaster)', 'artist': 'Bla...</td>\n      <td>49957</td>\n      <td>274526</td>\n      <td>https://www.last.fm/music/Black+Sabbath/Parano...</td>\n    </tr>\n    <tr>\n      <th>...</th>\n      <td>...</td>\n      <td>...</td>\n      <td>...</td>\n      <td>...</td>\n      <td>...</td>\n      <td>...</td>\n      <td>...</td>\n    </tr>\n    <tr>\n      <th>59</th>\n      <td>Led Zeppelin IV</td>\n      <td>Led Zeppelin IV [Deluxe Edition] Disc 1</td>\n      <td>Led Zeppelin</td>\n      <td>{'name': 'Led Zeppelin IV [Deluxe Edition] Dis...</td>\n      <td>108</td>\n      <td>2673</td>\n      <td>https://www.last.fm/music/Led+Zeppelin/Led+Zep...</td>\n    </tr>\n    <tr>\n      <th>60</th>\n      <td>Led Zeppelin IV</td>\n      <td>Led Zepplin IV</td>\n      <td>Led Zeppelin</td>\n      <td>{'name': 'Led Zepplin IV', 'artist': 'Led Zepp...</td>\n      <td>1042</td>\n      <td>9425</td>\n      <td>https://www.last.fm/music/Led+Zeppelin/Led+Zep...</td>\n    </tr>\n    <tr>\n      <th>61</th>\n      <td>Led Zeppelin IV</td>\n      <td>Led Zeppelin IV - Super Deluxe Edition (CD1)</td>\n      <td>Led Zeppelin</td>\n      <td>{'name': 'Led Zeppelin IV - Super Deluxe Editi...</td>\n      <td>195</td>\n      <td>2706</td>\n      <td>https://www.last.fm/music/Led+Zeppelin/Led+Zep...</td>\n    </tr>\n    <tr>\n      <th>62</th>\n      <td>Led Zeppelin IV</td>\n      <td>IV [Box Set Remaster]</td>\n      <td>Led Zeppelin</td>\n      <td>{'name': 'IV [Box Set Remaster]', 'artist': 'L...</td>\n      <td>373</td>\n      <td>8263</td>\n      <td>https://www.last.fm/music/Led+Zeppelin/IV+%5BB...</td>\n    </tr>\n    <tr>\n      <th>63</th>\n      <td>Led Zeppelin IV</td>\n      <td>Led Zeppelin IV : Deluxe Edition [Disc 2] [201...</td>\n      <td>Led Zeppelin</td>\n      <td>{'name': 'Led Zeppelin IV : Deluxe Edition [Di...</td>\n      <td>38</td>\n      <td>1760</td>\n      <td>https://www.last.fm/music/Led+Zeppelin/Led+Zep...</td>\n    </tr>\n  </tbody>\n</table>\n<p>64 rows × 7 columns</p>\n</div>"
     },
     "metadata": {},
     "execution_count": 21
    }
   ],
   "source": [
    "df = results_df\n",
    "df['listeners'] = df.apply(lambda row: int(row['lastfm_info']['listeners']), axis=1)\n",
    "df['playcount'] = df.apply(lambda row: int(row['lastfm_info']['playcount']), axis=1)\n",
    "# df['release'] = df.apply(lambda row: get_release_date(row['lastfm_info']), axis=1)\n",
    "df['url'] = df.apply(lambda row: row['lastfm_info']['url'], axis=1)\n",
    "df"
   ]
  },
  {
   "source": [
    "Sum up the different entries that correspond to the same album:"
   ],
   "cell_type": "markdown",
   "metadata": {}
  },
  {
   "cell_type": "code",
   "execution_count": 22,
   "metadata": {},
   "outputs": [
    {
     "output_type": "execute_result",
     "data": {
      "text/plain": [
       "                               listeners  playcount\n",
       "artist        album                                \n",
       "Black Sabbath Paranoid           1936391   21611158\n",
       "Led Zeppelin  Led Zeppelin IV    1895932   26756229"
      ],
      "text/html": "<div>\n<style scoped>\n    .dataframe tbody tr th:only-of-type {\n        vertical-align: middle;\n    }\n\n    .dataframe tbody tr th {\n        vertical-align: top;\n    }\n\n    .dataframe thead th {\n        text-align: right;\n    }\n</style>\n<table border=\"1\" class=\"dataframe\">\n  <thead>\n    <tr style=\"text-align: right;\">\n      <th></th>\n      <th></th>\n      <th>listeners</th>\n      <th>playcount</th>\n    </tr>\n    <tr>\n      <th>artist</th>\n      <th>album</th>\n      <th></th>\n      <th></th>\n    </tr>\n  </thead>\n  <tbody>\n    <tr>\n      <th>Black Sabbath</th>\n      <th>Paranoid</th>\n      <td>1936391</td>\n      <td>21611158</td>\n    </tr>\n    <tr>\n      <th>Led Zeppelin</th>\n      <th>Led Zeppelin IV</th>\n      <td>1895932</td>\n      <td>26756229</td>\n    </tr>\n  </tbody>\n</table>\n</div>"
     },
     "metadata": {},
     "execution_count": 22
    }
   ],
   "source": [
    "#TODO: Should probably be part of the utils.py\n",
    "cumulative_df = df.drop(['album_instance'], axis=1).groupby(['artist','album']).sum()\n",
    "cumulative_df"
   ]
  },
  {
   "source": [
    "Get the album last fm album entries with the most listeners."
   ],
   "cell_type": "markdown",
   "metadata": {}
  },
  {
   "cell_type": "code",
   "execution_count": 23,
   "metadata": {},
   "outputs": [
    {
     "output_type": "execute_result",
     "data": {
      "text/plain": [
       "              album   album_instance         artist  \\\n",
       "0          Paranoid         Paranoid  Black Sabbath   \n",
       "18  Led Zeppelin IV  Led Zeppelin IV   Led Zeppelin   \n",
       "\n",
       "                                          lastfm_info  listeners  playcount  \\\n",
       "0   {'name': 'Paranoid', 'artist': 'Black Sabbath'...    1259763   15301867   \n",
       "18  {'name': 'Led Zeppelin IV', 'artist': 'Led Zep...    1048970   17008960   \n",
       "\n",
       "                                                  url  \n",
       "0    https://www.last.fm/music/Black+Sabbath/Paranoid  \n",
       "18  https://www.last.fm/music/Led+Zeppelin/Led+Zep...  "
      ],
      "text/html": "<div>\n<style scoped>\n    .dataframe tbody tr th:only-of-type {\n        vertical-align: middle;\n    }\n\n    .dataframe tbody tr th {\n        vertical-align: top;\n    }\n\n    .dataframe thead th {\n        text-align: right;\n    }\n</style>\n<table border=\"1\" class=\"dataframe\">\n  <thead>\n    <tr style=\"text-align: right;\">\n      <th></th>\n      <th>album</th>\n      <th>album_instance</th>\n      <th>artist</th>\n      <th>lastfm_info</th>\n      <th>listeners</th>\n      <th>playcount</th>\n      <th>url</th>\n    </tr>\n  </thead>\n  <tbody>\n    <tr>\n      <th>0</th>\n      <td>Paranoid</td>\n      <td>Paranoid</td>\n      <td>Black Sabbath</td>\n      <td>{'name': 'Paranoid', 'artist': 'Black Sabbath'...</td>\n      <td>1259763</td>\n      <td>15301867</td>\n      <td>https://www.last.fm/music/Black+Sabbath/Paranoid</td>\n    </tr>\n    <tr>\n      <th>18</th>\n      <td>Led Zeppelin IV</td>\n      <td>Led Zeppelin IV</td>\n      <td>Led Zeppelin</td>\n      <td>{'name': 'Led Zeppelin IV', 'artist': 'Led Zep...</td>\n      <td>1048970</td>\n      <td>17008960</td>\n      <td>https://www.last.fm/music/Led+Zeppelin/Led+Zep...</td>\n    </tr>\n  </tbody>\n</table>\n</div>"
     },
     "metadata": {},
     "execution_count": 23
    }
   ],
   "source": [
    "idx = df.groupby(['artist', 'album'])['listeners'].transform(max) == df['listeners']\n",
    "top_albums_df = df[idx]\n",
    "top_albums_df"
   ]
  },
  {
   "source": [
    "Get listeners per song"
   ],
   "cell_type": "markdown",
   "metadata": {}
  },
  {
   "cell_type": "code",
   "execution_count": 24,
   "metadata": {
    "tags": []
   },
   "outputs": [],
   "source": [
    "tracks_df = pd.DataFrame()\n",
    "\n",
    "for idx, row in top_albums_df.iterrows():\n",
    "    artist = row['artist']\n",
    "    album = row['album']\n",
    "    album_instance = row['album_instance']\n",
    "    tracks = row['lastfm_info']['tracks']['track']\n",
    "\n",
    "    for track in tracks:\n",
    "        lastfm_info = lastfm.get_track_info(artist, album, track['name'])\n",
    "\n",
    "        tracks_df = tracks_df.append({\n",
    "            'artist': artist,\n",
    "            'album': album,\n",
    "            'track': track['name'],\n",
    "            'lastfm_info': lastfm_info\n",
    "        }, ignore_index=True)"
   ]
  },
  {
   "cell_type": "code",
   "execution_count": 25,
   "metadata": {},
   "outputs": [
    {
     "output_type": "execute_result",
     "data": {
      "text/plain": [
       "                              album         artist                   track  \\\n",
       "album                                                                        \n",
       "Led Zeppelin IV 11  Led Zeppelin IV   Led Zeppelin      Stairway to Heaven   \n",
       "                8   Led Zeppelin IV   Led Zeppelin               Black Dog   \n",
       "                9   Led Zeppelin IV   Led Zeppelin           Rock and Roll   \n",
       "                14  Led Zeppelin IV   Led Zeppelin     Going to California   \n",
       "                15  Led Zeppelin IV   Led Zeppelin   When the Levee Breaks   \n",
       "                10  Led Zeppelin IV   Led Zeppelin  The Battle of Evermore   \n",
       "                12  Led Zeppelin IV   Led Zeppelin      Misty Mountain Hop   \n",
       "                13  Led Zeppelin IV   Led Zeppelin             Four Sticks   \n",
       "Paranoid        1          Paranoid  Black Sabbath                Paranoid   \n",
       "                3          Paranoid  Black Sabbath                Iron Man   \n",
       "                0          Paranoid  Black Sabbath                War Pigs   \n",
       "                2          Paranoid  Black Sabbath          Planet Caravan   \n",
       "                4          Paranoid  Black Sabbath        Electric Funeral   \n",
       "                7          Paranoid  Black Sabbath      Fairies Wear Boots   \n",
       "                5          Paranoid  Black Sabbath            Hand of Doom   \n",
       "                6          Paranoid  Black Sabbath               Rat Salad   \n",
       "\n",
       "                    listeners  playcount  \n",
       "album                                     \n",
       "Led Zeppelin IV 11    1310821   11171648  \n",
       "                8      897099    5855617  \n",
       "                9      743872    4834377  \n",
       "                14     618739    3818484  \n",
       "                15     609603    3742656  \n",
       "                10     513801    2805326  \n",
       "                12     513397    2657664  \n",
       "                13     391363    1931674  \n",
       "Paranoid        1     1310226    9155686  \n",
       "                3      968142    5655105  \n",
       "                0      673385    3737549  \n",
       "                2      524165    2849884  \n",
       "                4      453873    2139426  \n",
       "                7      339927    1624311  \n",
       "                5      316765    1455550  \n",
       "                6      292647    1204169  "
      ],
      "text/html": "<div>\n<style scoped>\n    .dataframe tbody tr th:only-of-type {\n        vertical-align: middle;\n    }\n\n    .dataframe tbody tr th {\n        vertical-align: top;\n    }\n\n    .dataframe thead th {\n        text-align: right;\n    }\n</style>\n<table border=\"1\" class=\"dataframe\">\n  <thead>\n    <tr style=\"text-align: right;\">\n      <th></th>\n      <th></th>\n      <th>album</th>\n      <th>artist</th>\n      <th>track</th>\n      <th>listeners</th>\n      <th>playcount</th>\n    </tr>\n    <tr>\n      <th>album</th>\n      <th></th>\n      <th></th>\n      <th></th>\n      <th></th>\n      <th></th>\n      <th></th>\n    </tr>\n  </thead>\n  <tbody>\n    <tr>\n      <th rowspan=\"8\" valign=\"top\">Led Zeppelin IV</th>\n      <th>11</th>\n      <td>Led Zeppelin IV</td>\n      <td>Led Zeppelin</td>\n      <td>Stairway to Heaven</td>\n      <td>1310821</td>\n      <td>11171648</td>\n    </tr>\n    <tr>\n      <th>8</th>\n      <td>Led Zeppelin IV</td>\n      <td>Led Zeppelin</td>\n      <td>Black Dog</td>\n      <td>897099</td>\n      <td>5855617</td>\n    </tr>\n    <tr>\n      <th>9</th>\n      <td>Led Zeppelin IV</td>\n      <td>Led Zeppelin</td>\n      <td>Rock and Roll</td>\n      <td>743872</td>\n      <td>4834377</td>\n    </tr>\n    <tr>\n      <th>14</th>\n      <td>Led Zeppelin IV</td>\n      <td>Led Zeppelin</td>\n      <td>Going to California</td>\n      <td>618739</td>\n      <td>3818484</td>\n    </tr>\n    <tr>\n      <th>15</th>\n      <td>Led Zeppelin IV</td>\n      <td>Led Zeppelin</td>\n      <td>When the Levee Breaks</td>\n      <td>609603</td>\n      <td>3742656</td>\n    </tr>\n    <tr>\n      <th>10</th>\n      <td>Led Zeppelin IV</td>\n      <td>Led Zeppelin</td>\n      <td>The Battle of Evermore</td>\n      <td>513801</td>\n      <td>2805326</td>\n    </tr>\n    <tr>\n      <th>12</th>\n      <td>Led Zeppelin IV</td>\n      <td>Led Zeppelin</td>\n      <td>Misty Mountain Hop</td>\n      <td>513397</td>\n      <td>2657664</td>\n    </tr>\n    <tr>\n      <th>13</th>\n      <td>Led Zeppelin IV</td>\n      <td>Led Zeppelin</td>\n      <td>Four Sticks</td>\n      <td>391363</td>\n      <td>1931674</td>\n    </tr>\n    <tr>\n      <th rowspan=\"8\" valign=\"top\">Paranoid</th>\n      <th>1</th>\n      <td>Paranoid</td>\n      <td>Black Sabbath</td>\n      <td>Paranoid</td>\n      <td>1310226</td>\n      <td>9155686</td>\n    </tr>\n    <tr>\n      <th>3</th>\n      <td>Paranoid</td>\n      <td>Black Sabbath</td>\n      <td>Iron Man</td>\n      <td>968142</td>\n      <td>5655105</td>\n    </tr>\n    <tr>\n      <th>0</th>\n      <td>Paranoid</td>\n      <td>Black Sabbath</td>\n      <td>War Pigs</td>\n      <td>673385</td>\n      <td>3737549</td>\n    </tr>\n    <tr>\n      <th>2</th>\n      <td>Paranoid</td>\n      <td>Black Sabbath</td>\n      <td>Planet Caravan</td>\n      <td>524165</td>\n      <td>2849884</td>\n    </tr>\n    <tr>\n      <th>4</th>\n      <td>Paranoid</td>\n      <td>Black Sabbath</td>\n      <td>Electric Funeral</td>\n      <td>453873</td>\n      <td>2139426</td>\n    </tr>\n    <tr>\n      <th>7</th>\n      <td>Paranoid</td>\n      <td>Black Sabbath</td>\n      <td>Fairies Wear Boots</td>\n      <td>339927</td>\n      <td>1624311</td>\n    </tr>\n    <tr>\n      <th>5</th>\n      <td>Paranoid</td>\n      <td>Black Sabbath</td>\n      <td>Hand of Doom</td>\n      <td>316765</td>\n      <td>1455550</td>\n    </tr>\n    <tr>\n      <th>6</th>\n      <td>Paranoid</td>\n      <td>Black Sabbath</td>\n      <td>Rat Salad</td>\n      <td>292647</td>\n      <td>1204169</td>\n    </tr>\n  </tbody>\n</table>\n</div>"
     },
     "metadata": {},
     "execution_count": 25
    }
   ],
   "source": [
    "tracks_df['listeners'] = tracks_df.apply(lambda row: int(row['lastfm_info']['listeners']), axis=1)\n",
    "tracks_df['playcount'] = tracks_df.apply(lambda row: int(row['lastfm_info']['playcount']), axis=1)\n",
    "tracks_df = tracks_df.drop(['lastfm_info'], axis=1)\n",
    "tracks_df.groupby('album')['listeners']\n",
    "# tracks_df.drop(['lastfm_info'], axis=1).groupby(['artist', 'album']).sort(by='listeners')\n",
    "\n",
    "top_tracks_df  = tracks_df.groupby(['album']).apply(lambda x: x.sort_values(['listeners'], ascending=False))\n",
    "top_tracks_df"
   ]
  },
  {
   "source": [
    "# Export functions\n",
    "\n",
    "Export results to Excel sheet"
   ],
   "cell_type": "markdown",
   "metadata": {}
  },
  {
   "cell_type": "code",
   "execution_count": 26,
   "metadata": {},
   "outputs": [],
   "source": [
    "cumulative_df.to_excel('data/history_of_metal_lastfm_albums_cumulative.xlsx', sheet_name='albums_(cumulative)')\n",
    "df.to_excel('data/history_of_metal_lastfm_albums_raw.xlsx', sheet_name='albums_(raw)')\n",
    "top_tracks_df.to_excel('data/history_of_metal_lastfm_tracks.xlsx', sheet_name='tracks')"
   ]
  }
 ],
 "metadata": {
  "kernelspec": {
   "name": "python3",
   "display_name": "Python 3.8.6 64-bit ('spotify': conda)",
   "metadata": {
    "interpreter": {
     "hash": "09c2c1b5defbebc59ae7a620c62bdcef3a542ed552923c5cb78d598fa97c5338"
    }
   }
  },
  "language_info": {
   "codemirror_mode": {
    "name": "ipython",
    "version": 3
   },
   "file_extension": ".py",
   "mimetype": "text/x-python",
   "name": "python",
   "nbconvert_exporter": "python",
   "pygments_lexer": "ipython3",
   "version": "3.8.6-final"
  }
 },
 "nbformat": 4,
 "nbformat_minor": 4
}