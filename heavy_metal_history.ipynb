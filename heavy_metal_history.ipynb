{
 "cells": [
  {
   "source": [
    "# Imports and Constants\n",
    "\n",
    "An API key must be given. Registration required first."
   ],
   "cell_type": "markdown",
   "metadata": {}
  },
  {
   "cell_type": "code",
   "execution_count": 2,
   "metadata": {},
   "outputs": [],
   "source": [
    "import requests\n",
    "import pandas as pd\n",
    "import numpy as np\n",
    "\n",
    "from datetime import datetime\n",
    "from dateutil import parser\n",
    "\n",
    "\n",
    "MY_API_KEY = ''"
   ]
  },
  {
   "source": [
    "# API-Call functions\n",
    "\n",
    "TODO: These could probably be placed in a utils module?"
   ],
   "cell_type": "markdown",
   "metadata": {}
  },
  {
   "cell_type": "code",
   "execution_count": 3,
   "metadata": {},
   "outputs": [],
   "source": [
    "def get_album_matches(artist, album):\n",
    "    base_str = 'http://ws.audioscrobbler.com/2.0/?'\n",
    "    method_str = 'method=album.search'\n",
    "    artist_str = '&artist='+artist\n",
    "    album_str = '&album='+album\n",
    "    format_str = '&format=json'\n",
    "    api_str = '&api_key=' + MY_API_KEY\n",
    "\n",
    "    request_str = base_str + method_str + artist_str + album_str + api_str + format_str\n",
    "    return requests.get(request_str).json()"
   ]
  },
  {
   "cell_type": "code",
   "execution_count": 4,
   "metadata": {},
   "outputs": [],
   "source": [
    "def get_album_info(artist, album):    \n",
    "    base_str = 'http://ws.audioscrobbler.com/2.0/?'\n",
    "    method_str = 'method=album.getinfo'\n",
    "    artist_str = '&artist='+str(artist).strip().replace('&','%26')\n",
    "    album_str = '&album='+str(album).strip().replace('&','%26')\n",
    "    format_str = '&format=json'\n",
    "    api_str = '&api_key=' + MY_API_KEY\n",
    "\n",
    "    request_str = base_str + method_str + artist_str + album_str + api_str + format_str\n",
    "    try:\n",
    "        r_data = requests.get(request_str).json()['album']\n",
    "    except KeyError:\n",
    "        r_data = np.nan\n",
    "\n",
    "    return r_data"
   ]
  },
  {
   "cell_type": "code",
   "execution_count": 5,
   "metadata": {},
   "outputs": [],
   "source": [
    "def get_track_info(artist, album, track):    \n",
    "    base_str = 'http://ws.audioscrobbler.com/2.0/?'\n",
    "    method_str = 'method=track.getinfo'\n",
    "    artist_str = '&artist='+str(artist).strip().replace('&','%26')\n",
    "    album_str = '&album='+str(album).strip().replace('&','%26')\n",
    "    track_str = '&track='+str(track).strip().replace('&', '%26')\n",
    "    format_str = '&format=json'\n",
    "    api_str = '&api_key=' + MY_API_KEY\n",
    "\n",
    "    request_str = base_str + method_str + artist_str + album_str + track_str + api_str + format_str\n",
    "    # print(request_str)\n",
    "    try:\n",
    "        r_data = requests.get(request_str).json()['track']\n",
    "    except KeyError:\n",
    "        r_data = np.nan\n",
    "\n",
    "    return r_data"
   ]
  },
  {
   "cell_type": "code",
   "execution_count": 6,
   "metadata": {},
   "outputs": [],
   "source": [
    "def get_release_date(row_info):\n",
    "    try:\n",
    "        release_date = row_info['releasedate']\n",
    "    except KeyError:\n",
    "        release_date = '1 Jan 0001, 00:00'\n",
    "    return datetime.strptime(release_date, '%d %b %Y, %H:%M')\n"
   ]
  },
  {
   "source": [
    "# Data analysis\n",
    "\n",
    "Show the first 5 entries of the Excel-file."
   ],
   "cell_type": "markdown",
   "metadata": {}
  },
  {
   "cell_type": "code",
   "execution_count": 9,
   "metadata": {},
   "outputs": [
    {
     "output_type": "execute_result",
     "data": {
      "text/plain": [
       "   Number           Band                 Album\n",
       "0     1.0  Black Sabbath              Paranoid\n",
       "1     2.0   Led Zeppelin       Led Zeppelin IV\n",
       "2     3.0    Deep Purple          Machine Head\n",
       "3     4.0          Queen  A Night at the Opera\n",
       "4     5.0          Queen                 Jazz "
      ],
      "text/html": "<div>\n<style scoped>\n    .dataframe tbody tr th:only-of-type {\n        vertical-align: middle;\n    }\n\n    .dataframe tbody tr th {\n        vertical-align: top;\n    }\n\n    .dataframe thead th {\n        text-align: right;\n    }\n</style>\n<table border=\"1\" class=\"dataframe\">\n  <thead>\n    <tr style=\"text-align: right;\">\n      <th></th>\n      <th>Number</th>\n      <th>Band</th>\n      <th>Album</th>\n    </tr>\n  </thead>\n  <tbody>\n    <tr>\n      <th>0</th>\n      <td>1.0</td>\n      <td>Black Sabbath</td>\n      <td>Paranoid</td>\n    </tr>\n    <tr>\n      <th>1</th>\n      <td>2.0</td>\n      <td>Led Zeppelin</td>\n      <td>Led Zeppelin IV</td>\n    </tr>\n    <tr>\n      <th>2</th>\n      <td>3.0</td>\n      <td>Deep Purple</td>\n      <td>Machine Head</td>\n    </tr>\n    <tr>\n      <th>3</th>\n      <td>4.0</td>\n      <td>Queen</td>\n      <td>A Night at the Opera</td>\n    </tr>\n    <tr>\n      <th>4</th>\n      <td>5.0</td>\n      <td>Queen</td>\n      <td>Jazz</td>\n    </tr>\n  </tbody>\n</table>\n</div>"
     },
     "metadata": {},
     "execution_count": 9
    }
   ],
   "source": [
    "df = pd.read_excel('04 History of Metal.xlsx', sheet_name='Gesamt')\n",
    "df = df.drop(labels=['Unnamed: 9', 0.5, 'Year', 'Month', 'Day', 'Spotify', 'Factor', 'Score'], axis=1)\n",
    "df = df.dropna(axis=0)\n",
    "df.head()"
   ]
  },
  {
   "source": [
    "Many albums occur several times with similar names. Their counts should be summed up.\n",
    "See the following example of the top 5 albums."
   ],
   "cell_type": "markdown",
   "metadata": {}
  },
  {
   "cell_type": "code",
   "execution_count": 12,
   "metadata": {},
   "outputs": [
    {
     "output_type": "stream",
     "name": "stdout",
     "text": [
      "Black Sabbath - Paranoid\n",
      "Black Sabbath - Paranoid (2009 Remastered Version)\n",
      "Black Sabbath - Paranoid (Remastered)\n",
      "Black Sabbath - Paranoid (2014 Remaster)\n",
      "Black Sabbath - Paranoid (Remaster)\n",
      "Black Sabbath - Paranoid (Remastered Edition)\n",
      "Black Sabbath - Paranoid (Deluxe Edition)\n",
      "Black Sabbath - Paranoid (Deluxe Expanded Edit\n",
      "Black Sabbath - Paranoid (Original Album) Disc 1\n",
      "Black Sabbath - Paranoid (Deluxe Expanded Edition) CD1\n",
      "Black Sabbath - Paranoid (Black Box: Disc 2)\n",
      "Black Sabbath - Paranoid (Us 1st Press, Wbm 3104-2)\n",
      "Black Sabbath - Paranoid (Deluxe Expanded Edition, 2cd, Sanctuary 1782444)\n",
      "Black Sabbath - Paranoid [2009, Sanctuary, 1782444]\n",
      "Black Sabbath - Paranoid - Black Box -  The Complete Original Black Sabbath\n",
      "Black Sabbath - Paranoid [1989, Vertigo, 23PD-134]\n",
      "Black Sabbath - Paranoid [Deluxe Edition]\n",
      "Black Sabbath - Paranoid (Black Box, R2 73923-B)\n",
      "Led Zeppelin - Led Zeppelin IV\n",
      "Led Zeppelin - Led Zeppelin IV (Deluxe Edition)\n",
      "Led Zeppelin - Led Zeppelin IV (1994 Remaster\n",
      "Led Zeppelin - Led Zeppelin IV (Remaster)\n",
      "Led Zeppelin - Led Zeppelin IV (Remastered Version)\n",
      "Led Zeppelin - Led Zeppelin IV (Deluxe Edition; Remaster)\n",
      "Led Zeppelin - IV\n",
      "Led Zeppelin - Led Zeppelin IV (Remastered)\n",
      "Led Zeppelin - [Led Zeppelin IV]\n",
      "Led Zeppelin - Led Zeppelin IV [2156]\n",
      "Led Zeppelin - Led Zeppelin IV (1994 Remaster)\n",
      "Led Zeppelin - Led Zeppelin Iv (Atlantic Sd 19129-2)\n",
      "Led Zeppelin - Led Zeppelin IV [Super Deluxe Edition Box]\n",
      "Led Zeppelin - Led Zeppelin Iv [10 Cd Boxed Set]\n",
      "Led Zeppelin - Led Zeppelin IV [1994, Atlantic, 82638-2]\n",
      "Led Zeppelin - Led Zeppelin IV (aka ZOSO)\n",
      "Led Zeppelin - Led Zeppelin IV [1988, Atlantic, 20P2-2026]\n",
      "Led Zeppelin - Led Zeppelin IV [Super Deluxe Edition Box] [CD1]\n",
      "Led Zeppelin - Led Zeppelin Iv (Atlantic 82638-2)\n",
      "Led Zeppelin - Led Zeppelin IV (HD Remastered Edition)\n",
      "Led Zeppelin - Led Zeppelin IV [Limited Edition Mini LP Cover]\n",
      "Led Zeppelin - IV 1971 [Remastered]\n",
      "Led Zeppelin - Led Zeppelin IV [Deluxe Edition]\n",
      "Led Zeppelin - Led Zeppelin IV (Zoso)\n",
      "Led Zeppelin - Led Zeppelin IV (40th Anniversary Edition)\n",
      "Led Zeppelin - Led Zeppelin IV [1994 Remaster]\n",
      "Led Zeppelin - Led Zeppelin IV [Remastered]\n",
      "Led Zeppelin - Led Zeppelin (IV)\n",
      "Led Zeppelin - Led Zeppelin IV (LP) [Atlantic, K 50008]\n",
      "Led Zeppelin - Led Zeppelin IV (Deluxe Edition) [Remaster]\n",
      "Led Zeppelin - Led Zeppelin [IV]\n",
      "Led Zeppelin - Led Zeppelin IV [Super Deluxe Edition Box] [CD2]\n",
      "Led Zeppelin - Led Zeppelin IV (1994 Remastered)\n",
      "Led Zeppelin - Led Zeppelin IV (Untitled)\n",
      "Led Zeppelin - Led Zeppelin IV [Bonus Tracks]\n",
      "Led Zeppelin - Led Zeppelin IV (HD Remastered Deluxe Edition)\n",
      "Led Zeppelin - Led Zeppelin IV [Original German Edition]\n",
      "Led Zeppelin - IV (Zoso)\n",
      "Led Zeppelin - (1971) Led Zeppelin IV\n",
      "Led Zeppelin - Led Zeppelin IV (1971)\n",
      "Led Zeppelin - Led Zeppelin Iv [Dr. Ebbetts 2008 Atlantic Sd7208]\n",
      "Led Zeppelin - Led Zeppelin IV [Deluxe Edition] Disc 1\n",
      "Led Zeppelin - Led Zepplin IV\n",
      "Led Zeppelin - Led Zeppelin IV - Super Deluxe Edition (CD1)\n",
      "Led Zeppelin - IV [Box Set Remaster]\n",
      "Led Zeppelin - Led Zeppelin IV : Deluxe Edition [Disc 2] [2014 Remastered by Jimmy Page]\n",
      "Deep Purple - Machine Head\n",
      "Deep Purple - Machine Head (remastered)\n",
      "Deep Purple - Machine Head - 25th Anniversary Edition\n",
      "Deep Purple - Machine Head CD1\n",
      "Deep Purple - Machine Head 25 Anniv. CD 2\n",
      "Deep Purple - Machine Head (2016 Version)\n",
      "Deep Purple - Machine Head 25th Anniversary Edition [Disc 2]\n",
      "Deep Purple - Machine Head - Disk 1 (The Remasters)\n",
      "Deep Purple - Machine Head: 25th Anniversary Edition (disc 2: Remastered)\n",
      "Deep Purple - Machine Head (25th Anniversary Edition)\n",
      "Deep Purple - Machine Head [25th Anniversary Edition]\n",
      "Deep Purple - Machine Head (1997. 7243 8 59506 2 9) CD2 (Remastered)\n",
      "Deep Purple - Machine Head: 25th Anniversary Edition\n",
      "Deep Purple - Machine Head (25th Anniv. Edition) CD 2\n",
      "Deep Purple - Machine Head [25th Anniversary Edition - U.K.] Disc 2\n",
      "Deep Purple - Machine Head (Roger Glover Remixes) [Disc 2]\n",
      "Deep Purple - Machine Head - 25th Anniversary Edition - CD 2: Roger Glover Remixes\n",
      "Deep Purple - Machine Head (CDP 7 46242 2,UK) 1986\n",
      "Deep Purple - Machine Head www.myzuka.ru\n",
      "Queen - A Night at the Opera\n",
      "Queen - A Night At The Opera (2011 Remaster)\n",
      "Queen - A Night At The Opera (Deluxe Remastered Version)\n",
      "Queen - A Night At The Opera (Deluxe Edition 2011 Remaster)\n",
      "Queen - A Night at the Opera [Bonus Tracks]\n",
      "Queen - A Night At The Opera (2001. Japan Remastered. Toshiba-EMI)\n",
      "Queen - A Night at the Opera (Deluxe Edition)\n",
      "Queen - A Night at the Opera / The Works\n",
      "Queen - A Night At the Opera(Album 75)\n",
      "Queen - A Night At The Opera (2000. Remastered by Steve Hoffman)\n",
      "Queen - A Night At The Opera (1975)\n",
      "Queen - A Night At the Opera (Deluxe Edition) [Remastered]\n",
      "Queen - A Night At The Opera (MFSL GOLD UDCD 568)\n",
      "Queen - A Night At The Opera (2011 Digital Remaster)\n",
      "Queen - A Night At The Opera (30 Anniversary Collectors Edition)\n",
      "Queen - A Night at the Opera [30th Anniversary CD/DVD] Disc 1\n",
      "Queen - A Night At The Opera [UK]\n",
      "Queen - A Night At The Opera (DVD Audio Version)\n",
      "Queen - A Night At the Opera (1993 Remaster)\n",
      "Queen - A Night at the Opera.CP32-5379\n",
      "Queen - A Night At The Opera (remastered)\n",
      "Queen - A Night At The Opera (Hollywood)\n",
      "Queen - A Night At The Opera  (DCC)\n",
      "Queen - A Night at the Opera (CDP 7 46207 2)\n",
      "Queen - A Night At The Opera [2001 Jap\n",
      "Queen - A Night At The Opera [UICY-75017]\n",
      "Queen - A Night At the Opera (Deluxe)\n",
      "Queen - A Night At The Opera 30 Anniversary Collectors Edition (READ NFO\n",
      "Queen - A Night At The Opera (2011 Remastered Deluxe Edition)\n",
      "Queen - A Night At The Opera [30th Anniversary, Remastered 2005]\n",
      "Queen - A Night At The Opera © 1975\n",
      "Queen - A Night At The Opera (2011 Remaster) (Bonus EP)\n",
      "Queen - A Night At The Opera (1975 - 2011 Remastered)\n",
      "Queen - A Night at the Opera [Hollywood]\n",
      "Queen - A Night At The Opera - Bonus EP\n",
      "Queen - A Night At The Opera (MFSL Gold)\n",
      "Queen - A Night At The Opera (MFSL UDCD 568)\n",
      "Queen - A Night At The Opera (MFSL)\n",
      "Queen - A Night At The Opera (Deluxe Version)\n",
      "Queen - A Night At The Opera (30th Anniversary Edition)\n",
      "Queen - A Night At The Opera (Remaster Hollywood Records 1998)\n",
      "Queen - (1975) A Night at the Opera\n",
      "Queen - Jazz (2011 Remaster)\n",
      "Queen - Jazz\n",
      "Queen - Jazz (Deluxe Remastered Version)\n",
      "Queen - Jazz (Deluxe Edition 2011 Remaster)\n"
     ]
    }
   ],
   "source": [
    "results_df = pd.DataFrame()\n",
    "\n",
    "for idx, row in df.head().iterrows():\n",
    "    artist = row['Band']\n",
    "    album = row['Album']\n",
    "    matches = get_album_matches(artist, album)\n",
    "\n",
    "    for match in matches['results']['albummatches'].values():\n",
    "        for d in match:\n",
    "            if d['artist'] == artist:\n",
    "                results_df = results_df.append({\n",
    "                    'artist': artist,\n",
    "                    'album': album,\n",
    "                    'album_instance': d['name'],\n",
    "                    'lastfm_info': get_album_info(d['artist'], d['name'])\n",
    "                }, ignore_index=True)\n",
    "                print(d['artist'], '-', d['name'])\n",
    "                # print(results_df.size)"
   ]
  },
  {
   "source": [
    "Add some entries of the lastfm info as column to the dataframe."
   ],
   "cell_type": "markdown",
   "metadata": {}
  },
  {
   "cell_type": "code",
   "execution_count": 15,
   "metadata": {},
   "outputs": [
    {
     "output_type": "execute_result",
     "data": {
      "text/plain": [
       "                    album                       album_instance         artist  \\\n",
       "0                Paranoid                             Paranoid  Black Sabbath   \n",
       "1                Paranoid   Paranoid (2009 Remastered Version)  Black Sabbath   \n",
       "2                Paranoid                Paranoid (Remastered)  Black Sabbath   \n",
       "3                Paranoid             Paranoid (2014 Remaster)  Black Sabbath   \n",
       "4                Paranoid                  Paranoid (Remaster)  Black Sabbath   \n",
       "..                    ...                                  ...            ...   \n",
       "124  A Night at the Opera          (1975) A Night at the Opera          Queen   \n",
       "125                 Jazz                  Jazz (2011 Remaster)          Queen   \n",
       "126                 Jazz                                  Jazz          Queen   \n",
       "127                 Jazz      Jazz (Deluxe Remastered Version)          Queen   \n",
       "128                 Jazz   Jazz (Deluxe Edition 2011 Remaster)          Queen   \n",
       "\n",
       "                                           lastfm_info  listeners  playcount  \\\n",
       "0    {'name': 'Paranoid', 'artist': 'Black Sabbath'...    1259686   15301016   \n",
       "1    {'name': 'Paranoid (2009 Remastered Version)',...     253077    2833544   \n",
       "2    {'name': 'Paranoid (Remastered)', 'artist': 'B...     170138    1435213   \n",
       "3    {'name': 'Paranoid (2014 Remaster)', 'artist':...      78860     543325   \n",
       "4    {'name': 'Paranoid (Remaster)', 'artist': 'Bla...      49691     272693   \n",
       "..                                                 ...        ...        ...   \n",
       "124  {'name': '(1975) A Night at the Opera', 'artis...        252       5655   \n",
       "125  {'name': 'Jazz (2011 Remaster)', 'artist': 'Qu...     401655    3045202   \n",
       "126  {'name': 'Jazz', 'artist': 'Queen', 'mbid': 'b...     396706    5128277   \n",
       "127  {'name': 'Jazz (Deluxe Remastered Version)', '...     239674    1309473   \n",
       "128  {'name': 'Jazz (Deluxe Edition 2011 Remaster)'...      47056     289606   \n",
       "\n",
       "                 release                                                url  \n",
       "0    0001-01-01 00:00:00   https://www.last.fm/music/Black+Sabbath/Paranoid  \n",
       "1    0001-01-01 00:00:00  https://www.last.fm/music/Black+Sabbath/Parano...  \n",
       "2    0001-01-01 00:00:00  https://www.last.fm/music/Black+Sabbath/Parano...  \n",
       "3    0001-01-01 00:00:00  https://www.last.fm/music/Black+Sabbath/Parano...  \n",
       "4    0001-01-01 00:00:00  https://www.last.fm/music/Black+Sabbath/Parano...  \n",
       "..                   ...                                                ...  \n",
       "124  0001-01-01 00:00:00  https://www.last.fm/music/Queen/(1975)+A+Night...  \n",
       "125  0001-01-01 00:00:00  https://www.last.fm/music/Queen/Jazz+(2011+Rem...  \n",
       "126  0001-01-01 00:00:00               https://www.last.fm/music/Queen/Jazz  \n",
       "127  0001-01-01 00:00:00  https://www.last.fm/music/Queen/Jazz+(Deluxe+R...  \n",
       "128  0001-01-01 00:00:00  https://www.last.fm/music/Queen/Jazz+(Deluxe+E...  \n",
       "\n",
       "[129 rows x 8 columns]"
      ],
      "text/html": "<div>\n<style scoped>\n    .dataframe tbody tr th:only-of-type {\n        vertical-align: middle;\n    }\n\n    .dataframe tbody tr th {\n        vertical-align: top;\n    }\n\n    .dataframe thead th {\n        text-align: right;\n    }\n</style>\n<table border=\"1\" class=\"dataframe\">\n  <thead>\n    <tr style=\"text-align: right;\">\n      <th></th>\n      <th>album</th>\n      <th>album_instance</th>\n      <th>artist</th>\n      <th>lastfm_info</th>\n      <th>listeners</th>\n      <th>playcount</th>\n      <th>release</th>\n      <th>url</th>\n    </tr>\n  </thead>\n  <tbody>\n    <tr>\n      <th>0</th>\n      <td>Paranoid</td>\n      <td>Paranoid</td>\n      <td>Black Sabbath</td>\n      <td>{'name': 'Paranoid', 'artist': 'Black Sabbath'...</td>\n      <td>1259686</td>\n      <td>15301016</td>\n      <td>0001-01-01 00:00:00</td>\n      <td>https://www.last.fm/music/Black+Sabbath/Paranoid</td>\n    </tr>\n    <tr>\n      <th>1</th>\n      <td>Paranoid</td>\n      <td>Paranoid (2009 Remastered Version)</td>\n      <td>Black Sabbath</td>\n      <td>{'name': 'Paranoid (2009 Remastered Version)',...</td>\n      <td>253077</td>\n      <td>2833544</td>\n      <td>0001-01-01 00:00:00</td>\n      <td>https://www.last.fm/music/Black+Sabbath/Parano...</td>\n    </tr>\n    <tr>\n      <th>2</th>\n      <td>Paranoid</td>\n      <td>Paranoid (Remastered)</td>\n      <td>Black Sabbath</td>\n      <td>{'name': 'Paranoid (Remastered)', 'artist': 'B...</td>\n      <td>170138</td>\n      <td>1435213</td>\n      <td>0001-01-01 00:00:00</td>\n      <td>https://www.last.fm/music/Black+Sabbath/Parano...</td>\n    </tr>\n    <tr>\n      <th>3</th>\n      <td>Paranoid</td>\n      <td>Paranoid (2014 Remaster)</td>\n      <td>Black Sabbath</td>\n      <td>{'name': 'Paranoid (2014 Remaster)', 'artist':...</td>\n      <td>78860</td>\n      <td>543325</td>\n      <td>0001-01-01 00:00:00</td>\n      <td>https://www.last.fm/music/Black+Sabbath/Parano...</td>\n    </tr>\n    <tr>\n      <th>4</th>\n      <td>Paranoid</td>\n      <td>Paranoid (Remaster)</td>\n      <td>Black Sabbath</td>\n      <td>{'name': 'Paranoid (Remaster)', 'artist': 'Bla...</td>\n      <td>49691</td>\n      <td>272693</td>\n      <td>0001-01-01 00:00:00</td>\n      <td>https://www.last.fm/music/Black+Sabbath/Parano...</td>\n    </tr>\n    <tr>\n      <th>...</th>\n      <td>...</td>\n      <td>...</td>\n      <td>...</td>\n      <td>...</td>\n      <td>...</td>\n      <td>...</td>\n      <td>...</td>\n      <td>...</td>\n    </tr>\n    <tr>\n      <th>124</th>\n      <td>A Night at the Opera</td>\n      <td>(1975) A Night at the Opera</td>\n      <td>Queen</td>\n      <td>{'name': '(1975) A Night at the Opera', 'artis...</td>\n      <td>252</td>\n      <td>5655</td>\n      <td>0001-01-01 00:00:00</td>\n      <td>https://www.last.fm/music/Queen/(1975)+A+Night...</td>\n    </tr>\n    <tr>\n      <th>125</th>\n      <td>Jazz</td>\n      <td>Jazz (2011 Remaster)</td>\n      <td>Queen</td>\n      <td>{'name': 'Jazz (2011 Remaster)', 'artist': 'Qu...</td>\n      <td>401655</td>\n      <td>3045202</td>\n      <td>0001-01-01 00:00:00</td>\n      <td>https://www.last.fm/music/Queen/Jazz+(2011+Rem...</td>\n    </tr>\n    <tr>\n      <th>126</th>\n      <td>Jazz</td>\n      <td>Jazz</td>\n      <td>Queen</td>\n      <td>{'name': 'Jazz', 'artist': 'Queen', 'mbid': 'b...</td>\n      <td>396706</td>\n      <td>5128277</td>\n      <td>0001-01-01 00:00:00</td>\n      <td>https://www.last.fm/music/Queen/Jazz</td>\n    </tr>\n    <tr>\n      <th>127</th>\n      <td>Jazz</td>\n      <td>Jazz (Deluxe Remastered Version)</td>\n      <td>Queen</td>\n      <td>{'name': 'Jazz (Deluxe Remastered Version)', '...</td>\n      <td>239674</td>\n      <td>1309473</td>\n      <td>0001-01-01 00:00:00</td>\n      <td>https://www.last.fm/music/Queen/Jazz+(Deluxe+R...</td>\n    </tr>\n    <tr>\n      <th>128</th>\n      <td>Jazz</td>\n      <td>Jazz (Deluxe Edition 2011 Remaster)</td>\n      <td>Queen</td>\n      <td>{'name': 'Jazz (Deluxe Edition 2011 Remaster)'...</td>\n      <td>47056</td>\n      <td>289606</td>\n      <td>0001-01-01 00:00:00</td>\n      <td>https://www.last.fm/music/Queen/Jazz+(Deluxe+E...</td>\n    </tr>\n  </tbody>\n</table>\n<p>129 rows × 8 columns</p>\n</div>"
     },
     "metadata": {},
     "execution_count": 15
    }
   ],
   "source": [
    "df = results_df\n",
    "df['listeners'] = df.apply(lambda row: int(row['lastfm_info']['listeners']), axis=1)\n",
    "df['playcount'] = df.apply(lambda row: int(row['lastfm_info']['playcount']), axis=1)\n",
    "df['release'] = df.apply(lambda row: get_release_date(row['lastfm_info']), axis=1)\n",
    "df['url'] = df.apply(lambda row: row['lastfm_info']['url'], axis=1)\n",
    "df"
   ]
  },
  {
   "source": [
    "Sum up the different entries that correspond to the same album:"
   ],
   "cell_type": "markdown",
   "metadata": {}
  },
  {
   "cell_type": "code",
   "execution_count": 16,
   "metadata": {},
   "outputs": [
    {
     "output_type": "execute_result",
     "data": {
      "text/plain": [
       "                                    listeners  playcount\n",
       "artist        album                                     \n",
       "Black Sabbath Paranoid                1935741   21604633\n",
       "Deep Purple   Machine Head             642413    6239290\n",
       "Led Zeppelin  Led Zeppelin IV         1895318   26749309\n",
       "Queen         A Night at the Opera    1598926   16617807\n",
       "              Jazz                    1085091    9772558"
      ],
      "text/html": "<div>\n<style scoped>\n    .dataframe tbody tr th:only-of-type {\n        vertical-align: middle;\n    }\n\n    .dataframe tbody tr th {\n        vertical-align: top;\n    }\n\n    .dataframe thead th {\n        text-align: right;\n    }\n</style>\n<table border=\"1\" class=\"dataframe\">\n  <thead>\n    <tr style=\"text-align: right;\">\n      <th></th>\n      <th></th>\n      <th>listeners</th>\n      <th>playcount</th>\n    </tr>\n    <tr>\n      <th>artist</th>\n      <th>album</th>\n      <th></th>\n      <th></th>\n    </tr>\n  </thead>\n  <tbody>\n    <tr>\n      <th>Black Sabbath</th>\n      <th>Paranoid</th>\n      <td>1935741</td>\n      <td>21604633</td>\n    </tr>\n    <tr>\n      <th>Deep Purple</th>\n      <th>Machine Head</th>\n      <td>642413</td>\n      <td>6239290</td>\n    </tr>\n    <tr>\n      <th>Led Zeppelin</th>\n      <th>Led Zeppelin IV</th>\n      <td>1895318</td>\n      <td>26749309</td>\n    </tr>\n    <tr>\n      <th rowspan=\"2\" valign=\"top\">Queen</th>\n      <th>A Night at the Opera</th>\n      <td>1598926</td>\n      <td>16617807</td>\n    </tr>\n    <tr>\n      <th>Jazz</th>\n      <td>1085091</td>\n      <td>9772558</td>\n    </tr>\n  </tbody>\n</table>\n</div>"
     },
     "metadata": {},
     "execution_count": 16
    }
   ],
   "source": [
    "cumulative_df = df.drop(['album_instance'], axis=1).groupby(['artist','album']).sum()\n",
    "cumulative_df"
   ]
  },
  {
   "source": [
    "Get the album last fm album entries with the most listeners."
   ],
   "cell_type": "markdown",
   "metadata": {}
  },
  {
   "cell_type": "code",
   "execution_count": 18,
   "metadata": {},
   "outputs": [
    {
     "output_type": "execute_result",
     "data": {
      "text/plain": [
       "                    album        album_instance         artist  \\\n",
       "0                Paranoid              Paranoid  Black Sabbath   \n",
       "18        Led Zeppelin IV       Led Zeppelin IV   Led Zeppelin   \n",
       "64           Machine Head          Machine Head    Deep Purple   \n",
       "83   A Night at the Opera  A Night at the Opera          Queen   \n",
       "125                 Jazz   Jazz (2011 Remaster)          Queen   \n",
       "\n",
       "                                           lastfm_info  listeners  playcount  \\\n",
       "0    {'name': 'Paranoid', 'artist': 'Black Sabbath'...    1259686   15301016   \n",
       "18   {'name': 'Led Zeppelin IV', 'artist': 'Led Zep...    1048867   17007869   \n",
       "64   {'name': 'Machine Head', 'artist': 'Deep Purpl...     343905    4011632   \n",
       "83   {'name': 'A Night at the Opera', 'artist': 'Qu...     650003    9415926   \n",
       "125  {'name': 'Jazz (2011 Remaster)', 'artist': 'Qu...     401655    3045202   \n",
       "\n",
       "                 release                                                url  \n",
       "0    0001-01-01 00:00:00   https://www.last.fm/music/Black+Sabbath/Paranoid  \n",
       "18   0001-01-01 00:00:00  https://www.last.fm/music/Led+Zeppelin/Led+Zep...  \n",
       "64   0001-01-01 00:00:00  https://www.last.fm/music/Deep+Purple/Machine+...  \n",
       "83   0001-01-01 00:00:00  https://www.last.fm/music/Queen/A+Night+at+the...  \n",
       "125  0001-01-01 00:00:00  https://www.last.fm/music/Queen/Jazz+(2011+Rem...  "
      ],
      "text/html": "<div>\n<style scoped>\n    .dataframe tbody tr th:only-of-type {\n        vertical-align: middle;\n    }\n\n    .dataframe tbody tr th {\n        vertical-align: top;\n    }\n\n    .dataframe thead th {\n        text-align: right;\n    }\n</style>\n<table border=\"1\" class=\"dataframe\">\n  <thead>\n    <tr style=\"text-align: right;\">\n      <th></th>\n      <th>album</th>\n      <th>album_instance</th>\n      <th>artist</th>\n      <th>lastfm_info</th>\n      <th>listeners</th>\n      <th>playcount</th>\n      <th>release</th>\n      <th>url</th>\n    </tr>\n  </thead>\n  <tbody>\n    <tr>\n      <th>0</th>\n      <td>Paranoid</td>\n      <td>Paranoid</td>\n      <td>Black Sabbath</td>\n      <td>{'name': 'Paranoid', 'artist': 'Black Sabbath'...</td>\n      <td>1259686</td>\n      <td>15301016</td>\n      <td>0001-01-01 00:00:00</td>\n      <td>https://www.last.fm/music/Black+Sabbath/Paranoid</td>\n    </tr>\n    <tr>\n      <th>18</th>\n      <td>Led Zeppelin IV</td>\n      <td>Led Zeppelin IV</td>\n      <td>Led Zeppelin</td>\n      <td>{'name': 'Led Zeppelin IV', 'artist': 'Led Zep...</td>\n      <td>1048867</td>\n      <td>17007869</td>\n      <td>0001-01-01 00:00:00</td>\n      <td>https://www.last.fm/music/Led+Zeppelin/Led+Zep...</td>\n    </tr>\n    <tr>\n      <th>64</th>\n      <td>Machine Head</td>\n      <td>Machine Head</td>\n      <td>Deep Purple</td>\n      <td>{'name': 'Machine Head', 'artist': 'Deep Purpl...</td>\n      <td>343905</td>\n      <td>4011632</td>\n      <td>0001-01-01 00:00:00</td>\n      <td>https://www.last.fm/music/Deep+Purple/Machine+...</td>\n    </tr>\n    <tr>\n      <th>83</th>\n      <td>A Night at the Opera</td>\n      <td>A Night at the Opera</td>\n      <td>Queen</td>\n      <td>{'name': 'A Night at the Opera', 'artist': 'Qu...</td>\n      <td>650003</td>\n      <td>9415926</td>\n      <td>0001-01-01 00:00:00</td>\n      <td>https://www.last.fm/music/Queen/A+Night+at+the...</td>\n    </tr>\n    <tr>\n      <th>125</th>\n      <td>Jazz</td>\n      <td>Jazz (2011 Remaster)</td>\n      <td>Queen</td>\n      <td>{'name': 'Jazz (2011 Remaster)', 'artist': 'Qu...</td>\n      <td>401655</td>\n      <td>3045202</td>\n      <td>0001-01-01 00:00:00</td>\n      <td>https://www.last.fm/music/Queen/Jazz+(2011+Rem...</td>\n    </tr>\n  </tbody>\n</table>\n</div>"
     },
     "metadata": {},
     "execution_count": 18
    }
   ],
   "source": [
    "idx = df.groupby(['artist', 'album'])['listeners'].transform(max) == df['listeners']\n",
    "top_albums_df = df[idx]\n",
    "top_albums_df"
   ]
  },
  {
   "source": [
    "Get listeners per song"
   ],
   "cell_type": "markdown",
   "metadata": {}
  },
  {
   "cell_type": "code",
   "execution_count": 25,
   "metadata": {
    "tags": []
   },
   "outputs": [],
   "source": [
    "tracks_df = pd.DataFrame()\n",
    "\n",
    "for idx, row in top_albums_df.iterrows():\n",
    "    artist = row['artist']\n",
    "    album = row['album']\n",
    "    album_instance = row['album_instance']\n",
    "    tracks = row['lastfm_info']['tracks']['track']\n",
    "\n",
    "    for track in tracks:\n",
    "        lastfm_info = get_track_info(artist, album, track['name'])\n",
    "\n",
    "        tracks_df = tracks_df.append({\n",
    "            'artist': artist,\n",
    "            'album': album,\n",
    "            'track': track['name'],\n",
    "            'lastfm_info': lastfm_info\n",
    "        }, ignore_index=True)"
   ]
  },
  {
   "cell_type": "code",
   "execution_count": 26,
   "metadata": {},
   "outputs": [
    {
     "output_type": "execute_result",
     "data": {
      "text/plain": [
       "                                        album         artist  \\\n",
       "album                                                          \n",
       "A Night at the Opera 33  A Night at the Opera          Queen   \n",
       "                     26  A Night at the Opera          Queen   \n",
       "                     32  A Night at the Opera          Queen   \n",
       "                     34  A Night at the Opera          Queen   \n",
       "                     27  A Night at the Opera          Queen   \n",
       "                     25  A Night at the Opera          Queen   \n",
       "                     24  A Night at the Opera          Queen   \n",
       "                     30  A Night at the Opera          Queen   \n",
       "                     28  A Night at the Opera          Queen   \n",
       "                     31  A Night at the Opera          Queen   \n",
       "                     29  A Night at the Opera          Queen   \n",
       "                     23  A Night at the Opera          Queen   \n",
       "Jazz                 46                 Jazz           Queen   \n",
       "                     36                 Jazz           Queen   \n",
       "                     38                 Jazz           Queen   \n",
       "                     37                 Jazz           Queen   \n",
       "                     35                 Jazz           Queen   \n",
       "                     40                 Jazz           Queen   \n",
       "                     39                 Jazz           Queen   \n",
       "                     41                 Jazz           Queen   \n",
       "                     42                 Jazz           Queen   \n",
       "                     43                 Jazz           Queen   \n",
       "                     47                 Jazz           Queen   \n",
       "                     45                 Jazz           Queen   \n",
       "                     44                 Jazz           Queen   \n",
       "Led Zeppelin IV      11       Led Zeppelin IV   Led Zeppelin   \n",
       "                     8        Led Zeppelin IV   Led Zeppelin   \n",
       "                     9        Led Zeppelin IV   Led Zeppelin   \n",
       "                     14       Led Zeppelin IV   Led Zeppelin   \n",
       "                     15       Led Zeppelin IV   Led Zeppelin   \n",
       "                     10       Led Zeppelin IV   Led Zeppelin   \n",
       "                     12       Led Zeppelin IV   Led Zeppelin   \n",
       "                     13       Led Zeppelin IV   Led Zeppelin   \n",
       "Machine Head         20          Machine Head    Deep Purple   \n",
       "                     16          Machine Head    Deep Purple   \n",
       "                     22          Machine Head    Deep Purple   \n",
       "                     21          Machine Head    Deep Purple   \n",
       "                     19          Machine Head    Deep Purple   \n",
       "                     18          Machine Head    Deep Purple   \n",
       "                     17          Machine Head    Deep Purple   \n",
       "Paranoid             1               Paranoid  Black Sabbath   \n",
       "                     3               Paranoid  Black Sabbath   \n",
       "                     0               Paranoid  Black Sabbath   \n",
       "                     2               Paranoid  Black Sabbath   \n",
       "                     4               Paranoid  Black Sabbath   \n",
       "                     7               Paranoid  Black Sabbath   \n",
       "                     5               Paranoid  Black Sabbath   \n",
       "                     6               Paranoid  Black Sabbath   \n",
       "\n",
       "                                                             track  listeners  \\\n",
       "album                                                                           \n",
       "A Night at the Opera 33                          Bohemian Rhapsody    1433059   \n",
       "                     26                      You're My Best Friend     669044   \n",
       "                     32                            Love of My Life     305967   \n",
       "                     34                         God Save the Queen     187341   \n",
       "                     27                                        '39     185898   \n",
       "                     25                    I'm in Love with My Car     185641   \n",
       "                     24               Lazing on a Sunday Afternoon     177315   \n",
       "                     30                         Seaside Rendezvous     149460   \n",
       "                     28                                 Sweet Lady     142917   \n",
       "                     31                         The Prophet's Song     134007   \n",
       "                     29                               Good Company     133371   \n",
       "                     23       Death on Two Legs (Dedicated to ...)       1873   \n",
       "Jazz                 46        Don't Stop Me Now - Remastered 2011     247256   \n",
       "                     36         Fat Bottomed Girls - 2011 Remaster     111487   \n",
       "                     38             Bicycle Race - Remastered 2011      99377   \n",
       "                     37                 Jealousy - Remastered 2011      19548   \n",
       "                     35                 Mustapha - Remastered 2011      16515   \n",
       "                     40     Let Me Entertain You - Remastered 2011      14044   \n",
       "                     39   If You Can't Beat Them - Remastered 2011      13359   \n",
       "                     41             Dead On Time - Remastered 2011      12470   \n",
       "                     42       In Only Seven Days - Remastered 2011      12271   \n",
       "                     43           Dreamer's Ball - Remastered 2011      12051   \n",
       "                     47        More Of That Jazz - Remastered 2011      11590   \n",
       "                     45  Leaving Home Ain't Easy - Remastered 2011      10488   \n",
       "                     44                   Fun It - Remastered 2011      10412   \n",
       "Led Zeppelin IV      11                         Stairway to Heaven    1310792   \n",
       "                     8                                   Black Dog     897083   \n",
       "                     9                               Rock and Roll     743860   \n",
       "                     14                        Going to California     618730   \n",
       "                     15                      When the Levee Breaks     609594   \n",
       "                     10                     The Battle of Evermore     513793   \n",
       "                     12                         Misty Mountain Hop     513391   \n",
       "                     13                                Four Sticks     391361   \n",
       "Machine Head         20                         Smoke on the Water     957210   \n",
       "                     16                               Highway Star     607167   \n",
       "                     22                             Space Truckin'     266240   \n",
       "                     21                                       Lazy     231995   \n",
       "                     19                               Never Before     161275   \n",
       "                     18                           Pictures of Home     159509   \n",
       "                     17                            Maybe I'm a Leo     123328   \n",
       "Paranoid             1                                    Paranoid    1309999   \n",
       "                     3                                    Iron Man     967993   \n",
       "                     0                                    War Pigs     673282   \n",
       "                     2                              Planet Caravan     524073   \n",
       "                     4                            Electric Funeral     453820   \n",
       "                     7                          Fairies Wear Boots     339886   \n",
       "                     5                                Hand of Doom     316717   \n",
       "                     6                                   Rat Salad     292599   \n",
       "\n",
       "                         playcount  \n",
       "album                               \n",
       "A Night at the Opera 33    9971998  \n",
       "                     26    3258038  \n",
       "                     32    1825458  \n",
       "                     34     769414  \n",
       "                     27    1017655  \n",
       "                     25     830163  \n",
       "                     24     784583  \n",
       "                     30     656577  \n",
       "                     28     547346  \n",
       "                     31     580811  \n",
       "                     29     514724  \n",
       "                     23       9216  \n",
       "Jazz                 46     927540  \n",
       "                     36     409633  \n",
       "                     38     365233  \n",
       "                     37      66863  \n",
       "                     35      51560  \n",
       "                     40      40278  \n",
       "                     39      36415  \n",
       "                     41      35259  \n",
       "                     42      35238  \n",
       "                     43      40730  \n",
       "                     47      27626  \n",
       "                     45      28720  \n",
       "                     44      26315  \n",
       "Led Zeppelin IV      11   11171320  \n",
       "                     8     5855474  \n",
       "                     9     4834262  \n",
       "                     14    3818369  \n",
       "                     15    3742549  \n",
       "                     10    2805267  \n",
       "                     12    2657596  \n",
       "                     13    1931635  \n",
       "Machine Head         20    4659252  \n",
       "                     16    3099020  \n",
       "                     22    1051797  \n",
       "                     21     999406  \n",
       "                     19     592943  \n",
       "                     18     632301  \n",
       "                     17     492128  \n",
       "Paranoid             1     9153765  \n",
       "                     3     5654079  \n",
       "                     0     3736857  \n",
       "                     2     2849206  \n",
       "                     4     2139193  \n",
       "                     7     1624098  \n",
       "                     5     1455379  \n",
       "                     6     1204021  "
      ],
      "text/html": "<div>\n<style scoped>\n    .dataframe tbody tr th:only-of-type {\n        vertical-align: middle;\n    }\n\n    .dataframe tbody tr th {\n        vertical-align: top;\n    }\n\n    .dataframe thead th {\n        text-align: right;\n    }\n</style>\n<table border=\"1\" class=\"dataframe\">\n  <thead>\n    <tr style=\"text-align: right;\">\n      <th></th>\n      <th></th>\n      <th>album</th>\n      <th>artist</th>\n      <th>track</th>\n      <th>listeners</th>\n      <th>playcount</th>\n    </tr>\n    <tr>\n      <th>album</th>\n      <th></th>\n      <th></th>\n      <th></th>\n      <th></th>\n      <th></th>\n      <th></th>\n    </tr>\n  </thead>\n  <tbody>\n    <tr>\n      <th rowspan=\"12\" valign=\"top\">A Night at the Opera</th>\n      <th>33</th>\n      <td>A Night at the Opera</td>\n      <td>Queen</td>\n      <td>Bohemian Rhapsody</td>\n      <td>1433059</td>\n      <td>9971998</td>\n    </tr>\n    <tr>\n      <th>26</th>\n      <td>A Night at the Opera</td>\n      <td>Queen</td>\n      <td>You're My Best Friend</td>\n      <td>669044</td>\n      <td>3258038</td>\n    </tr>\n    <tr>\n      <th>32</th>\n      <td>A Night at the Opera</td>\n      <td>Queen</td>\n      <td>Love of My Life</td>\n      <td>305967</td>\n      <td>1825458</td>\n    </tr>\n    <tr>\n      <th>34</th>\n      <td>A Night at the Opera</td>\n      <td>Queen</td>\n      <td>God Save the Queen</td>\n      <td>187341</td>\n      <td>769414</td>\n    </tr>\n    <tr>\n      <th>27</th>\n      <td>A Night at the Opera</td>\n      <td>Queen</td>\n      <td>'39</td>\n      <td>185898</td>\n      <td>1017655</td>\n    </tr>\n    <tr>\n      <th>25</th>\n      <td>A Night at the Opera</td>\n      <td>Queen</td>\n      <td>I'm in Love with My Car</td>\n      <td>185641</td>\n      <td>830163</td>\n    </tr>\n    <tr>\n      <th>24</th>\n      <td>A Night at the Opera</td>\n      <td>Queen</td>\n      <td>Lazing on a Sunday Afternoon</td>\n      <td>177315</td>\n      <td>784583</td>\n    </tr>\n    <tr>\n      <th>30</th>\n      <td>A Night at the Opera</td>\n      <td>Queen</td>\n      <td>Seaside Rendezvous</td>\n      <td>149460</td>\n      <td>656577</td>\n    </tr>\n    <tr>\n      <th>28</th>\n      <td>A Night at the Opera</td>\n      <td>Queen</td>\n      <td>Sweet Lady</td>\n      <td>142917</td>\n      <td>547346</td>\n    </tr>\n    <tr>\n      <th>31</th>\n      <td>A Night at the Opera</td>\n      <td>Queen</td>\n      <td>The Prophet's Song</td>\n      <td>134007</td>\n      <td>580811</td>\n    </tr>\n    <tr>\n      <th>29</th>\n      <td>A Night at the Opera</td>\n      <td>Queen</td>\n      <td>Good Company</td>\n      <td>133371</td>\n      <td>514724</td>\n    </tr>\n    <tr>\n      <th>23</th>\n      <td>A Night at the Opera</td>\n      <td>Queen</td>\n      <td>Death on Two Legs (Dedicated to ...)</td>\n      <td>1873</td>\n      <td>9216</td>\n    </tr>\n    <tr>\n      <th rowspan=\"13\" valign=\"top\">Jazz</th>\n      <th>46</th>\n      <td>Jazz</td>\n      <td>Queen</td>\n      <td>Don't Stop Me Now - Remastered 2011</td>\n      <td>247256</td>\n      <td>927540</td>\n    </tr>\n    <tr>\n      <th>36</th>\n      <td>Jazz</td>\n      <td>Queen</td>\n      <td>Fat Bottomed Girls - 2011 Remaster</td>\n      <td>111487</td>\n      <td>409633</td>\n    </tr>\n    <tr>\n      <th>38</th>\n      <td>Jazz</td>\n      <td>Queen</td>\n      <td>Bicycle Race - Remastered 2011</td>\n      <td>99377</td>\n      <td>365233</td>\n    </tr>\n    <tr>\n      <th>37</th>\n      <td>Jazz</td>\n      <td>Queen</td>\n      <td>Jealousy - Remastered 2011</td>\n      <td>19548</td>\n      <td>66863</td>\n    </tr>\n    <tr>\n      <th>35</th>\n      <td>Jazz</td>\n      <td>Queen</td>\n      <td>Mustapha - Remastered 2011</td>\n      <td>16515</td>\n      <td>51560</td>\n    </tr>\n    <tr>\n      <th>40</th>\n      <td>Jazz</td>\n      <td>Queen</td>\n      <td>Let Me Entertain You - Remastered 2011</td>\n      <td>14044</td>\n      <td>40278</td>\n    </tr>\n    <tr>\n      <th>39</th>\n      <td>Jazz</td>\n      <td>Queen</td>\n      <td>If You Can't Beat Them - Remastered 2011</td>\n      <td>13359</td>\n      <td>36415</td>\n    </tr>\n    <tr>\n      <th>41</th>\n      <td>Jazz</td>\n      <td>Queen</td>\n      <td>Dead On Time - Remastered 2011</td>\n      <td>12470</td>\n      <td>35259</td>\n    </tr>\n    <tr>\n      <th>42</th>\n      <td>Jazz</td>\n      <td>Queen</td>\n      <td>In Only Seven Days - Remastered 2011</td>\n      <td>12271</td>\n      <td>35238</td>\n    </tr>\n    <tr>\n      <th>43</th>\n      <td>Jazz</td>\n      <td>Queen</td>\n      <td>Dreamer's Ball - Remastered 2011</td>\n      <td>12051</td>\n      <td>40730</td>\n    </tr>\n    <tr>\n      <th>47</th>\n      <td>Jazz</td>\n      <td>Queen</td>\n      <td>More Of That Jazz - Remastered 2011</td>\n      <td>11590</td>\n      <td>27626</td>\n    </tr>\n    <tr>\n      <th>45</th>\n      <td>Jazz</td>\n      <td>Queen</td>\n      <td>Leaving Home Ain't Easy - Remastered 2011</td>\n      <td>10488</td>\n      <td>28720</td>\n    </tr>\n    <tr>\n      <th>44</th>\n      <td>Jazz</td>\n      <td>Queen</td>\n      <td>Fun It - Remastered 2011</td>\n      <td>10412</td>\n      <td>26315</td>\n    </tr>\n    <tr>\n      <th rowspan=\"8\" valign=\"top\">Led Zeppelin IV</th>\n      <th>11</th>\n      <td>Led Zeppelin IV</td>\n      <td>Led Zeppelin</td>\n      <td>Stairway to Heaven</td>\n      <td>1310792</td>\n      <td>11171320</td>\n    </tr>\n    <tr>\n      <th>8</th>\n      <td>Led Zeppelin IV</td>\n      <td>Led Zeppelin</td>\n      <td>Black Dog</td>\n      <td>897083</td>\n      <td>5855474</td>\n    </tr>\n    <tr>\n      <th>9</th>\n      <td>Led Zeppelin IV</td>\n      <td>Led Zeppelin</td>\n      <td>Rock and Roll</td>\n      <td>743860</td>\n      <td>4834262</td>\n    </tr>\n    <tr>\n      <th>14</th>\n      <td>Led Zeppelin IV</td>\n      <td>Led Zeppelin</td>\n      <td>Going to California</td>\n      <td>618730</td>\n      <td>3818369</td>\n    </tr>\n    <tr>\n      <th>15</th>\n      <td>Led Zeppelin IV</td>\n      <td>Led Zeppelin</td>\n      <td>When the Levee Breaks</td>\n      <td>609594</td>\n      <td>3742549</td>\n    </tr>\n    <tr>\n      <th>10</th>\n      <td>Led Zeppelin IV</td>\n      <td>Led Zeppelin</td>\n      <td>The Battle of Evermore</td>\n      <td>513793</td>\n      <td>2805267</td>\n    </tr>\n    <tr>\n      <th>12</th>\n      <td>Led Zeppelin IV</td>\n      <td>Led Zeppelin</td>\n      <td>Misty Mountain Hop</td>\n      <td>513391</td>\n      <td>2657596</td>\n    </tr>\n    <tr>\n      <th>13</th>\n      <td>Led Zeppelin IV</td>\n      <td>Led Zeppelin</td>\n      <td>Four Sticks</td>\n      <td>391361</td>\n      <td>1931635</td>\n    </tr>\n    <tr>\n      <th rowspan=\"7\" valign=\"top\">Machine Head</th>\n      <th>20</th>\n      <td>Machine Head</td>\n      <td>Deep Purple</td>\n      <td>Smoke on the Water</td>\n      <td>957210</td>\n      <td>4659252</td>\n    </tr>\n    <tr>\n      <th>16</th>\n      <td>Machine Head</td>\n      <td>Deep Purple</td>\n      <td>Highway Star</td>\n      <td>607167</td>\n      <td>3099020</td>\n    </tr>\n    <tr>\n      <th>22</th>\n      <td>Machine Head</td>\n      <td>Deep Purple</td>\n      <td>Space Truckin'</td>\n      <td>266240</td>\n      <td>1051797</td>\n    </tr>\n    <tr>\n      <th>21</th>\n      <td>Machine Head</td>\n      <td>Deep Purple</td>\n      <td>Lazy</td>\n      <td>231995</td>\n      <td>999406</td>\n    </tr>\n    <tr>\n      <th>19</th>\n      <td>Machine Head</td>\n      <td>Deep Purple</td>\n      <td>Never Before</td>\n      <td>161275</td>\n      <td>592943</td>\n    </tr>\n    <tr>\n      <th>18</th>\n      <td>Machine Head</td>\n      <td>Deep Purple</td>\n      <td>Pictures of Home</td>\n      <td>159509</td>\n      <td>632301</td>\n    </tr>\n    <tr>\n      <th>17</th>\n      <td>Machine Head</td>\n      <td>Deep Purple</td>\n      <td>Maybe I'm a Leo</td>\n      <td>123328</td>\n      <td>492128</td>\n    </tr>\n    <tr>\n      <th rowspan=\"8\" valign=\"top\">Paranoid</th>\n      <th>1</th>\n      <td>Paranoid</td>\n      <td>Black Sabbath</td>\n      <td>Paranoid</td>\n      <td>1309999</td>\n      <td>9153765</td>\n    </tr>\n    <tr>\n      <th>3</th>\n      <td>Paranoid</td>\n      <td>Black Sabbath</td>\n      <td>Iron Man</td>\n      <td>967993</td>\n      <td>5654079</td>\n    </tr>\n    <tr>\n      <th>0</th>\n      <td>Paranoid</td>\n      <td>Black Sabbath</td>\n      <td>War Pigs</td>\n      <td>673282</td>\n      <td>3736857</td>\n    </tr>\n    <tr>\n      <th>2</th>\n      <td>Paranoid</td>\n      <td>Black Sabbath</td>\n      <td>Planet Caravan</td>\n      <td>524073</td>\n      <td>2849206</td>\n    </tr>\n    <tr>\n      <th>4</th>\n      <td>Paranoid</td>\n      <td>Black Sabbath</td>\n      <td>Electric Funeral</td>\n      <td>453820</td>\n      <td>2139193</td>\n    </tr>\n    <tr>\n      <th>7</th>\n      <td>Paranoid</td>\n      <td>Black Sabbath</td>\n      <td>Fairies Wear Boots</td>\n      <td>339886</td>\n      <td>1624098</td>\n    </tr>\n    <tr>\n      <th>5</th>\n      <td>Paranoid</td>\n      <td>Black Sabbath</td>\n      <td>Hand of Doom</td>\n      <td>316717</td>\n      <td>1455379</td>\n    </tr>\n    <tr>\n      <th>6</th>\n      <td>Paranoid</td>\n      <td>Black Sabbath</td>\n      <td>Rat Salad</td>\n      <td>292599</td>\n      <td>1204021</td>\n    </tr>\n  </tbody>\n</table>\n</div>"
     },
     "metadata": {},
     "execution_count": 26
    }
   ],
   "source": [
    "tracks_df['listeners'] = tracks_df.apply(lambda row: int(row['lastfm_info']['listeners']), axis=1)\n",
    "tracks_df['playcount'] = tracks_df.apply(lambda row: int(row['lastfm_info']['playcount']), axis=1)\n",
    "tracks_df = tracks_df.drop(['lastfm_info'], axis=1)\n",
    "tracks_df.groupby('album')['listeners']\n",
    "# tracks_df.drop(['lastfm_info'], axis=1).groupby(['artist', 'album']).sort(by='listeners')\n",
    "\n",
    "top_tracks_df  = tracks_df.groupby(['album']).apply(lambda x: x.sort_values(['listeners'], ascending=False))\n",
    "top_tracks_df"
   ]
  },
  {
   "source": [
    "# Export functions\n",
    "\n",
    "Export results to Excel sheet"
   ],
   "cell_type": "markdown",
   "metadata": {}
  },
  {
   "cell_type": "code",
   "execution_count": 28,
   "metadata": {},
   "outputs": [],
   "source": [
    "cumulative_df.to_excel('history_of_metal_lastfm_albums_cumulative.xlsx', sheet_name='albums_(cumulative)')\n",
    "df.to_excel('history_of_metal_lastfm_albums_raw.xlsx', sheet_name='albums_(raw)')\n",
    "top_tracks_df.to_excel('history_of_metal_lastfm_tracks.xlsx', sheet_name='tracks')"
   ]
  }
 ],
 "metadata": {
  "kernelspec": {
   "name": "python3",
   "display_name": "Python 3.8.6 64-bit ('spotify': conda)",
   "metadata": {
    "interpreter": {
     "hash": "09c2c1b5defbebc59ae7a620c62bdcef3a542ed552923c5cb78d598fa97c5338"
    }
   }
  },
  "language_info": {
   "codemirror_mode": {
    "name": "ipython",
    "version": 3
   },
   "file_extension": ".py",
   "mimetype": "text/x-python",
   "name": "python",
   "nbconvert_exporter": "python",
   "pygments_lexer": "ipython3",
   "version": "3.8.6-final"
  }
 },
 "nbformat": 4,
 "nbformat_minor": 4
}