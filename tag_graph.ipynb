{
 "metadata": {
  "language_info": {
   "codemirror_mode": {
    "name": "ipython",
    "version": 3
   },
   "file_extension": ".py",
   "mimetype": "text/x-python",
   "name": "python",
   "nbconvert_exporter": "python",
   "pygments_lexer": "ipython3",
   "version": "3.8.6-final"
  },
  "orig_nbformat": 2,
  "kernelspec": {
   "name": "python3",
   "display_name": "Python 3",
   "language": "python"
  }
 },
 "nbformat": 4,
 "nbformat_minor": 2,
 "cells": [
  {
   "cell_type": "code",
   "execution_count": 1,
   "metadata": {},
   "outputs": [],
   "source": [
    "import pandas as pd\n",
    "import networkx as nx\n",
    "import matplotlib\n",
    "\n",
    "%matplotlib qt"
   ]
  },
  {
   "cell_type": "code",
   "execution_count": 153,
   "metadata": {},
   "outputs": [
    {
     "output_type": "execute_result",
     "data": {
      "text/plain": [
       "             artist                   album ignored tags  \\\n",
       "5            Mayhem              Deathcrush           []   \n",
       "8      Celtic Frost              Monotheist           []   \n",
       "10   Blind Guardian    A Night at the Opera           []   \n",
       "17        Metallica       Master of Puppets           []   \n",
       "19         Immortal  At the Heart of Winter           []   \n",
       "..              ...                     ...          ...   \n",
       "844        Behemoth            The Satanist           []   \n",
       "848           Death                 Leprosy           []   \n",
       "850       Sepultura     Beneath the Remains           []   \n",
       "859          Burzum      Hvis lyset tar oss           []   \n",
       "864         Kreator           Coma of Souls           []   \n",
       "\n",
       "                                                 image  listeners  \\\n",
       "5    [{'#text': 'https://lastfm.freetls.fastly.net/...    97480.0   \n",
       "8    [{'#text': 'https://lastfm.freetls.fastly.net/...    96350.0   \n",
       "10   [{'#text': 'https://lastfm.freetls.fastly.net/...    95668.0   \n",
       "17   [{'#text': 'https://lastfm.freetls.fastly.net/...   949182.0   \n",
       "19   [{'#text': 'https://lastfm.freetls.fastly.net/...    94190.0   \n",
       "..                                                 ...        ...   \n",
       "844  [{'#text': 'https://lastfm.freetls.fastly.net/...   117783.0   \n",
       "848  [{'#text': 'https://lastfm.freetls.fastly.net/...   115042.0   \n",
       "850  [{'#text': 'https://lastfm.freetls.fastly.net/...   114792.0   \n",
       "859  [{'#text': 'https://lastfm.freetls.fastly.net/...   112403.0   \n",
       "864  [{'#text': 'https://lastfm.freetls.fastly.net/...   111406.0   \n",
       "\n",
       "                                     mbid   playcount release-date  \\\n",
       "5    08f88d68-c0bf-474a-8707-43cd58e28ab6   1557715.0      1987-03   \n",
       "8    af74f70f-4542-447e-a32c-4a8c9e69e6bd   1978261.0         2006   \n",
       "10   fb4a053e-7139-49e4-9aa6-bf1f29299b3c   2729237.0   2002-03-05   \n",
       "17   b30c90dd-83f1-4897-ae36-58fb3935e5ee  22464934.0         2003   \n",
       "19   8c8395a0-3a02-35d6-a975-535112ec057e   1911912.0   1999-02-28   \n",
       "..                                    ...         ...          ...   \n",
       "844  8f2a9448-cec0-41aa-b518-3e067c65a336   4875419.0   2014-02-03   \n",
       "848  146f04e6-4995-3047-932c-9029767f7385   2484094.0   1988-11-16   \n",
       "850  e15200cf-7606-4ce8-b6b1-8e73b7161b88   2468535.0   1989-11-05   \n",
       "859  b6928219-0772-39ac-8156-91a609b2fd5e   1594703.0      1994-04   \n",
       "864  ce38a7ad-5e23-45b8-b421-6ba3c47f29f3   1670249.0   1990-11-06   \n",
       "\n",
       "                                                  tags  \\\n",
       "5                                      ['black metal']   \n",
       "8    ['doom metal', 'black metal', 'thrash metal', ...   \n",
       "10   ['power metal', 'symphonic metal', 'progressiv...   \n",
       "17                     ['thrash metal', 'heavy metal']   \n",
       "19                                     ['black metal']   \n",
       "..                                                 ...   \n",
       "844  ['blackened death metal', 'black metal', 'deat...   \n",
       "848                                    ['death metal']   \n",
       "850                    ['thrash metal', 'death metal']   \n",
       "859  ['black metal', 'ambient black metal', 'atmosp...   \n",
       "864                                   ['thrash metal']   \n",
       "\n",
       "                                                   url  MA_score  \\\n",
       "5          https://www.last.fm/music/Mayhem/Deathcrush     23.46   \n",
       "8    https://www.last.fm/music/Celtic+Frost/Monotheist     21.45   \n",
       "10   https://www.last.fm/music/Blind+Guardian/A+Nig...     20.28   \n",
       "17   https://www.last.fm/music/Metallica/Master+of+...     31.83   \n",
       "19   https://www.last.fm/music/Immortal/At+the+Hear...     25.09   \n",
       "..                                                 ...       ...   \n",
       "844    https://www.last.fm/music/Behemoth/The+Satanist     24.84   \n",
       "848            https://www.last.fm/music/Death/Leprosy     20.57   \n",
       "850  https://www.last.fm/music/Sepultura/Beneath+th...     27.08   \n",
       "859  https://www.last.fm/music/Burzum/Hvis+lyset+ta...     28.39   \n",
       "864    https://www.last.fm/music/Kreator/Coma+of+Souls     19.87   \n",
       "\n",
       "          MA_artist                MA_album  \n",
       "5            Mayhem              Deathcrush  \n",
       "8      Celtic Frost              Monotheist  \n",
       "10   Blind Guardian    A Night at the Opera  \n",
       "17        Metallica       Master of Puppets  \n",
       "19         Immortal  At the Heart of Winter  \n",
       "..              ...                     ...  \n",
       "844        Behemoth            The Satanist  \n",
       "848           Death                 Leprosy  \n",
       "850       Sepultura     Beneath the Remains  \n",
       "859          Burzum      Hvis lyset tar oss  \n",
       "864         Kreator           Coma of Souls  \n",
       "\n",
       "[91 rows x 13 columns]"
      ],
      "text/html": "<div>\n<style scoped>\n    .dataframe tbody tr th:only-of-type {\n        vertical-align: middle;\n    }\n\n    .dataframe tbody tr th {\n        vertical-align: top;\n    }\n\n    .dataframe thead th {\n        text-align: right;\n    }\n</style>\n<table border=\"1\" class=\"dataframe\">\n  <thead>\n    <tr style=\"text-align: right;\">\n      <th></th>\n      <th>artist</th>\n      <th>album</th>\n      <th>ignored tags</th>\n      <th>image</th>\n      <th>listeners</th>\n      <th>mbid</th>\n      <th>playcount</th>\n      <th>release-date</th>\n      <th>tags</th>\n      <th>url</th>\n      <th>MA_score</th>\n      <th>MA_artist</th>\n      <th>MA_album</th>\n    </tr>\n  </thead>\n  <tbody>\n    <tr>\n      <th>5</th>\n      <td>Mayhem</td>\n      <td>Deathcrush</td>\n      <td>[]</td>\n      <td>[{'#text': 'https://lastfm.freetls.fastly.net/...</td>\n      <td>97480.0</td>\n      <td>08f88d68-c0bf-474a-8707-43cd58e28ab6</td>\n      <td>1557715.0</td>\n      <td>1987-03</td>\n      <td>['black metal']</td>\n      <td>https://www.last.fm/music/Mayhem/Deathcrush</td>\n      <td>23.46</td>\n      <td>Mayhem</td>\n      <td>Deathcrush</td>\n    </tr>\n    <tr>\n      <th>8</th>\n      <td>Celtic Frost</td>\n      <td>Monotheist</td>\n      <td>[]</td>\n      <td>[{'#text': 'https://lastfm.freetls.fastly.net/...</td>\n      <td>96350.0</td>\n      <td>af74f70f-4542-447e-a32c-4a8c9e69e6bd</td>\n      <td>1978261.0</td>\n      <td>2006</td>\n      <td>['doom metal', 'black metal', 'thrash metal', ...</td>\n      <td>https://www.last.fm/music/Celtic+Frost/Monotheist</td>\n      <td>21.45</td>\n      <td>Celtic Frost</td>\n      <td>Monotheist</td>\n    </tr>\n    <tr>\n      <th>10</th>\n      <td>Blind Guardian</td>\n      <td>A Night at the Opera</td>\n      <td>[]</td>\n      <td>[{'#text': 'https://lastfm.freetls.fastly.net/...</td>\n      <td>95668.0</td>\n      <td>fb4a053e-7139-49e4-9aa6-bf1f29299b3c</td>\n      <td>2729237.0</td>\n      <td>2002-03-05</td>\n      <td>['power metal', 'symphonic metal', 'progressiv...</td>\n      <td>https://www.last.fm/music/Blind+Guardian/A+Nig...</td>\n      <td>20.28</td>\n      <td>Blind Guardian</td>\n      <td>A Night at the Opera</td>\n    </tr>\n    <tr>\n      <th>17</th>\n      <td>Metallica</td>\n      <td>Master of Puppets</td>\n      <td>[]</td>\n      <td>[{'#text': 'https://lastfm.freetls.fastly.net/...</td>\n      <td>949182.0</td>\n      <td>b30c90dd-83f1-4897-ae36-58fb3935e5ee</td>\n      <td>22464934.0</td>\n      <td>2003</td>\n      <td>['thrash metal', 'heavy metal']</td>\n      <td>https://www.last.fm/music/Metallica/Master+of+...</td>\n      <td>31.83</td>\n      <td>Metallica</td>\n      <td>Master of Puppets</td>\n    </tr>\n    <tr>\n      <th>19</th>\n      <td>Immortal</td>\n      <td>At the Heart of Winter</td>\n      <td>[]</td>\n      <td>[{'#text': 'https://lastfm.freetls.fastly.net/...</td>\n      <td>94190.0</td>\n      <td>8c8395a0-3a02-35d6-a975-535112ec057e</td>\n      <td>1911912.0</td>\n      <td>1999-02-28</td>\n      <td>['black metal']</td>\n      <td>https://www.last.fm/music/Immortal/At+the+Hear...</td>\n      <td>25.09</td>\n      <td>Immortal</td>\n      <td>At the Heart of Winter</td>\n    </tr>\n    <tr>\n      <th>...</th>\n      <td>...</td>\n      <td>...</td>\n      <td>...</td>\n      <td>...</td>\n      <td>...</td>\n      <td>...</td>\n      <td>...</td>\n      <td>...</td>\n      <td>...</td>\n      <td>...</td>\n      <td>...</td>\n      <td>...</td>\n      <td>...</td>\n    </tr>\n    <tr>\n      <th>844</th>\n      <td>Behemoth</td>\n      <td>The Satanist</td>\n      <td>[]</td>\n      <td>[{'#text': 'https://lastfm.freetls.fastly.net/...</td>\n      <td>117783.0</td>\n      <td>8f2a9448-cec0-41aa-b518-3e067c65a336</td>\n      <td>4875419.0</td>\n      <td>2014-02-03</td>\n      <td>['blackened death metal', 'black metal', 'deat...</td>\n      <td>https://www.last.fm/music/Behemoth/The+Satanist</td>\n      <td>24.84</td>\n      <td>Behemoth</td>\n      <td>The Satanist</td>\n    </tr>\n    <tr>\n      <th>848</th>\n      <td>Death</td>\n      <td>Leprosy</td>\n      <td>[]</td>\n      <td>[{'#text': 'https://lastfm.freetls.fastly.net/...</td>\n      <td>115042.0</td>\n      <td>146f04e6-4995-3047-932c-9029767f7385</td>\n      <td>2484094.0</td>\n      <td>1988-11-16</td>\n      <td>['death metal']</td>\n      <td>https://www.last.fm/music/Death/Leprosy</td>\n      <td>20.57</td>\n      <td>Death</td>\n      <td>Leprosy</td>\n    </tr>\n    <tr>\n      <th>850</th>\n      <td>Sepultura</td>\n      <td>Beneath the Remains</td>\n      <td>[]</td>\n      <td>[{'#text': 'https://lastfm.freetls.fastly.net/...</td>\n      <td>114792.0</td>\n      <td>e15200cf-7606-4ce8-b6b1-8e73b7161b88</td>\n      <td>2468535.0</td>\n      <td>1989-11-05</td>\n      <td>['thrash metal', 'death metal']</td>\n      <td>https://www.last.fm/music/Sepultura/Beneath+th...</td>\n      <td>27.08</td>\n      <td>Sepultura</td>\n      <td>Beneath the Remains</td>\n    </tr>\n    <tr>\n      <th>859</th>\n      <td>Burzum</td>\n      <td>Hvis lyset tar oss</td>\n      <td>[]</td>\n      <td>[{'#text': 'https://lastfm.freetls.fastly.net/...</td>\n      <td>112403.0</td>\n      <td>b6928219-0772-39ac-8156-91a609b2fd5e</td>\n      <td>1594703.0</td>\n      <td>1994-04</td>\n      <td>['black metal', 'ambient black metal', 'atmosp...</td>\n      <td>https://www.last.fm/music/Burzum/Hvis+lyset+ta...</td>\n      <td>28.39</td>\n      <td>Burzum</td>\n      <td>Hvis lyset tar oss</td>\n    </tr>\n    <tr>\n      <th>864</th>\n      <td>Kreator</td>\n      <td>Coma of Souls</td>\n      <td>[]</td>\n      <td>[{'#text': 'https://lastfm.freetls.fastly.net/...</td>\n      <td>111406.0</td>\n      <td>ce38a7ad-5e23-45b8-b421-6ba3c47f29f3</td>\n      <td>1670249.0</td>\n      <td>1990-11-06</td>\n      <td>['thrash metal']</td>\n      <td>https://www.last.fm/music/Kreator/Coma+of+Souls</td>\n      <td>19.87</td>\n      <td>Kreator</td>\n      <td>Coma of Souls</td>\n    </tr>\n  </tbody>\n</table>\n<p>91 rows × 13 columns</p>\n</div>"
     },
     "metadata": {},
     "execution_count": 153
    }
   ],
   "source": [
    "df = pd.read_csv('data/proc_MA_1000_albums_non_cumulative.csv')\n",
    "df.dropna(axis=0)#.head()\n"
   ]
  },
  {
   "cell_type": "code",
   "execution_count": 3,
   "metadata": {},
   "outputs": [],
   "source": [
    "ignored_tags = []"
   ]
  },
  {
   "cell_type": "code",
   "execution_count": 154,
   "metadata": {},
   "outputs": [
    {
     "output_type": "execute_result",
     "data": {
      "text/plain": [
       "0      []\n",
       "1      []\n",
       "2      []\n",
       "3      []\n",
       "4      []\n",
       "       ..\n",
       "901    []\n",
       "902    []\n",
       "903    []\n",
       "904    []\n",
       "905    []\n",
       "Name: ignored tags, Length: 906, dtype: object"
      ]
     },
     "metadata": {},
     "execution_count": 154
    }
   ],
   "source": [
    "df['ignored tags'].dropna(axis=0)"
   ]
  },
  {
   "cell_type": "code",
   "execution_count": 155,
   "metadata": {},
   "outputs": [],
   "source": [
    "tags_df = df[['tags','ignored tags']].dropna(axis=0)"
   ]
  },
  {
   "cell_type": "code",
   "execution_count": 156,
   "metadata": {},
   "outputs": [],
   "source": [
    "ign_tags = tags_df['ignored tags'].values\n",
    "tags = tags_df['tags'].values"
   ]
  },
  {
   "cell_type": "code",
   "execution_count": 157,
   "metadata": {},
   "outputs": [],
   "source": [
    "ign_tags_list = []\n",
    "\n",
    "for ign_tag in ign_tags:\n",
    "    ign_tags_list.append(eval(ign_tag))\n",
    "\n",
    "tags_list = []\n",
    "\n",
    "for tag in tags:\n",
    "    tags_list.append(eval(tag))"
   ]
  },
  {
   "cell_type": "code",
   "execution_count": 158,
   "metadata": {},
   "outputs": [],
   "source": [
    "import itertools\n",
    "ign_tags_merged = list(set(list(itertools.chain.from_iterable(ign_tags_list))))\n",
    "tags_merged = list(set(list(itertools.chain.from_iterable(tags_list))))"
   ]
  },
  {
   "cell_type": "code",
   "execution_count": 159,
   "metadata": {},
   "outputs": [
    {
     "output_type": "execute_result",
     "data": {
      "text/plain": [
       "[]"
      ]
     },
     "metadata": {},
     "execution_count": 159
    }
   ],
   "source": [
    "ign_tags_merged"
   ]
  },
  {
   "cell_type": "code",
   "execution_count": 160,
   "metadata": {},
   "outputs": [
    {
     "output_type": "execute_result",
     "data": {
      "text/plain": [
       "['goregrind',\n",
       " 'gothic metal',\n",
       " 'grunge',\n",
       " 'deathcore',\n",
       " 'death metal',\n",
       " 'extreme metal',\n",
       " 'symphonic metal',\n",
       " 'avant-garde black metal',\n",
       " 'blackgaze',\n",
       " 'pirate metal']"
      ]
     },
     "metadata": {},
     "execution_count": 160
    }
   ],
   "source": [
    "tags_merged[:10]"
   ]
  },
  {
   "cell_type": "code",
   "execution_count": 162,
   "metadata": {},
   "outputs": [],
   "source": [
    "G = nx.Graph()\n",
    "G.add_nodes_from(tags_merged) #create a node for each tag\n",
    "nx.set_node_attributes(G, 1,'weight')\n"
   ]
  },
  {
   "cell_type": "code",
   "execution_count": 163,
   "metadata": {
    "tags": []
   },
   "outputs": [],
   "source": [
    "for d in tags_list:\n",
    "    # Increase node weight\n",
    "    for n in d:\n",
    "        G.nodes[n]['weight'] += 1\n",
    "\n",
    "    # Draw Edges (or increase weight if already present)\n",
    "    if len(d) >= 2:\n",
    "        for comb in itertools.combinations(d, 2):\n",
    "            u = comb[0]\n",
    "            v = comb[1]\n",
    "            if G.has_edge(u, v):\n",
    "                G[u][v]['weight'] += 1\n",
    "            else:\n",
    "                G.add_edge(u, v, weight=1)\n"
   ]
  },
  {
   "cell_type": "code",
   "execution_count": 151,
   "metadata": {},
   "outputs": [],
   "source": [
    "n_weights = nx.get_node_attributes(G, 'weight')\n",
    "edges,e_weights = zip(*nx.get_edge_attributes(G,'weight').items())\n",
    "\n",
    "plt.rcParams['axes.facecolor'] = 'white'\n",
    "# COLOR = 'white'\n",
    "# matplotlib.rcParams['text.color'] = COLOR\n",
    "\n",
    "plt.figure(1,figsize=(12,12)) \n",
    "pos = nx.circular_layout(G)\n",
    "nx.draw_networkx(G, pos, nodelist=n_weights.keys(), node_size=[v * 10 for v in n_weights.values()], edgelist=edges, edge_color=e_weights, width=1.0, edge_cmap=plt.cm.gist_yarg)\n",
    "plt.show()"
   ]
  }
 ]
}